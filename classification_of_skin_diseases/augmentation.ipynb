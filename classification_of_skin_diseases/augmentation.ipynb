{
 "cells": [
  {
   "cell_type": "code",
   "execution_count": 1,
   "id": "fb0bf3d0",
   "metadata": {},
   "outputs": [
    {
     "name": "stdout",
     "output_type": "stream",
     "text": [
      "2.10.0\n"
     ]
    }
   ],
   "source": [
    "import pandas as pd\n",
    "import numpy as np\n",
    "import matplotlib.pyplot as plt\n",
    "import os\n",
    "\n",
    "import imageio\n",
    "import tensorflow as tf\n",
    "from tensorflow.keras import models, layers\n",
    "\n",
    "\n",
    "print(tf.__version__)"
   ]
  },
  {
   "cell_type": "code",
   "execution_count": 2,
   "id": "e277566c",
   "metadata": {},
   "outputs": [],
   "source": [
    "data_augmentation = tf.keras.Sequential([\n",
    "  layers.RandomFlip(\"horizontal_and_vertical\"),\n",
    "#     tf.image.adjust_contrast,\n",
    "#   layers.RandomRotation(0.2),\n",
    "])"
   ]
  },
  {
   "cell_type": "code",
   "execution_count": 3,
   "id": "a2089251",
   "metadata": {},
   "outputs": [],
   "source": [
    "list_aug = [tf.image.rgb_to_grayscale, tf.image.adjust_contrast,\n",
    "            tf.image.adjust_hue, tf.image.adjust_saturation, tf.image.flip_up_down, tf.image.rot90]\n"
   ]
  },
  {
   "cell_type": "code",
   "execution_count": 4,
   "id": "72fb1ec6",
   "metadata": {},
   "outputs": [],
   "source": [
    "def aug_funk(path, directory, list_funk_aug):\n",
    "    count = 0\n",
    "#     print(path)\n",
    "    for i in list_funk_aug:\n",
    "    #     path = path\n",
    "        img = imageio.imread(path)\n",
    "        if len(list(img.shape)) == 2:\n",
    "            img = img[..., None]\n",
    "#         print(path)\n",
    "        img = tf.image.resize(img, (224, 224))\n",
    "        img = img / 255.\n",
    "        name_funk = str(i).split()[1].split(\"_\")[-1]\n",
    "        name = path.split(\"/\")[-1]\n",
    "        name = f\"{count}_{name_funk}_{name}\"\n",
    "#         print(name)\n",
    "        if i == tf.image.adjust_contrast:\n",
    "            for n in range(3,6,1):\n",
    "                img = i(img, n)\n",
    "                tf.keras.utils.save_img(\n",
    "                        f\"{directory}/{name}\", img )\n",
    "#                 plt.figure(figsize=(8, 8))\n",
    "#                 plt.imshow(img)\n",
    "        elif i == tf.image.adjust_hue:\n",
    "            for n in range(1, 9 ,1):\n",
    "                img = i(img, n/10)\n",
    "                tf.keras.utils.save_img(\n",
    "                        f\"{directory}/{name}\", img )\n",
    "#                 plt.figure(figsize=(8, 8))\n",
    "#                 plt.imshow(img)\n",
    "        elif i == tf.image.adjust_saturation:\n",
    "            img = i(img, 0.4)\n",
    "            tf.keras.utils.save_img(\n",
    "                        f\"{directory}/{name}\", img )\n",
    "#             plt.figure(figsize=(8, 8))\n",
    "#             plt.imshow(img)\n",
    "        elif i == tf.image.rot90:\n",
    "    #         print(1)\n",
    "            for n in range(1, 4 ,1):\n",
    "                img = i(img, n)\n",
    "                tf.keras.utils.save_img(\n",
    "                        f\"{directory}/{name}\", img )\n",
    "#                 plt.figure(figsize=(8, 8))\n",
    "#                 plt.imshow(img)\n",
    "        else:\n",
    "    #         print(i)\n",
    "            img = i(img)\n",
    "            tf.keras.utils.save_img(\n",
    "                        f\"{directory}/{name}\", img )\n",
    "#             plt.figure(figsize=(8, 8))\n",
    "#             plt.imshow(img)\n",
    "        count += 1"
   ]
  },
  {
   "cell_type": "code",
   "execution_count": 5,
   "id": "fc8c095a",
   "metadata": {},
   "outputs": [],
   "source": [
    "def check_file(directory, list_aug):\n",
    "    count = 0\n",
    "    for file in os.listdir(directory):\n",
    "        file = f\"{directory}/{file}\"\n",
    "        count = os.listdir(directory)\n",
    "        if os.path.exists(file):\n",
    "            if len(count) >= 500:\n",
    "                break\n",
    "    #         return file   \n",
    "            aug_funk(file, directory, list_aug)\n",
    "    #         count += 1\n",
    "                #             print(file)"
   ]
  },
  {
   "cell_type": "code",
   "execution_count": 69,
   "id": "6ce740e1",
   "metadata": {},
   "outputs": [
    {
     "name": "stderr",
     "output_type": "stream",
     "text": [
      "c:\\program files\\python37\\lib\\site-packages\\ipykernel_launcher.py:6: DeprecationWarning: Starting with ImageIO v3 the behavior of this function will switch to that of iio.v3.imread. To keep the current behavior (and make this warning dissapear) use `import imageio.v2 as imageio` or call `imageio.v2.imread` directly.\n",
      "  \n"
     ]
    },
    {
     "name": "stdout",
     "output_type": "stream",
     "text": [
      "папка data/train пройдена\n",
      "папка data/test пройдена\n",
      "папка data/valid пройдена\n"
     ]
    }
   ],
   "source": [
    "directory = ['data/train', \"data/test\", \"data/valid\"]\n",
    "for i in directory:\n",
    "    directs = [j for j in os.listdir(i)]\n",
    "    direct = [f\"{i}/{d}\" for d in directs if os.path.isdir(f\"{i}/{d}\")]\n",
    "    for file_to_aug in direct:\n",
    "        check_file(file_to_aug, list_aug)\n",
    "#         print(file_to_aug)\n",
    "#         print(a)\n",
    "    print(f\"папка {i} пройдена\")"
   ]
  },
  {
   "cell_type": "code",
   "execution_count": 6,
   "id": "be4d5437",
   "metadata": {},
   "outputs": [],
   "source": [
    "list_aug1 = [ tf.image.flip_up_down, tf.image.rot90]"
   ]
  },
  {
   "cell_type": "code",
   "execution_count": 16,
   "id": "4e53583d",
   "metadata": {},
   "outputs": [
    {
     "name": "stdout",
     "output_type": "stream",
     "text": [
      "папка data_train/train пройдена\n"
     ]
    },
    {
     "name": "stderr",
     "output_type": "stream",
     "text": [
      "c:\\program files\\python37\\lib\\site-packages\\ipykernel_launcher.py:6: DeprecationWarning: Starting with ImageIO v3 the behavior of this function will switch to that of iio.v3.imread. To keep the current behavior (and make this warning dissapear) use `import imageio.v2 as imageio` or call `imageio.v2.imread` directly.\n",
      "  \n"
     ]
    },
    {
     "name": "stdout",
     "output_type": "stream",
     "text": [
      "папка data_train/test пройдена\n",
      "папка data_train/valid пройдена\n"
     ]
    }
   ],
   "source": [
    "directory = ['data_train/train', \"data_train/test\", \"data_train/valid\"]\n",
    "for i in directory:\n",
    "    directs = [j for j in os.listdir(i)]\n",
    "    direct = [f\"{i}/{d}\" for d in directs if os.path.isdir(f\"{i}/{d}\")]\n",
    "    for file_to_aug in direct:\n",
    "        check_file(file_to_aug, list_aug1)\n",
    "#         print(file_to_aug)\n",
    "#         print(a)\n",
    "    print(f\"папка {i} пройдена\")"
   ]
  },
  {
   "cell_type": "code",
   "execution_count": 17,
   "id": "8f0b2491",
   "metadata": {},
   "outputs": [
    {
     "name": "stdout",
     "output_type": "stream",
     "text": [
      "data_train/test/akiec\n",
      "501\n",
      "data_train/test/bcc\n",
      "500\n",
      "data_train/test/bkl\n",
      "501\n",
      "data_train/test/df\n",
      "500\n",
      "data_train/test/mel\n",
      "500\n",
      "data_train/test/nv\n",
      "1408\n",
      "data_train/test/vasc\n",
      "500\n",
      "data_train/train/akiec\n",
      "501\n",
      "data_train/train/bcc\n",
      "501\n",
      "data_train/train/bkl\n",
      "538\n",
      "data_train/train/df\n",
      "500\n",
      "data_train/train/mel\n",
      "545\n",
      "data_train/train/nv\n",
      "3285\n",
      "data_train/train/vasc\n",
      "501\n",
      "data_train/valid/akiec\n",
      "501\n",
      "data_train/valid/bcc\n",
      "501\n",
      "data_train/valid/bkl\n",
      "500\n",
      "data_train/valid/df\n",
      "501\n",
      "data_train/valid/mel\n",
      "500\n",
      "data_train/valid/nv\n",
      "2012\n",
      "data_train/valid/vasc\n",
      "501\n"
     ]
    }
   ],
   "source": [
    "for i in os.listdir(\"data_train\"):\n",
    "    for j in os.listdir(f\"data_train/{i}\"):\n",
    "        files = [i for i in os.listdir(f\"data_train/{i}/{j}\")]\n",
    "        files = len(files)\n",
    "        print(f\"data_train/{i}/{j}\")\n",
    "        print(files)\n",
    "        "
   ]
  },
  {
   "cell_type": "code",
   "execution_count": null,
   "id": "c5b68895",
   "metadata": {},
   "outputs": [],
   "source": []
  }
 ],
 "metadata": {
  "kernelspec": {
   "display_name": "Python 3 (ipykernel)",
   "language": "python",
   "name": "python3"
  },
  "language_info": {
   "codemirror_mode": {
    "name": "ipython",
    "version": 3
   },
   "file_extension": ".py",
   "mimetype": "text/x-python",
   "name": "python",
   "nbconvert_exporter": "python",
   "pygments_lexer": "ipython3",
   "version": "3.7.9"
  }
 },
 "nbformat": 4,
 "nbformat_minor": 5
}
