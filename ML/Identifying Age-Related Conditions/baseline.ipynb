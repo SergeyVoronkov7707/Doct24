{
 "cells": [
  {
   "cell_type": "code",
   "execution_count": 1,
   "metadata": {},
   "outputs": [],
   "source": [
    "import time\n",
    "import numpy as np\n",
    "from numpy import exp\n",
    "import pandas as pd\n",
    "import catboost as cb\n",
    "import os\n",
    "\n",
    "from sklearn.metrics import roc_auc_score\n",
    "from sklearn.model_selection import KFold\n",
    "from sklearn.model_selection import train_test_split\n",
    "\n",
    "pd.set_option(\"display.max_columns\", 30)"
   ]
  },
  {
   "cell_type": "markdown",
   "metadata": {},
   "source": [
    "## Useful Functions"
   ]
  },
  {
   "cell_type": "code",
   "execution_count": 2,
   "metadata": {},
   "outputs": [],
   "source": [
    "def get_input(data_path: str) -> pd.DataFrame:\n",
    "    \"\"\"\n",
    "    Считывание данных и вывод основной информации о наборе данных.\n",
    "\n",
    "    Parameters\n",
    "    ----------\n",
    "    data_path: str\n",
    "        Название файла.\n",
    "\n",
    "    Returns\n",
    "    -------\n",
    "    data: pandas.core.frame.DataFrame\n",
    "        Загруженный набор данных в pandas.DataFrame\n",
    "\n",
    "    \"\"\"\n",
    "    base_path = \"data\"\n",
    "    data = pd.read_csv(f\"{base_path}/{data_path}\")\n",
    "    data.columns = [col.lower() for col in data.columns]\n",
    "    print(f\"{data_path}: shape = {data.shape[0]} rows, {data.shape[1]} cols\")\n",
    "\n",
    "    return data"
   ]
  },
  {
   "cell_type": "code",
   "execution_count": 3,
   "metadata": {},
   "outputs": [],
   "source": [
    "def catboost_cross_validation(params, X, y, cv, categorical = None):\n",
    "    \"\"\"\n",
    "    Кросс-валидация для модели catbooost.\n",
    "\n",
    "    Parameters\n",
    "    ----------\n",
    "    params: dict\n",
    "        Словарь гиперпараметров модели.\n",
    "\n",
    "    X: pandas.core.frame.DataFrame\n",
    "        Матрица признако для обучения модели.\n",
    "\n",
    "    y: pandas.core.frame.Series\n",
    "        Вектор целевой переменной для обучения модели.\n",
    "\n",
    "    cv: KFold or StratifiedKFold generator.\n",
    "        Объект KFold / StratifiedKFold для определения\n",
    "        стратегии кросс-валидации модели.\n",
    "\n",
    "    categorical: str, optional, default = None\n",
    "        Список категориальных признаков.\n",
    "        Опциональный параметр, по умолчанию, не используется.\n",
    "\n",
    "    Returns\n",
    "    -------\n",
    "    estimators: list\n",
    "        Список с объектами обученной модели.\n",
    "\n",
    "    oof_preds: np.array\n",
    "        Вектор OOF-прогнозов.\n",
    "\n",
    "    \"\"\"\n",
    "    estimators, folds_scores = [], []\n",
    "    oof_preds = np.zeros(X.shape[0])\n",
    "\n",
    "    print(f\"{time.ctime()}, Cross-Validation, {X.shape[0]} rows, {X.shape[1]} cols\")\n",
    "    X[categorical] = X[categorical].astype(str)\n",
    "\n",
    "    for fold, (train_idx, valid_idx) in enumerate(cv.split(X, y)):\n",
    "\n",
    "        x_train, x_valid = X.loc[train_idx], X.loc[valid_idx]\n",
    "        y_train, y_valid = y[train_idx], y[valid_idx]\n",
    "\n",
    "        model = cb.CatBoostClassifier(**params)\n",
    "        model.fit(\n",
    "            x_train, y_train, categorical,\n",
    "            eval_set=[(x_train, y_train), (x_valid, y_valid)]\n",
    "        )\n",
    "        oof_preds[valid_idx] = model.predict_proba(x_valid)[:, 1]\n",
    "        score = roc_auc_score(y_valid, oof_preds[valid_idx])\n",
    "        print(f\"Fold {fold+1}, Valid score = {round(score, 5)}\")\n",
    "        folds_scores.append(round(score, 5))\n",
    "        estimators.append(model)\n",
    "\n",
    "    print(f\"Score by each fold: {folds_scores}\")\n",
    "    print(\"=\"*65)\n",
    "    return estimators, oof_preds"
   ]
  },
  {
   "cell_type": "code",
   "execution_count": 4,
   "metadata": {},
   "outputs": [],
   "source": [
    "def catboost_hold_out_validation(params, X, y, split_params = [0.7, 0.2, 0.1], categorical = None):\n",
    "    \"\"\"\n",
    "    Hold-Out валидация для модели catbooost.\n",
    "\n",
    "    Parameters\n",
    "    ----------\n",
    "    params: dict\n",
    "        Словарь гиперпараметров модели.\n",
    "\n",
    "    X: pandas.core.frame.DataFrame\n",
    "        Матрица признако для обучения модели.\n",
    "\n",
    "    y: pandas.core.frame.Series\n",
    "        Вектор целевой переменной для обучения модели.\n",
    "\n",
    "    split_params: List[float], optional, default = [0.7, 0.2, 0.1]\n",
    "        Параметры (доли) разбиения выборки.\n",
    "        Опциональный параметр, по умолчанию, равен [0.7, 0.2, 0.1].\n",
    "    \n",
    "    categorical: str, optional, default = None\n",
    "        Список категориальных признаков.\n",
    "        Опциональный параметр, по умолчанию, не используется.\n",
    "\n",
    "    Returns\n",
    "    -------\n",
    "    estimator: catboost.core.CatBoostClassifier\n",
    "        Обученный классификатор catboost.\n",
    "\n",
    "    test_prediction: np.array, optional\n",
    "        Вектор прогнозов для тестовой выборки.\n",
    "        Опциональный объект, возвращается только, если split_params\n",
    "        содержит 3 значения.\n",
    "\n",
    "    \"\"\"\n",
    "    numeric = list(set(x_train.columns) - set(categorical))\n",
    "    x_train, x_valid = train_test_split(\n",
    "        X, train_size=split_params[0], random_state=27\n",
    "    )\n",
    "    y_train, y_valid = train_test_split(\n",
    "        y, train_size=split_params[0], random_state=27\n",
    "    )\n",
    "\n",
    "    if len(split_params) == 3:\n",
    "        test_size = int(split_params[2] * X.shape[0])\n",
    "\n",
    "        x_valid, x_test = train_test_split(\n",
    "            x_valid, test_size=test_size, random_state=72\n",
    "        )\n",
    "        y_valid, y_test = train_test_split(\n",
    "            y_valid, test_size=test_size, random_state=72\n",
    "        )\n",
    "\n",
    "    model = cb.CatBoostClassifier(**params)\n",
    "    model.fit(\n",
    "        x_train, y_train, categorical,\n",
    "        eval_set=[(x_train, y_train), (x_valid, y_valid)]\n",
    "    )\n",
    "\n",
    "    print(\"=\"*80)\n",
    "    valid_score = roc_auc_score(y_valid, model.predict_proba(x_valid)[:, 1])\n",
    "    print(f\"Valid Score = {round(valid_score, 4)}\")\n",
    "\n",
    "    if len(split_params) == 3:\n",
    "\n",
    "        test_prediction = model.predict_proba(x_test)[:, 1]\n",
    "        test_score = roc_auc_score(y_test, test_prediction)\n",
    "        print(f\"Test Score = {round(test_score, 4)}\")\n",
    "\n",
    "        return estimator, test_prediction\n",
    "\n",
    "    else:\n",
    "        return estimator"
   ]
  },
  {
   "cell_type": "markdown",
   "metadata": {},
   "source": [
    "## Base Tables"
   ]
  },
  {
   "cell_type": "code",
   "execution_count": 5,
   "metadata": {},
   "outputs": [
    {
     "name": "stdout",
     "output_type": "stream",
     "text": [
      "train.csv: shape = 617 rows, 58 cols\n",
      "test.csv: shape = 5 rows, 57 cols\n"
     ]
    },
    {
     "data": {
      "text/html": [
       "<div>\n",
       "<style scoped>\n",
       "    .dataframe tbody tr th:only-of-type {\n",
       "        vertical-align: middle;\n",
       "    }\n",
       "\n",
       "    .dataframe tbody tr th {\n",
       "        vertical-align: top;\n",
       "    }\n",
       "\n",
       "    .dataframe thead th {\n",
       "        text-align: right;\n",
       "    }\n",
       "</style>\n",
       "<table border=\"1\" class=\"dataframe\">\n",
       "  <thead>\n",
       "    <tr style=\"text-align: right;\">\n",
       "      <th></th>\n",
       "      <th>id</th>\n",
       "      <th>ab</th>\n",
       "      <th>af</th>\n",
       "      <th>ah</th>\n",
       "      <th>am</th>\n",
       "      <th>ar</th>\n",
       "      <th>ax</th>\n",
       "      <th>ay</th>\n",
       "      <th>az</th>\n",
       "      <th>bc</th>\n",
       "      <th>bd</th>\n",
       "      <th>bn</th>\n",
       "      <th>bp</th>\n",
       "      <th>bq</th>\n",
       "      <th>br</th>\n",
       "      <th>...</th>\n",
       "      <th>eu</th>\n",
       "      <th>fc</th>\n",
       "      <th>fd</th>\n",
       "      <th>fe</th>\n",
       "      <th>fi</th>\n",
       "      <th>fl</th>\n",
       "      <th>fr</th>\n",
       "      <th>fs</th>\n",
       "      <th>gb</th>\n",
       "      <th>ge</th>\n",
       "      <th>gf</th>\n",
       "      <th>gh</th>\n",
       "      <th>gi</th>\n",
       "      <th>gl</th>\n",
       "      <th>class</th>\n",
       "    </tr>\n",
       "  </thead>\n",
       "  <tbody>\n",
       "    <tr>\n",
       "      <th>0</th>\n",
       "      <td>000ff2bfdfe9</td>\n",
       "      <td>0.209377</td>\n",
       "      <td>3109.03329</td>\n",
       "      <td>85.200147</td>\n",
       "      <td>22.394407</td>\n",
       "      <td>8.138688</td>\n",
       "      <td>0.699861</td>\n",
       "      <td>0.025578</td>\n",
       "      <td>9.812214</td>\n",
       "      <td>5.555634</td>\n",
       "      <td>4126.58731</td>\n",
       "      <td>22.5984</td>\n",
       "      <td>175.638726</td>\n",
       "      <td>152.707705</td>\n",
       "      <td>823.928241</td>\n",
       "      <td>...</td>\n",
       "      <td>3.828384</td>\n",
       "      <td>13.394640</td>\n",
       "      <td>10.265073</td>\n",
       "      <td>9028.291921</td>\n",
       "      <td>3.583450</td>\n",
       "      <td>7.298162</td>\n",
       "      <td>1.73855</td>\n",
       "      <td>0.094822</td>\n",
       "      <td>11.339138</td>\n",
       "      <td>72.611063</td>\n",
       "      <td>2003.810319</td>\n",
       "      <td>22.136229</td>\n",
       "      <td>69.834944</td>\n",
       "      <td>0.120343</td>\n",
       "      <td>1.0</td>\n",
       "    </tr>\n",
       "    <tr>\n",
       "      <th>1</th>\n",
       "      <td>007255e47698</td>\n",
       "      <td>0.145282</td>\n",
       "      <td>978.76416</td>\n",
       "      <td>85.200147</td>\n",
       "      <td>36.968889</td>\n",
       "      <td>8.138688</td>\n",
       "      <td>3.632190</td>\n",
       "      <td>0.025578</td>\n",
       "      <td>13.517790</td>\n",
       "      <td>1.229900</td>\n",
       "      <td>5496.92824</td>\n",
       "      <td>19.4205</td>\n",
       "      <td>155.868030</td>\n",
       "      <td>14.754720</td>\n",
       "      <td>51.216883</td>\n",
       "      <td>...</td>\n",
       "      <td>52.260480</td>\n",
       "      <td>17.175984</td>\n",
       "      <td>0.296850</td>\n",
       "      <td>6785.003474</td>\n",
       "      <td>10.358927</td>\n",
       "      <td>0.173229</td>\n",
       "      <td>0.49706</td>\n",
       "      <td>0.568932</td>\n",
       "      <td>9.292698</td>\n",
       "      <td>72.611063</td>\n",
       "      <td>27981.562750</td>\n",
       "      <td>29.135430</td>\n",
       "      <td>32.131996</td>\n",
       "      <td>21.978000</td>\n",
       "      <td>0.0</td>\n",
       "    </tr>\n",
       "  </tbody>\n",
       "</table>\n",
       "<p>2 rows × 58 columns</p>\n",
       "</div>"
      ],
      "text/plain": [
       "             id        ab          af         ah         am        ar  \\\n",
       "0  000ff2bfdfe9  0.209377  3109.03329  85.200147  22.394407  8.138688   \n",
       "1  007255e47698  0.145282   978.76416  85.200147  36.968889  8.138688   \n",
       "\n",
       "         ax        ay         az        bc         bd        bn          bp  \\\n",
       "0  0.699861  0.025578   9.812214  5.555634  4126.58731  22.5984  175.638726   \n",
       "1  3.632190  0.025578  13.517790  1.229900  5496.92824  19.4205  155.868030   \n",
       "\n",
       "           bq          br  ...         eu         fc        fd            fe  \\\n",
       "0  152.707705  823.928241  ...   3.828384  13.394640  10.265073  9028.291921   \n",
       "1   14.754720   51.216883  ...  52.260480  17.175984   0.296850  6785.003474   \n",
       "\n",
       "          fi        fl       fr        fs         gb         ge            gf  \\\n",
       "0   3.583450  7.298162  1.73855  0.094822  11.339138  72.611063   2003.810319   \n",
       "1  10.358927  0.173229  0.49706  0.568932   9.292698  72.611063  27981.562750   \n",
       "\n",
       "          gh         gi         gl  class  \n",
       "0  22.136229  69.834944   0.120343    1.0  \n",
       "1  29.135430  32.131996  21.978000    0.0  \n",
       "\n",
       "[2 rows x 58 columns]"
      ]
     },
     "execution_count": 5,
     "metadata": {},
     "output_type": "execute_result"
    }
   ],
   "source": [
    "train = get_input(\"train.csv\")\n",
    "test = get_input(\"test.csv\")\n",
    "\n",
    "data = pd.concat([train, test], axis=0)\n",
    "data = data.reset_index(drop=True)\n",
    "data.head(n=2)"
   ]
  },
  {
   "cell_type": "code",
   "execution_count": 6,
   "metadata": {},
   "outputs": [
    {
     "data": {
      "text/plain": [
       "0    509\n",
       "1    108\n",
       "Name: class, dtype: int64"
      ]
     },
     "execution_count": 6,
     "metadata": {},
     "output_type": "execute_result"
    }
   ],
   "source": [
    "train[\"class\"].value_counts()"
   ]
  },
  {
   "cell_type": "markdown",
   "metadata": {},
   "source": [
    "## greeks"
   ]
  },
  {
   "cell_type": "code",
   "execution_count": 7,
   "metadata": {},
   "outputs": [
    {
     "name": "stdout",
     "output_type": "stream",
     "text": [
      "greeks.csv: shape = 617 rows, 6 cols\n"
     ]
    },
    {
     "data": {
      "text/html": [
       "<div>\n",
       "<style scoped>\n",
       "    .dataframe tbody tr th:only-of-type {\n",
       "        vertical-align: middle;\n",
       "    }\n",
       "\n",
       "    .dataframe tbody tr th {\n",
       "        vertical-align: top;\n",
       "    }\n",
       "\n",
       "    .dataframe thead th {\n",
       "        text-align: right;\n",
       "    }\n",
       "</style>\n",
       "<table border=\"1\" class=\"dataframe\">\n",
       "  <thead>\n",
       "    <tr style=\"text-align: right;\">\n",
       "      <th></th>\n",
       "      <th>id</th>\n",
       "      <th>alpha</th>\n",
       "      <th>beta</th>\n",
       "      <th>gamma</th>\n",
       "      <th>delta</th>\n",
       "      <th>epsilon</th>\n",
       "    </tr>\n",
       "  </thead>\n",
       "  <tbody>\n",
       "    <tr>\n",
       "      <th>0</th>\n",
       "      <td>000ff2bfdfe9</td>\n",
       "      <td>B</td>\n",
       "      <td>C</td>\n",
       "      <td>G</td>\n",
       "      <td>D</td>\n",
       "      <td>3/19/2019</td>\n",
       "    </tr>\n",
       "    <tr>\n",
       "      <th>1</th>\n",
       "      <td>007255e47698</td>\n",
       "      <td>A</td>\n",
       "      <td>C</td>\n",
       "      <td>M</td>\n",
       "      <td>B</td>\n",
       "      <td>Unknown</td>\n",
       "    </tr>\n",
       "  </tbody>\n",
       "</table>\n",
       "</div>"
      ],
      "text/plain": [
       "             id alpha beta gamma delta    epsilon\n",
       "0  000ff2bfdfe9     B    C     G     D  3/19/2019\n",
       "1  007255e47698     A    C     M     B    Unknown"
      ]
     },
     "execution_count": 7,
     "metadata": {},
     "output_type": "execute_result"
    }
   ],
   "source": [
    "greeks = get_input(\"greeks.csv\")\n",
    "greeks.head(n=2)"
   ]
  },
  {
   "cell_type": "markdown",
   "metadata": {},
   "source": [
    "## baseline"
   ]
  },
  {
   "cell_type": "code",
   "execution_count": 8,
   "metadata": {},
   "outputs": [],
   "source": [
    "features_to_drop = [\"id\", \"class\"]\n",
    "\n",
    "\n",
    "target, test_id = train[\"class\"], test[\"id\"]\n",
    "train = train.drop(features_to_drop, axis=1)\n",
    "test = test.drop([\"id\"], axis=1)\n",
    "\n",
    "categorial = train.dtypes[train.dtypes == \"object\"].index\n",
    "numerical = list(set(train.columns) - set(categorial))\n",
    "\n",
    "train = train.replace(np.inf, np.nan)\n",
    "train = train.replace(-np.inf, np.nan)"
   ]
  },
  {
   "cell_type": "code",
   "execution_count": 9,
   "metadata": {},
   "outputs": [
    {
     "data": {
      "text/plain": [
       "['ej']"
      ]
     },
     "execution_count": 9,
     "metadata": {},
     "output_type": "execute_result"
    }
   ],
   "source": [
    "list(categorial)"
   ]
  },
  {
   "cell_type": "markdown",
   "metadata": {},
   "source": [
    "## KFold"
   ]
  },
  {
   "cell_type": "code",
   "execution_count": 10,
   "metadata": {
    "scrolled": true
   },
   "outputs": [
    {
     "name": "stdout",
     "output_type": "stream",
     "text": [
      "Thu Aug  3 03:21:51 2023, Cross-Validation, 617 rows, 56 cols\n",
      "0:\ttest: 0.7753101\ttest1: 0.7617739\tbest: 0.7617739 (0)\ttotal: 146ms\tremaining: 4m 51s\n",
      "10:\ttest: 0.9700018\ttest1: 0.8653846\tbest: 0.8712716 (8)\ttotal: 201ms\tremaining: 36.3s\n",
      "20:\ttest: 0.9740075\ttest1: 0.8720565\tbest: 0.8763736 (13)\ttotal: 254ms\tremaining: 23.9s\n",
      "30:\ttest: 0.9782209\ttest1: 0.8795133\tbest: 0.8814757 (28)\ttotal: 291ms\tremaining: 18.5s\n",
      "40:\ttest: 0.9784583\ttest1: 0.9026688\tbest: 0.9026688 (40)\ttotal: 319ms\tremaining: 15.3s\n",
      "50:\ttest: 0.9805056\ttest1: 0.9116954\tbest: 0.9128728 (48)\ttotal: 349ms\tremaining: 13.3s\n",
      "60:\ttest: 0.9824343\ttest1: 0.9191523\tbest: 0.9191523 (60)\ttotal: 373ms\tremaining: 11.8s\n",
      "70:\ttest: 0.9840959\ttest1: 0.9207221\tbest: 0.9226845 (67)\ttotal: 399ms\tremaining: 10.8s\n",
      "80:\ttest: 0.9848674\ttest1: 0.9164050\tbest: 0.9226845 (67)\ttotal: 421ms\tremaining: 9.96s\n",
      "90:\ttest: 0.9862619\ttest1: 0.9222920\tbest: 0.9226845 (67)\ttotal: 443ms\tremaining: 9.3s\n",
      "100:\ttest: 0.9873598\ttest1: 0.9218995\tbest: 0.9226845 (67)\ttotal: 466ms\tremaining: 8.76s\n",
      "110:\ttest: 0.9886357\ttest1: 0.9230769\tbest: 0.9230769 (108)\ttotal: 488ms\tremaining: 8.31s\n",
      "120:\ttest: 0.9898226\ttest1: 0.9215071\tbest: 0.9242543 (115)\ttotal: 511ms\tremaining: 7.93s\n",
      "130:\ttest: 0.9899709\ttest1: 0.9234694\tbest: 0.9242543 (115)\ttotal: 533ms\tremaining: 7.61s\n",
      "140:\ttest: 0.9903863\ttest1: 0.9211146\tbest: 0.9242543 (115)\ttotal: 557ms\tremaining: 7.34s\n",
      "150:\ttest: 0.9909204\ttest1: 0.9218995\tbest: 0.9242543 (115)\ttotal: 579ms\tremaining: 7.09s\n",
      "160:\ttest: 0.9915139\ttest1: 0.9238619\tbest: 0.9246468 (157)\ttotal: 604ms\tremaining: 6.9s\n",
      "170:\ttest: 0.9925820\ttest1: 0.9289639\tbest: 0.9289639 (170)\ttotal: 627ms\tremaining: 6.7s\n",
      "180:\ttest: 0.9929974\ttest1: 0.9281790\tbest: 0.9289639 (170)\ttotal: 650ms\tremaining: 6.53s\n",
      "190:\ttest: 0.9934129\ttest1: 0.9285714\tbest: 0.9297488 (182)\ttotal: 673ms\tremaining: 6.37s\n",
      "200:\ttest: 0.9939173\ttest1: 0.9301413\tbest: 0.9309262 (198)\ttotal: 696ms\tremaining: 6.23s\n",
      "210:\ttest: 0.9942140\ttest1: 0.9297488\tbest: 0.9309262 (198)\ttotal: 719ms\tremaining: 6.09s\n",
      "220:\ttest: 0.9945107\ttest1: 0.9321036\tbest: 0.9328885 (217)\ttotal: 741ms\tremaining: 5.97s\n",
      "230:\ttest: 0.9947778\ttest1: 0.9336735\tbest: 0.9336735 (230)\ttotal: 767ms\tremaining: 5.87s\n",
      "240:\ttest: 0.9952822\ttest1: 0.9317111\tbest: 0.9336735 (230)\ttotal: 791ms\tremaining: 5.77s\n",
      "250:\ttest: 0.9955789\ttest1: 0.9317111\tbest: 0.9336735 (230)\ttotal: 814ms\tremaining: 5.67s\n",
      "260:\ttest: 0.9958163\ttest1: 0.9328885\tbest: 0.9336735 (230)\ttotal: 837ms\tremaining: 5.58s\n",
      "270:\ttest: 0.9959350\ttest1: 0.9332810\tbest: 0.9348509 (268)\ttotal: 859ms\tremaining: 5.48s\n",
      "280:\ttest: 0.9963504\ttest1: 0.9336735\tbest: 0.9348509 (268)\ttotal: 881ms\tremaining: 5.39s\n",
      "290:\ttest: 0.9965877\ttest1: 0.9336735\tbest: 0.9348509 (268)\ttotal: 903ms\tremaining: 5.3s\n",
      "300:\ttest: 0.9968548\ttest1: 0.9344584\tbest: 0.9348509 (268)\ttotal: 926ms\tremaining: 5.23s\n",
      "310:\ttest: 0.9972108\ttest1: 0.9340659\tbest: 0.9348509 (268)\ttotal: 948ms\tremaining: 5.15s\n",
      "Stopped by overfitting detector  (50 iterations wait)\n",
      "\n",
      "bestTest = 0.9348508634\n",
      "bestIteration = 268\n",
      "\n",
      "Shrink model to first 269 iterations.\n",
      "Fold 1, Valid score = 0.93485\n",
      "0:\ttest: 0.8681150\ttest1: 0.8741319\tbest: 0.8741319 (0)\ttotal: 2.55ms\tremaining: 5.09s\n",
      "10:\ttest: 0.9658734\ttest1: 0.9664352\tbest: 0.9664352 (10)\ttotal: 25.8ms\tremaining: 4.66s\n",
      "20:\ttest: 0.9688279\ttest1: 0.9774306\tbest: 0.9803241 (18)\ttotal: 48.8ms\tremaining: 4.6s\n",
      "30:\ttest: 0.9750623\ttest1: 0.9780093\tbest: 0.9803241 (18)\ttotal: 72.1ms\tremaining: 4.58s\n",
      "40:\ttest: 0.9753063\ttest1: 0.9756944\tbest: 0.9803241 (18)\ttotal: 96.1ms\tremaining: 4.59s\n",
      "50:\ttest: 0.9802125\ttest1: 0.9745370\tbest: 0.9803241 (18)\ttotal: 121ms\tremaining: 4.63s\n",
      "60:\ttest: 0.9831942\ttest1: 0.9768519\tbest: 0.9803241 (18)\ttotal: 146ms\tremaining: 4.65s\n",
      "Stopped by overfitting detector  (50 iterations wait)\n",
      "\n",
      "bestTest = 0.9803240741\n",
      "bestIteration = 18\n",
      "\n",
      "Shrink model to first 19 iterations.\n",
      "Fold 2, Valid score = 0.98032\n",
      "0:\ttest: 0.8416410\ttest1: 0.8033303\tbest: 0.8033303 (0)\ttotal: 2.74ms\tremaining: 5.47s\n",
      "10:\ttest: 0.9720702\ttest1: 0.8775878\tbest: 0.8919892 (9)\ttotal: 26.8ms\tremaining: 4.84s\n",
      "20:\ttest: 0.9773712\ttest1: 0.8973897\tbest: 0.9063906 (16)\ttotal: 49.8ms\tremaining: 4.69s\n",
      "30:\ttest: 0.9802497\ttest1: 0.8906391\tbest: 0.9063906 (16)\ttotal: 73.3ms\tremaining: 4.66s\n",
      "40:\ttest: 0.9828716\ttest1: 0.8973897\tbest: 0.9063906 (16)\ttotal: 96.4ms\tremaining: 4.61s\n",
      "50:\ttest: 0.9818456\ttest1: 0.9023402\tbest: 0.9063906 (16)\ttotal: 121ms\tremaining: 4.63s\n",
      "60:\ttest: 0.9848951\ttest1: 0.9018902\tbest: 0.9063906 (16)\ttotal: 148ms\tremaining: 4.7s\n",
      "Stopped by overfitting detector  (50 iterations wait)\n",
      "\n",
      "bestTest = 0.9063906391\n",
      "bestIteration = 16\n",
      "\n",
      "Shrink model to first 17 iterations.\n",
      "Fold 3, Valid score = 0.90639\n",
      "0:\ttest: 0.7892493\ttest1: 0.7662569\tbest: 0.7662569 (0)\ttotal: 5.49ms\tremaining: 11s\n",
      "10:\ttest: 0.9676474\ttest1: 0.9516257\tbest: 0.9635210 (7)\ttotal: 50.2ms\tremaining: 9.08s\n",
      "20:\ttest: 0.9726794\ttest1: 0.9496431\tbest: 0.9635210 (7)\ttotal: 78.6ms\tremaining: 7.41s\n",
      "30:\ttest: 0.9770897\ttest1: 0.9563838\tbest: 0.9635210 (7)\ttotal: 103ms\tremaining: 6.56s\n",
      "40:\ttest: 0.9787473\ttest1: 0.9567803\tbest: 0.9635210 (7)\ttotal: 129ms\tremaining: 6.17s\n",
      "50:\ttest: 0.9796649\ttest1: 0.9571768\tbest: 0.9635210 (7)\ttotal: 153ms\tremaining: 5.85s\n",
      "Stopped by overfitting detector  (50 iterations wait)\n",
      "\n",
      "bestTest = 0.9635210151\n",
      "bestIteration = 7\n",
      "\n",
      "Shrink model to first 8 iterations.\n",
      "Fold 4, Valid score = 0.96352\n",
      "0:\ttest: 0.8436056\ttest1: 0.7944444\tbest: 0.7944444 (0)\ttotal: 3.06ms\tremaining: 6.11s\n",
      "10:\ttest: 0.9663916\ttest1: 0.9068783\tbest: 0.9142857 (4)\ttotal: 29.2ms\tremaining: 5.29s\n",
      "20:\ttest: 0.9689219\ttest1: 0.9074074\tbest: 0.9253968 (16)\ttotal: 54.3ms\tremaining: 5.12s\n",
      "30:\ttest: 0.9725248\ttest1: 0.9158730\tbest: 0.9253968 (16)\ttotal: 82.9ms\tremaining: 5.27s\n",
      "40:\ttest: 0.9749175\ttest1: 0.9100529\tbest: 0.9253968 (16)\ttotal: 108ms\tremaining: 5.14s\n",
      "50:\ttest: 0.9777228\ttest1: 0.9132275\tbest: 0.9253968 (16)\ttotal: 131ms\tremaining: 5s\n",
      "60:\ttest: 0.9804730\ttest1: 0.9190476\tbest: 0.9253968 (16)\ttotal: 154ms\tremaining: 4.9s\n",
      "Stopped by overfitting detector  (50 iterations wait)\n",
      "\n",
      "bestTest = 0.9253968254\n",
      "bestIteration = 16\n",
      "\n",
      "Shrink model to first 17 iterations.\n",
      "Fold 5, Valid score = 0.9254\n",
      "Score by each fold: [0.93485, 0.98032, 0.90639, 0.96352, 0.9254]\n",
      "=================================================================\n"
     ]
    }
   ],
   "source": [
    "cb_params = {\n",
    "    \"n_estimators\": 2000,\n",
    "    \"learning_rate\": 0.01,\n",
    "    \"loss_function\": \"Logloss\",\n",
    "    \"eval_metric\": \"AUC\",\n",
    "    \"task_type\": \"CPU\",\n",
    "    \"max_bin\": 20,\n",
    "    \"verbose\": 10,\n",
    "    \"max_depth\": 6,\n",
    "    \"l2_leaf_reg\": 10,\n",
    "    \"early_stopping_rounds\": 50,\n",
    "    \"thread_count\": 6,\n",
    "    \"random_seed\": 42\n",
    "}\n",
    "\n",
    "cv = KFold(n_splits=5, random_state=1234123, shuffle=True)\n",
    "\n",
    "estimators, oof_preds = catboost_cross_validation(\n",
    "    params=cb_params, X=train, y=target, cv=cv, categorical=list(categorial)\n",
    ")"
   ]
  },
  {
   "cell_type": "code",
   "execution_count": 11,
   "metadata": {},
   "outputs": [
    {
     "name": "stdout",
     "output_type": "stream",
     "text": [
      "OOF-score = 0.87364\n"
     ]
    }
   ],
   "source": [
    "oof_score = roc_auc_score(\n",
    "    target, oof_preds\n",
    ")\n",
    "print(f\"OOF-score = {round(oof_score, 5)}\")\n",
    "# [0.72194, 0.72659, 0.73283, 0.72053, 0.72657]\n",
    "# OOF-score = 0.72481"
   ]
  },
  {
   "cell_type": "markdown",
   "metadata": {},
   "source": [
    "## Подготовка прогноза"
   ]
  },
  {
   "cell_type": "code",
   "execution_count": 13,
   "metadata": {},
   "outputs": [
    {
     "data": {
      "text/plain": [
       "array([[2.9765253, 2.0234747],\n",
       "       [2.9765253, 2.0234747],\n",
       "       [2.9765253, 2.0234747],\n",
       "       [2.9765253, 2.0234747],\n",
       "       [2.9765253, 2.0234747]])"
      ]
     },
     "execution_count": 13,
     "metadata": {},
     "output_type": "execute_result"
    }
   ],
   "source": [
    "y_pred = np.zeros((test.shape[0], 2))\n",
    "test[numerical] = test[numerical].astype(float)\n",
    "test[categorial] = test[categorial].astype(str)\n",
    "\n",
    "for estimator in estimators:\n",
    "    y_pred += estimator.predict_proba(test)\n",
    "y_pred"
   ]
  },
  {
   "cell_type": "code",
   "execution_count": 14,
   "metadata": {},
   "outputs": [
    {
     "data": {
      "text/plain": [
       "array([[0.95150228, 0.88323982],\n",
       "       [0.95150228, 0.88323982],\n",
       "       [0.95150228, 0.88323982],\n",
       "       [0.95150228, 0.88323982],\n",
       "       [0.95150228, 0.88323982]])"
      ]
     },
     "execution_count": 14,
     "metadata": {},
     "output_type": "execute_result"
    }
   ],
   "source": [
    "sigmoid = lambda x: 1/ (1+ exp(-x))\n",
    "prob = sigmoid(y_pred)\n",
    "prob"
   ]
  },
  {
   "cell_type": "code",
   "execution_count": 15,
   "metadata": {},
   "outputs": [],
   "source": [
    "# y_pred_1 = np.zeros(test.shape[0])\n",
    "# test[numerical] = test[numerical].astype(float)\n",
    "# test[categorial] = test[categorial].astype(str)\n",
    "# y_pred_0 = np.zeros(test.shape[0])\n",
    "# test[numerical] = test[numerical].astype(float)\n",
    "# test[categorial] = test[categorial].astype(str)\n",
    "\n",
    "# for estimator in estimators:\n",
    "#     print(estimator.predict_proba(test))\n",
    "#     y_pred_1 += estimator.predict_proba(test)[:,1]\n",
    "#     y_pred_0 += estimator.predict_proba(test)[:,-1]\n",
    "# y_pred_1, y_pred_0"
   ]
  },
  {
   "cell_type": "code",
   "execution_count": 16,
   "metadata": {},
   "outputs": [],
   "source": [
    "if os.path.isdir(\"predict\") == False:\n",
    "    os.mkdir(\"predict\")\n",
    "    print(\"Папка predict создана\")"
   ]
  },
  {
   "cell_type": "code",
   "execution_count": 17,
   "metadata": {},
   "outputs": [
    {
     "data": {
      "text/html": [
       "<div>\n",
       "<style scoped>\n",
       "    .dataframe tbody tr th:only-of-type {\n",
       "        vertical-align: middle;\n",
       "    }\n",
       "\n",
       "    .dataframe tbody tr th {\n",
       "        vertical-align: top;\n",
       "    }\n",
       "\n",
       "    .dataframe thead th {\n",
       "        text-align: right;\n",
       "    }\n",
       "</style>\n",
       "<table border=\"1\" class=\"dataframe\">\n",
       "  <thead>\n",
       "    <tr style=\"text-align: right;\">\n",
       "      <th></th>\n",
       "      <th>Id</th>\n",
       "      <th>class_0</th>\n",
       "      <th>class_1</th>\n",
       "    </tr>\n",
       "  </thead>\n",
       "  <tbody>\n",
       "    <tr>\n",
       "      <th>0</th>\n",
       "      <td>00eed32682bb</td>\n",
       "      <td>0.5</td>\n",
       "      <td>0.5</td>\n",
       "    </tr>\n",
       "    <tr>\n",
       "      <th>1</th>\n",
       "      <td>010ebe33f668</td>\n",
       "      <td>0.5</td>\n",
       "      <td>0.5</td>\n",
       "    </tr>\n",
       "    <tr>\n",
       "      <th>2</th>\n",
       "      <td>02fa521e1838</td>\n",
       "      <td>0.5</td>\n",
       "      <td>0.5</td>\n",
       "    </tr>\n",
       "    <tr>\n",
       "      <th>3</th>\n",
       "      <td>040e15f562a2</td>\n",
       "      <td>0.5</td>\n",
       "      <td>0.5</td>\n",
       "    </tr>\n",
       "    <tr>\n",
       "      <th>4</th>\n",
       "      <td>046e85c7cc7f</td>\n",
       "      <td>0.5</td>\n",
       "      <td>0.5</td>\n",
       "    </tr>\n",
       "  </tbody>\n",
       "</table>\n",
       "</div>"
      ],
      "text/plain": [
       "             Id  class_0  class_1\n",
       "0  00eed32682bb      0.5      0.5\n",
       "1  010ebe33f668      0.5      0.5\n",
       "2  02fa521e1838      0.5      0.5\n",
       "3  040e15f562a2      0.5      0.5\n",
       "4  046e85c7cc7f      0.5      0.5"
      ]
     },
     "execution_count": 17,
     "metadata": {},
     "output_type": "execute_result"
    }
   ],
   "source": [
    "d = pd.read_csv(\"data\\sample_submission.csv\")\n",
    "d.head()"
   ]
  },
  {
   "cell_type": "code",
   "execution_count": 18,
   "metadata": {},
   "outputs": [],
   "source": [
    "pred = pd.DataFrame({\n",
    "    \"id\": test_id,\n",
    "    \"class_0\": prob[:,0],\n",
    "    \"class_1\": prob[:,1]\n",
    "})\n",
    "pred.to_csv(\"predict/baseline_submit.csv\", index=False)"
   ]
  },
  {
   "cell_type": "code",
   "execution_count": 19,
   "metadata": {},
   "outputs": [
    {
     "data": {
      "text/html": [
       "<div>\n",
       "<style scoped>\n",
       "    .dataframe tbody tr th:only-of-type {\n",
       "        vertical-align: middle;\n",
       "    }\n",
       "\n",
       "    .dataframe tbody tr th {\n",
       "        vertical-align: top;\n",
       "    }\n",
       "\n",
       "    .dataframe thead th {\n",
       "        text-align: right;\n",
       "    }\n",
       "</style>\n",
       "<table border=\"1\" class=\"dataframe\">\n",
       "  <thead>\n",
       "    <tr style=\"text-align: right;\">\n",
       "      <th></th>\n",
       "      <th>id</th>\n",
       "      <th>class_0</th>\n",
       "      <th>class_1</th>\n",
       "    </tr>\n",
       "  </thead>\n",
       "  <tbody>\n",
       "    <tr>\n",
       "      <th>0</th>\n",
       "      <td>00eed32682bb</td>\n",
       "      <td>0.951502</td>\n",
       "      <td>0.88324</td>\n",
       "    </tr>\n",
       "    <tr>\n",
       "      <th>1</th>\n",
       "      <td>010ebe33f668</td>\n",
       "      <td>0.951502</td>\n",
       "      <td>0.88324</td>\n",
       "    </tr>\n",
       "    <tr>\n",
       "      <th>2</th>\n",
       "      <td>02fa521e1838</td>\n",
       "      <td>0.951502</td>\n",
       "      <td>0.88324</td>\n",
       "    </tr>\n",
       "    <tr>\n",
       "      <th>3</th>\n",
       "      <td>040e15f562a2</td>\n",
       "      <td>0.951502</td>\n",
       "      <td>0.88324</td>\n",
       "    </tr>\n",
       "    <tr>\n",
       "      <th>4</th>\n",
       "      <td>046e85c7cc7f</td>\n",
       "      <td>0.951502</td>\n",
       "      <td>0.88324</td>\n",
       "    </tr>\n",
       "  </tbody>\n",
       "</table>\n",
       "</div>"
      ],
      "text/plain": [
       "             id   class_0  class_1\n",
       "0  00eed32682bb  0.951502  0.88324\n",
       "1  010ebe33f668  0.951502  0.88324\n",
       "2  02fa521e1838  0.951502  0.88324\n",
       "3  040e15f562a2  0.951502  0.88324\n",
       "4  046e85c7cc7f  0.951502  0.88324"
      ]
     },
     "execution_count": 19,
     "metadata": {},
     "output_type": "execute_result"
    }
   ],
   "source": [
    "pred"
   ]
  },
  {
   "cell_type": "code",
   "execution_count": null,
   "metadata": {},
   "outputs": [],
   "source": []
  }
 ],
 "metadata": {
  "kernelspec": {
   "display_name": "Python 3 (ipykernel)",
   "language": "python",
   "name": "python3"
  },
  "language_info": {
   "codemirror_mode": {
    "name": "ipython",
    "version": 3
   },
   "file_extension": ".py",
   "mimetype": "text/x-python",
   "name": "python",
   "nbconvert_exporter": "python",
   "pygments_lexer": "ipython3",
   "version": "3.7.9"
  }
 },
 "nbformat": 4,
 "nbformat_minor": 4
}
