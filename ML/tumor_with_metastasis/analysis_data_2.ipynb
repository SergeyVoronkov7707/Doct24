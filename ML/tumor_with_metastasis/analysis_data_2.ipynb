{
 "cells": [
  {
   "cell_type": "code",
   "execution_count": 9,
   "id": "e8eb13fd",
   "metadata": {},
   "outputs": [],
   "source": [
    "import pandas as pd\n",
    "import numpy as np\n",
    "import matplotlib.pyplot as plt\n",
    "from matplotlib.pyplot import figure\n",
    "import seaborn as sn\n",
    "import os"
   ]
  },
  {
   "cell_type": "code",
   "execution_count": 10,
   "id": "1599b2cb",
   "metadata": {},
   "outputs": [
    {
     "data": {
      "text/plain": [
       "['data_kmeans.csv',\n",
       " 'data_kmeans_replace.csv',\n",
       " 'data_n.csv',\n",
       " 'test',\n",
       " 'test.txt',\n",
       " 'UnlabeledWiDS2021.csv']"
      ]
     },
     "execution_count": 10,
     "metadata": {},
     "output_type": "execute_result"
    }
   ],
   "source": [
    "os.listdir(\"data\")"
   ]
  },
  {
   "cell_type": "code",
   "execution_count": 11,
   "id": "3cd5bee5",
   "metadata": {},
   "outputs": [],
   "source": [
    "data = pd.read_csv(\"data/UnlabeledWiDS2021.csv\")"
   ]
  },
  {
   "cell_type": "code",
   "execution_count": 12,
   "id": "beb1eade",
   "metadata": {},
   "outputs": [
    {
     "name": "stdout",
     "output_type": "stream",
     "text": [
      "(10234, 180)\n"
     ]
    },
    {
     "data": {
      "text/html": [
       "<div>\n",
       "<style scoped>\n",
       "    .dataframe tbody tr th:only-of-type {\n",
       "        vertical-align: middle;\n",
       "    }\n",
       "\n",
       "    .dataframe tbody tr th {\n",
       "        vertical-align: top;\n",
       "    }\n",
       "\n",
       "    .dataframe thead th {\n",
       "        text-align: right;\n",
       "    }\n",
       "</style>\n",
       "<table border=\"1\" class=\"dataframe\">\n",
       "  <thead>\n",
       "    <tr style=\"text-align: right;\">\n",
       "      <th></th>\n",
       "      <th>Unnamed: 0</th>\n",
       "      <th>encounter_id</th>\n",
       "      <th>hospital_id</th>\n",
       "      <th>age</th>\n",
       "      <th>bmi</th>\n",
       "      <th>elective_surgery</th>\n",
       "      <th>ethnicity</th>\n",
       "      <th>gender</th>\n",
       "      <th>height</th>\n",
       "      <th>hospital_admit_source</th>\n",
       "      <th>...</th>\n",
       "      <th>h1_arterial_po2_min</th>\n",
       "      <th>h1_pao2fio2ratio_max</th>\n",
       "      <th>h1_pao2fio2ratio_min</th>\n",
       "      <th>aids</th>\n",
       "      <th>cirrhosis</th>\n",
       "      <th>hepatic_failure</th>\n",
       "      <th>immunosuppression</th>\n",
       "      <th>leukemia</th>\n",
       "      <th>lymphoma</th>\n",
       "      <th>solid_tumor_with_metastasis</th>\n",
       "    </tr>\n",
       "  </thead>\n",
       "  <tbody>\n",
       "    <tr>\n",
       "      <th>0</th>\n",
       "      <td>1</td>\n",
       "      <td>144740</td>\n",
       "      <td>10141</td>\n",
       "      <td>72</td>\n",
       "      <td>NaN</td>\n",
       "      <td>0</td>\n",
       "      <td>Caucasian</td>\n",
       "      <td>F</td>\n",
       "      <td>152.4</td>\n",
       "      <td>Floor</td>\n",
       "      <td>...</td>\n",
       "      <td>NaN</td>\n",
       "      <td>NaN</td>\n",
       "      <td>NaN</td>\n",
       "      <td>0</td>\n",
       "      <td>0</td>\n",
       "      <td>0</td>\n",
       "      <td>0</td>\n",
       "      <td>0</td>\n",
       "      <td>0</td>\n",
       "      <td>0</td>\n",
       "    </tr>\n",
       "    <tr>\n",
       "      <th>1</th>\n",
       "      <td>2</td>\n",
       "      <td>141990</td>\n",
       "      <td>10141</td>\n",
       "      <td>86</td>\n",
       "      <td>NaN</td>\n",
       "      <td>0</td>\n",
       "      <td>Caucasian</td>\n",
       "      <td>F</td>\n",
       "      <td>175.3</td>\n",
       "      <td>Emergency Department</td>\n",
       "      <td>...</td>\n",
       "      <td>NaN</td>\n",
       "      <td>NaN</td>\n",
       "      <td>NaN</td>\n",
       "      <td>0</td>\n",
       "      <td>0</td>\n",
       "      <td>0</td>\n",
       "      <td>0</td>\n",
       "      <td>0</td>\n",
       "      <td>0</td>\n",
       "      <td>0</td>\n",
       "    </tr>\n",
       "    <tr>\n",
       "      <th>2</th>\n",
       "      <td>3</td>\n",
       "      <td>142038</td>\n",
       "      <td>10141</td>\n",
       "      <td>72</td>\n",
       "      <td>NaN</td>\n",
       "      <td>0</td>\n",
       "      <td>Caucasian</td>\n",
       "      <td>F</td>\n",
       "      <td>162.6</td>\n",
       "      <td>Floor</td>\n",
       "      <td>...</td>\n",
       "      <td>NaN</td>\n",
       "      <td>NaN</td>\n",
       "      <td>NaN</td>\n",
       "      <td>0</td>\n",
       "      <td>0</td>\n",
       "      <td>0</td>\n",
       "      <td>0</td>\n",
       "      <td>0</td>\n",
       "      <td>0</td>\n",
       "      <td>0</td>\n",
       "    </tr>\n",
       "    <tr>\n",
       "      <th>3</th>\n",
       "      <td>4</td>\n",
       "      <td>138628</td>\n",
       "      <td>10141</td>\n",
       "      <td>66</td>\n",
       "      <td>NaN</td>\n",
       "      <td>0</td>\n",
       "      <td>Caucasian</td>\n",
       "      <td>M</td>\n",
       "      <td>177.8</td>\n",
       "      <td>Floor</td>\n",
       "      <td>...</td>\n",
       "      <td>NaN</td>\n",
       "      <td>NaN</td>\n",
       "      <td>NaN</td>\n",
       "      <td>0</td>\n",
       "      <td>0</td>\n",
       "      <td>0</td>\n",
       "      <td>0</td>\n",
       "      <td>0</td>\n",
       "      <td>0</td>\n",
       "      <td>0</td>\n",
       "    </tr>\n",
       "    <tr>\n",
       "      <th>4</th>\n",
       "      <td>5</td>\n",
       "      <td>141682</td>\n",
       "      <td>10141</td>\n",
       "      <td>89</td>\n",
       "      <td>NaN</td>\n",
       "      <td>0</td>\n",
       "      <td>Caucasian</td>\n",
       "      <td>M</td>\n",
       "      <td>170.2</td>\n",
       "      <td>Direct Admit</td>\n",
       "      <td>...</td>\n",
       "      <td>NaN</td>\n",
       "      <td>NaN</td>\n",
       "      <td>NaN</td>\n",
       "      <td>0</td>\n",
       "      <td>0</td>\n",
       "      <td>0</td>\n",
       "      <td>0</td>\n",
       "      <td>0</td>\n",
       "      <td>0</td>\n",
       "      <td>0</td>\n",
       "    </tr>\n",
       "  </tbody>\n",
       "</table>\n",
       "<p>5 rows × 180 columns</p>\n",
       "</div>"
      ],
      "text/plain": [
       "   Unnamed: 0  encounter_id  hospital_id  age  bmi  elective_surgery  \\\n",
       "0           1        144740        10141   72  NaN                 0   \n",
       "1           2        141990        10141   86  NaN                 0   \n",
       "2           3        142038        10141   72  NaN                 0   \n",
       "3           4        138628        10141   66  NaN                 0   \n",
       "4           5        141682        10141   89  NaN                 0   \n",
       "\n",
       "   ethnicity gender  height hospital_admit_source  ... h1_arterial_po2_min  \\\n",
       "0  Caucasian      F   152.4                 Floor  ...                 NaN   \n",
       "1  Caucasian      F   175.3  Emergency Department  ...                 NaN   \n",
       "2  Caucasian      F   162.6                 Floor  ...                 NaN   \n",
       "3  Caucasian      M   177.8                 Floor  ...                 NaN   \n",
       "4  Caucasian      M   170.2          Direct Admit  ...                 NaN   \n",
       "\n",
       "   h1_pao2fio2ratio_max h1_pao2fio2ratio_min aids  cirrhosis  hepatic_failure  \\\n",
       "0                   NaN                  NaN    0          0                0   \n",
       "1                   NaN                  NaN    0          0                0   \n",
       "2                   NaN                  NaN    0          0                0   \n",
       "3                   NaN                  NaN    0          0                0   \n",
       "4                   NaN                  NaN    0          0                0   \n",
       "\n",
       "   immunosuppression  leukemia  lymphoma  solid_tumor_with_metastasis  \n",
       "0                  0         0         0                            0  \n",
       "1                  0         0         0                            0  \n",
       "2                  0         0         0                            0  \n",
       "3                  0         0         0                            0  \n",
       "4                  0         0         0                            0  \n",
       "\n",
       "[5 rows x 180 columns]"
      ]
     },
     "execution_count": 12,
     "metadata": {},
     "output_type": "execute_result"
    }
   ],
   "source": [
    "print(data.shape)\n",
    "data.head()"
   ]
  },
  {
   "cell_type": "code",
   "execution_count": 14,
   "id": "03a11b0a",
   "metadata": {},
   "outputs": [],
   "source": [
    "data = data.drop(\"Unnamed: 0\", axis=1)\n",
    "data[\"target\"] = data[\"solid_tumor_with_metastasis\"]\n",
    "data = data.drop(\"solid_tumor_with_metastasis\", axis=1)"
   ]
  },
  {
   "cell_type": "code",
   "execution_count": null,
   "id": "5342b341",
   "metadata": {},
   "outputs": [],
   "source": []
  },
  {
   "cell_type": "code",
   "execution_count": 15,
   "id": "212e68f0",
   "metadata": {},
   "outputs": [
    {
     "name": "stdout",
     "output_type": "stream",
     "text": [
      "encounter_id\n",
      "hospital_id\n",
      "age\n",
      "bmi\n",
      "elective_surgery\n",
      "ethnicity\n",
      "gender\n",
      "height\n",
      "hospital_admit_source\n",
      "icu_admit_source\n",
      "icu_id\n",
      "icu_stay_type\n",
      "icu_type\n",
      "pre_icu_los_days\n",
      "readmission_status\n",
      "weight\n",
      "albumin_apache\n",
      "apache_2_diagnosis\n",
      "apache_3j_diagnosis\n",
      "apache_post_operative\n",
      "arf_apache\n",
      "bilirubin_apache\n",
      "bun_apache\n",
      "creatinine_apache\n",
      "fio2_apache\n",
      "gcs_eyes_apache\n",
      "gcs_motor_apache\n",
      "gcs_unable_apache\n",
      "gcs_verbal_apache\n",
      "glucose_apache\n",
      "heart_rate_apache\n",
      "hematocrit_apache\n",
      "intubated_apache\n",
      "map_apache\n",
      "paco2_apache\n",
      "paco2_for_ph_apache\n",
      "pao2_apache\n",
      "ph_apache\n",
      "resprate_apache\n",
      "sodium_apache\n",
      "temp_apache\n",
      "urineoutput_apache\n",
      "ventilated_apache\n",
      "wbc_apache\n",
      "d1_diasbp_invasive_max\n",
      "d1_diasbp_invasive_min\n",
      "d1_diasbp_max\n",
      "d1_diasbp_min\n",
      "d1_diasbp_noninvasive_max\n",
      "d1_diasbp_noninvasive_min\n",
      "d1_heartrate_max\n",
      "d1_heartrate_min\n",
      "d1_mbp_invasive_max\n",
      "d1_mbp_invasive_min\n",
      "d1_mbp_max\n",
      "d1_mbp_min\n",
      "d1_mbp_noninvasive_max\n",
      "d1_mbp_noninvasive_min\n",
      "d1_resprate_max\n",
      "d1_resprate_min\n",
      "d1_spo2_max\n",
      "d1_spo2_min\n",
      "d1_sysbp_invasive_max\n",
      "d1_sysbp_invasive_min\n",
      "d1_sysbp_max\n",
      "d1_sysbp_min\n",
      "d1_sysbp_noninvasive_max\n",
      "d1_sysbp_noninvasive_min\n",
      "d1_temp_max\n",
      "d1_temp_min\n",
      "h1_diasbp_invasive_max\n",
      "h1_diasbp_invasive_min\n",
      "h1_diasbp_max\n",
      "h1_diasbp_min\n",
      "h1_diasbp_noninvasive_max\n",
      "h1_diasbp_noninvasive_min\n",
      "h1_heartrate_max\n",
      "h1_heartrate_min\n",
      "h1_mbp_invasive_max\n",
      "h1_mbp_invasive_min\n",
      "h1_mbp_max\n",
      "h1_mbp_min\n",
      "h1_mbp_noninvasive_max\n",
      "h1_mbp_noninvasive_min\n",
      "h1_resprate_max\n",
      "h1_resprate_min\n",
      "h1_spo2_max\n",
      "h1_spo2_min\n",
      "h1_sysbp_invasive_max\n",
      "h1_sysbp_invasive_min\n",
      "h1_sysbp_max\n",
      "h1_sysbp_min\n",
      "h1_sysbp_noninvasive_max\n",
      "h1_sysbp_noninvasive_min\n",
      "h1_temp_max\n",
      "h1_temp_min\n",
      "d1_albumin_max\n",
      "d1_albumin_min\n",
      "d1_bilirubin_max\n",
      "d1_bilirubin_min\n",
      "d1_bun_max\n",
      "d1_bun_min\n",
      "d1_calcium_max\n",
      "d1_calcium_min\n",
      "d1_creatinine_max\n",
      "d1_creatinine_min\n",
      "d1_glucose_max\n",
      "d1_glucose_min\n",
      "d1_hco3_max\n",
      "d1_hco3_min\n",
      "d1_hemaglobin_max\n",
      "d1_hemaglobin_min\n",
      "d1_hematocrit_max\n",
      "d1_hematocrit_min\n",
      "d1_inr_max\n",
      "d1_inr_min\n",
      "d1_lactate_max\n",
      "d1_lactate_min\n",
      "d1_platelets_max\n",
      "d1_platelets_min\n",
      "d1_potassium_max\n",
      "d1_potassium_min\n",
      "d1_sodium_max\n",
      "d1_sodium_min\n",
      "d1_wbc_max\n",
      "d1_wbc_min\n",
      "h1_albumin_max\n",
      "h1_albumin_min\n",
      "h1_bilirubin_max\n",
      "h1_bilirubin_min\n",
      "h1_bun_max\n",
      "h1_bun_min\n",
      "h1_calcium_max\n",
      "h1_calcium_min\n",
      "h1_creatinine_max\n",
      "h1_creatinine_min\n",
      "h1_glucose_max\n",
      "h1_glucose_min\n",
      "h1_hco3_max\n",
      "h1_hco3_min\n",
      "h1_hemaglobin_max\n",
      "h1_hemaglobin_min\n",
      "h1_hematocrit_max\n",
      "h1_hematocrit_min\n",
      "h1_inr_max\n",
      "h1_inr_min\n",
      "h1_lactate_max\n",
      "h1_lactate_min\n",
      "h1_platelets_max\n",
      "h1_platelets_min\n",
      "h1_potassium_max\n",
      "h1_potassium_min\n",
      "h1_sodium_max\n",
      "h1_sodium_min\n",
      "h1_wbc_max\n",
      "h1_wbc_min\n",
      "d1_arterial_pco2_max\n",
      "d1_arterial_pco2_min\n",
      "d1_arterial_ph_max\n",
      "d1_arterial_ph_min\n",
      "d1_arterial_po2_max\n",
      "d1_arterial_po2_min\n",
      "d1_pao2fio2ratio_max\n",
      "d1_pao2fio2ratio_min\n",
      "h1_arterial_pco2_max\n",
      "h1_arterial_pco2_min\n",
      "h1_arterial_ph_max\n",
      "h1_arterial_ph_min\n",
      "h1_arterial_po2_max\n",
      "h1_arterial_po2_min\n",
      "h1_pao2fio2ratio_max\n",
      "h1_pao2fio2ratio_min\n",
      "aids\n",
      "cirrhosis\n",
      "hepatic_failure\n",
      "immunosuppression\n",
      "leukemia\n",
      "lymphoma\n",
      "target\n"
     ]
    }
   ],
   "source": [
    "for i in data.columns:\n",
    "    print(i)"
   ]
  },
  {
   "cell_type": "code",
   "execution_count": 16,
   "id": "66e11ef2",
   "metadata": {},
   "outputs": [
    {
     "data": {
      "text/plain": [
       "0    10053\n",
       "1      181\n",
       "Name: target, dtype: int64"
      ]
     },
     "execution_count": 16,
     "metadata": {},
     "output_type": "execute_result"
    }
   ],
   "source": [
    "data[\"target\"].value_counts()"
   ]
  },
  {
   "cell_type": "markdown",
   "id": "064df2cc",
   "metadata": {},
   "source": [
    "# age"
   ]
  },
  {
   "cell_type": "code",
   "execution_count": 17,
   "id": "2d95126d",
   "metadata": {},
   "outputs": [
    {
     "data": {
      "text/html": [
       "<div>\n",
       "<style scoped>\n",
       "    .dataframe tbody tr th:only-of-type {\n",
       "        vertical-align: middle;\n",
       "    }\n",
       "\n",
       "    .dataframe tbody tr th {\n",
       "        vertical-align: top;\n",
       "    }\n",
       "\n",
       "    .dataframe thead th {\n",
       "        text-align: right;\n",
       "    }\n",
       "</style>\n",
       "<table border=\"1\" class=\"dataframe\">\n",
       "  <thead>\n",
       "    <tr style=\"text-align: right;\">\n",
       "      <th></th>\n",
       "      <th>encounter_id</th>\n",
       "      <th>hospital_id</th>\n",
       "      <th>age</th>\n",
       "      <th>bmi</th>\n",
       "      <th>elective_surgery</th>\n",
       "      <th>ethnicity</th>\n",
       "      <th>gender</th>\n",
       "      <th>height</th>\n",
       "      <th>hospital_admit_source</th>\n",
       "      <th>icu_admit_source</th>\n",
       "      <th>...</th>\n",
       "      <th>h1_arterial_po2_min</th>\n",
       "      <th>h1_pao2fio2ratio_max</th>\n",
       "      <th>h1_pao2fio2ratio_min</th>\n",
       "      <th>aids</th>\n",
       "      <th>cirrhosis</th>\n",
       "      <th>hepatic_failure</th>\n",
       "      <th>immunosuppression</th>\n",
       "      <th>leukemia</th>\n",
       "      <th>lymphoma</th>\n",
       "      <th>target</th>\n",
       "    </tr>\n",
       "  </thead>\n",
       "  <tbody>\n",
       "    <tr>\n",
       "      <th>33</th>\n",
       "      <td>145818</td>\n",
       "      <td>10181</td>\n",
       "      <td>70</td>\n",
       "      <td>NaN</td>\n",
       "      <td>0</td>\n",
       "      <td>Caucasian</td>\n",
       "      <td>M</td>\n",
       "      <td>177.8</td>\n",
       "      <td>Emergency Department</td>\n",
       "      <td>Accident &amp; Emergency</td>\n",
       "      <td>...</td>\n",
       "      <td>NaN</td>\n",
       "      <td>NaN</td>\n",
       "      <td>NaN</td>\n",
       "      <td>0</td>\n",
       "      <td>0</td>\n",
       "      <td>0</td>\n",
       "      <td>0</td>\n",
       "      <td>0</td>\n",
       "      <td>0</td>\n",
       "      <td>0</td>\n",
       "    </tr>\n",
       "    <tr>\n",
       "      <th>45</th>\n",
       "      <td>142966</td>\n",
       "      <td>10181</td>\n",
       "      <td>70</td>\n",
       "      <td>NaN</td>\n",
       "      <td>1</td>\n",
       "      <td>Caucasian</td>\n",
       "      <td>M</td>\n",
       "      <td>180.3</td>\n",
       "      <td>Operating Room</td>\n",
       "      <td>Operating Room / Recovery</td>\n",
       "      <td>...</td>\n",
       "      <td>NaN</td>\n",
       "      <td>NaN</td>\n",
       "      <td>NaN</td>\n",
       "      <td>0</td>\n",
       "      <td>0</td>\n",
       "      <td>0</td>\n",
       "      <td>0</td>\n",
       "      <td>0</td>\n",
       "      <td>0</td>\n",
       "      <td>0</td>\n",
       "    </tr>\n",
       "    <tr>\n",
       "      <th>68</th>\n",
       "      <td>135018</td>\n",
       "      <td>10064</td>\n",
       "      <td>70</td>\n",
       "      <td>NaN</td>\n",
       "      <td>0</td>\n",
       "      <td>Caucasian</td>\n",
       "      <td>M</td>\n",
       "      <td>180.3</td>\n",
       "      <td>Floor</td>\n",
       "      <td>Floor</td>\n",
       "      <td>...</td>\n",
       "      <td>NaN</td>\n",
       "      <td>NaN</td>\n",
       "      <td>NaN</td>\n",
       "      <td>0</td>\n",
       "      <td>0</td>\n",
       "      <td>0</td>\n",
       "      <td>0</td>\n",
       "      <td>0</td>\n",
       "      <td>0</td>\n",
       "      <td>0</td>\n",
       "    </tr>\n",
       "    <tr>\n",
       "      <th>272</th>\n",
       "      <td>138325</td>\n",
       "      <td>10003</td>\n",
       "      <td>70</td>\n",
       "      <td>NaN</td>\n",
       "      <td>0</td>\n",
       "      <td>Caucasian</td>\n",
       "      <td>F</td>\n",
       "      <td>152.4</td>\n",
       "      <td>Emergency Department</td>\n",
       "      <td>Accident &amp; Emergency</td>\n",
       "      <td>...</td>\n",
       "      <td>NaN</td>\n",
       "      <td>NaN</td>\n",
       "      <td>NaN</td>\n",
       "      <td>0</td>\n",
       "      <td>0</td>\n",
       "      <td>0</td>\n",
       "      <td>0</td>\n",
       "      <td>0</td>\n",
       "      <td>0</td>\n",
       "      <td>0</td>\n",
       "    </tr>\n",
       "    <tr>\n",
       "      <th>302</th>\n",
       "      <td>136623</td>\n",
       "      <td>10003</td>\n",
       "      <td>70</td>\n",
       "      <td>NaN</td>\n",
       "      <td>0</td>\n",
       "      <td>Caucasian</td>\n",
       "      <td>F</td>\n",
       "      <td>165.1</td>\n",
       "      <td>Emergency Department</td>\n",
       "      <td>Accident &amp; Emergency</td>\n",
       "      <td>...</td>\n",
       "      <td>NaN</td>\n",
       "      <td>NaN</td>\n",
       "      <td>NaN</td>\n",
       "      <td>0</td>\n",
       "      <td>0</td>\n",
       "      <td>0</td>\n",
       "      <td>0</td>\n",
       "      <td>0</td>\n",
       "      <td>0</td>\n",
       "      <td>0</td>\n",
       "    </tr>\n",
       "    <tr>\n",
       "      <th>...</th>\n",
       "      <td>...</td>\n",
       "      <td>...</td>\n",
       "      <td>...</td>\n",
       "      <td>...</td>\n",
       "      <td>...</td>\n",
       "      <td>...</td>\n",
       "      <td>...</td>\n",
       "      <td>...</td>\n",
       "      <td>...</td>\n",
       "      <td>...</td>\n",
       "      <td>...</td>\n",
       "      <td>...</td>\n",
       "      <td>...</td>\n",
       "      <td>...</td>\n",
       "      <td>...</td>\n",
       "      <td>...</td>\n",
       "      <td>...</td>\n",
       "      <td>...</td>\n",
       "      <td>...</td>\n",
       "      <td>...</td>\n",
       "      <td>...</td>\n",
       "    </tr>\n",
       "    <tr>\n",
       "      <th>9954</th>\n",
       "      <td>140018</td>\n",
       "      <td>10078</td>\n",
       "      <td>70</td>\n",
       "      <td>37.2</td>\n",
       "      <td>1</td>\n",
       "      <td>African American</td>\n",
       "      <td>F</td>\n",
       "      <td>165.1</td>\n",
       "      <td>Operating Room</td>\n",
       "      <td>Operating Room / Recovery</td>\n",
       "      <td>...</td>\n",
       "      <td>NaN</td>\n",
       "      <td>NaN</td>\n",
       "      <td>NaN</td>\n",
       "      <td>0</td>\n",
       "      <td>0</td>\n",
       "      <td>0</td>\n",
       "      <td>0</td>\n",
       "      <td>0</td>\n",
       "      <td>0</td>\n",
       "      <td>0</td>\n",
       "    </tr>\n",
       "    <tr>\n",
       "      <th>10016</th>\n",
       "      <td>142515</td>\n",
       "      <td>10078</td>\n",
       "      <td>70</td>\n",
       "      <td>27.5</td>\n",
       "      <td>1</td>\n",
       "      <td>Caucasian</td>\n",
       "      <td>M</td>\n",
       "      <td>177.8</td>\n",
       "      <td>Operating Room</td>\n",
       "      <td>Operating Room / Recovery</td>\n",
       "      <td>...</td>\n",
       "      <td>348.0</td>\n",
       "      <td>348.0</td>\n",
       "      <td>348.0</td>\n",
       "      <td>0</td>\n",
       "      <td>0</td>\n",
       "      <td>0</td>\n",
       "      <td>0</td>\n",
       "      <td>0</td>\n",
       "      <td>0</td>\n",
       "      <td>0</td>\n",
       "    </tr>\n",
       "    <tr>\n",
       "      <th>10136</th>\n",
       "      <td>139959</td>\n",
       "      <td>10078</td>\n",
       "      <td>70</td>\n",
       "      <td>27.6</td>\n",
       "      <td>0</td>\n",
       "      <td>Caucasian</td>\n",
       "      <td>F</td>\n",
       "      <td>162.6</td>\n",
       "      <td>Emergency Department</td>\n",
       "      <td>Accident &amp; Emergency</td>\n",
       "      <td>...</td>\n",
       "      <td>NaN</td>\n",
       "      <td>NaN</td>\n",
       "      <td>NaN</td>\n",
       "      <td>0</td>\n",
       "      <td>0</td>\n",
       "      <td>0</td>\n",
       "      <td>0</td>\n",
       "      <td>0</td>\n",
       "      <td>0</td>\n",
       "      <td>0</td>\n",
       "    </tr>\n",
       "    <tr>\n",
       "      <th>10154</th>\n",
       "      <td>145613</td>\n",
       "      <td>10078</td>\n",
       "      <td>70</td>\n",
       "      <td>36.7</td>\n",
       "      <td>0</td>\n",
       "      <td>African American</td>\n",
       "      <td>M</td>\n",
       "      <td>175.3</td>\n",
       "      <td>Emergency Department</td>\n",
       "      <td>Accident &amp; Emergency</td>\n",
       "      <td>...</td>\n",
       "      <td>NaN</td>\n",
       "      <td>NaN</td>\n",
       "      <td>NaN</td>\n",
       "      <td>0</td>\n",
       "      <td>0</td>\n",
       "      <td>0</td>\n",
       "      <td>0</td>\n",
       "      <td>0</td>\n",
       "      <td>0</td>\n",
       "      <td>0</td>\n",
       "    </tr>\n",
       "    <tr>\n",
       "      <th>10184</th>\n",
       "      <td>136954</td>\n",
       "      <td>10078</td>\n",
       "      <td>70</td>\n",
       "      <td>29.9</td>\n",
       "      <td>0</td>\n",
       "      <td>Caucasian</td>\n",
       "      <td>F</td>\n",
       "      <td>162.6</td>\n",
       "      <td>Direct Admit</td>\n",
       "      <td>Accident &amp; Emergency</td>\n",
       "      <td>...</td>\n",
       "      <td>NaN</td>\n",
       "      <td>NaN</td>\n",
       "      <td>NaN</td>\n",
       "      <td>0</td>\n",
       "      <td>0</td>\n",
       "      <td>0</td>\n",
       "      <td>0</td>\n",
       "      <td>0</td>\n",
       "      <td>0</td>\n",
       "      <td>0</td>\n",
       "    </tr>\n",
       "  </tbody>\n",
       "</table>\n",
       "<p>247 rows × 179 columns</p>\n",
       "</div>"
      ],
      "text/plain": [
       "       encounter_id  hospital_id  age   bmi  elective_surgery  \\\n",
       "33           145818        10181   70   NaN                 0   \n",
       "45           142966        10181   70   NaN                 1   \n",
       "68           135018        10064   70   NaN                 0   \n",
       "272          138325        10003   70   NaN                 0   \n",
       "302          136623        10003   70   NaN                 0   \n",
       "...             ...          ...  ...   ...               ...   \n",
       "9954         140018        10078   70  37.2                 1   \n",
       "10016        142515        10078   70  27.5                 1   \n",
       "10136        139959        10078   70  27.6                 0   \n",
       "10154        145613        10078   70  36.7                 0   \n",
       "10184        136954        10078   70  29.9                 0   \n",
       "\n",
       "              ethnicity gender  height hospital_admit_source  \\\n",
       "33            Caucasian      M   177.8  Emergency Department   \n",
       "45            Caucasian      M   180.3        Operating Room   \n",
       "68            Caucasian      M   180.3                 Floor   \n",
       "272           Caucasian      F   152.4  Emergency Department   \n",
       "302           Caucasian      F   165.1  Emergency Department   \n",
       "...                 ...    ...     ...                   ...   \n",
       "9954   African American      F   165.1        Operating Room   \n",
       "10016         Caucasian      M   177.8        Operating Room   \n",
       "10136         Caucasian      F   162.6  Emergency Department   \n",
       "10154  African American      M   175.3  Emergency Department   \n",
       "10184         Caucasian      F   162.6          Direct Admit   \n",
       "\n",
       "                icu_admit_source  ...  h1_arterial_po2_min  \\\n",
       "33          Accident & Emergency  ...                  NaN   \n",
       "45     Operating Room / Recovery  ...                  NaN   \n",
       "68                         Floor  ...                  NaN   \n",
       "272         Accident & Emergency  ...                  NaN   \n",
       "302         Accident & Emergency  ...                  NaN   \n",
       "...                          ...  ...                  ...   \n",
       "9954   Operating Room / Recovery  ...                  NaN   \n",
       "10016  Operating Room / Recovery  ...                348.0   \n",
       "10136       Accident & Emergency  ...                  NaN   \n",
       "10154       Accident & Emergency  ...                  NaN   \n",
       "10184       Accident & Emergency  ...                  NaN   \n",
       "\n",
       "      h1_pao2fio2ratio_max h1_pao2fio2ratio_min  aids  cirrhosis  \\\n",
       "33                     NaN                  NaN     0          0   \n",
       "45                     NaN                  NaN     0          0   \n",
       "68                     NaN                  NaN     0          0   \n",
       "272                    NaN                  NaN     0          0   \n",
       "302                    NaN                  NaN     0          0   \n",
       "...                    ...                  ...   ...        ...   \n",
       "9954                   NaN                  NaN     0          0   \n",
       "10016                348.0                348.0     0          0   \n",
       "10136                  NaN                  NaN     0          0   \n",
       "10154                  NaN                  NaN     0          0   \n",
       "10184                  NaN                  NaN     0          0   \n",
       "\n",
       "       hepatic_failure  immunosuppression  leukemia  lymphoma  target  \n",
       "33                   0                  0         0         0       0  \n",
       "45                   0                  0         0         0       0  \n",
       "68                   0                  0         0         0       0  \n",
       "272                  0                  0         0         0       0  \n",
       "302                  0                  0         0         0       0  \n",
       "...                ...                ...       ...       ...     ...  \n",
       "9954                 0                  0         0         0       0  \n",
       "10016                0                  0         0         0       0  \n",
       "10136                0                  0         0         0       0  \n",
       "10154                0                  0         0         0       0  \n",
       "10184                0                  0         0         0       0  \n",
       "\n",
       "[247 rows x 179 columns]"
      ]
     },
     "execution_count": 17,
     "metadata": {},
     "output_type": "execute_result"
    }
   ],
   "source": [
    "data.loc[data['age']==70].loc[data['target']==0]"
   ]
  },
  {
   "cell_type": "code",
   "execution_count": 18,
   "id": "28f7f2a4",
   "metadata": {},
   "outputs": [
    {
     "name": "stdout",
     "output_type": "stream",
     "text": [
      "sum:  181\n",
      "     count      mean  median  sum\n",
      "age                              \n",
      "70     248  0.004032     0.0    1\n",
      "74     246  0.024390     0.0    6\n",
      "66     240  0.020833     0.0    5\n",
      "65     237  0.025316     0.0    6\n",
      "73     236  0.021186     0.0    5\n",
      "71     231  0.021645     0.0    5\n",
      "69     229  0.013100     0.0    3\n",
      "68     228  0.013158     0.0    3\n",
      "63     219  0.022831     0.0    5\n",
      "67     218  0.013761     0.0    3\n",
      "75     216  0.037037     0.0    8\n",
      "81     214  0.014019     0.0    3\n",
      "59     210  0.028571     0.0    6\n",
      "58     206  0.019417     0.0    4\n",
      "72     206  0.038835     0.0    8\n",
      "76     205  0.019512     0.0    4\n",
      "57     197  0.015228     0.0    3\n",
      "77     196  0.020408     0.0    4\n",
      "55     195  0.035897     0.0    7\n",
      "82     190  0.015789     0.0    3\n",
      "62     190  0.000000     0.0    0\n",
      "56     189  0.026455     0.0    5\n",
      "64     188  0.026596     0.0    5\n",
      "54     186  0.037634     0.0    7\n",
      "79     184  0.010870     0.0    2\n"
     ]
    },
    {
     "data": {
      "text/plain": [
       "<AxesSubplot:xlabel='age', ylabel='count'>"
      ]
     },
     "execution_count": 18,
     "metadata": {},
     "output_type": "execute_result"
    },
    {
     "data": {
      "image/png": "[encoded data removed]",
      "text/plain": [
       "<Figure size 432x288 with 1 Axes>"
      ]
     },
     "metadata": {
      "needs_background": "light"
     },
     "output_type": "display_data"
    }
   ],
   "source": [
    "data_age_1 = data.groupby([\"age\"])[\"target\"].agg([\"count\", \"mean\", \"median\", \"sum\"])\n",
    "data_age_1.head()\n",
    "print(\"sum: \",data_age_1[\"sum\"].sum())\n",
    "# data_age['mean'] = data_age['mean'] * 100\n",
    "print(data_age_1.sort_values(\"count\",ascending=False).head(25))\n",
    "data_age_1.sort_values(\"age\",ascending=False).plot(ylabel=\"count\")"
   ]
  },
  {
   "cell_type": "code",
   "execution_count": 19,
   "id": "cc41bce4",
   "metadata": {},
   "outputs": [
    {
     "data": {
      "text/plain": [
       "1    10053\n",
       "0      181\n",
       "Name: target, dtype: int64"
      ]
     },
     "execution_count": 19,
     "metadata": {},
     "output_type": "execute_result"
    }
   ],
   "source": [
    "data[\"target\"] = data[\"target\"].replace({1:0, 0:1})\n",
    "data[\"target\"].value_counts()"
   ]
  },
  {
   "cell_type": "code",
   "execution_count": 20,
   "id": "4ec16132",
   "metadata": {},
   "outputs": [
    {
     "name": "stdout",
     "output_type": "stream",
     "text": [
      "sum:  10053\n",
      "     count      mean  median  sum\n",
      "age                              \n",
      "70     248  0.995968     1.0  247\n",
      "74     246  0.975610     1.0  240\n",
      "66     240  0.979167     1.0  235\n",
      "65     237  0.974684     1.0  231\n",
      "73     236  0.978814     1.0  231\n",
      "71     231  0.978355     1.0  226\n",
      "69     229  0.986900     1.0  226\n",
      "68     228  0.986842     1.0  225\n",
      "63     219  0.977169     1.0  214\n",
      "67     218  0.986239     1.0  215\n",
      "75     216  0.962963     1.0  208\n",
      "81     214  0.985981     1.0  211\n",
      "59     210  0.971429     1.0  204\n",
      "58     206  0.980583     1.0  202\n",
      "72     206  0.961165     1.0  198\n",
      "76     205  0.980488     1.0  201\n",
      "57     197  0.984772     1.0  194\n",
      "77     196  0.979592     1.0  192\n",
      "55     195  0.964103     1.0  188\n",
      "82     190  0.984211     1.0  187\n",
      "62     190  1.000000     1.0  190\n",
      "56     189  0.973545     1.0  184\n",
      "64     188  0.973404     1.0  183\n",
      "54     186  0.962366     1.0  179\n",
      "79     184  0.989130     1.0  182\n"
     ]
    },
    {
     "data": {
      "text/plain": [
       "<AxesSubplot:xlabel='age', ylabel='count'>"
      ]
     },
     "execution_count": 20,
     "metadata": {},
     "output_type": "execute_result"
    },
    {
     "data": {
      "image/png": "[encoded data removed]",
      "text/plain": [
       "<Figure size 432x288 with 1 Axes>"
      ]
     },
     "metadata": {
      "needs_background": "light"
     },
     "output_type": "display_data"
    }
   ],
   "source": [
    "data_age_0 = data.groupby([\"age\"])[\"target\"].agg([\"count\", \"mean\", \"median\", \"sum\"])\n",
    "data_age_0.head()\n",
    "print(\"sum: \",data_age_0[\"sum\"].sum())\n",
    "# data_age['mean'] = data_age['mean'] * 100\n",
    "print(data_age_0.sort_values(\"count\",ascending=False).head(25))\n",
    "data_age_0.sort_values(\"age\",ascending=False).plot(ylabel = \"count\")"
   ]
  },
  {
   "cell_type": "code",
   "execution_count": 21,
   "id": "c9ee09e2",
   "metadata": {},
   "outputs": [
    {
     "data": {
      "text/plain": [
       "0    10053\n",
       "1      181\n",
       "Name: target, dtype: int64"
      ]
     },
     "execution_count": 21,
     "metadata": {},
     "output_type": "execute_result"
    }
   ],
   "source": [
    "data[\"target\"] = data[\"target\"].replace({0:1, 1:0})\n",
    "data[\"target\"].value_counts()"
   ]
  },
  {
   "cell_type": "markdown",
   "id": "a203e3aa",
   "metadata": {},
   "source": [
    "* в датасете приобладают люди пенсионнго возраста, видисмо молодые не обращаются в мед учреждения с данной проблеммой так если брать статистику данного датасета, то 70 летних, таких 248 человек, здоровых среди них менее одного процента от данной совокупности, 247 являюстся заболевшими"
   ]
  },
  {
   "cell_type": "markdown",
   "id": "bb44499c",
   "metadata": {},
   "source": [
    "# bmi\n",
    "## Индекс массы тела"
   ]
  },
  {
   "cell_type": "code",
   "execution_count": 22,
   "id": "b8104cfa",
   "metadata": {},
   "outputs": [
    {
     "name": "stdout",
     "output_type": "stream",
     "text": [
      "sum:  181\n",
      "      count      mean  median  sum\n",
      "bmi                               \n",
      "NaN    1015  0.019704     0.0   20\n",
      "26.6     96  0.020833     0.0    2\n",
      "25.8     84  0.011905     0.0    1\n",
      "25.1     79  0.012658     0.0    1\n",
      "27.5     79  0.050633     0.0    4\n",
      "23.7     79  0.012658     0.0    1\n",
      "27.4     78  0.038462     0.0    3\n",
      "24.4     76  0.013158     0.0    1\n",
      "27.1     73  0.027397     0.0    2\n",
      "23.0     73  0.000000     0.0    0\n",
      "28.3     72  0.013889     0.0    1\n",
      "24.2     72  0.013889     0.0    1\n",
      "24.6     67  0.014925     0.0    1\n",
      "24.8     66  0.030303     0.0    2\n",
      "26.0     65  0.046154     0.0    3\n",
      "28.1     64  0.015625     0.0    1\n",
      "29.3     63  0.015873     0.0    1\n",
      "28.0     63  0.031746     0.0    2\n",
      "27.3     63  0.015873     0.0    1\n",
      "25.7     62  0.000000     0.0    0\n",
      "24.5     62  0.048387     0.0    3\n",
      "23.6     62  0.016129     0.0    1\n",
      "25.2     62  0.000000     0.0    0\n",
      "25.9     61  0.016393     0.0    1\n",
      "25.4     60  0.000000     0.0    0\n"
     ]
    },
    {
     "data": {
      "text/plain": [
       "<AxesSubplot:xlabel='bmi', ylabel='count'>"
      ]
     },
     "execution_count": 22,
     "metadata": {},
     "output_type": "execute_result"
    },
    {
     "data": {
      "image/png": "[encoded data removed]",
      "text/plain": [
       "<Figure size 432x288 with 1 Axes>"
      ]
     },
     "metadata": {
      "needs_background": "light"
     },
     "output_type": "display_data"
    }
   ],
   "source": [
    "# здоровые\n",
    "data_bmi_0 = data.groupby([\"bmi\"], dropna=False)[\"target\"].agg([\"count\", \"mean\", \"median\", \"sum\"])\n",
    "data_bmi_0.head()\n",
    "print(\"sum: \",data_bmi_0[\"sum\"].sum())\n",
    "# data_age['mean'] = data_age['mean'] * 100\n",
    "print(data_bmi_0.sort_values(\"count\",ascending=False).head(25))\n",
    "data_bmi_0.sort_values(\"bmi\",ascending=False).plot(ylabel = \"count\")"
   ]
  },
  {
   "cell_type": "code",
   "execution_count": 23,
   "id": "759c76b1",
   "metadata": {},
   "outputs": [
    {
     "data": {
      "text/plain": [
       "1    10053\n",
       "0      181\n",
       "Name: target, dtype: int64"
      ]
     },
     "execution_count": 23,
     "metadata": {},
     "output_type": "execute_result"
    }
   ],
   "source": [
    "data[\"target\"] = data[\"target\"].replace({0:1, 1:0})\n",
    "data[\"target\"].value_counts()"
   ]
  },
  {
   "cell_type": "code",
   "execution_count": 24,
   "id": "62c634ed",
   "metadata": {},
   "outputs": [
    {
     "name": "stdout",
     "output_type": "stream",
     "text": [
      "sum:  10053\n",
      "      count      mean  median  sum\n",
      "bmi                               \n",
      "NaN    1015  0.980296     1.0  995\n",
      "26.6     96  0.979167     1.0   94\n",
      "25.8     84  0.988095     1.0   83\n",
      "25.1     79  0.987342     1.0   78\n",
      "27.5     79  0.949367     1.0   75\n",
      "23.7     79  0.987342     1.0   78\n",
      "27.4     78  0.961538     1.0   75\n",
      "24.4     76  0.986842     1.0   75\n",
      "27.1     73  0.972603     1.0   71\n",
      "23.0     73  1.000000     1.0   73\n",
      "28.3     72  0.986111     1.0   71\n",
      "24.2     72  0.986111     1.0   71\n",
      "24.6     67  0.985075     1.0   66\n",
      "24.8     66  0.969697     1.0   64\n",
      "26.0     65  0.953846     1.0   62\n",
      "28.1     64  0.984375     1.0   63\n",
      "29.3     63  0.984127     1.0   62\n",
      "28.0     63  0.968254     1.0   61\n",
      "27.3     63  0.984127     1.0   62\n",
      "25.7     62  1.000000     1.0   62\n",
      "24.5     62  0.951613     1.0   59\n",
      "23.6     62  0.983871     1.0   61\n",
      "25.2     62  1.000000     1.0   62\n",
      "25.9     61  0.983607     1.0   60\n",
      "25.4     60  1.000000     1.0   60\n"
     ]
    },
    {
     "data": {
      "text/plain": [
       "<AxesSubplot:xlabel='bmi', ylabel='count'>"
      ]
     },
     "execution_count": 24,
     "metadata": {},
     "output_type": "execute_result"
    },
    {
     "data": {
      "image/png": "[encoded data removed]",
      "text/plain": [
       "<Figure size 432x288 with 1 Axes>"
      ]
     },
     "metadata": {
      "needs_background": "light"
     },
     "output_type": "display_data"
    }
   ],
   "source": [
    "# заболевшие\n",
    "data_bmi_1 = data.groupby([\"bmi\"], dropna=False)[\"target\"].agg([\"count\", \"mean\", \"median\", \"sum\"])\n",
    "data_bmi_1.head()\n",
    "print(\"sum: \",data_bmi_1[\"sum\"].sum())\n",
    "# data_age['mean'] = data_age['mean'] * 100\n",
    "print(data_bmi_1.sort_values(\"count\",ascending=False).head(25))\n",
    "data_bmi_1.sort_values(\"bmi\",ascending=False).plot(ylabel = \"count\")"
   ]
  },
  {
   "cell_type": "code",
   "execution_count": 25,
   "id": "c0f6647d",
   "metadata": {},
   "outputs": [
    {
     "data": {
      "text/plain": [
       "0    10053\n",
       "1      181\n",
       "Name: target, dtype: int64"
      ]
     },
     "execution_count": 25,
     "metadata": {},
     "output_type": "execute_result"
    }
   ],
   "source": [
    "data[\"target\"] = data[\"target\"].replace({0:1, 1:0})\n",
    "data[\"target\"].value_counts()"
   ]
  },
  {
   "cell_type": "markdown",
   "id": "c051e128",
   "metadata": {},
   "source": [
    "# weight"
   ]
  },
  {
   "cell_type": "code",
   "execution_count": 26,
   "id": "c7df9369",
   "metadata": {},
   "outputs": [
    {
     "name": "stdout",
     "output_type": "stream",
     "text": [
      "sum:  181\n",
      "         count      mean  median  sum\n",
      "weight                               \n",
      "NaN        908  0.018722     0.0   17\n",
      "68.000     123  0.008130     0.0    1\n",
      "81.600     116  0.043103     0.0    5\n",
      "77.100     110  0.018182     0.0    2\n",
      "90.700      89  0.011236     0.0    1\n",
      "72.600      83  0.024096     0.0    2\n",
      "63.500      83  0.000000     0.0    0\n",
      "75.000      75  0.013333     0.0    1\n",
      "70.000      64  0.031250     0.0    2\n",
      "80.000      63  0.000000     0.0    0\n",
      "59.000      60  0.016667     0.0    1\n",
      "86.200      54  0.018519     0.0    1\n",
      "100.000     53  0.000000     0.0    0\n",
      "83.900      50  0.000000     0.0    0\n",
      "79.400      49  0.000000     0.0    0\n",
      "38.100      49  0.040816     0.0    2\n",
      "74.800      48  0.000000     0.0    0\n",
      "188.009     47  0.042553     0.0    2\n",
      "90.000      45  0.022222     0.0    1\n",
      "60.000      45  0.022222     0.0    1\n",
      "85.000      44  0.045455     0.0    2\n",
      "73.000      43  0.023256     0.0    1\n",
      "104.300     43  0.000000     0.0    0\n",
      "70.300      42  0.023810     0.0    1\n",
      "86.000      40  0.025000     0.0    1\n"
     ]
    },
    {
     "data": {
      "text/plain": [
       "<AxesSubplot:xlabel='weight', ylabel='count'>"
      ]
     },
     "execution_count": 26,
     "metadata": {},
     "output_type": "execute_result"
    },
    {
     "data": {
      "image/png": "[encoded data removed]",
      "text/plain": [
       "<Figure size 432x288 with 1 Axes>"
      ]
     },
     "metadata": {
      "needs_background": "light"
     },
     "output_type": "display_data"
    }
   ],
   "source": [
    "# здоровые\n",
    "data_weight_1 = data.groupby([\"weight\"], dropna=False)[\"target\"].agg([\"count\", \"mean\", \"median\", \"sum\"])\n",
    "\n",
    "print(\"sum: \",data_weight_1[\"sum\"].sum())\n",
    "# data_age['mean'] = data_age['mean'] * 100\n",
    "print(data_weight_1.sort_values(\"count\",ascending=False).head(25))\n",
    "data_weight_1.sort_values(\"weight\",ascending=False).plot(ylabel = \"count\")"
   ]
  },
  {
   "cell_type": "code",
   "execution_count": 27,
   "id": "ba438162",
   "metadata": {},
   "outputs": [
    {
     "data": {
      "text/plain": [
       "1    10053\n",
       "0      181\n",
       "Name: target, dtype: int64"
      ]
     },
     "execution_count": 27,
     "metadata": {},
     "output_type": "execute_result"
    }
   ],
   "source": [
    "data[\"target\"] = data[\"target\"].replace({0:1, 1:0})\n",
    "data[\"target\"].value_counts()"
   ]
  },
  {
   "cell_type": "code",
   "execution_count": 28,
   "id": "1df53d39",
   "metadata": {},
   "outputs": [
    {
     "name": "stdout",
     "output_type": "stream",
     "text": [
      "sum:  10053\n",
      "         count      mean  median  sum\n",
      "weight                               \n",
      "NaN        908  0.981278     1.0  891\n",
      "68.000     123  0.991870     1.0  122\n",
      "81.600     116  0.956897     1.0  111\n",
      "77.100     110  0.981818     1.0  108\n",
      "90.700      89  0.988764     1.0   88\n",
      "72.600      83  0.975904     1.0   81\n",
      "63.500      83  1.000000     1.0   83\n",
      "75.000      75  0.986667     1.0   74\n",
      "70.000      64  0.968750     1.0   62\n",
      "80.000      63  1.000000     1.0   63\n",
      "59.000      60  0.983333     1.0   59\n",
      "86.200      54  0.981481     1.0   53\n",
      "100.000     53  1.000000     1.0   53\n",
      "83.900      50  1.000000     1.0   50\n",
      "79.400      49  1.000000     1.0   49\n",
      "38.100      49  0.959184     1.0   47\n",
      "74.800      48  1.000000     1.0   48\n",
      "188.009     47  0.957447     1.0   45\n",
      "90.000      45  0.977778     1.0   44\n",
      "60.000      45  0.977778     1.0   44\n",
      "85.000      44  0.954545     1.0   42\n",
      "73.000      43  0.976744     1.0   42\n",
      "104.300     43  1.000000     1.0   43\n",
      "70.300      42  0.976190     1.0   41\n",
      "86.000      40  0.975000     1.0   39\n"
     ]
    },
    {
     "data": {
      "text/plain": [
       "<AxesSubplot:xlabel='weight', ylabel='count'>"
      ]
     },
     "execution_count": 28,
     "metadata": {},
     "output_type": "execute_result"
    },
    {
     "data": {
      "image/png": "[encoded data removed]",
      "text/plain": [
       "<Figure size 432x288 with 1 Axes>"
      ]
     },
     "metadata": {
      "needs_background": "light"
     },
     "output_type": "display_data"
    }
   ],
   "source": [
    "# заболевшие\n",
    "data_weight_0 = data.groupby([\"weight\"], dropna=False)[\"target\"].agg([\"count\", \"mean\", \"median\", \"sum\"])\n",
    "\n",
    "print(\"sum: \",data_weight_0[\"sum\"].sum())\n",
    "# data_age['mean'] = data_age['mean'] * 100\n",
    "print(data_weight_0.sort_values(\"count\",ascending=False).head(25))\n",
    "data_weight_0.sort_values(\"weight\",ascending=False).plot(ylabel = \"count\")"
   ]
  },
  {
   "cell_type": "code",
   "execution_count": 29,
   "id": "8590ed93",
   "metadata": {},
   "outputs": [
    {
     "data": {
      "text/plain": [
       "0    10053\n",
       "1      181\n",
       "Name: target, dtype: int64"
      ]
     },
     "execution_count": 29,
     "metadata": {},
     "output_type": "execute_result"
    }
   ],
   "source": [
    "data[\"target\"] = data[\"target\"].replace({0:1, 1:0})\n",
    "data[\"target\"].value_counts()"
   ]
  },
  {
   "cell_type": "code",
   "execution_count": null,
   "id": "48934c7a",
   "metadata": {},
   "outputs": [],
   "source": []
  },
  {
   "cell_type": "markdown",
   "id": "d56e9c75",
   "metadata": {},
   "source": [
    "# weight bmi"
   ]
  },
  {
   "cell_type": "code",
   "execution_count": 30,
   "id": "e4c11b45",
   "metadata": {},
   "outputs": [
    {
     "name": "stdout",
     "output_type": "stream",
     "text": [
      "sum:  181\n",
      "                count      mean  median  sum\n",
      "weight  bmi                                 \n",
      "NaN     NaN       908  0.018722     0.0   17\n",
      "38.100  14.900     31  0.000000     0.0    0\n",
      "188.009 69.944     18  0.055556     0.0    1\n",
      "68.000  23.500     15  0.000000     0.0    0\n",
      "77.100  24.400     14  0.000000     0.0    0\n",
      "81.600  27.400     14  0.142857     0.0    2\n",
      "        24.400     13  0.076923     0.0    1\n",
      "        25.800     13  0.076923     0.0    1\n",
      "90.700  27.100     12  0.000000     0.0    0\n",
      "63.500  22.600     11  0.000000     0.0    0\n",
      "90.700  27.900     11  0.000000     0.0    0\n",
      "68.000  22.800     11  0.000000     0.0    0\n",
      "81.600  29.900     11  0.000000     0.0    0\n",
      "68.000  26.600     10  0.000000     0.0    0\n",
      "81.600  28.200     10  0.000000     0.0    0\n",
      "63.500  24.800     10  0.000000     0.0    0\n",
      "70.000  24.200      9  0.000000     0.0    0\n",
      "77.100  26.600      9  0.000000     0.0    0\n",
      "        23.700      9  0.000000     0.0    0\n",
      "        28.300      9  0.000000     0.0    0\n",
      "68.000  24.200      9  0.000000     0.0    0\n",
      "        25.700      9  0.000000     0.0    0\n",
      "72.600  23.600      9  0.000000     0.0    0\n",
      "77.100  25.100      8  0.000000     0.0    0\n",
      "81.600  26.600      8  0.000000     0.0    0\n"
     ]
    },
    {
     "data": {
      "text/plain": [
       "<AxesSubplot:xlabel='weight,bmi', ylabel='count'>"
      ]
     },
     "execution_count": 30,
     "metadata": {},
     "output_type": "execute_result"
    },
    {
     "data": {
      "image/png": "[encoded data removed]",
      "text/plain": [
       "<Figure size 720x504 with 1 Axes>"
      ]
     },
     "metadata": {
      "needs_background": "light"
     },
     "output_type": "display_data"
    }
   ],
   "source": [
    "# здоровые\n",
    "data_weight_bmi_0 = data.groupby([\"weight\", \"bmi\"], dropna=False)[\"target\"].agg([\"count\", \"mean\", \"median\", \"sum\"])\n",
    "\n",
    "print(\"sum: \",data_weight_bmi_0[\"sum\"].sum())\n",
    "# data_age['mean'] = data_age['mean'] * 100\n",
    "print(data_weight_bmi_0.sort_values(\"count\",ascending=False).head(25))\n",
    "data_weight_bmi_0.sort_values([\"weight\", \"bmi\"],ascending=False).plot(figsize=(10, 7),ylabel = \"count\")"
   ]
  },
  {
   "cell_type": "code",
   "execution_count": 31,
   "id": "3fc0db51",
   "metadata": {},
   "outputs": [
    {
     "data": {
      "text/plain": [
       "1    10053\n",
       "0      181\n",
       "Name: target, dtype: int64"
      ]
     },
     "execution_count": 31,
     "metadata": {},
     "output_type": "execute_result"
    }
   ],
   "source": [
    "data[\"target\"] = data[\"target\"].replace({0:1, 1:0})\n",
    "data[\"target\"].value_counts()"
   ]
  },
  {
   "cell_type": "code",
   "execution_count": 32,
   "id": "3d81acef",
   "metadata": {},
   "outputs": [
    {
     "name": "stdout",
     "output_type": "stream",
     "text": [
      "sum:  10053\n",
      "                count      mean  median  sum\n",
      "weight  bmi                                 \n",
      "NaN     NaN       908  0.981278     1.0  891\n",
      "38.100  14.900     31  1.000000     1.0   31\n",
      "188.009 69.944     18  0.944444     1.0   17\n",
      "68.000  23.500     15  1.000000     1.0   15\n",
      "77.100  24.400     14  1.000000     1.0   14\n",
      "81.600  27.400     14  0.857143     1.0   12\n",
      "        24.400     13  0.923077     1.0   12\n",
      "        25.800     13  0.923077     1.0   12\n",
      "90.700  27.100     12  1.000000     1.0   12\n",
      "63.500  22.600     11  1.000000     1.0   11\n",
      "90.700  27.900     11  1.000000     1.0   11\n",
      "68.000  22.800     11  1.000000     1.0   11\n",
      "81.600  29.900     11  1.000000     1.0   11\n",
      "68.000  26.600     10  1.000000     1.0   10\n",
      "81.600  28.200     10  1.000000     1.0   10\n",
      "63.500  24.800     10  1.000000     1.0   10\n",
      "70.000  24.200      9  1.000000     1.0    9\n",
      "77.100  26.600      9  1.000000     1.0    9\n",
      "        23.700      9  1.000000     1.0    9\n",
      "        28.300      9  1.000000     1.0    9\n",
      "68.000  24.200      9  1.000000     1.0    9\n",
      "        25.700      9  1.000000     1.0    9\n",
      "72.600  23.600      9  1.000000     1.0    9\n",
      "77.100  25.100      8  1.000000     1.0    8\n",
      "81.600  26.600      8  1.000000     1.0    8\n"
     ]
    },
    {
     "data": {
      "text/plain": [
       "<AxesSubplot:xlabel='weight,bmi', ylabel='count'>"
      ]
     },
     "execution_count": 32,
     "metadata": {},
     "output_type": "execute_result"
    },
    {
     "data": {
      "image/png": "[encoded data removed]",
      "text/plain": [
       "<Figure size 720x504 with 1 Axes>"
      ]
     },
     "metadata": {
      "needs_background": "light"
     },
     "output_type": "display_data"
    }
   ],
   "source": [
    "# заболевшие\n",
    "data_weight_bmi_1 = data.groupby([\"weight\", \"bmi\"], dropna=False)[\"target\"].agg([\"count\", \"mean\", \"median\", \"sum\"])\n",
    "\n",
    "print(\"sum: \",data_weight_bmi_1[\"sum\"].sum())\n",
    "# data_age['mean'] = data_age['mean'] * 100\n",
    "print(data_weight_bmi_1.sort_values(\"count\",ascending=False).head(25))\n",
    "data_weight_bmi_1.sort_values([\"weight\", \"bmi\"],ascending=False).plot(figsize=(10, 7),ylabel = \"count\")"
   ]
  },
  {
   "cell_type": "code",
   "execution_count": 33,
   "id": "cfa3bc57",
   "metadata": {},
   "outputs": [
    {
     "data": {
      "text/plain": [
       "0    10053\n",
       "1      181\n",
       "Name: target, dtype: int64"
      ]
     },
     "execution_count": 33,
     "metadata": {},
     "output_type": "execute_result"
    }
   ],
   "source": [
    "data[\"target\"] = data[\"target\"].replace({0:1, 1:0})\n",
    "data[\"target\"].value_counts()"
   ]
  },
  {
   "cell_type": "markdown",
   "id": "794f4c2c",
   "metadata": {},
   "source": [
    "# aids\n",
    "## инфекция"
   ]
  },
  {
   "cell_type": "code",
   "execution_count": 34,
   "id": "9cba10f6",
   "metadata": {},
   "outputs": [
    {
     "data": {
      "text/plain": [
       "(10234, 179)"
      ]
     },
     "execution_count": 34,
     "metadata": {},
     "output_type": "execute_result"
    }
   ],
   "source": [
    "data.shape"
   ]
  },
  {
   "cell_type": "code",
   "execution_count": 35,
   "id": "3b260f06",
   "metadata": {},
   "outputs": [
    {
     "name": "stdout",
     "output_type": "stream",
     "text": [
      "sum:  181\n",
      "      count      mean  median  sum\n",
      "aids                              \n",
      "0     10224  0.017606     0.0  180\n",
      "1        10  0.100000     0.0    1\n"
     ]
    },
    {
     "data": {
      "text/plain": [
       "<AxesSubplot:xlabel='aids', ylabel='count'>"
      ]
     },
     "execution_count": 35,
     "metadata": {},
     "output_type": "execute_result"
    },
    {
     "data": {
      "image/png": "[encoded data removed]",
      "text/plain": [
       "<Figure size 432x288 with 1 Axes>"
      ]
     },
     "metadata": {
      "needs_background": "light"
     },
     "output_type": "display_data"
    }
   ],
   "source": [
    "# здоровые\n",
    "data_aids_0 = data.groupby([\"aids\"], dropna=False)[\"target\"].agg([\"count\", \"mean\", \"median\", \"sum\"])\n",
    "\n",
    "print(\"sum: \",data_aids_0[\"sum\"].sum())\n",
    "# data_age['mean'] = data_age['mean'] * 100\n",
    "print(data_aids_0.sort_values(\"count\",ascending=False).head(25))\n",
    "data_aids_0.sort_values(\"aids\",ascending=False).plot(ylabel = \"count\")"
   ]
  },
  {
   "cell_type": "code",
   "execution_count": 36,
   "id": "1d35e310",
   "metadata": {},
   "outputs": [
    {
     "data": {
      "text/plain": [
       "1    10053\n",
       "0      181\n",
       "Name: target, dtype: int64"
      ]
     },
     "execution_count": 36,
     "metadata": {},
     "output_type": "execute_result"
    }
   ],
   "source": [
    "data[\"target\"] = data[\"target\"].replace({0:1, 1:0})\n",
    "data[\"target\"].value_counts()"
   ]
  },
  {
   "cell_type": "code",
   "execution_count": 37,
   "id": "7f1aa860",
   "metadata": {},
   "outputs": [
    {
     "name": "stdout",
     "output_type": "stream",
     "text": [
      "sum:  10053\n",
      "             count  mean  median    sum\n",
      "aids target                            \n",
      "0    1       10044   1.0     1.0  10044\n",
      "     0         180   0.0     0.0      0\n",
      "1    1           9   1.0     1.0      9\n",
      "     0           1   0.0     0.0      0\n"
     ]
    },
    {
     "data": {
      "text/plain": [
       "<AxesSubplot:xlabel='aids,target', ylabel='count'>"
      ]
     },
     "execution_count": 37,
     "metadata": {},
     "output_type": "execute_result"
    },
    {
     "data": {
      "image/png": "[encoded data removed]",
      "text/plain": [
       "<Figure size 432x288 with 1 Axes>"
      ]
     },
     "metadata": {
      "needs_background": "light"
     },
     "output_type": "display_data"
    }
   ],
   "source": [
    "# заболевшие\n",
    "data_aids_1 = data.groupby([\"aids\",\"target\"], dropna=False)[\"target\"].agg([\"count\", \"mean\", \"median\", \"sum\"])\n",
    "\n",
    "print(\"sum: \",data_aids_1[\"sum\"].sum())\n",
    "# data_age['mean'] = data_age['mean'] * 100\n",
    "print(data_aids_1.sort_values(\"count\",ascending=False).head(25))\n",
    "data_aids_1.sort_values(\"aids\",ascending=False).plot(ylabel = \"count\")"
   ]
  },
  {
   "cell_type": "code",
   "execution_count": 38,
   "id": "83e8c80b",
   "metadata": {},
   "outputs": [
    {
     "data": {
      "text/plain": [
       "0    10053\n",
       "1      181\n",
       "Name: target, dtype: int64"
      ]
     },
     "execution_count": 38,
     "metadata": {},
     "output_type": "execute_result"
    }
   ],
   "source": [
    "data[\"target\"] = data[\"target\"].replace({0:1, 1:0})\n",
    "data[\"target\"].value_counts()"
   ]
  },
  {
   "cell_type": "code",
   "execution_count": 39,
   "id": "05ffad25",
   "metadata": {},
   "outputs": [
    {
     "name": "stdout",
     "output_type": "stream",
     "text": [
      "отсутствие вируса:  1.7921146953405016\n",
      "наличие вируса:  11.11111111111111\n"
     ]
    }
   ],
   "source": [
    "print(\"отсутствие вируса: \",180/10044 * 100)\n",
    "print(\"наличие вируса: \",1/9 * 100)"
   ]
  },
  {
   "cell_type": "markdown",
   "id": "e5f729aa",
   "metadata": {},
   "source": [
    "* по таблице видно, что отсутствие вируса и положительный таргет, 10044 наблюдения и 180 отрицательная опухоль\n",
    "* наличие вируса, 9 положительный таргет и 1 отрицательный\n"
   ]
  },
  {
   "cell_type": "markdown",
   "id": "5ba3d0db",
   "metadata": {},
   "source": [
    "# cirrhosis\n",
    "## цироз печени"
   ]
  },
  {
   "cell_type": "code",
   "execution_count": 40,
   "id": "6c60ed1a",
   "metadata": {},
   "outputs": [
    {
     "name": "stdout",
     "output_type": "stream",
     "text": [
      "sum:  181\n",
      "                  count  mean  median  sum\n",
      "cirrhosis target                          \n",
      "0         0        9933   0.0     0.0    0\n",
      "          1         178   1.0     1.0  178\n",
      "1         0         120   0.0     0.0    0\n",
      "          1           3   1.0     1.0    3\n"
     ]
    },
    {
     "data": {
      "text/plain": [
       "<AxesSubplot:xlabel='cirrhosis,target', ylabel='count'>"
      ]
     },
     "execution_count": 40,
     "metadata": {},
     "output_type": "execute_result"
    },
    {
     "data": {
      "image/png": "[encoded data removed]",
      "text/plain": [
       "<Figure size 432x288 with 1 Axes>"
      ]
     },
     "metadata": {
      "needs_background": "light"
     },
     "output_type": "display_data"
    }
   ],
   "source": [
    "# здоровые\n",
    "data_cirrhosis_1 = data.groupby([\"cirrhosis\",\"target\"], dropna=False)[\"target\"].agg([\"count\", \"mean\", \"median\", \"sum\"])\n",
    "\n",
    "print(\"sum: \",data_cirrhosis_1[\"sum\"].sum())\n",
    "# data_age['mean'] = data_age['mean'] * 100\n",
    "print(data_cirrhosis_1.sort_values(\"count\",ascending=False).head(25))\n",
    "data_cirrhosis_1.sort_values(\"cirrhosis\",ascending=False).plot(ylabel = \"count\")"
   ]
  },
  {
   "cell_type": "code",
   "execution_count": 41,
   "id": "a51d7918",
   "metadata": {},
   "outputs": [
    {
     "data": {
      "text/plain": [
       "1    10053\n",
       "0      181\n",
       "Name: target, dtype: int64"
      ]
     },
     "execution_count": 41,
     "metadata": {},
     "output_type": "execute_result"
    }
   ],
   "source": [
    "data[\"target\"] = data[\"target\"].replace({0:1, 1:0})\n",
    "data[\"target\"].value_counts()"
   ]
  },
  {
   "cell_type": "code",
   "execution_count": 42,
   "id": "7b7fc14c",
   "metadata": {},
   "outputs": [
    {
     "name": "stdout",
     "output_type": "stream",
     "text": [
      "sum:  10053\n",
      "                  count  mean  median   sum\n",
      "cirrhosis target                           \n",
      "0         1        9933   1.0     1.0  9933\n",
      "          0         178   0.0     0.0     0\n",
      "1         1         120   1.0     1.0   120\n",
      "          0           3   0.0     0.0     0\n"
     ]
    }
   ],
   "source": [
    "# заболевшие\n",
    "data_cirrhosis_0 = data.groupby([\"cirrhosis\",\"target\"])[\"target\"].agg([\"count\", \"mean\", \"median\", \"sum\"])\n",
    "\n",
    "print(\"sum: \",data_cirrhosis_0[\"sum\"].sum())\n",
    "# data_age['mean'] = data_age['mean'] * 100\n",
    "print(data_cirrhosis_0.sort_values(\"count\",ascending=False).head(25))\n",
    "# data_cirrhosis_0.sort_values(\"cirrhosis\",ascending=False).plot(ylabel = \"count\")"
   ]
  },
  {
   "cell_type": "code",
   "execution_count": 43,
   "id": "981ce961",
   "metadata": {},
   "outputs": [
    {
     "data": {
      "text/plain": [
       "0    10053\n",
       "1      181\n",
       "Name: target, dtype: int64"
      ]
     },
     "execution_count": 43,
     "metadata": {},
     "output_type": "execute_result"
    }
   ],
   "source": [
    "data[\"target\"] = data[\"target\"].replace({0:1, 1:0})\n",
    "data[\"target\"].value_counts()"
   ]
  },
  {
   "cell_type": "code",
   "execution_count": 44,
   "id": "8c37352f",
   "metadata": {},
   "outputs": [
    {
     "name": "stdout",
     "output_type": "stream",
     "text": [
      "статистика относительно кол-ва наблюдений\n",
      "отсутствие цироза печени:  1.7920064431692337 % здоровых\n",
      "наличие цироза печени:  2.5 % здоровых\n"
     ]
    }
   ],
   "source": [
    "print(\"статистика относительно кол-ва наблюдений\")\n",
    "print(\"отсутствие цироза печени: \",178/9933 * 100, \"% здоровых\")\n",
    "print(\"наличие цироза печени: \",3/120 * 100, \"% здоровых\")\n"
   ]
  },
  {
   "cell_type": "markdown",
   "id": "90ae2d05",
   "metadata": {},
   "source": [
    "* отсутствие цироза печени, отсутствие опухоли 178 человек\n",
    "* наличие цироза печени, отсутствие опухоли 3 человека\n",
    "* отсутствие цироза печени, наличие опухоли 9933 человека\n",
    "* наличие цироза печени, наличие опухоли 120 человека\n",
    "* Вывод: кол-во здоровых больше если присутствует цироз печени"
   ]
  },
  {
   "cell_type": "markdown",
   "id": "ad5e7be1",
   "metadata": {},
   "source": [
    "# hepatic_failure\n",
    "* Печеночная недостаточность — комплекс симптомов, характеризующийся нарушением одной или нескольких функций печени, появляющийся вследствие повреждения ее паренхимы"
   ]
  },
  {
   "cell_type": "code",
   "execution_count": 45,
   "id": "b6549fc3",
   "metadata": {},
   "outputs": [
    {
     "name": "stdout",
     "output_type": "stream",
     "text": [
      "sum:  181\n",
      "                        count  mean  median  sum\n",
      "hepatic_failure target                          \n",
      "0               0        9951   0.0     0.0    0\n",
      "                1         180   1.0     1.0  180\n",
      "1               0         102   0.0     0.0    0\n",
      "                1           1   1.0     1.0    1\n"
     ]
    }
   ],
   "source": [
    "# здоровые\n",
    "data_hepatic_failure_0 = data.groupby([\"hepatic_failure\",\"target\"])[\"target\"].agg([\"count\", \"mean\", \"median\", \"sum\"])\n",
    "\n",
    "print(\"sum: \",data_hepatic_failure_0[\"sum\"].sum())\n",
    "# data_age['mean'] = data_age['mean'] * 100\n",
    "print(data_hepatic_failure_0.sort_values(\"count\",ascending=False).head(25))\n",
    "# data_hepatic_failure_0.sort_values(\"hepatic_failure\",ascending=False).plot(ylabel = \"count\")"
   ]
  },
  {
   "cell_type": "code",
   "execution_count": 46,
   "id": "6f7c3857",
   "metadata": {},
   "outputs": [
    {
     "data": {
      "text/plain": [
       "1    10053\n",
       "0      181\n",
       "Name: target, dtype: int64"
      ]
     },
     "execution_count": 46,
     "metadata": {},
     "output_type": "execute_result"
    }
   ],
   "source": [
    "data[\"target\"] = data[\"target\"].replace({0:1, 1:0})\n",
    "data[\"target\"].value_counts()"
   ]
  },
  {
   "cell_type": "code",
   "execution_count": 47,
   "id": "f4bf1470",
   "metadata": {},
   "outputs": [
    {
     "name": "stdout",
     "output_type": "stream",
     "text": [
      "sum:  10053\n",
      "                        count  mean  median   sum\n",
      "hepatic_failure target                           \n",
      "0               1        9951   1.0     1.0  9951\n",
      "                0         180   0.0     0.0     0\n",
      "1               1         102   1.0     1.0   102\n",
      "                0           1   0.0     0.0     0\n"
     ]
    }
   ],
   "source": [
    "# заболевшие\n",
    "data_hepatic_failure_1 = data.groupby([\"hepatic_failure\",\"target\"])[\"target\"].agg([\"count\", \"mean\", \"median\", \"sum\"])\n",
    "\n",
    "print(\"sum: \",data_hepatic_failure_1[\"sum\"].sum())\n",
    "# data_age['mean'] = data_age['mean'] * 100\n",
    "print(data_hepatic_failure_1.sort_values(\"count\",ascending=False).head(25))\n",
    "# data_hepatic_failure_1.sort_values(\"hepatic_failure\",ascending=False).plot(ylabel = \"count\")"
   ]
  },
  {
   "cell_type": "code",
   "execution_count": 48,
   "id": "33b6a706",
   "metadata": {},
   "outputs": [
    {
     "data": {
      "text/plain": [
       "0    10053\n",
       "1      181\n",
       "Name: target, dtype: int64"
      ]
     },
     "execution_count": 48,
     "metadata": {},
     "output_type": "execute_result"
    }
   ],
   "source": [
    "data[\"target\"] = data[\"target\"].replace({0:1, 1:0})\n",
    "data[\"target\"].value_counts()"
   ]
  },
  {
   "cell_type": "code",
   "execution_count": 49,
   "id": "73c4c679",
   "metadata": {},
   "outputs": [
    {
     "name": "stdout",
     "output_type": "stream",
     "text": [
      "статистика относительно кол-ва наблюдений\n",
      "отсутствие печеночной недостаточности:  1.808863430810974 % здоровых\n",
      "наличие печеночной недостаточности:  0.9803921568627451 % здоровых\n"
     ]
    }
   ],
   "source": [
    "print(\"статистика относительно кол-ва наблюдений\")\n",
    "print(\"отсутствие печеночной недостаточности: \",180/9951 * 100, \"% здоровых\")\n",
    "print(\"наличие печеночной недостаточности: \",1/102 * 100, \"% здоровых\")\n"
   ]
  },
  {
   "cell_type": "markdown",
   "id": "527dcc83",
   "metadata": {},
   "source": [
    "* отсутствие печеночной недостаточности, отсутствие опухоли 180 человек\n",
    "* наличие печеночной недостаточности, отсутствие опухоли 1 человека\n",
    "* отсутствие печеночной недостаточности, наличие опухоли 9951 человека\n",
    "* наличие печеночной недостаточности, наличие опухоли 102 человека\n",
    "* Вывод: кол-во здоровых больше если отсутствует печеночная недостаточность"
   ]
  },
  {
   "cell_type": "markdown",
   "id": "9fc2d6cc",
   "metadata": {},
   "source": [
    "# immunosuppression\n",
    "## иммуносупрессия"
   ]
  },
  {
   "cell_type": "code",
   "execution_count": 50,
   "id": "63cbf300",
   "metadata": {},
   "outputs": [
    {
     "data": {
      "text/plain": [
       "1    10053\n",
       "0      181\n",
       "Name: target, dtype: int64"
      ]
     },
     "execution_count": 50,
     "metadata": {},
     "output_type": "execute_result"
    }
   ],
   "source": [
    "data[\"target\"] = data[\"target\"].replace({0:1, 1:0})\n",
    "data[\"target\"].value_counts()"
   ]
  },
  {
   "cell_type": "code",
   "execution_count": 51,
   "id": "70666e89",
   "metadata": {},
   "outputs": [
    {
     "name": "stdout",
     "output_type": "stream",
     "text": [
      "sum:  10053\n",
      "                          count  mean  median   sum\n",
      "immunosuppression target                           \n",
      "0                 1        9882   1.0     1.0  9882\n",
      "1                 1         171   1.0     1.0   171\n",
      "0                 0         121   0.0     0.0     0\n",
      "1                 0          60   0.0     0.0     0\n"
     ]
    }
   ],
   "source": [
    "# заболевшие\n",
    "data_immunosuppression_1 = data.groupby([\"immunosuppression\",\"target\"])[\"target\"].agg([\"count\", \"mean\", \"median\", \"sum\"])\n",
    "\n",
    "print(\"sum: \",data_immunosuppression_1[\"sum\"].sum())\n",
    "# data_age['mean'] = data_age['mean'] * 100\n",
    "print(data_immunosuppression_1.sort_values(\"count\",ascending=False).head(25))\n",
    "# data_hepatic_failure_1.sort_values(\"immunosuppression\",ascending=False).plot(ylabel = \"count\")"
   ]
  },
  {
   "cell_type": "code",
   "execution_count": 52,
   "id": "0760596e",
   "metadata": {},
   "outputs": [
    {
     "name": "stdout",
     "output_type": "stream",
     "text": [
      "статистика относительно кол-ва наблюдений\n",
      "отсутствие иммуносупрессии:  1.224448492208055 % здоровых\n",
      "наличие иммуносупрессии:  35.08771929824561 % здоровых\n"
     ]
    }
   ],
   "source": [
    "print(\"статистика относительно кол-ва наблюдений\")\n",
    "print(\"отсутствие иммуносупрессии: \",121/9882 * 100, \"% здоровых\")\n",
    "print(\"наличие иммуносупрессии: \",60/171 * 100, \"% здоровых\")\n"
   ]
  },
  {
   "cell_type": "code",
   "execution_count": null,
   "id": "f3c974de",
   "metadata": {},
   "outputs": [],
   "source": []
  },
  {
   "cell_type": "markdown",
   "id": "fa4e50ed",
   "metadata": {},
   "source": [
    "* отсутствие иммуносупрессии, отсутствие опухоли 121 человек\n",
    "* наличие иммуносупрессии, отсутствие опухоли 60 человека\n",
    "* отсутствие иммуносупрессии, наличие опухоли 9882 человека\n",
    "* наличие иммуносупрессии, наличие опухоли 171 человека\n",
    "* Вывод: кол-во здоровых больше если присутствует иммуносупрессия"
   ]
  },
  {
   "cell_type": "code",
   "execution_count": 53,
   "id": "efaa4d19",
   "metadata": {},
   "outputs": [
    {
     "data": {
      "text/plain": [
       "Index(['encounter_id', 'hospital_id', 'age', 'bmi', 'elective_surgery',\n",
       "       'ethnicity', 'gender', 'height', 'hospital_admit_source',\n",
       "       'icu_admit_source',\n",
       "       ...\n",
       "       'h1_arterial_po2_min', 'h1_pao2fio2ratio_max', 'h1_pao2fio2ratio_min',\n",
       "       'aids', 'cirrhosis', 'hepatic_failure', 'immunosuppression', 'leukemia',\n",
       "       'lymphoma', 'target'],\n",
       "      dtype='object', length=179)"
      ]
     },
     "execution_count": 53,
     "metadata": {},
     "output_type": "execute_result"
    }
   ],
   "source": [
    "data.columns"
   ]
  },
  {
   "cell_type": "markdown",
   "id": "44fa20bf",
   "metadata": {},
   "source": [
    "# leukemia\n",
    "## лейкемия"
   ]
  },
  {
   "cell_type": "code",
   "execution_count": 54,
   "id": "4fdf7a6b",
   "metadata": {},
   "outputs": [
    {
     "name": "stdout",
     "output_type": "stream",
     "text": [
      "sum:  10053\n",
      "                 count  mean  median   sum\n",
      "leukemia target                           \n",
      "0        1        9989   1.0     1.0  9989\n",
      "         0         178   0.0     0.0     0\n",
      "1        1          64   1.0     1.0    64\n",
      "         0           3   0.0     0.0     0\n"
     ]
    }
   ],
   "source": [
    "# заболевшие\n",
    "data_leukemia_1 = data.groupby([\"leukemia\",\"target\"])[\"target\"].agg([\"count\", \"mean\", \"median\", \"sum\"])\n",
    "\n",
    "print(\"sum: \",data_leukemia_1[\"sum\"].sum())\n",
    "# data_age['mean'] = data_age['mean'] * 100\n",
    "print(data_leukemia_1.sort_values(\"count\",ascending=False).head(25))\n",
    "# data_hepatic_failure_1.sort_values(\"immunosuppression\",ascending=False).plot(ylabel = \"count\")"
   ]
  },
  {
   "cell_type": "code",
   "execution_count": 55,
   "id": "0b449d76",
   "metadata": {},
   "outputs": [
    {
     "name": "stdout",
     "output_type": "stream",
     "text": [
      "статистика относительно кол-ва наблюдений\n",
      "отсутствие лейкемии:  1.7819601561717888 % здоровых\n",
      "наличие лейкемии:  4.6875 % здоровых\n"
     ]
    }
   ],
   "source": [
    "print(\"статистика относительно кол-ва наблюдений\")\n",
    "print(\"отсутствие лейкемии: \",178/9989 * 100, \"% здоровых\")\n",
    "print(\"наличие лейкемии: \",3/64 * 100, \"% здоровых\")\n"
   ]
  },
  {
   "cell_type": "markdown",
   "id": "dc45d449",
   "metadata": {},
   "source": [
    "* отсутствие лейкемии, отсутствие опухоли 178 человек\n",
    "* наличие лейкемии, отсутствие опухоли 3 человека\n",
    "* отсутствие лейкемии, наличие опухоли 9989 человека\n",
    "* наличие лейкемии, наличие опухоли 64 человека\n",
    "* Вывод: кол-во здоровых больше если присутствует лейкемия"
   ]
  },
  {
   "cell_type": "markdown",
   "id": "fd3d029d",
   "metadata": {},
   "source": [
    "# lymphoma\n",
    "## лимфома"
   ]
  },
  {
   "cell_type": "code",
   "execution_count": 56,
   "id": "eb5be781",
   "metadata": {},
   "outputs": [
    {
     "name": "stdout",
     "output_type": "stream",
     "text": [
      "sum:  10053\n",
      "                 count  mean  median    sum\n",
      "lymphoma target                            \n",
      "0        1       10013   1.0     1.0  10013\n",
      "         0         179   0.0     0.0      0\n",
      "1        1          40   1.0     1.0     40\n",
      "         0           2   0.0     0.0      0\n"
     ]
    }
   ],
   "source": [
    "# заболевшие\n",
    "data_lymphoma_1 = data.groupby([\"lymphoma\",\"target\"])[\"target\"].agg([\"count\", \"mean\", \"median\", \"sum\"])\n",
    "\n",
    "print(\"sum: \",data_lymphoma_1[\"sum\"].sum())\n",
    "print(data_lymphoma_1.sort_values(\"count\",ascending=False).head(25))\n"
   ]
  },
  {
   "cell_type": "code",
   "execution_count": 57,
   "id": "4907dd7a",
   "metadata": {},
   "outputs": [
    {
     "name": "stdout",
     "output_type": "stream",
     "text": [
      "статистика относительно кол-ва наблюдений\n",
      "отсутствие лимфомии:  1.7876760211724758 % здоровых\n",
      "наличие лимфомии:  5.0 % здоровых\n"
     ]
    }
   ],
   "source": [
    "print(\"статистика относительно кол-ва наблюдений\")\n",
    "print(\"отсутствие лимфомии: \",179/10013 * 100, \"% здоровых\")\n",
    "print(\"наличие лимфомии: \",2/40 * 100, \"% здоровых\")\n"
   ]
  },
  {
   "cell_type": "markdown",
   "id": "3bc37a0e",
   "metadata": {},
   "source": [
    "* отсутствие лимфомии, отсутствие опухоли 179 человек\n",
    "* наличие лимфомии, отсутствие опухоли 2 человека\n",
    "* отсутствие лимфомии, наличие опухоли 10013 человека\n",
    "* наличие лимфомии, наличие опухоли 40 человека\n",
    "* Вывод: кол-во здоровых больше если присутствует лимфомия"
   ]
  },
  {
   "cell_type": "markdown",
   "id": "0e0d896d",
   "metadata": {},
   "source": [
    "# gender\n",
    "## пол\n"
   ]
  },
  {
   "cell_type": "code",
   "execution_count": 58,
   "id": "2a65a020",
   "metadata": {},
   "outputs": [
    {
     "data": {
      "text/plain": [
       "M    5525\n",
       "F    4704\n",
       "Name: gender, dtype: int64"
      ]
     },
     "execution_count": 58,
     "metadata": {},
     "output_type": "execute_result"
    }
   ],
   "source": [
    "data[\"gender\"].value_counts()"
   ]
  },
  {
   "cell_type": "code",
   "execution_count": 62,
   "id": "d6a8d897",
   "metadata": {},
   "outputs": [
    {
     "name": "stdout",
     "output_type": "stream",
     "text": [
      "sum:  10053\n",
      "               count  mean  median   sum\n",
      "gender target                           \n",
      "M      1        5443   1.0     1.0  5443\n",
      "F      1        4605   1.0     1.0  4605\n",
      "       0          99   0.0     0.0     0\n",
      "M      0          82   0.0     0.0     0\n",
      "NaN    1           5   1.0     1.0     5\n"
     ]
    }
   ],
   "source": [
    "# заболевшие\n",
    "data_gender_1 = data.groupby([\"gender\",\"target\"], dropna=False)[\"target\"].agg([\"count\", \"mean\", \"median\", \"sum\"])\n",
    "\n",
    "print(\"sum: \",data_gender_1[\"sum\"].sum())\n",
    "print(data_gender_1.sort_values(\"count\",ascending=False).head(25))\n"
   ]
  },
  {
   "cell_type": "code",
   "execution_count": 61,
   "id": "76ca9c8f",
   "metadata": {},
   "outputs": [
    {
     "name": "stdout",
     "output_type": "stream",
     "text": [
      "статистика относительно кол-ва наблюдений\n",
      "мужчины:  1.506522138526548 % здоровых\n",
      "женщины:  2.1498371335504887 % здоровых\n"
     ]
    }
   ],
   "source": [
    "print(\"статистика относительно кол-ва наблюдений\")\n",
    "print(\"мужчины: \",82/5443 * 100, \"% здоровых\")\n",
    "print(\"женщины: \",99/4605 * 100, \"% здоровых\")\n"
   ]
  },
  {
   "cell_type": "markdown",
   "id": "0e3b8322",
   "metadata": {},
   "source": [
    "* Исходя из этого датасета, женщины менее предрасположены к данному заболеванию"
   ]
  }
 ],
 "metadata": {
  "kernelspec": {
   "display_name": "Python 3 (ipykernel)",
   "language": "python",
   "name": "python3"
  },
  "language_info": {
   "codemirror_mode": {
    "name": "ipython",
    "version": 3
   },
   "file_extension": ".py",
   "mimetype": "text/x-python",
   "name": "python",
   "nbconvert_exporter": "python",
   "pygments_lexer": "ipython3",
   "version": "3.7.9"
  }
 },
 "nbformat": 4,
 "nbformat_minor": 5
}
