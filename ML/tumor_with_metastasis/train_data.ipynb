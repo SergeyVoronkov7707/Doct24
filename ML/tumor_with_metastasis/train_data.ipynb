{
 "cells": [
  {
   "cell_type": "code",
   "execution_count": 1,
   "id": "e64a7d9b",
   "metadata": {},
   "outputs": [],
   "source": [
    "import numpy as np\n",
    "import pandas as pd\n",
    "import seaborn as sns\n",
    "import matplotlib.pyplot as plt\n",
    "import os\n",
    "from tqdm import tqdm\n",
    "\n",
    "import catboost as cb\n",
    "import xgboost as xgb\n",
    "from bayes_opt import BayesianOptimization\n",
    "from sklearn.preprocessing import StandardScaler\n",
    "from sklearn.linear_model import LogisticRegression\n",
    "from sklearn.ensemble import RandomForestClassifier\n",
    "from sklearn.model_selection import train_test_split, KFold\n",
    "from sklearn.metrics import roc_auc_score, confusion_matrix, accuracy_score, classification_report\n",
    "from sklearn.pipeline import Pipeline\n",
    "from sklearn.cluster import KMeans"
   ]
  },
  {
   "cell_type": "markdown",
   "id": "9dcdbea2",
   "metadata": {},
   "source": [
    "# Funk"
   ]
  },
  {
   "cell_type": "code",
   "execution_count": 2,
   "id": "67ef1d1d",
   "metadata": {},
   "outputs": [],
   "source": [
    "def corr(data, target):\n",
    "    correlation = data.corr()\n",
    "    corr_with_target = correlation[target].sort_values(ascending = False)\n",
    "    print(corr_with_target)\n",
    "    fig, axes = plt.subplots(figsize = (14,12))\n",
    "    plt.title(\"Correlation of Numeric Features with target\", y=1, size=16)\n",
    "    sns.heatmap(correlation, square=True, vmax=0.8, cmap=\"viridis\")"
   ]
  },
  {
   "cell_type": "code",
   "execution_count": 3,
   "id": "7037cded",
   "metadata": {},
   "outputs": [],
   "source": [
    "\"\"\"\n",
    "ф-я определяет нелинейную связь признаков, возвращает список из 20 наиболее важных\n",
    "\"\"\"\n",
    "def nonlianer_comun(data, numerical, target=\"class\", num_sign=20)-> list:\n",
    "    parameters = {\"max_depth\": 6, \"n_estimators\": 25, \"random_state\": 27, \"n_jobs\": 2}\n",
    "    data = data.copy()\n",
    "    data = data[numerical]\n",
    "    for i in data.columns:\n",
    "        data[i] = data[i].fillna(data[i].median())\n",
    "    forest = RandomForestClassifier(**parameters)\n",
    "    forest.fit(data.drop(target, axis=1), data[target])\n",
    "    \n",
    "    # numerical original\n",
    "    top = []\n",
    "    n_top = num_sign\n",
    "    importances = forest.feature_importances_\n",
    "    idx = np.argsort(importances)[::-1][0:n_top]\n",
    "    feature_names = data.drop(target, axis=1).columns\n",
    "\n",
    "    plt.figure(figsize=(20, 5))\n",
    "    sns.barplot(x=feature_names[idx], y=importances[idx], palette=\"viridis\")\n",
    "    top.append(feature_names[idx])\n",
    "    plt.title(f\"What {num_sign} are the top important features to start with?\", size=14)\n",
    "    plt.xticks(rotation=90)\n",
    "    return top, idx, importances, feature_names"
   ]
  },
  {
   "cell_type": "code",
   "execution_count": 4,
   "id": "633dd8e0",
   "metadata": {},
   "outputs": [],
   "source": [
    "# CatBoost\n",
    "def catboost_base(x, x_val, y, y_val, cat_feature = None):\n",
    "    cb_params = {\n",
    "    \"n_estimators\": 2000,\n",
    "    \"learning_rate\": 0.001,\n",
    "    \"loss_function\": \"Logloss\",\n",
    "    \"eval_metric\": \"AUC\",\n",
    "    \"task_type\": \"CPU\",\n",
    "    \"max_bin\": 20,\n",
    "    \"verbose\": False,\n",
    "    \"max_depth\": 6,\n",
    "    \"l2_leaf_reg\": 10,\n",
    "    \"early_stopping_rounds\": 50,\n",
    "    \"thread_count\": 6,\n",
    "    \"random_seed\": 42\n",
    "    }\n",
    "    if cat_feature == None:\n",
    "        model = cb.CatBoostClassifier(**cb_params)\n",
    "        model.fit(x, y,\n",
    "            )\n",
    "    else:\n",
    "        model = cb.CatBoostClassifier(**cb_params)\n",
    "        model.fit(x, y,cat_features=cat_feature\n",
    "            )\n",
    "    y_pred = model.predict(x_val)\n",
    "    print(\"roc_auc_score: \",roc_auc_score(y_val, y_pred))\n",
    "    print(\"confusion_matrix: \",confusion_matrix(y_val, y_pred))\n",
    "    print(\"accuracy_score: \",accuracy_score(y_val, y_pred))\n",
    "    print(\"classification_report: \", classification_report(y_val, y_pred))\n",
    "    return y_pred"
   ]
  },
  {
   "cell_type": "code",
   "execution_count": 5,
   "id": "10592003",
   "metadata": {},
   "outputs": [],
   "source": [
    "# XGBoost\n",
    "def xgb_base(x, x_val, y, y_val):\n",
    "\n",
    "    params = {\n",
    "    \"booster\": \"gbtree\",\n",
    "    \"eval_metric\": \"auc\",\n",
    "    \"objective\": \"binary:logistic\",\n",
    "    \"learning_rate\": 0.01,\n",
    "    \"nthread\": 6,\n",
    "    \"seed\": 27\n",
    "    }\n",
    "\n",
    "    dtrain = xgb.DMatrix(\n",
    "    x, y\n",
    "    )\n",
    "    dvalid = xgb.DMatrix(\n",
    "    x_val, y_val\n",
    "    )\n",
    "\n",
    "    model = xgb.train(\n",
    "        params=params,\n",
    "        dtrain=dtrain,\n",
    "        evals=[(dtrain, \"dtrain\"), (dvalid, \"dvalid\")],\n",
    "        early_stopping_rounds=25,\n",
    "        num_boost_round=1000,\n",
    "        verbose_eval=10,\n",
    "        maximize=True,\n",
    "    )"
   ]
  },
  {
   "cell_type": "code",
   "execution_count": 6,
   "id": "2c94806f",
   "metadata": {},
   "outputs": [],
   "source": [
    "def forest_base(x, x_val, y, y_val):\n",
    "    model = RandomForestClassifier(\n",
    "    n_estimators=250, max_depth=8, n_jobs=6, random_state=27\n",
    "    )\n",
    "    model.fit(x, y)\n",
    "    y_pred = model.predict(x_val)\n",
    "    print(\"roc_auc_score: \",roc_auc_score(y_val, y_pred))\n",
    "    print(\"confusion_matrix: \",confusion_matrix(y_val, y_pred))\n",
    "    print(\"accuracy_score: \",accuracy_score(y_val, y_pred))"
   ]
  },
  {
   "cell_type": "code",
   "execution_count": 7,
   "id": "a5de1dc7",
   "metadata": {},
   "outputs": [],
   "source": [
    "def train_split(x):\n",
    "    x_train, x_valid, y_train, y_valid = train_test_split(x.drop( \"target\", axis=1), x[\"target\"], test_size = 0.2)\n",
    "    x_train, x_test, y_train, y_test = train_test_split(x_train, y_train, test_size = 0.2)\n",
    "    print(x_train.shape, x_valid.shape, y_train.shape, y_valid.shape, x_test.shape, y_test.shape)\n",
    "    return x_train, x_valid, y_train, y_valid, x_test, y_test"
   ]
  },
  {
   "cell_type": "code",
   "execution_count": 8,
   "id": "f5f661c6",
   "metadata": {},
   "outputs": [],
   "source": [
    "def train_split_dis(x):\n",
    "    for i in range(10000000):\n",
    "        x_train, x_valid, y_train, y_valid = train_test_split(x.drop( \"target\", axis=1), x[\"target\"], test_size = 0.3,\n",
    "                                                             random_state = i)\n",
    "        x_train, x_test, y_train, y_test = train_test_split(x_train, y_train, test_size = 0.2)\n",
    "        if (y_train == 1).sum()/181 < 0.7:\n",
    "            print(\"random_state: {}\".format(i))\n",
    "            print(x_train.shape, x_valid.shape, y_train.shape, y_valid.shape, x_test.shape, y_test.shape)\n",
    "            return x_train, x_valid, y_train, y_valid, x_test, y_test\n"
   ]
  },
  {
   "cell_type": "markdown",
   "id": "3e600019",
   "metadata": {},
   "source": [
    "# read data"
   ]
  },
  {
   "cell_type": "code",
   "execution_count": 9,
   "id": "5c8a0544",
   "metadata": {},
   "outputs": [],
   "source": [
    "data = pd.read_csv(\"data/data_n.csv\")"
   ]
  },
  {
   "cell_type": "code",
   "execution_count": 10,
   "id": "9b6aa193",
   "metadata": {},
   "outputs": [
    {
     "name": "stdout",
     "output_type": "stream",
     "text": [
      "(10234, 105)\n"
     ]
    },
    {
     "data": {
      "text/html": [
       "<div>\n",
       "<style scoped>\n",
       "    .dataframe tbody tr th:only-of-type {\n",
       "        vertical-align: middle;\n",
       "    }\n",
       "\n",
       "    .dataframe tbody tr th {\n",
       "        vertical-align: top;\n",
       "    }\n",
       "\n",
       "    .dataframe thead th {\n",
       "        text-align: right;\n",
       "    }\n",
       "</style>\n",
       "<table border=\"1\" class=\"dataframe\">\n",
       "  <thead>\n",
       "    <tr style=\"text-align: right;\">\n",
       "      <th></th>\n",
       "      <th>encounter_id</th>\n",
       "      <th>hospital_id</th>\n",
       "      <th>age</th>\n",
       "      <th>bmi</th>\n",
       "      <th>elective_surgery</th>\n",
       "      <th>ethnicity</th>\n",
       "      <th>gender</th>\n",
       "      <th>height</th>\n",
       "      <th>hospital_admit_source</th>\n",
       "      <th>icu_admit_source</th>\n",
       "      <th>...</th>\n",
       "      <th>d1_sodium_min</th>\n",
       "      <th>d1_wbc_max</th>\n",
       "      <th>d1_wbc_min</th>\n",
       "      <th>aids</th>\n",
       "      <th>cirrhosis</th>\n",
       "      <th>hepatic_failure</th>\n",
       "      <th>immunosuppression</th>\n",
       "      <th>leukemia</th>\n",
       "      <th>lymphoma</th>\n",
       "      <th>target</th>\n",
       "    </tr>\n",
       "  </thead>\n",
       "  <tbody>\n",
       "    <tr>\n",
       "      <th>0</th>\n",
       "      <td>144740</td>\n",
       "      <td>10141</td>\n",
       "      <td>72</td>\n",
       "      <td>NaN</td>\n",
       "      <td>0</td>\n",
       "      <td>Caucasian</td>\n",
       "      <td>F</td>\n",
       "      <td>152.4</td>\n",
       "      <td>Floor</td>\n",
       "      <td>Accident &amp; Emergency</td>\n",
       "      <td>...</td>\n",
       "      <td>130.0</td>\n",
       "      <td>5.6</td>\n",
       "      <td>5.4</td>\n",
       "      <td>0</td>\n",
       "      <td>0</td>\n",
       "      <td>0</td>\n",
       "      <td>0</td>\n",
       "      <td>0</td>\n",
       "      <td>0</td>\n",
       "      <td>0</td>\n",
       "    </tr>\n",
       "    <tr>\n",
       "      <th>1</th>\n",
       "      <td>141990</td>\n",
       "      <td>10141</td>\n",
       "      <td>86</td>\n",
       "      <td>NaN</td>\n",
       "      <td>0</td>\n",
       "      <td>Caucasian</td>\n",
       "      <td>F</td>\n",
       "      <td>175.3</td>\n",
       "      <td>Emergency Department</td>\n",
       "      <td>Accident &amp; Emergency</td>\n",
       "      <td>...</td>\n",
       "      <td>144.0</td>\n",
       "      <td>NaN</td>\n",
       "      <td>NaN</td>\n",
       "      <td>0</td>\n",
       "      <td>0</td>\n",
       "      <td>0</td>\n",
       "      <td>0</td>\n",
       "      <td>0</td>\n",
       "      <td>0</td>\n",
       "      <td>0</td>\n",
       "    </tr>\n",
       "  </tbody>\n",
       "</table>\n",
       "<p>2 rows × 105 columns</p>\n",
       "</div>"
      ],
      "text/plain": [
       "   encounter_id  hospital_id  age  bmi  elective_surgery  ethnicity gender  \\\n",
       "0        144740        10141   72  NaN                 0  Caucasian      F   \n",
       "1        141990        10141   86  NaN                 0  Caucasian      F   \n",
       "\n",
       "   height hospital_admit_source      icu_admit_source  ...  d1_sodium_min  \\\n",
       "0   152.4                 Floor  Accident & Emergency  ...          130.0   \n",
       "1   175.3  Emergency Department  Accident & Emergency  ...          144.0   \n",
       "\n",
       "  d1_wbc_max d1_wbc_min  aids  cirrhosis  hepatic_failure  immunosuppression  \\\n",
       "0        5.6        5.4     0          0                0                  0   \n",
       "1        NaN        NaN     0          0                0                  0   \n",
       "\n",
       "   leukemia  lymphoma  target  \n",
       "0         0         0       0  \n",
       "1         0         0       0  \n",
       "\n",
       "[2 rows x 105 columns]"
      ]
     },
     "execution_count": 10,
     "metadata": {},
     "output_type": "execute_result"
    }
   ],
   "source": [
    "print(data.shape)\n",
    "data.head(n=2)"
   ]
  },
  {
   "cell_type": "code",
   "execution_count": 9,
   "id": "8de2c137",
   "metadata": {},
   "outputs": [
    {
     "name": "stdout",
     "output_type": "stream",
     "text": [
      "encounter_id\n",
      "кол-во:  0 процент:  0.0\n",
      "hospital_id\n",
      "кол-во:  0 процент:  0.0\n",
      "age\n",
      "кол-во:  0 процент:  0.0\n",
      "bmi\n",
      "кол-во:  1015 процент:  9.92\n",
      "elective_surgery\n",
      "кол-во:  0 процент:  0.0\n",
      "ethnicity\n",
      "кол-во:  204 процент:  1.99\n",
      "gender\n",
      "кол-во:  5 процент:  0.05\n",
      "height\n",
      "кол-во:  301 процент:  2.94\n",
      "hospital_admit_source\n",
      "кол-во:  2733 процент:  26.71\n",
      "icu_admit_source\n",
      "кол-во:  25 процент:  0.24\n",
      "icu_id\n",
      "кол-во:  0 процент:  0.0\n",
      "icu_stay_type\n",
      "кол-во:  0 процент:  0.0\n",
      "icu_type\n",
      "кол-во:  0 процент:  0.0\n",
      "pre_icu_los_days\n",
      "кол-во:  0 процент:  0.0\n",
      "readmission_status\n",
      "кол-во:  0 процент:  0.0\n",
      "weight\n",
      "кол-во:  908 процент:  8.87\n",
      "apache_2_diagnosis\n",
      "кол-во:  170 процент:  1.66\n",
      "apache_3j_diagnosis\n",
      "кол-во:  108 процент:  1.06\n",
      "apache_post_operative\n",
      "кол-во:  0 процент:  0.0\n",
      "arf_apache\n",
      "кол-во:  0 процент:  0.0\n",
      "bun_apache\n",
      "кол-во:  2061 процент:  20.14\n",
      "creatinine_apache\n",
      "кол-во:  2043 процент:  19.96\n",
      "gcs_eyes_apache\n",
      "кол-во:  205 процент:  2.0\n",
      "gcs_motor_apache\n",
      "кол-во:  205 процент:  2.0\n",
      "gcs_unable_apache\n",
      "кол-во:  61 процент:  0.6\n",
      "gcs_verbal_apache\n",
      "кол-во:  205 процент:  2.0\n",
      "glucose_apache\n",
      "кол-во:  1210 процент:  11.82\n",
      "heart_rate_apache\n",
      "кол-во:  30 процент:  0.29\n",
      "hematocrit_apache\n",
      "кол-во:  2114 процент:  20.66\n",
      "intubated_apache\n",
      "кол-во:  0 процент:  0.0\n",
      "map_apache\n",
      "кол-во:  52 процент:  0.51\n",
      "resprate_apache\n",
      "кол-во:  64 процент:  0.63\n",
      "sodium_apache\n",
      "кол-во:  1993 процент:  19.47\n",
      "temp_apache\n",
      "кол-во:  671 процент:  6.56\n",
      "ventilated_apache\n",
      "кол-во:  0 процент:  0.0\n",
      "wbc_apache\n",
      "кол-во:  2376 процент:  23.22\n",
      "d1_diasbp_max\n",
      "кол-во:  23 процент:  0.22\n",
      "d1_diasbp_min\n",
      "кол-во:  23 процент:  0.22\n",
      "d1_diasbp_noninvasive_max\n",
      "кол-во:  149 процент:  1.46\n",
      "d1_diasbp_noninvasive_min\n",
      "кол-во:  149 процент:  1.46\n",
      "d1_heartrate_max\n",
      "кол-во:  24 процент:  0.23\n",
      "d1_heartrate_min\n",
      "кол-во:  24 процент:  0.23\n",
      "d1_mbp_max\n",
      "кол-во:  37 процент:  0.36\n",
      "d1_mbp_min\n",
      "кол-во:  37 процент:  0.36\n",
      "d1_mbp_noninvasive_max\n",
      "кол-во:  212 процент:  2.07\n",
      "d1_mbp_noninvasive_min\n",
      "кол-во:  212 процент:  2.07\n",
      "d1_resprate_max\n",
      "кол-во:  55 процент:  0.54\n",
      "d1_resprate_min\n",
      "кол-во:  55 процент:  0.54\n",
      "d1_spo2_max\n",
      "кол-во:  62 процент:  0.61\n",
      "d1_spo2_min\n",
      "кол-во:  62 процент:  0.61\n",
      "d1_sysbp_max\n",
      "кол-во:  23 процент:  0.22\n",
      "d1_sysbp_min\n",
      "кол-во:  23 процент:  0.22\n",
      "d1_sysbp_noninvasive_max\n",
      "кол-во:  148 процент:  1.45\n",
      "d1_sysbp_noninvasive_min\n",
      "кол-во:  148 процент:  1.45\n",
      "d1_temp_max\n",
      "кол-во:  430 процент:  4.2\n",
      "d1_temp_min\n",
      "кол-во:  430 процент:  4.2\n",
      "h1_diasbp_max\n",
      "кол-во:  652 процент:  6.37\n",
      "h1_diasbp_min\n",
      "кол-во:  652 процент:  6.37\n",
      "h1_diasbp_noninvasive_max\n",
      "кол-во:  1156 процент:  11.3\n",
      "h1_diasbp_noninvasive_min\n",
      "кол-во:  1156 процент:  11.3\n",
      "h1_heartrate_max\n",
      "кол-во:  551 процент:  5.38\n",
      "h1_heartrate_min\n",
      "кол-во:  551 процент:  5.38\n",
      "h1_mbp_max\n",
      "кол-во:  797 процент:  7.79\n",
      "h1_mbp_min\n",
      "кол-во:  797 процент:  7.79\n",
      "h1_mbp_noninvasive_max\n",
      "кол-во:  1389 процент:  13.57\n",
      "h1_mbp_noninvasive_min\n",
      "кол-во:  1389 процент:  13.57\n",
      "h1_resprate_max\n",
      "кол-во:  724 процент:  7.07\n",
      "h1_resprate_min\n",
      "кол-во:  724 процент:  7.07\n",
      "h1_spo2_max\n",
      "кол-во:  726 процент:  7.09\n",
      "h1_spo2_min\n",
      "кол-во:  726 процент:  7.09\n",
      "h1_sysbp_max\n",
      "кол-во:  651 процент:  6.36\n",
      "h1_sysbp_min\n",
      "кол-во:  651 процент:  6.36\n",
      "h1_sysbp_noninvasive_max\n",
      "кол-во:  1155 процент:  11.29\n",
      "h1_sysbp_noninvasive_min\n",
      "кол-во:  1155 процент:  11.29\n",
      "h1_temp_max\n",
      "кол-во:  2654 процент:  25.93\n",
      "h1_temp_min\n",
      "кол-во:  2654 процент:  25.93\n",
      "d1_bun_max\n",
      "кол-во:  1108 процент:  10.83\n",
      "d1_bun_min\n",
      "кол-во:  1108 процент:  10.83\n",
      "d1_calcium_max\n",
      "кол-во:  1402 процент:  13.7\n",
      "d1_calcium_min\n",
      "кол-во:  1402 процент:  13.7\n",
      "d1_creatinine_max\n",
      "кол-во:  1091 процент:  10.66\n",
      "d1_creatinine_min\n",
      "кол-во:  1091 процент:  10.66\n",
      "d1_glucose_max\n",
      "кол-во:  681 процент:  6.65\n",
      "d1_glucose_min\n",
      "кол-во:  681 процент:  6.65\n",
      "d1_hco3_max\n",
      "кол-во:  1594 процент:  15.58\n",
      "d1_hco3_min\n",
      "кол-во:  1594 процент:  15.58\n",
      "d1_hemaglobin_max\n",
      "кол-во:  1249 процент:  12.2\n",
      "d1_hemaglobin_min\n",
      "кол-во:  1249 процент:  12.2\n",
      "d1_hematocrit_max\n",
      "кол-во:  1229 процент:  12.01\n",
      "d1_hematocrit_min\n",
      "кол-во:  1229 процент:  12.01\n",
      "d1_platelets_max\n",
      "кол-во:  1397 процент:  13.65\n",
      "d1_platelets_min\n",
      "кол-во:  1397 процент:  13.65\n",
      "d1_potassium_max\n",
      "кол-во:  970 процент:  9.48\n",
      "d1_potassium_min\n",
      "кол-во:  970 процент:  9.48\n",
      "d1_sodium_max\n",
      "кол-во:  1066 процент:  10.42\n",
      "d1_sodium_min\n",
      "кол-во:  1066 процент:  10.42\n",
      "d1_wbc_max\n",
      "кол-во:  1422 процент:  13.89\n",
      "d1_wbc_min\n",
      "кол-во:  1422 процент:  13.89\n",
      "aids\n",
      "кол-во:  0 процент:  0.0\n",
      "cirrhosis\n",
      "кол-во:  0 процент:  0.0\n",
      "hepatic_failure\n",
      "кол-во:  0 процент:  0.0\n",
      "immunosuppression\n",
      "кол-во:  0 процент:  0.0\n",
      "leukemia\n",
      "кол-во:  0 процент:  0.0\n",
      "lymphoma\n",
      "кол-во:  0 процент:  0.0\n",
      "target\n",
      "кол-во:  0 процент:  0.0\n"
     ]
    }
   ],
   "source": [
    "check_sign = []\n",
    "for i in data:\n",
    "    pr = round(data[i].isna().sum()/ data.shape[0] * 100,2)\n",
    "    print(i)\n",
    "    print(\"кол-во: \",data[i].isna().sum(),\"процент: \", pr)\n",
    "    if pr > 10:\n",
    "        check_sign.append(i)\n",
    "    "
   ]
  },
  {
   "cell_type": "code",
   "execution_count": 10,
   "id": "61a9d7a7",
   "metadata": {},
   "outputs": [
    {
     "data": {
      "text/plain": [
       "33"
      ]
     },
     "execution_count": 10,
     "metadata": {},
     "output_type": "execute_result"
    }
   ],
   "source": [
    "len(check_sign)"
   ]
  },
  {
   "cell_type": "code",
   "execution_count": 11,
   "id": "55d10b70",
   "metadata": {},
   "outputs": [
    {
     "name": "stdout",
     "output_type": "stream",
     "text": [
      "Всего категориальных признаков: 1\n",
      "Всего числовых признаков: 32\n"
     ]
    }
   ],
   "source": [
    "categorical_check_sign = data[check_sign].dtypes[data[check_sign].dtypes == \"object\"].index\n",
    "numerical_check_sign = list(set(check_sign) - set(categorical_check_sign))\n",
    "\n",
    "print(f\"Всего категориальных признаков: {len(categorical_check_sign)}\")\n",
    "print(f\"Всего числовых признаков: {len(numerical_check_sign)}\")"
   ]
  },
  {
   "cell_type": "code",
   "execution_count": 12,
   "id": "46cf8966",
   "metadata": {},
   "outputs": [
    {
     "data": {
      "image/png": "[encoded data removed]",
      "text/plain": [
       "<Figure size 2160x2880 with 35 Axes>"
      ]
     },
     "metadata": {
      "needs_background": "light"
     },
     "output_type": "display_data"
    }
   ],
   "source": [
    "fig, axes = plt.subplots(7, 5,figsize=(30, 40))\n",
    "\n",
    "for num, feature in enumerate(numerical_check_sign):\n",
    "    df = data[feature].copy()\n",
    "    mean_ = round(df.mean(), 2)\n",
    "#     print(axes)\n",
    "    axes[num//5, num%5].hist(df, bins=25, color=\"blue\")\n",
    "    axes[num//5, num%5].set_xlabel(f\"{feature}, {mean_}\", fontsize=14)"
   ]
  },
  {
   "cell_type": "code",
   "execution_count": 13,
   "id": "21e85fa9",
   "metadata": {},
   "outputs": [
    {
     "data": {
      "image/png": "[encoded data removed]",
      "text/plain": [
       "<Figure size 2160x2880 with 35 Axes>"
      ]
     },
     "metadata": {
      "needs_background": "light"
     },
     "output_type": "display_data"
    }
   ],
   "source": [
    "fig, axes = plt.subplots(7, 5,figsize=(30, 40))\n",
    "\n",
    "for num, feature in enumerate(numerical_check_sign):\n",
    "    df = np.log(data[feature].copy() + 1)\n",
    "    mean_ = round(df.mean(), 2)\n",
    "#     print(axes)\n",
    "    axes[num//5, num%5].hist(df, bins=25, color=\"blue\")\n",
    "    axes[num//5, num%5].set_xlabel(f\"{feature}, {mean_}\", fontsize=14)"
   ]
  },
  {
   "cell_type": "code",
   "execution_count": 14,
   "id": "46e28122",
   "metadata": {},
   "outputs": [
    {
     "name": "stdout",
     "output_type": "stream",
     "text": [
      "hospital_admit_source    2733\n",
      "dtype: int64 10234\n"
     ]
    },
    {
     "data": {
      "text/plain": [
       "hospital_admit_source\n",
       "Emergency Department     3845\n",
       "Floor                    1121\n",
       "Operating Room           1110\n",
       "Direct Admit              696\n",
       "Recovery Room             405\n",
       "Other Hospital            173\n",
       "Step-Down Unit (SDU)       99\n",
       "Chest Pain Center          23\n",
       "Other ICU                  23\n",
       "ICU to SDU                  6\n",
       "dtype: int64"
      ]
     },
     "execution_count": 14,
     "metadata": {},
     "output_type": "execute_result"
    }
   ],
   "source": [
    "print(data[categorical_check_sign].isna().sum(), data.shape[0])\n",
    "data[categorical_check_sign].value_counts()"
   ]
  },
  {
   "cell_type": "code",
   "execution_count": 15,
   "id": "937ba2fb",
   "metadata": {},
   "outputs": [
    {
     "name": "stdout",
     "output_type": "stream",
     "text": [
      "Всего категориальных признаков: 6\n",
      "Всего числовых признаков: 99\n"
     ]
    }
   ],
   "source": [
    "categorical = data.dtypes[data.dtypes == \"object\"].index\n",
    "numerical = list(set(data.columns) - set(categorical))\n",
    "\n",
    "print(f\"Всего категориальных признаков: {len(categorical)}\")\n",
    "print(f\"Всего числовых признаков: {len(numerical)}\")\n"
   ]
  },
  {
   "cell_type": "code",
   "execution_count": 16,
   "id": "bb5670d8",
   "metadata": {},
   "outputs": [],
   "source": [
    "del_list = [\"encounter_id\", \"hospital_id\", \"target\"]\n",
    "num = [i for i in numerical if i not in del_list]\n",
    "df = data.copy()\n",
    "df[num] = df[num].apply(lambda x: np.log(x + 1))"
   ]
  },
  {
   "cell_type": "code",
   "execution_count": 17,
   "id": "e14d46a0",
   "metadata": {},
   "outputs": [
    {
     "data": {
      "text/html": [
       "<div>\n",
       "<style scoped>\n",
       "    .dataframe tbody tr th:only-of-type {\n",
       "        vertical-align: middle;\n",
       "    }\n",
       "\n",
       "    .dataframe tbody tr th {\n",
       "        vertical-align: top;\n",
       "    }\n",
       "\n",
       "    .dataframe thead th {\n",
       "        text-align: right;\n",
       "    }\n",
       "</style>\n",
       "<table border=\"1\" class=\"dataframe\">\n",
       "  <thead>\n",
       "    <tr style=\"text-align: right;\">\n",
       "      <th></th>\n",
       "      <th>encounter_id</th>\n",
       "      <th>hospital_id</th>\n",
       "      <th>age</th>\n",
       "      <th>bmi</th>\n",
       "      <th>elective_surgery</th>\n",
       "      <th>ethnicity</th>\n",
       "      <th>gender</th>\n",
       "      <th>height</th>\n",
       "      <th>hospital_admit_source</th>\n",
       "      <th>icu_admit_source</th>\n",
       "      <th>...</th>\n",
       "      <th>d1_sodium_min</th>\n",
       "      <th>d1_wbc_max</th>\n",
       "      <th>d1_wbc_min</th>\n",
       "      <th>aids</th>\n",
       "      <th>cirrhosis</th>\n",
       "      <th>hepatic_failure</th>\n",
       "      <th>immunosuppression</th>\n",
       "      <th>leukemia</th>\n",
       "      <th>lymphoma</th>\n",
       "      <th>target</th>\n",
       "    </tr>\n",
       "  </thead>\n",
       "  <tbody>\n",
       "    <tr>\n",
       "      <th>0</th>\n",
       "      <td>144740</td>\n",
       "      <td>10141</td>\n",
       "      <td>4.290459</td>\n",
       "      <td>NaN</td>\n",
       "      <td>0.0</td>\n",
       "      <td>Caucasian</td>\n",
       "      <td>F</td>\n",
       "      <td>5.033049</td>\n",
       "      <td>Floor</td>\n",
       "      <td>Accident &amp; Emergency</td>\n",
       "      <td>...</td>\n",
       "      <td>4.875197</td>\n",
       "      <td>1.887070</td>\n",
       "      <td>1.856298</td>\n",
       "      <td>0.0</td>\n",
       "      <td>0.0</td>\n",
       "      <td>0.0</td>\n",
       "      <td>0.0</td>\n",
       "      <td>0.0</td>\n",
       "      <td>0.0</td>\n",
       "      <td>0</td>\n",
       "    </tr>\n",
       "    <tr>\n",
       "      <th>1</th>\n",
       "      <td>141990</td>\n",
       "      <td>10141</td>\n",
       "      <td>4.465908</td>\n",
       "      <td>NaN</td>\n",
       "      <td>0.0</td>\n",
       "      <td>Caucasian</td>\n",
       "      <td>F</td>\n",
       "      <td>5.172187</td>\n",
       "      <td>Emergency Department</td>\n",
       "      <td>Accident &amp; Emergency</td>\n",
       "      <td>...</td>\n",
       "      <td>4.976734</td>\n",
       "      <td>NaN</td>\n",
       "      <td>NaN</td>\n",
       "      <td>0.0</td>\n",
       "      <td>0.0</td>\n",
       "      <td>0.0</td>\n",
       "      <td>0.0</td>\n",
       "      <td>0.0</td>\n",
       "      <td>0.0</td>\n",
       "      <td>0</td>\n",
       "    </tr>\n",
       "    <tr>\n",
       "      <th>2</th>\n",
       "      <td>142038</td>\n",
       "      <td>10141</td>\n",
       "      <td>4.290459</td>\n",
       "      <td>NaN</td>\n",
       "      <td>0.0</td>\n",
       "      <td>Caucasian</td>\n",
       "      <td>F</td>\n",
       "      <td>5.097424</td>\n",
       "      <td>Floor</td>\n",
       "      <td>Floor</td>\n",
       "      <td>...</td>\n",
       "      <td>4.927254</td>\n",
       "      <td>2.028148</td>\n",
       "      <td>1.722767</td>\n",
       "      <td>0.0</td>\n",
       "      <td>0.0</td>\n",
       "      <td>0.0</td>\n",
       "      <td>0.0</td>\n",
       "      <td>0.0</td>\n",
       "      <td>0.0</td>\n",
       "      <td>0</td>\n",
       "    </tr>\n",
       "    <tr>\n",
       "      <th>3</th>\n",
       "      <td>138628</td>\n",
       "      <td>10141</td>\n",
       "      <td>4.204693</td>\n",
       "      <td>NaN</td>\n",
       "      <td>0.0</td>\n",
       "      <td>Caucasian</td>\n",
       "      <td>M</td>\n",
       "      <td>5.186268</td>\n",
       "      <td>Floor</td>\n",
       "      <td>Floor</td>\n",
       "      <td>...</td>\n",
       "      <td>4.919981</td>\n",
       "      <td>3.250374</td>\n",
       "      <td>3.250374</td>\n",
       "      <td>0.0</td>\n",
       "      <td>0.0</td>\n",
       "      <td>0.0</td>\n",
       "      <td>0.0</td>\n",
       "      <td>0.0</td>\n",
       "      <td>0.0</td>\n",
       "      <td>0</td>\n",
       "    </tr>\n",
       "    <tr>\n",
       "      <th>4</th>\n",
       "      <td>141682</td>\n",
       "      <td>10141</td>\n",
       "      <td>4.499810</td>\n",
       "      <td>NaN</td>\n",
       "      <td>0.0</td>\n",
       "      <td>Caucasian</td>\n",
       "      <td>M</td>\n",
       "      <td>5.142832</td>\n",
       "      <td>Direct Admit</td>\n",
       "      <td>Accident &amp; Emergency</td>\n",
       "      <td>...</td>\n",
       "      <td>4.897840</td>\n",
       "      <td>1.974081</td>\n",
       "      <td>1.824549</td>\n",
       "      <td>0.0</td>\n",
       "      <td>0.0</td>\n",
       "      <td>0.0</td>\n",
       "      <td>0.0</td>\n",
       "      <td>0.0</td>\n",
       "      <td>0.0</td>\n",
       "      <td>0</td>\n",
       "    </tr>\n",
       "  </tbody>\n",
       "</table>\n",
       "<p>5 rows × 105 columns</p>\n",
       "</div>"
      ],
      "text/plain": [
       "   encounter_id  hospital_id       age  bmi  elective_surgery  ethnicity  \\\n",
       "0        144740        10141  4.290459  NaN               0.0  Caucasian   \n",
       "1        141990        10141  4.465908  NaN               0.0  Caucasian   \n",
       "2        142038        10141  4.290459  NaN               0.0  Caucasian   \n",
       "3        138628        10141  4.204693  NaN               0.0  Caucasian   \n",
       "4        141682        10141  4.499810  NaN               0.0  Caucasian   \n",
       "\n",
       "  gender    height hospital_admit_source      icu_admit_source  ...  \\\n",
       "0      F  5.033049                 Floor  Accident & Emergency  ...   \n",
       "1      F  5.172187  Emergency Department  Accident & Emergency  ...   \n",
       "2      F  5.097424                 Floor                 Floor  ...   \n",
       "3      M  5.186268                 Floor                 Floor  ...   \n",
       "4      M  5.142832          Direct Admit  Accident & Emergency  ...   \n",
       "\n",
       "   d1_sodium_min d1_wbc_max d1_wbc_min  aids  cirrhosis  hepatic_failure  \\\n",
       "0       4.875197   1.887070   1.856298   0.0        0.0              0.0   \n",
       "1       4.976734        NaN        NaN   0.0        0.0              0.0   \n",
       "2       4.927254   2.028148   1.722767   0.0        0.0              0.0   \n",
       "3       4.919981   3.250374   3.250374   0.0        0.0              0.0   \n",
       "4       4.897840   1.974081   1.824549   0.0        0.0              0.0   \n",
       "\n",
       "   immunosuppression  leukemia  lymphoma  target  \n",
       "0                0.0       0.0       0.0       0  \n",
       "1                0.0       0.0       0.0       0  \n",
       "2                0.0       0.0       0.0       0  \n",
       "3                0.0       0.0       0.0       0  \n",
       "4                0.0       0.0       0.0       0  \n",
       "\n",
       "[5 rows x 105 columns]"
      ]
     },
     "execution_count": 17,
     "metadata": {},
     "output_type": "execute_result"
    }
   ],
   "source": [
    "df.head()"
   ]
  },
  {
   "cell_type": "code",
   "execution_count": 18,
   "id": "88d2ce89",
   "metadata": {},
   "outputs": [
    {
     "name": "stdout",
     "output_type": "stream",
     "text": [
      "encounter_id :  0\n",
      "hospital_id :  0\n",
      "age :  0\n",
      "bmi :  1015\n",
      "elective_surgery :  0\n",
      "ethnicity :  204\n",
      "gender :  5\n",
      "height :  301\n",
      "hospital_admit_source :  2733\n",
      "icu_admit_source :  25\n",
      "icu_id :  0\n",
      "icu_stay_type :  0\n",
      "icu_type :  0\n",
      "pre_icu_los_days :  0\n",
      "readmission_status :  0\n",
      "weight :  908\n",
      "apache_2_diagnosis :  170\n",
      "apache_3j_diagnosis :  108\n",
      "apache_post_operative :  0\n",
      "arf_apache :  0\n",
      "bun_apache :  2061\n",
      "creatinine_apache :  2043\n",
      "gcs_eyes_apache :  205\n",
      "gcs_motor_apache :  205\n",
      "gcs_unable_apache :  61\n",
      "gcs_verbal_apache :  205\n",
      "glucose_apache :  1210\n",
      "heart_rate_apache :  30\n",
      "hematocrit_apache :  2114\n",
      "intubated_apache :  0\n",
      "map_apache :  52\n",
      "resprate_apache :  64\n",
      "sodium_apache :  1993\n",
      "temp_apache :  671\n",
      "ventilated_apache :  0\n",
      "wbc_apache :  2376\n",
      "d1_diasbp_max :  23\n",
      "d1_diasbp_min :  23\n",
      "d1_diasbp_noninvasive_max :  149\n",
      "d1_diasbp_noninvasive_min :  149\n",
      "d1_heartrate_max :  24\n",
      "d1_heartrate_min :  24\n",
      "d1_mbp_max :  37\n",
      "d1_mbp_min :  37\n",
      "d1_mbp_noninvasive_max :  212\n",
      "d1_mbp_noninvasive_min :  212\n",
      "d1_resprate_max :  55\n",
      "d1_resprate_min :  55\n",
      "d1_spo2_max :  62\n",
      "d1_spo2_min :  62\n",
      "d1_sysbp_max :  23\n",
      "d1_sysbp_min :  23\n",
      "d1_sysbp_noninvasive_max :  148\n",
      "d1_sysbp_noninvasive_min :  148\n",
      "d1_temp_max :  430\n",
      "d1_temp_min :  430\n",
      "h1_diasbp_max :  652\n",
      "h1_diasbp_min :  652\n",
      "h1_diasbp_noninvasive_max :  1156\n",
      "h1_diasbp_noninvasive_min :  1156\n",
      "h1_heartrate_max :  551\n",
      "h1_heartrate_min :  551\n",
      "h1_mbp_max :  797\n",
      "h1_mbp_min :  797\n",
      "h1_mbp_noninvasive_max :  1389\n",
      "h1_mbp_noninvasive_min :  1389\n",
      "h1_resprate_max :  724\n",
      "h1_resprate_min :  724\n",
      "h1_spo2_max :  726\n",
      "h1_spo2_min :  726\n",
      "h1_sysbp_max :  651\n",
      "h1_sysbp_min :  651\n",
      "h1_sysbp_noninvasive_max :  1155\n",
      "h1_sysbp_noninvasive_min :  1155\n",
      "h1_temp_max :  2654\n",
      "h1_temp_min :  2654\n",
      "d1_bun_max :  1108\n",
      "d1_bun_min :  1108\n",
      "d1_calcium_max :  1402\n",
      "d1_calcium_min :  1402\n",
      "d1_creatinine_max :  1091\n",
      "d1_creatinine_min :  1091\n",
      "d1_glucose_max :  681\n",
      "d1_glucose_min :  681\n",
      "d1_hco3_max :  1594\n",
      "d1_hco3_min :  1594\n",
      "d1_hemaglobin_max :  1249\n",
      "d1_hemaglobin_min :  1249\n",
      "d1_hematocrit_max :  1229\n",
      "d1_hematocrit_min :  1229\n",
      "d1_platelets_max :  1397\n",
      "d1_platelets_min :  1397\n",
      "d1_potassium_max :  970\n",
      "d1_potassium_min :  970\n",
      "d1_sodium_max :  1066\n",
      "d1_sodium_min :  1066\n",
      "d1_wbc_max :  1422\n",
      "d1_wbc_min :  1422\n",
      "aids :  0\n",
      "cirrhosis :  0\n",
      "hepatic_failure :  0\n",
      "immunosuppression :  0\n",
      "leukemia :  0\n",
      "lymphoma :  0\n",
      "target :  0\n"
     ]
    }
   ],
   "source": [
    "for i in df:\n",
    "    print(i, \": \", df[i].isna().sum())"
   ]
  },
  {
   "cell_type": "markdown",
   "id": "637da184",
   "metadata": {},
   "source": [
    "# Замена пропусков"
   ]
  },
  {
   "cell_type": "code",
   "execution_count": 19,
   "id": "4dc60dc6",
   "metadata": {},
   "outputs": [],
   "source": [
    "df_median = df.copy()\n",
    "for i in df_median[numerical]:\n",
    "    df_median[i] = df_median[i].fillna(df[i].median())\n",
    "# df_median[numerical] = df_median[numerical].apply(lambda x: df_median[x].fillna(df_median[x].median()))\n",
    "# df_median[numerical] = [df_median[i].fillna(df[i].median) for i in df_median[numerical]]"
   ]
  },
  {
   "cell_type": "code",
   "execution_count": 20,
   "id": "f961991e",
   "metadata": {},
   "outputs": [
    {
     "name": "stdout",
     "output_type": "stream",
     "text": [
      "encounter_id :  0\n",
      "hospital_id :  0\n",
      "age :  0\n",
      "bmi :  0\n",
      "elective_surgery :  0\n",
      "ethnicity :  204\n",
      "gender :  5\n",
      "height :  0\n",
      "hospital_admit_source :  2733\n",
      "icu_admit_source :  25\n",
      "icu_id :  0\n",
      "icu_stay_type :  0\n",
      "icu_type :  0\n",
      "pre_icu_los_days :  0\n",
      "readmission_status :  0\n",
      "weight :  0\n",
      "apache_2_diagnosis :  0\n",
      "apache_3j_diagnosis :  0\n",
      "apache_post_operative :  0\n",
      "arf_apache :  0\n",
      "bun_apache :  0\n",
      "creatinine_apache :  0\n",
      "gcs_eyes_apache :  0\n",
      "gcs_motor_apache :  0\n",
      "gcs_unable_apache :  0\n",
      "gcs_verbal_apache :  0\n",
      "glucose_apache :  0\n",
      "heart_rate_apache :  0\n",
      "hematocrit_apache :  0\n",
      "intubated_apache :  0\n",
      "map_apache :  0\n",
      "resprate_apache :  0\n",
      "sodium_apache :  0\n",
      "temp_apache :  0\n",
      "ventilated_apache :  0\n",
      "wbc_apache :  0\n",
      "d1_diasbp_max :  0\n",
      "d1_diasbp_min :  0\n",
      "d1_diasbp_noninvasive_max :  0\n",
      "d1_diasbp_noninvasive_min :  0\n",
      "d1_heartrate_max :  0\n",
      "d1_heartrate_min :  0\n",
      "d1_mbp_max :  0\n",
      "d1_mbp_min :  0\n",
      "d1_mbp_noninvasive_max :  0\n",
      "d1_mbp_noninvasive_min :  0\n",
      "d1_resprate_max :  0\n",
      "d1_resprate_min :  0\n",
      "d1_spo2_max :  0\n",
      "d1_spo2_min :  0\n",
      "d1_sysbp_max :  0\n",
      "d1_sysbp_min :  0\n",
      "d1_sysbp_noninvasive_max :  0\n",
      "d1_sysbp_noninvasive_min :  0\n",
      "d1_temp_max :  0\n",
      "d1_temp_min :  0\n",
      "h1_diasbp_max :  0\n",
      "h1_diasbp_min :  0\n",
      "h1_diasbp_noninvasive_max :  0\n",
      "h1_diasbp_noninvasive_min :  0\n",
      "h1_heartrate_max :  0\n",
      "h1_heartrate_min :  0\n",
      "h1_mbp_max :  0\n",
      "h1_mbp_min :  0\n",
      "h1_mbp_noninvasive_max :  0\n",
      "h1_mbp_noninvasive_min :  0\n",
      "h1_resprate_max :  0\n",
      "h1_resprate_min :  0\n",
      "h1_spo2_max :  0\n",
      "h1_spo2_min :  0\n",
      "h1_sysbp_max :  0\n",
      "h1_sysbp_min :  0\n",
      "h1_sysbp_noninvasive_max :  0\n",
      "h1_sysbp_noninvasive_min :  0\n",
      "h1_temp_max :  0\n",
      "h1_temp_min :  0\n",
      "d1_bun_max :  0\n",
      "d1_bun_min :  0\n",
      "d1_calcium_max :  0\n",
      "d1_calcium_min :  0\n",
      "d1_creatinine_max :  0\n",
      "d1_creatinine_min :  0\n",
      "d1_glucose_max :  0\n",
      "d1_glucose_min :  0\n",
      "d1_hco3_max :  0\n",
      "d1_hco3_min :  0\n",
      "d1_hemaglobin_max :  0\n",
      "d1_hemaglobin_min :  0\n",
      "d1_hematocrit_max :  0\n",
      "d1_hematocrit_min :  0\n",
      "d1_platelets_max :  0\n",
      "d1_platelets_min :  0\n",
      "d1_potassium_max :  0\n",
      "d1_potassium_min :  0\n",
      "d1_sodium_max :  0\n",
      "d1_sodium_min :  0\n",
      "d1_wbc_max :  0\n",
      "d1_wbc_min :  0\n",
      "aids :  0\n",
      "cirrhosis :  0\n",
      "hepatic_failure :  0\n",
      "immunosuppression :  0\n",
      "leukemia :  0\n",
      "lymphoma :  0\n",
      "target :  0\n"
     ]
    }
   ],
   "source": [
    "for i in df_median:\n",
    "    print(i, \": \", df_median[i].isna().sum())"
   ]
  },
  {
   "cell_type": "code",
   "execution_count": 21,
   "id": "a020e944",
   "metadata": {},
   "outputs": [
    {
     "name": "stdout",
     "output_type": "stream",
     "text": [
      "sign: ethnicity\n",
      "204\n",
      "6\n",
      "Caucasian           7939\n",
      "African American     931\n",
      "Hispanic             471\n",
      "Other/Unknown        435\n",
      "Asian                171\n",
      "Native American       83\n",
      "Name: ethnicity, dtype: int64\n",
      "sign: gender\n",
      "5\n",
      "2\n",
      "M    5525\n",
      "F    4704\n",
      "Name: gender, dtype: int64\n",
      "sign: hospital_admit_source\n",
      "2733\n",
      "10\n",
      "Emergency Department    3845\n",
      "Floor                   1121\n",
      "Operating Room          1110\n",
      "Direct Admit             696\n",
      "Recovery Room            405\n",
      "Other Hospital           173\n",
      "Step-Down Unit (SDU)      99\n",
      "Other ICU                 23\n",
      "Chest Pain Center         23\n",
      "ICU to SDU                 6\n",
      "Name: hospital_admit_source, dtype: int64\n",
      "sign: icu_admit_source\n",
      "25\n",
      "5\n",
      "Accident & Emergency         5974\n",
      "Operating Room / Recovery    2258\n",
      "Floor                        1656\n",
      "Other Hospital                253\n",
      "Other ICU                      68\n",
      "Name: icu_admit_source, dtype: int64\n",
      "sign: icu_stay_type\n",
      "0\n",
      "3\n",
      "admit       10088\n",
      "transfer      121\n",
      "readmit        25\n",
      "Name: icu_stay_type, dtype: int64\n",
      "sign: icu_type\n",
      "0\n",
      "8\n",
      "Med-Surg ICU    5570\n",
      "CCU-CTICU        896\n",
      "MICU             878\n",
      "Neuro ICU        778\n",
      "SICU             692\n",
      "Cardiac ICU      691\n",
      "CSICU            384\n",
      "CTICU            345\n",
      "Name: icu_type, dtype: int64\n"
     ]
    }
   ],
   "source": [
    "for i in categorical:\n",
    "    print(f\"sign: {i}\")\n",
    "    print(df_median[i].isna().sum())\n",
    "    print(df_median[i].nunique())\n",
    "    print(df_median[i].value_counts())"
   ]
  },
  {
   "cell_type": "code",
   "execution_count": 22,
   "id": "9b64c3ae",
   "metadata": {},
   "outputs": [
    {
     "data": {
      "text/plain": [
       "0.7107932379713914"
      ]
     },
     "execution_count": 22,
     "metadata": {},
     "output_type": "execute_result"
    }
   ],
   "source": [
    "2733/3845"
   ]
  },
  {
   "cell_type": "markdown",
   "id": "2d29c8a4",
   "metadata": {},
   "source": [
    "* стоит удалить hospital_admit_source, тк если добавить их в моду значение в признаке увеличется на 70%"
   ]
  },
  {
   "cell_type": "code",
   "execution_count": 23,
   "id": "366721cb",
   "metadata": {},
   "outputs": [],
   "source": [
    "df_median = df_median.drop(\"hospital_admit_source\", axis=1)"
   ]
  },
  {
   "cell_type": "code",
   "execution_count": 24,
   "id": "3a9313e7",
   "metadata": {},
   "outputs": [],
   "source": [
    "categorical = list(categorical)"
   ]
  },
  {
   "cell_type": "code",
   "execution_count": 25,
   "id": "64d51c34",
   "metadata": {},
   "outputs": [],
   "source": [
    "categorical.remove(\"hospital_admit_source\")"
   ]
  },
  {
   "cell_type": "code",
   "execution_count": 26,
   "id": "a99765af",
   "metadata": {},
   "outputs": [
    {
     "data": {
      "text/plain": [
       "['ethnicity', 'gender', 'icu_admit_source', 'icu_stay_type', 'icu_type']"
      ]
     },
     "execution_count": 26,
     "metadata": {},
     "output_type": "execute_result"
    }
   ],
   "source": [
    "categorical"
   ]
  },
  {
   "cell_type": "code",
   "execution_count": 27,
   "id": "dad44520",
   "metadata": {},
   "outputs": [],
   "source": [
    "df_median[categorical] = df_median[categorical].astype(str)"
   ]
  },
  {
   "cell_type": "code",
   "execution_count": 28,
   "id": "8eb7689f",
   "metadata": {},
   "outputs": [],
   "source": [
    "# for column in df_median:\n",
    "#     df_median[column].fillna(df_median[column].mode()[0], inplace=True)"
   ]
  },
  {
   "cell_type": "code",
   "execution_count": 29,
   "id": "052c5152",
   "metadata": {},
   "outputs": [
    {
     "data": {
      "text/html": [
       "<div>\n",
       "<style scoped>\n",
       "    .dataframe tbody tr th:only-of-type {\n",
       "        vertical-align: middle;\n",
       "    }\n",
       "\n",
       "    .dataframe tbody tr th {\n",
       "        vertical-align: top;\n",
       "    }\n",
       "\n",
       "    .dataframe thead th {\n",
       "        text-align: right;\n",
       "    }\n",
       "</style>\n",
       "<table border=\"1\" class=\"dataframe\">\n",
       "  <thead>\n",
       "    <tr style=\"text-align: right;\">\n",
       "      <th></th>\n",
       "      <th>ethnicity</th>\n",
       "      <th>gender</th>\n",
       "      <th>icu_admit_source</th>\n",
       "      <th>icu_stay_type</th>\n",
       "      <th>icu_type</th>\n",
       "    </tr>\n",
       "  </thead>\n",
       "  <tbody>\n",
       "    <tr>\n",
       "      <th>0</th>\n",
       "      <td>Caucasian</td>\n",
       "      <td>F</td>\n",
       "      <td>Accident &amp; Emergency</td>\n",
       "      <td>admit</td>\n",
       "      <td>Med-Surg ICU</td>\n",
       "    </tr>\n",
       "    <tr>\n",
       "      <th>1</th>\n",
       "      <td>Caucasian</td>\n",
       "      <td>F</td>\n",
       "      <td>Accident &amp; Emergency</td>\n",
       "      <td>admit</td>\n",
       "      <td>Med-Surg ICU</td>\n",
       "    </tr>\n",
       "    <tr>\n",
       "      <th>2</th>\n",
       "      <td>Caucasian</td>\n",
       "      <td>F</td>\n",
       "      <td>Floor</td>\n",
       "      <td>admit</td>\n",
       "      <td>Med-Surg ICU</td>\n",
       "    </tr>\n",
       "    <tr>\n",
       "      <th>3</th>\n",
       "      <td>Caucasian</td>\n",
       "      <td>M</td>\n",
       "      <td>Floor</td>\n",
       "      <td>admit</td>\n",
       "      <td>Med-Surg ICU</td>\n",
       "    </tr>\n",
       "    <tr>\n",
       "      <th>4</th>\n",
       "      <td>Caucasian</td>\n",
       "      <td>M</td>\n",
       "      <td>Accident &amp; Emergency</td>\n",
       "      <td>admit</td>\n",
       "      <td>Med-Surg ICU</td>\n",
       "    </tr>\n",
       "    <tr>\n",
       "      <th>...</th>\n",
       "      <td>...</td>\n",
       "      <td>...</td>\n",
       "      <td>...</td>\n",
       "      <td>...</td>\n",
       "      <td>...</td>\n",
       "    </tr>\n",
       "    <tr>\n",
       "      <th>10229</th>\n",
       "      <td>Caucasian</td>\n",
       "      <td>F</td>\n",
       "      <td>Floor</td>\n",
       "      <td>admit</td>\n",
       "      <td>Med-Surg ICU</td>\n",
       "    </tr>\n",
       "    <tr>\n",
       "      <th>10230</th>\n",
       "      <td>Caucasian</td>\n",
       "      <td>F</td>\n",
       "      <td>Accident &amp; Emergency</td>\n",
       "      <td>admit</td>\n",
       "      <td>Med-Surg ICU</td>\n",
       "    </tr>\n",
       "    <tr>\n",
       "      <th>10231</th>\n",
       "      <td>Caucasian</td>\n",
       "      <td>F</td>\n",
       "      <td>Floor</td>\n",
       "      <td>admit</td>\n",
       "      <td>Med-Surg ICU</td>\n",
       "    </tr>\n",
       "    <tr>\n",
       "      <th>10232</th>\n",
       "      <td>Caucasian</td>\n",
       "      <td>F</td>\n",
       "      <td>Accident &amp; Emergency</td>\n",
       "      <td>admit</td>\n",
       "      <td>Med-Surg ICU</td>\n",
       "    </tr>\n",
       "    <tr>\n",
       "      <th>10233</th>\n",
       "      <td>Caucasian</td>\n",
       "      <td>M</td>\n",
       "      <td>Accident &amp; Emergency</td>\n",
       "      <td>admit</td>\n",
       "      <td>Med-Surg ICU</td>\n",
       "    </tr>\n",
       "  </tbody>\n",
       "</table>\n",
       "<p>7939 rows × 5 columns</p>\n",
       "</div>"
      ],
      "text/plain": [
       "       ethnicity gender      icu_admit_source icu_stay_type      icu_type\n",
       "0      Caucasian      F  Accident & Emergency         admit  Med-Surg ICU\n",
       "1      Caucasian      F  Accident & Emergency         admit  Med-Surg ICU\n",
       "2      Caucasian      F                 Floor         admit  Med-Surg ICU\n",
       "3      Caucasian      M                 Floor         admit  Med-Surg ICU\n",
       "4      Caucasian      M  Accident & Emergency         admit  Med-Surg ICU\n",
       "...          ...    ...                   ...           ...           ...\n",
       "10229  Caucasian      F                 Floor         admit  Med-Surg ICU\n",
       "10230  Caucasian      F  Accident & Emergency         admit  Med-Surg ICU\n",
       "10231  Caucasian      F                 Floor         admit  Med-Surg ICU\n",
       "10232  Caucasian      F  Accident & Emergency         admit  Med-Surg ICU\n",
       "10233  Caucasian      M  Accident & Emergency         admit  Med-Surg ICU\n",
       "\n",
       "[7939 rows x 5 columns]"
      ]
     },
     "execution_count": 29,
     "metadata": {},
     "output_type": "execute_result"
    }
   ],
   "source": [
    "df_median[categorical].loc[df_median[\"ethnicity\"] ==\"Caucasian\" ]"
   ]
  },
  {
   "cell_type": "code",
   "execution_count": 30,
   "id": "c55435ac",
   "metadata": {},
   "outputs": [],
   "source": [
    "for i in df_median:\n",
    "    check = df_median[i].isna().sum()\n",
    "    if check != 0:\n",
    "        print(i)\n",
    "        print(df_median[i].isna().sum())\n"
   ]
  },
  {
   "cell_type": "markdown",
   "id": "f025524f",
   "metadata": {},
   "source": [
    "# Обучение"
   ]
  },
  {
   "cell_type": "code",
   "execution_count": 31,
   "id": "81b7d1c7",
   "metadata": {},
   "outputs": [
    {
     "name": "stdout",
     "output_type": "stream",
     "text": [
      "(6549, 103) (2047, 103) (6549,) (2047,) (1638, 103) (1638,)\n"
     ]
    }
   ],
   "source": [
    "x_train, x_valid, y_train, y_valid, x_test, y_test = train_split(df_median)"
   ]
  },
  {
   "cell_type": "code",
   "execution_count": 32,
   "id": "a3704c9a",
   "metadata": {},
   "outputs": [
    {
     "name": "stdout",
     "output_type": "stream",
     "text": [
      "181\n"
     ]
    },
    {
     "data": {
      "text/plain": [
       "118"
      ]
     },
     "execution_count": 32,
     "metadata": {},
     "output_type": "execute_result"
    }
   ],
   "source": [
    "print((df_median['target'] == 1).sum())\n",
    "(y_train == 1).sum()"
   ]
  },
  {
   "cell_type": "code",
   "execution_count": 33,
   "id": "4f8ace53",
   "metadata": {},
   "outputs": [
    {
     "name": "stdout",
     "output_type": "stream",
     "text": [
      "roc_auc_score:  0.5\n",
      "confusion_matrix:  [[2017    0]\n",
      " [  30    0]]\n",
      "accuracy_score:  0.9853444064484611\n",
      "classification_report:                precision    recall  f1-score   support\n",
      "\n",
      "           0       0.99      1.00      0.99      2017\n",
      "           1       0.00      0.00      0.00        30\n",
      "\n",
      "    accuracy                           0.99      2047\n",
      "   macro avg       0.49      0.50      0.50      2047\n",
      "weighted avg       0.97      0.99      0.98      2047\n",
      "\n"
     ]
    },
    {
     "name": "stderr",
     "output_type": "stream",
     "text": [
      "c:\\program files\\python37\\lib\\site-packages\\sklearn\\metrics\\_classification.py:1308: UndefinedMetricWarning: Precision and F-score are ill-defined and being set to 0.0 in labels with no predicted samples. Use `zero_division` parameter to control this behavior.\n",
      "  _warn_prf(average, modifier, msg_start, len(result))\n",
      "c:\\program files\\python37\\lib\\site-packages\\sklearn\\metrics\\_classification.py:1308: UndefinedMetricWarning: Precision and F-score are ill-defined and being set to 0.0 in labels with no predicted samples. Use `zero_division` parameter to control this behavior.\n",
      "  _warn_prf(average, modifier, msg_start, len(result))\n",
      "c:\\program files\\python37\\lib\\site-packages\\sklearn\\metrics\\_classification.py:1308: UndefinedMetricWarning: Precision and F-score are ill-defined and being set to 0.0 in labels with no predicted samples. Use `zero_division` parameter to control this behavior.\n",
      "  _warn_prf(average, modifier, msg_start, len(result))\n"
     ]
    }
   ],
   "source": [
    "pred = catboost_base(x_train, x_valid, y_train, y_valid, categorical)"
   ]
  },
  {
   "cell_type": "code",
   "execution_count": 34,
   "id": "3031b6e0",
   "metadata": {},
   "outputs": [
    {
     "name": "stdout",
     "output_type": "stream",
     "text": [
      "              precision    recall  f1-score   support\n",
      "\n",
      "           0       0.99      1.00      0.99      2017\n",
      "\n",
      "   micro avg       0.99      1.00      0.99      2017\n",
      "   macro avg       0.99      1.00      0.99      2017\n",
      "weighted avg       0.99      1.00      0.99      2017\n",
      "\n"
     ]
    }
   ],
   "source": [
    "print(classification_report(y_valid, pred, labels=np.unique(pred)))"
   ]
  },
  {
   "cell_type": "markdown",
   "id": "d9f30aee",
   "metadata": {},
   "source": [
    "# catboost class_weights"
   ]
  },
  {
   "cell_type": "code",
   "execution_count": null,
   "id": "01233848",
   "metadata": {},
   "outputs": [],
   "source": []
  },
  {
   "cell_type": "code",
   "execution_count": 35,
   "id": "086ee5d2",
   "metadata": {},
   "outputs": [],
   "source": [
    "# class_weights\n",
    "\n",
    "# CatBoost\n",
    "cb_params = {\n",
    "    \"n_estimators\": 2000,\n",
    "    \"learning_rate\": 0.001,\n",
    "    \"loss_function\": \"Logloss\",\n",
    "    \"eval_metric\": \"AUC\",\n",
    "    \"task_type\": \"CPU\",\n",
    "    \"max_bin\": 20,\n",
    "    \"verbose\": False,\n",
    "    \"max_depth\": 6,\n",
    "    \"l2_leaf_reg\": 10,\n",
    "    \"early_stopping_rounds\": 50,\n",
    "    \"thread_count\": 6,\n",
    "    \"random_seed\": 42,\n",
    "    \"class_weights\":(1,56)\n",
    "    }\n",
    "\n"
   ]
  },
  {
   "cell_type": "code",
   "execution_count": 36,
   "id": "a0fa5d6c",
   "metadata": {},
   "outputs": [
    {
     "name": "stdout",
     "output_type": "stream",
     "text": [
      "118\n",
      "6431\n"
     ]
    },
    {
     "data": {
      "text/plain": [
       "54"
      ]
     },
     "execution_count": 36,
     "metadata": {},
     "output_type": "execute_result"
    }
   ],
   "source": [
    "print((y_train==1).sum())\n",
    "print((y_train==0).sum())\n",
    "(y_train==0).sum() // (y_train==1).sum()"
   ]
  },
  {
   "cell_type": "code",
   "execution_count": 37,
   "id": "54503b8b",
   "metadata": {},
   "outputs": [
    {
     "data": {
      "application/vnd.jupyter.widget-view+json": {
       "model_id": "3b28a7bc047d412e9067794f06cced29",
       "version_major": 2,
       "version_minor": 0
      },
      "text/plain": [
       "MetricVisualizer(layout=Layout(align_self='stretch', height='500px'))"
      ]
     },
     "metadata": {},
     "output_type": "display_data"
    },
    {
     "data": {
      "text/plain": [
       "<catboost.core.CatBoostClassifier at 0x29c6bbe2d08>"
      ]
     },
     "execution_count": 37,
     "metadata": {},
     "output_type": "execute_result"
    }
   ],
   "source": [
    "model_cb_w = cb.CatBoostClassifier(**cb_params)\n",
    "model_cb_w.fit(x_train, \n",
    "               y_train,\n",
    "               cat_features=categorical, \n",
    "               eval_set = [(x_train, y_train), (x_valid, y_valid)], \n",
    "               plot= True)\n"
   ]
  },
  {
   "cell_type": "code",
   "execution_count": 38,
   "id": "618bf2e2",
   "metadata": {},
   "outputs": [
    {
     "name": "stdout",
     "output_type": "stream",
     "text": [
      "              precision    recall  f1-score   support\n",
      "\n",
      "           0       0.98      0.98      0.98      1605\n",
      "           1       0.21      0.21      0.21        33\n",
      "\n",
      "    accuracy                           0.97      1638\n",
      "   macro avg       0.60      0.60      0.60      1638\n",
      "weighted avg       0.97      0.97      0.97      1638\n",
      "\n",
      "roc_auc_score:  0.5979609175870858\n",
      "confusion_matrix:  [[1579   26]\n",
      " [  26    7]]\n"
     ]
    }
   ],
   "source": [
    "pred = model_cb_w.predict(x_test)\n",
    "print(classification_report(y_test, pred, labels=np.unique(pred)))\n",
    "print(\"roc_auc_score: \",roc_auc_score(y_test, pred))\n",
    "print(\"confusion_matrix: \",confusion_matrix(y_test, pred))"
   ]
  },
  {
   "cell_type": "code",
   "execution_count": 39,
   "id": "e5aeaec9",
   "metadata": {},
   "outputs": [
    {
     "name": "stdout",
     "output_type": "stream",
     "text": [
      "              precision    recall  f1-score   support\n",
      "\n",
      "           0       0.98      1.00      0.99      1605\n",
      "\n",
      "   micro avg       0.98      1.00      0.99      1605\n",
      "   macro avg       0.98      1.00      0.99      1605\n",
      "weighted avg       0.98      1.00      0.99      1605\n",
      "\n",
      "roc_auc_score:  0.5\n",
      "confusion_matrix:  [[1605    0]\n",
      " [  33    0]]\n"
     ]
    }
   ],
   "source": [
    "model_cb_w.set_probability_threshold(0.8)\n",
    "pred = model_cb_w.predict(x_test)\n",
    "print(classification_report(y_test, pred, labels=np.unique(pred)))\n",
    "print(\"roc_auc_score: \",roc_auc_score(y_test, pred))\n",
    "print(\"confusion_matrix: \",confusion_matrix(y_test, pred))"
   ]
  },
  {
   "cell_type": "code",
   "execution_count": 40,
   "id": "dae6c4c1",
   "metadata": {},
   "outputs": [
    {
     "name": "stdout",
     "output_type": "stream",
     "text": [
      "              precision    recall  f1-score   support\n",
      "\n",
      "           1       0.02      1.00      0.04        33\n",
      "\n",
      "   micro avg       0.02      1.00      0.04        33\n",
      "   macro avg       0.02      1.00      0.04        33\n",
      "weighted avg       0.02      1.00      0.04        33\n",
      "\n",
      "roc_auc_score:  0.5\n",
      "confusion_matrix:  [[   0 1605]\n",
      " [   0   33]]\n"
     ]
    }
   ],
   "source": [
    "model_cb_w.set_probability_threshold(0.4)\n",
    "pred = model_cb_w.predict(x_test)\n",
    "print(classification_report(y_test, pred, labels=np.unique(pred)))\n",
    "print(\"roc_auc_score: \",roc_auc_score(y_test, pred))\n",
    "print(\"confusion_matrix: \",confusion_matrix(y_test, pred))"
   ]
  },
  {
   "cell_type": "code",
   "execution_count": 41,
   "id": "00eb3648",
   "metadata": {},
   "outputs": [
    {
     "name": "stdout",
     "output_type": "stream",
     "text": [
      "              precision    recall  f1-score   support\n",
      "\n",
      "           1       0.02      1.00      0.04        33\n",
      "\n",
      "   micro avg       0.02      1.00      0.04        33\n",
      "   macro avg       0.02      1.00      0.04        33\n",
      "weighted avg       0.02      1.00      0.04        33\n",
      "\n",
      "roc_auc_score:  0.5\n",
      "confusion_matrix:  [[   0 1605]\n",
      " [   0   33]]\n"
     ]
    }
   ],
   "source": [
    "model_cb_w.set_probability_threshold(0.4)\n",
    "pred = model_cb_w.predict(x_test)\n",
    "print(classification_report(y_test, pred, labels=np.unique(pred)))\n",
    "print(\"roc_auc_score: \",roc_auc_score(y_test, pred))\n",
    "print(\"confusion_matrix: \",confusion_matrix(y_test, pred))"
   ]
  },
  {
   "cell_type": "markdown",
   "id": "3af5a39b",
   "metadata": {},
   "source": [
    "# imbalance class"
   ]
  },
  {
   "cell_type": "code",
   "execution_count": 42,
   "id": "575eaef1",
   "metadata": {},
   "outputs": [
    {
     "data": {
      "text/plain": [
       "0    10053\n",
       "1      181\n",
       "Name: target, dtype: int64"
      ]
     },
     "execution_count": 42,
     "metadata": {},
     "output_type": "execute_result"
    }
   ],
   "source": [
    "df_median[\"target\"].value_counts()"
   ]
  },
  {
   "cell_type": "code",
   "execution_count": 43,
   "id": "4cf18bfd",
   "metadata": {},
   "outputs": [
    {
     "name": "stdout",
     "output_type": "stream",
     "text": [
      "(543, 104)\n"
     ]
    },
    {
     "data": {
      "text/html": [
       "<div>\n",
       "<style scoped>\n",
       "    .dataframe tbody tr th:only-of-type {\n",
       "        vertical-align: middle;\n",
       "    }\n",
       "\n",
       "    .dataframe tbody tr th {\n",
       "        vertical-align: top;\n",
       "    }\n",
       "\n",
       "    .dataframe thead th {\n",
       "        text-align: right;\n",
       "    }\n",
       "</style>\n",
       "<table border=\"1\" class=\"dataframe\">\n",
       "  <thead>\n",
       "    <tr style=\"text-align: right;\">\n",
       "      <th></th>\n",
       "      <th>encounter_id</th>\n",
       "      <th>hospital_id</th>\n",
       "      <th>age</th>\n",
       "      <th>bmi</th>\n",
       "      <th>elective_surgery</th>\n",
       "      <th>ethnicity</th>\n",
       "      <th>gender</th>\n",
       "      <th>height</th>\n",
       "      <th>icu_admit_source</th>\n",
       "      <th>icu_id</th>\n",
       "      <th>...</th>\n",
       "      <th>d1_sodium_min</th>\n",
       "      <th>d1_wbc_max</th>\n",
       "      <th>d1_wbc_min</th>\n",
       "      <th>aids</th>\n",
       "      <th>cirrhosis</th>\n",
       "      <th>hepatic_failure</th>\n",
       "      <th>immunosuppression</th>\n",
       "      <th>leukemia</th>\n",
       "      <th>lymphoma</th>\n",
       "      <th>target</th>\n",
       "    </tr>\n",
       "  </thead>\n",
       "  <tbody>\n",
       "    <tr>\n",
       "      <th>0</th>\n",
       "      <td>143445</td>\n",
       "      <td>10166</td>\n",
       "      <td>3.637586</td>\n",
       "      <td>3.353407</td>\n",
       "      <td>0.0</td>\n",
       "      <td>Caucasian</td>\n",
       "      <td>F</td>\n",
       "      <td>5.097424</td>\n",
       "      <td>Floor</td>\n",
       "      <td>4.564348</td>\n",
       "      <td>...</td>\n",
       "      <td>4.941642</td>\n",
       "      <td>1.94591</td>\n",
       "      <td>1.94591</td>\n",
       "      <td>0.0</td>\n",
       "      <td>0.0</td>\n",
       "      <td>0.0</td>\n",
       "      <td>0.693147</td>\n",
       "      <td>0.0</td>\n",
       "      <td>0.0</td>\n",
       "      <td>1</td>\n",
       "    </tr>\n",
       "    <tr>\n",
       "      <th>1</th>\n",
       "      <td>143445</td>\n",
       "      <td>10166</td>\n",
       "      <td>3.637586</td>\n",
       "      <td>3.353407</td>\n",
       "      <td>0.0</td>\n",
       "      <td>Caucasian</td>\n",
       "      <td>F</td>\n",
       "      <td>5.097424</td>\n",
       "      <td>Floor</td>\n",
       "      <td>4.564348</td>\n",
       "      <td>...</td>\n",
       "      <td>4.941642</td>\n",
       "      <td>1.94591</td>\n",
       "      <td>1.94591</td>\n",
       "      <td>0.0</td>\n",
       "      <td>0.0</td>\n",
       "      <td>0.0</td>\n",
       "      <td>0.693147</td>\n",
       "      <td>0.0</td>\n",
       "      <td>0.0</td>\n",
       "      <td>1</td>\n",
       "    </tr>\n",
       "    <tr>\n",
       "      <th>2</th>\n",
       "      <td>143445</td>\n",
       "      <td>10166</td>\n",
       "      <td>3.637586</td>\n",
       "      <td>3.353407</td>\n",
       "      <td>0.0</td>\n",
       "      <td>Caucasian</td>\n",
       "      <td>F</td>\n",
       "      <td>5.097424</td>\n",
       "      <td>Floor</td>\n",
       "      <td>4.564348</td>\n",
       "      <td>...</td>\n",
       "      <td>4.941642</td>\n",
       "      <td>1.94591</td>\n",
       "      <td>1.94591</td>\n",
       "      <td>0.0</td>\n",
       "      <td>0.0</td>\n",
       "      <td>0.0</td>\n",
       "      <td>0.693147</td>\n",
       "      <td>0.0</td>\n",
       "      <td>0.0</td>\n",
       "      <td>1</td>\n",
       "    </tr>\n",
       "    <tr>\n",
       "      <th>3</th>\n",
       "      <td>145267</td>\n",
       "      <td>10156</td>\n",
       "      <td>4.110874</td>\n",
       "      <td>3.353407</td>\n",
       "      <td>0.0</td>\n",
       "      <td>Caucasian</td>\n",
       "      <td>M</td>\n",
       "      <td>5.172187</td>\n",
       "      <td>Accident &amp; Emergency</td>\n",
       "      <td>4.51086</td>\n",
       "      <td>...</td>\n",
       "      <td>4.934474</td>\n",
       "      <td>2.292535</td>\n",
       "      <td>2.292535</td>\n",
       "      <td>0.0</td>\n",
       "      <td>0.0</td>\n",
       "      <td>0.0</td>\n",
       "      <td>0.0</td>\n",
       "      <td>0.0</td>\n",
       "      <td>0.0</td>\n",
       "      <td>1</td>\n",
       "    </tr>\n",
       "    <tr>\n",
       "      <th>4</th>\n",
       "      <td>145267</td>\n",
       "      <td>10156</td>\n",
       "      <td>4.110874</td>\n",
       "      <td>3.353407</td>\n",
       "      <td>0.0</td>\n",
       "      <td>Caucasian</td>\n",
       "      <td>M</td>\n",
       "      <td>5.172187</td>\n",
       "      <td>Accident &amp; Emergency</td>\n",
       "      <td>4.51086</td>\n",
       "      <td>...</td>\n",
       "      <td>4.934474</td>\n",
       "      <td>2.292535</td>\n",
       "      <td>2.292535</td>\n",
       "      <td>0.0</td>\n",
       "      <td>0.0</td>\n",
       "      <td>0.0</td>\n",
       "      <td>0.0</td>\n",
       "      <td>0.0</td>\n",
       "      <td>0.0</td>\n",
       "      <td>1</td>\n",
       "    </tr>\n",
       "  </tbody>\n",
       "</table>\n",
       "<p>5 rows × 104 columns</p>\n",
       "</div>"
      ],
      "text/plain": [
       "  encounter_id hospital_id       age       bmi elective_surgery  ethnicity  \\\n",
       "0       143445       10166  3.637586  3.353407              0.0  Caucasian   \n",
       "1       143445       10166  3.637586  3.353407              0.0  Caucasian   \n",
       "2       143445       10166  3.637586  3.353407              0.0  Caucasian   \n",
       "3       145267       10156  4.110874  3.353407              0.0  Caucasian   \n",
       "4       145267       10156  4.110874  3.353407              0.0  Caucasian   \n",
       "\n",
       "  gender    height      icu_admit_source    icu_id  ... d1_sodium_min  \\\n",
       "0      F  5.097424                 Floor  4.564348  ...      4.941642   \n",
       "1      F  5.097424                 Floor  4.564348  ...      4.941642   \n",
       "2      F  5.097424                 Floor  4.564348  ...      4.941642   \n",
       "3      M  5.172187  Accident & Emergency   4.51086  ...      4.934474   \n",
       "4      M  5.172187  Accident & Emergency   4.51086  ...      4.934474   \n",
       "\n",
       "  d1_wbc_max d1_wbc_min aids cirrhosis hepatic_failure immunosuppression  \\\n",
       "0    1.94591    1.94591  0.0       0.0             0.0          0.693147   \n",
       "1    1.94591    1.94591  0.0       0.0             0.0          0.693147   \n",
       "2    1.94591    1.94591  0.0       0.0             0.0          0.693147   \n",
       "3   2.292535   2.292535  0.0       0.0             0.0               0.0   \n",
       "4   2.292535   2.292535  0.0       0.0             0.0               0.0   \n",
       "\n",
       "  leukemia lymphoma target  \n",
       "0      0.0      0.0      1  \n",
       "1      0.0      0.0      1  \n",
       "2      0.0      0.0      1  \n",
       "3      0.0      0.0      1  \n",
       "4      0.0      0.0      1  \n",
       "\n",
       "[5 rows x 104 columns]"
      ]
     },
     "execution_count": 43,
     "metadata": {},
     "output_type": "execute_result"
    }
   ],
   "source": [
    "newdf = pd.DataFrame(np.repeat(df_median.loc[df_median['target'] == 1].values, 3, axis=0))\n",
    "newdf.columns = df_median.columns\n",
    "print(newdf.shape)\n",
    "newdf.head()"
   ]
  },
  {
   "cell_type": "code",
   "execution_count": 44,
   "id": "e07ed496",
   "metadata": {},
   "outputs": [],
   "source": [
    "df_balance_1 = df_median.loc[df_median['target'] == 0].sample(n= 500)"
   ]
  },
  {
   "cell_type": "code",
   "execution_count": null,
   "id": "3ffb3ee5",
   "metadata": {},
   "outputs": [],
   "source": []
  },
  {
   "cell_type": "code",
   "execution_count": 45,
   "id": "82e18abe",
   "metadata": {},
   "outputs": [],
   "source": [
    "data_balance = pd.concat([df_balance_1, newdf])"
   ]
  },
  {
   "cell_type": "code",
   "execution_count": 46,
   "id": "dd4089b6",
   "metadata": {},
   "outputs": [
    {
     "name": "stdout",
     "output_type": "stream",
     "text": [
      "(1043, 104)\n"
     ]
    },
    {
     "data": {
      "text/plain": [
       "1    543\n",
       "0    500\n",
       "Name: target, dtype: int64"
      ]
     },
     "execution_count": 46,
     "metadata": {},
     "output_type": "execute_result"
    }
   ],
   "source": [
    "print(data_balance.shape)\n",
    "data_balance[\"target\"].value_counts()"
   ]
  },
  {
   "cell_type": "code",
   "execution_count": 47,
   "id": "c5fab524",
   "metadata": {},
   "outputs": [
    {
     "name": "stdout",
     "output_type": "stream",
     "text": [
      "(667, 103) (209, 103) (667,) (209,) (167, 103) (167,)\n"
     ]
    }
   ],
   "source": [
    "x_train, x_valid, y_train, y_valid, x_test, y_test = train_split(data_balance)"
   ]
  },
  {
   "cell_type": "code",
   "execution_count": 48,
   "id": "5f278dfe",
   "metadata": {},
   "outputs": [],
   "source": [
    "# x_train, x_valid, y_train, y_valid = train_test_split(data_balance.drop( \"target\", axis=1), data_balance[\"target\"], test_size = 0.2)\n",
    "# x_train.shape, x_valid.shape, y_train.shape, y_valid.shape"
   ]
  },
  {
   "cell_type": "code",
   "execution_count": 49,
   "id": "27245935",
   "metadata": {},
   "outputs": [
    {
     "data": {
      "application/vnd.jupyter.widget-view+json": {
       "model_id": "f243ba4ff6c94b4d928cf34f938d99ad",
       "version_major": 2,
       "version_minor": 0
      },
      "text/plain": [
       "MetricVisualizer(layout=Layout(align_self='stretch', height='500px'))"
      ]
     },
     "metadata": {},
     "output_type": "display_data"
    },
    {
     "data": {
      "text/plain": [
       "<catboost.core.CatBoostClassifier at 0x29c69845908>"
      ]
     },
     "execution_count": 49,
     "metadata": {},
     "output_type": "execute_result"
    }
   ],
   "source": [
    "model_cb_balance = cb.CatBoostClassifier(**cb_params)\n",
    "model_cb_balance.fit(x_train, \n",
    "                     y_train,\n",
    "                     cat_features=categorical,\n",
    "                     eval_set =[(x_train, y_train), (x_valid, y_valid)], \n",
    "                     plot= True)\n"
   ]
  },
  {
   "cell_type": "code",
   "execution_count": 50,
   "id": "7527bbf6",
   "metadata": {},
   "outputs": [],
   "source": [
    "y_test = y_test.astype(\"float64\")"
   ]
  },
  {
   "cell_type": "code",
   "execution_count": 51,
   "id": "733eeca3",
   "metadata": {},
   "outputs": [
    {
     "name": "stdout",
     "output_type": "stream",
     "text": [
      "              precision    recall  f1-score   support\n",
      "\n",
      "         0.0       0.00      0.00      0.00        88\n",
      "         1.0       0.47      1.00      0.64        79\n",
      "\n",
      "    accuracy                           0.47       167\n",
      "   macro avg       0.24      0.50      0.32       167\n",
      "weighted avg       0.22      0.47      0.30       167\n",
      "\n",
      "roc_auc_score:  0.5\n",
      "confusion_matrix:  [[ 0 88]\n",
      " [ 0 79]]\n"
     ]
    },
    {
     "name": "stderr",
     "output_type": "stream",
     "text": [
      "c:\\program files\\python37\\lib\\site-packages\\sklearn\\metrics\\_classification.py:1308: UndefinedMetricWarning: Precision and F-score are ill-defined and being set to 0.0 in labels with no predicted samples. Use `zero_division` parameter to control this behavior.\n",
      "  _warn_prf(average, modifier, msg_start, len(result))\n",
      "c:\\program files\\python37\\lib\\site-packages\\sklearn\\metrics\\_classification.py:1308: UndefinedMetricWarning: Precision and F-score are ill-defined and being set to 0.0 in labels with no predicted samples. Use `zero_division` parameter to control this behavior.\n",
      "  _warn_prf(average, modifier, msg_start, len(result))\n",
      "c:\\program files\\python37\\lib\\site-packages\\sklearn\\metrics\\_classification.py:1308: UndefinedMetricWarning: Precision and F-score are ill-defined and being set to 0.0 in labels with no predicted samples. Use `zero_division` parameter to control this behavior.\n",
      "  _warn_prf(average, modifier, msg_start, len(result))\n"
     ]
    }
   ],
   "source": [
    "pred = model_cb_balance.predict(x_test)\n",
    "print(classification_report(y_test, pred))\n",
    "print(\"roc_auc_score: \",roc_auc_score(y_test, pred))\n",
    "print(\"confusion_matrix: \",confusion_matrix(y_test, pred))"
   ]
  },
  {
   "cell_type": "markdown",
   "id": "acb55cc4",
   "metadata": {},
   "source": [
    "# non_lianer"
   ]
  },
  {
   "cell_type": "code",
   "execution_count": 52,
   "id": "d6425d37",
   "metadata": {},
   "outputs": [],
   "source": [
    "non_lianer = ['immunosuppression', 'd1_wbc_max', 'wbc_apache', 'd1_heartrate_min',\n",
    "         'd1_platelets_min', 'heart_rate_apache', 'hospital_id', 'd1_wbc_min',\n",
    "         'd1_mbp_noninvasive_max', 'icu_id', 'd1_mbp_min', 'd1_platelets_max',\n",
    "         'h1_heartrate_min', 'd1_potassium_min', 'd1_sysbp_max',\n",
    "         'h1_sysbp_noninvasive_max', 'h1_diasbp_max', 'resprate_apache',\n",
    "         'encounter_id', 'd1_hematocrit_max', 'pre_icu_los_days',\n",
    "         'd1_sysbp_noninvasive_max', 'd1_hco3_max', 'h1_diasbp_noninvasive_max',\n",
    "         'creatinine_apache', 'h1_sysbp_max', 'h1_sysbp_min', 'h1_resprate_max',\n",
    "         'd1_calcium_max', 'd1_hco3_min', 'h1_spo2_max', 'd1_bun_min',\n",
    "         'apache_3j_diagnosis', 'hematocrit_apache', 'd1_resprate_max',\n",
    "         'd1_hemaglobin_min', 'age', 'd1_diasbp_max', 'h1_spo2_min', 'weight']"
   ]
  },
  {
   "cell_type": "code",
   "execution_count": 53,
   "id": "0a4d718f",
   "metadata": {},
   "outputs": [],
   "source": [
    "data_nl = data[non_lianer].copy()\n",
    "data_nl[\"target\"] = data[\"target\"]"
   ]
  },
  {
   "cell_type": "code",
   "execution_count": 54,
   "id": "9fb0f357",
   "metadata": {},
   "outputs": [
    {
     "data": {
      "text/plain": [
       "(10234, 41)"
      ]
     },
     "execution_count": 54,
     "metadata": {},
     "output_type": "execute_result"
    }
   ],
   "source": [
    "data_nl.shape"
   ]
  },
  {
   "cell_type": "code",
   "execution_count": 55,
   "id": "a43dc5c9",
   "metadata": {},
   "outputs": [
    {
     "name": "stdout",
     "output_type": "stream",
     "text": [
      "Всего категориальных признаков: 0\n",
      "Всего числовых признаков: 41\n"
     ]
    }
   ],
   "source": [
    "categorical = data_nl.dtypes[data_nl.dtypes == \"object\"].index\n",
    "numerical = list(set(data_nl.columns) - set(categorical))\n",
    "\n",
    "print(f\"Всего категориальных признаков: {len(categorical)}\")\n",
    "print(f\"Всего числовых признаков: {len(numerical)}\")\n"
   ]
  },
  {
   "cell_type": "code",
   "execution_count": 56,
   "id": "90fc899e",
   "metadata": {},
   "outputs": [
    {
     "name": "stdout",
     "output_type": "stream",
     "text": [
      "(6549, 40) (2047, 40) (6549,) (2047,) (1638, 40) (1638,)\n"
     ]
    }
   ],
   "source": [
    "x_train, x_valid, y_train, y_valid, x_test, y_test = train_split(data_nl)"
   ]
  },
  {
   "cell_type": "code",
   "execution_count": 57,
   "id": "6b42ca0e",
   "metadata": {},
   "outputs": [],
   "source": [
    "cb_params = {\n",
    "    \"n_estimators\": 2000,\n",
    "    \"learning_rate\": 0.001,\n",
    "    \"loss_function\": \"Logloss\",\n",
    "    \"eval_metric\": \"AUC\",\n",
    "    \"task_type\": \"CPU\",\n",
    "    \"max_bin\": 20,\n",
    "    \"verbose\": False,\n",
    "    \"max_depth\": 6,\n",
    "    \"l2_leaf_reg\": 10,\n",
    "    \"early_stopping_rounds\": 50,\n",
    "    \"thread_count\": 6,\n",
    "    \"random_seed\": 42,\n",
    "    \"class_weights\":(1,56)\n",
    "    }"
   ]
  },
  {
   "cell_type": "code",
   "execution_count": 58,
   "id": "645cc932",
   "metadata": {},
   "outputs": [
    {
     "data": {
      "application/vnd.jupyter.widget-view+json": {
       "model_id": "55ff0fc38243456aa7218ce0faffa525",
       "version_major": 2,
       "version_minor": 0
      },
      "text/plain": [
       "MetricVisualizer(layout=Layout(align_self='stretch', height='500px'))"
      ]
     },
     "metadata": {},
     "output_type": "display_data"
    },
    {
     "data": {
      "text/plain": [
       "<catboost.core.CatBoostClassifier at 0x29c6c5e66c8>"
      ]
     },
     "execution_count": 58,
     "metadata": {},
     "output_type": "execute_result"
    }
   ],
   "source": [
    "model_nl = cb.CatBoostClassifier(**cb_params)\n",
    "model_nl.fit(x_train, \n",
    "             y_train, \n",
    "             eval_set = [(x_train, y_train), (x_valid, y_valid)], \n",
    "             plot= True)\n"
   ]
  },
  {
   "cell_type": "code",
   "execution_count": 59,
   "id": "24f54bcb",
   "metadata": {},
   "outputs": [
    {
     "name": "stdout",
     "output_type": "stream",
     "text": [
      "              precision    recall  f1-score   support\n",
      "\n",
      "           0       0.99      0.98      0.98      1614\n",
      "           1       0.20      0.33      0.25        24\n",
      "\n",
      "    accuracy                           0.97      1638\n",
      "   macro avg       0.59      0.66      0.62      1638\n",
      "weighted avg       0.98      0.97      0.97      1638\n",
      "\n",
      "roc_auc_score:  0.656443618339529\n",
      "confusion_matrix:  [[1581   33]\n",
      " [  16    8]]\n"
     ]
    }
   ],
   "source": [
    "pred = model_nl.predict(x_test)\n",
    "print(classification_report(y_test, pred))\n",
    "print(\"roc_auc_score: \",roc_auc_score(y_test, pred))\n",
    "print(\"confusion_matrix: \",confusion_matrix(y_test, pred))"
   ]
  },
  {
   "cell_type": "markdown",
   "id": "421aa183",
   "metadata": {},
   "source": [
    "# drop nan"
   ]
  },
  {
   "cell_type": "code",
   "execution_count": 60,
   "id": "76c6fe91",
   "metadata": {},
   "outputs": [],
   "source": [
    "data_nl_dr = data_nl.dropna().copy()"
   ]
  },
  {
   "cell_type": "code",
   "execution_count": 61,
   "id": "cb529a95",
   "metadata": {},
   "outputs": [
    {
     "data": {
      "text/plain": [
       "(5177, 41)"
      ]
     },
     "execution_count": 61,
     "metadata": {},
     "output_type": "execute_result"
    }
   ],
   "source": [
    "data_nl_dr.shape"
   ]
  },
  {
   "cell_type": "code",
   "execution_count": 62,
   "id": "0dd497dd",
   "metadata": {},
   "outputs": [
    {
     "data": {
      "text/plain": [
       "0    5089\n",
       "1      88\n",
       "Name: target, dtype: int64"
      ]
     },
     "execution_count": 62,
     "metadata": {},
     "output_type": "execute_result"
    }
   ],
   "source": [
    "data_nl_dr[\"target\"].value_counts()"
   ]
  },
  {
   "cell_type": "code",
   "execution_count": 63,
   "id": "5983cc19",
   "metadata": {},
   "outputs": [
    {
     "name": "stdout",
     "output_type": "stream",
     "text": [
      "random_state: 0\n",
      "(5730, 40) (3071, 40) (5730,) (3071,) (1433, 40) (1433,)\n"
     ]
    }
   ],
   "source": [
    "x_train, x_valid, y_train, y_valid, x_test, y_test = train_split_dis(data_nl)"
   ]
  },
  {
   "cell_type": "code",
   "execution_count": 64,
   "id": "74f40d58",
   "metadata": {},
   "outputs": [
    {
     "data": {
      "application/vnd.jupyter.widget-view+json": {
       "model_id": "857e1799cc4f44f7ad139b016bbbeee7",
       "version_major": 2,
       "version_minor": 0
      },
      "text/plain": [
       "MetricVisualizer(layout=Layout(align_self='stretch', height='500px'))"
      ]
     },
     "metadata": {},
     "output_type": "display_data"
    },
    {
     "data": {
      "text/plain": [
       "<catboost.core.CatBoostClassifier at 0x29c69885e88>"
      ]
     },
     "execution_count": 64,
     "metadata": {},
     "output_type": "execute_result"
    }
   ],
   "source": [
    "model_nl_dr = cb.CatBoostClassifier(**cb_params)\n",
    "model_nl_dr.fit(x_train, \n",
    "                y_train, \n",
    "                eval_set = [(x_train, y_train), (x_valid, y_valid)], \n",
    "                plot= True)\n"
   ]
  },
  {
   "cell_type": "code",
   "execution_count": 65,
   "id": "643e3896",
   "metadata": {},
   "outputs": [
    {
     "name": "stdout",
     "output_type": "stream",
     "text": [
      "              precision    recall  f1-score   support\n",
      "\n",
      "           0       0.98      0.99      0.98      1402\n",
      "           1       0.30      0.29      0.30        31\n",
      "\n",
      "    accuracy                           0.97      1433\n",
      "   macro avg       0.64      0.64      0.64      1433\n",
      "weighted avg       0.97      0.97      0.97      1433\n",
      "\n",
      "roc_auc_score:  0.6376719893240071\n",
      "confusion_matrix:  [[1381   21]\n",
      " [  22    9]]\n"
     ]
    }
   ],
   "source": [
    "pred = model_nl_dr.predict(x_test)\n",
    "print(classification_report(y_test, pred))\n",
    "print(\"roc_auc_score: \",roc_auc_score(y_test, pred))\n",
    "print(\"confusion_matrix: \",confusion_matrix(y_test, pred))"
   ]
  },
  {
   "cell_type": "markdown",
   "id": "6f374c6b",
   "metadata": {},
   "source": [
    "# %%%%%%%%%%%%%%%%%%%%%%%%%%%%%%%%%%%%%%%"
   ]
  },
  {
   "cell_type": "markdown",
   "id": "dd42ab29",
   "metadata": {},
   "source": [
    "# KMeans"
   ]
  },
  {
   "cell_type": "code",
   "execution_count": 23,
   "id": "e42c6c9f",
   "metadata": {},
   "outputs": [],
   "source": []
  },
  {
   "cell_type": "code",
   "execution_count": 27,
   "id": "e75c8a0a",
   "metadata": {},
   "outputs": [],
   "source": [
    "data_kmeans = data.copy()"
   ]
  },
  {
   "cell_type": "code",
   "execution_count": 28,
   "id": "d2c41eb2",
   "metadata": {},
   "outputs": [
    {
     "name": "stdout",
     "output_type": "stream",
     "text": [
      "Всего категориальных признаков: 6\n",
      "Всего числовых признаков: 99\n"
     ]
    }
   ],
   "source": [
    "categorical = data_kmeans.dtypes[data_kmeans.dtypes == \"object\"].index\n",
    "numerical = list(set(data_kmeans.columns) - set(categorical))\n",
    "\n",
    "print(f\"Всего категориальных признаков: {len(categorical)}\")\n",
    "print(f\"Всего числовых признаков: {len(numerical)}\")\n"
   ]
  },
  {
   "cell_type": "code",
   "execution_count": 29,
   "id": "b9f79735",
   "metadata": {},
   "outputs": [
    {
     "data": {
      "text/plain": [
       "Index(['ethnicity', 'gender', 'hospital_admit_source', 'icu_admit_source',\n",
       "       'icu_stay_type', 'icu_type'],\n",
       "      dtype='object')"
      ]
     },
     "execution_count": 29,
     "metadata": {},
     "output_type": "execute_result"
    }
   ],
   "source": [
    "categorical"
   ]
  },
  {
   "cell_type": "markdown",
   "id": "b705bb21",
   "metadata": {},
   "source": [
    "### буду кодировать категориальные признаки частотой"
   ]
  },
  {
   "cell_type": "code",
   "execution_count": 30,
   "id": "1f669a72",
   "metadata": {},
   "outputs": [
    {
     "data": {
      "text/plain": [
       "M    0.540131\n",
       "F    0.459869\n",
       "Name: gender, dtype: float64"
      ]
     },
     "execution_count": 30,
     "metadata": {},
     "output_type": "execute_result"
    }
   ],
   "source": [
    "freq_encoder = data_kmeans[\"gender\"].value_counts(normalize=True)\n",
    "freq_encoder"
   ]
  },
  {
   "cell_type": "code",
   "execution_count": 31,
   "id": "39904a5f",
   "metadata": {},
   "outputs": [
    {
     "data": {
      "text/plain": [
       "['ethnicity_freq',\n",
       " 'gender_freq',\n",
       " 'hospital_admit_source_freq',\n",
       " 'icu_admit_source_freq',\n",
       " 'icu_stay_type_freq',\n",
       " 'icu_type_freq']"
      ]
     },
     "execution_count": 31,
     "metadata": {},
     "output_type": "execute_result"
    }
   ],
   "source": [
    "cat_new = []\n",
    "for i in data_kmeans[categorical]:\n",
    "    freq_encoder = data_kmeans[i].value_counts(normalize=True)\n",
    "    data_kmeans[f\"{i}_freq\"] = data_kmeans[i].map(freq_encoder)\n",
    "    cat_new.append(f\"{i}_freq\")\n",
    "cat_new"
   ]
  },
  {
   "cell_type": "code",
   "execution_count": 32,
   "id": "cd177e64",
   "metadata": {},
   "outputs": [],
   "source": [
    "# удалю старые признаки типа обьект\n",
    "data_kmeans = data_kmeans.drop(categorical, axis=1)"
   ]
  },
  {
   "cell_type": "code",
   "execution_count": 33,
   "id": "0df3b66e",
   "metadata": {},
   "outputs": [
    {
     "name": "stdout",
     "output_type": "stream",
     "text": [
      "Всего категориальных признаков: 0\n",
      "Всего числовых признаков: 105\n"
     ]
    }
   ],
   "source": [
    "categorical = data_kmeans.dtypes[data_kmeans.dtypes == \"object\"].index\n",
    "numerical = list(set(data_kmeans.columns) - set(categorical))\n",
    "\n",
    "print(f\"Всего категориальных признаков: {len(categorical)}\")\n",
    "print(f\"Всего числовых признаков: {len(numerical)}\")\n"
   ]
  },
  {
   "cell_type": "code",
   "execution_count": 19,
   "id": "36aba939",
   "metadata": {},
   "outputs": [
    {
     "name": "stdout",
     "output_type": "stream",
     "text": [
      "bmi\n",
      "1015\n",
      "******************************\n",
      "height\n",
      "301\n",
      "******************************\n",
      "weight\n",
      "908\n",
      "******************************\n",
      "apache_2_diagnosis\n",
      "170\n",
      "******************************\n",
      "apache_3j_diagnosis\n",
      "108\n",
      "******************************\n",
      "bun_apache\n",
      "2061\n",
      "******************************\n",
      "creatinine_apache\n",
      "2043\n",
      "******************************\n",
      "gcs_eyes_apache\n",
      "205\n",
      "******************************\n",
      "gcs_motor_apache\n",
      "205\n",
      "******************************\n",
      "gcs_unable_apache\n",
      "61\n",
      "******************************\n",
      "gcs_verbal_apache\n",
      "205\n",
      "******************************\n",
      "glucose_apache\n",
      "1210\n",
      "******************************\n",
      "heart_rate_apache\n",
      "30\n",
      "******************************\n",
      "hematocrit_apache\n",
      "2114\n",
      "******************************\n",
      "map_apache\n",
      "52\n",
      "******************************\n",
      "resprate_apache\n",
      "64\n",
      "******************************\n",
      "sodium_apache\n",
      "1993\n",
      "******************************\n",
      "temp_apache\n",
      "671\n",
      "******************************\n",
      "wbc_apache\n",
      "2376\n",
      "******************************\n",
      "d1_diasbp_max\n",
      "23\n",
      "******************************\n",
      "d1_diasbp_min\n",
      "23\n",
      "******************************\n",
      "d1_diasbp_noninvasive_max\n",
      "149\n",
      "******************************\n",
      "d1_diasbp_noninvasive_min\n",
      "149\n",
      "******************************\n",
      "d1_heartrate_max\n",
      "24\n",
      "******************************\n",
      "d1_heartrate_min\n",
      "24\n",
      "******************************\n",
      "d1_mbp_max\n",
      "37\n",
      "******************************\n",
      "d1_mbp_min\n",
      "37\n",
      "******************************\n",
      "d1_mbp_noninvasive_max\n",
      "212\n",
      "******************************\n",
      "d1_mbp_noninvasive_min\n",
      "212\n",
      "******************************\n",
      "d1_resprate_max\n",
      "55\n",
      "******************************\n",
      "d1_resprate_min\n",
      "55\n",
      "******************************\n",
      "d1_spo2_max\n",
      "62\n",
      "******************************\n",
      "d1_spo2_min\n",
      "62\n",
      "******************************\n",
      "d1_sysbp_max\n",
      "23\n",
      "******************************\n",
      "d1_sysbp_min\n",
      "23\n",
      "******************************\n",
      "d1_sysbp_noninvasive_max\n",
      "148\n",
      "******************************\n",
      "d1_sysbp_noninvasive_min\n",
      "148\n",
      "******************************\n",
      "d1_temp_max\n",
      "430\n",
      "******************************\n",
      "d1_temp_min\n",
      "430\n",
      "******************************\n",
      "h1_diasbp_max\n",
      "652\n",
      "******************************\n",
      "h1_diasbp_min\n",
      "652\n",
      "******************************\n",
      "h1_diasbp_noninvasive_max\n",
      "1156\n",
      "******************************\n",
      "h1_diasbp_noninvasive_min\n",
      "1156\n",
      "******************************\n",
      "h1_heartrate_max\n",
      "551\n",
      "******************************\n",
      "h1_heartrate_min\n",
      "551\n",
      "******************************\n",
      "h1_mbp_max\n",
      "797\n",
      "******************************\n",
      "h1_mbp_min\n",
      "797\n",
      "******************************\n",
      "h1_mbp_noninvasive_max\n",
      "1389\n",
      "******************************\n",
      "h1_mbp_noninvasive_min\n",
      "1389\n",
      "******************************\n",
      "h1_resprate_max\n",
      "724\n",
      "******************************\n",
      "h1_resprate_min\n",
      "724\n",
      "******************************\n",
      "h1_spo2_max\n",
      "726\n",
      "******************************\n",
      "h1_spo2_min\n",
      "726\n",
      "******************************\n",
      "h1_sysbp_max\n",
      "651\n",
      "******************************\n",
      "h1_sysbp_min\n",
      "651\n",
      "******************************\n",
      "h1_sysbp_noninvasive_max\n",
      "1155\n",
      "******************************\n",
      "h1_sysbp_noninvasive_min\n",
      "1155\n",
      "******************************\n",
      "h1_temp_max\n",
      "2654\n",
      "******************************\n",
      "h1_temp_min\n",
      "2654\n",
      "******************************\n",
      "d1_bun_max\n",
      "1108\n",
      "******************************\n",
      "d1_bun_min\n",
      "1108\n",
      "******************************\n",
      "d1_calcium_max\n",
      "1402\n",
      "******************************\n",
      "d1_calcium_min\n",
      "1402\n",
      "******************************\n",
      "d1_creatinine_max\n",
      "1091\n",
      "******************************\n",
      "d1_creatinine_min\n",
      "1091\n",
      "******************************\n",
      "d1_glucose_max\n",
      "681\n",
      "******************************\n",
      "d1_glucose_min\n",
      "681\n",
      "******************************\n",
      "d1_hco3_max\n",
      "1594\n",
      "******************************\n",
      "d1_hco3_min\n",
      "1594\n",
      "******************************\n",
      "d1_hemaglobin_max\n",
      "1249\n",
      "******************************\n",
      "d1_hemaglobin_min\n",
      "1249\n",
      "******************************\n",
      "d1_hematocrit_max\n",
      "1229\n",
      "******************************\n",
      "d1_hematocrit_min\n",
      "1229\n",
      "******************************\n",
      "d1_platelets_max\n",
      "1397\n",
      "******************************\n",
      "d1_platelets_min\n",
      "1397\n",
      "******************************\n",
      "d1_potassium_max\n",
      "970\n",
      "******************************\n",
      "d1_potassium_min\n",
      "970\n",
      "******************************\n",
      "d1_sodium_max\n",
      "1066\n",
      "******************************\n",
      "d1_sodium_min\n",
      "1066\n",
      "******************************\n",
      "d1_wbc_max\n",
      "1422\n",
      "******************************\n",
      "d1_wbc_min\n",
      "1422\n",
      "******************************\n",
      "ethnicity_freq\n",
      "204\n",
      "******************************\n",
      "gender_freq\n",
      "5\n",
      "******************************\n",
      "hospital_admit_source_freq\n",
      "2733\n",
      "******************************\n",
      "icu_admit_source_freq\n",
      "25\n",
      "******************************\n"
     ]
    }
   ],
   "source": [
    "# посмотрим на пропуски и есть ли среди них признаки с уникальными значениями более 9000\n",
    "count = 0\n",
    "check_list_sign = []\n",
    "\n",
    "for i in data_kmeans:\n",
    "    isna = data_kmeans[i].isna().sum()\n",
    "    if isna > 0:\n",
    "        count += 1\n",
    "        print(i)\n",
    "        check_list_sign.append(i)\n",
    "        if data_kmeans[i].nunique() > 9000:\n",
    "            print(\"unique: \", data_kmeans[i].nunique())\n",
    "        print(isna)\n",
    "        print(\"*\" * 30)"
   ]
  },
  {
   "cell_type": "code",
   "execution_count": 26,
   "id": "cad72d4a",
   "metadata": {},
   "outputs": [
    {
     "name": "stdout",
     "output_type": "stream",
     "text": [
      "85 85 105\n"
     ]
    }
   ],
   "source": [
    "print(len(check_list_sign), count, data_kmeans.shape[1])"
   ]
  },
  {
   "cell_type": "code",
   "execution_count": 27,
   "id": "797243a9",
   "metadata": {},
   "outputs": [],
   "source": [
    "# есть ли в каждой совокупности значения менее -100\n",
    "for i in data_kmeans:\n",
    "    if data_kmeans[i].min() <= -100:\n",
    "        print(i, \": \", data_kmeans[i].min())"
   ]
  },
  {
   "cell_type": "code",
   "execution_count": 23,
   "id": "9ed2f8c7",
   "metadata": {},
   "outputs": [],
   "source": [
    "# меняю пропуски на -100\n",
    "data_kmeans = data_kmeans.fillna(-100)"
   ]
  },
  {
   "cell_type": "code",
   "execution_count": 29,
   "id": "0f2c9339",
   "metadata": {},
   "outputs": [],
   "source": [
    "# проверка, не остались ли пропуски\n",
    "for i in data_kmeans:\n",
    "    isna = data_kmeans[i].isna().sum()\n",
    "    nuniq = data_kmeans[i].nunique()\n",
    "    if isna > 0:\n",
    "        print(i)\n",
    "        if nuniq > 9000:\n",
    "            print(\"unique: \", data_kmeans[i].nunique())\n",
    "        print(isna)\n",
    "        print(\"*\" * 30)"
   ]
  },
  {
   "cell_type": "code",
   "execution_count": 32,
   "id": "58f7f18f",
   "metadata": {},
   "outputs": [
    {
     "name": "stderr",
     "output_type": "stream",
     "text": [
      "100%|██████████████████████████████████████████████████████████████████████████████████| 85/85 [21:45<00:00, 15.36s/it]"
     ]
    },
    {
     "name": "stdout",
     "output_type": "stream",
     "text": [
      "Wall time: 21min 45s\n"
     ]
    },
    {
     "name": "stderr",
     "output_type": "stream",
     "text": [
      "\n"
     ]
    }
   ],
   "source": [
    "%%time\n",
    "new_sign = []\n",
    "old_sign = []\n",
    "\n",
    "for i in tqdm(data_kmeans[check_list_sign].columns): # цикл по столбцам в которых были заменены пропуски на -100\n",
    "    nuniq = data_kmeans[i].nunique() # кол-во уникальных значений в признаке\n",
    "#     if isna > 0:\n",
    "    kmeans = KMeans(n_clusters=nuniq, random_state=0) # кол-во кластеров равно уникальному значению иследуемой совокупности\n",
    "    kmeans.fit(data_kmeans) # обучение\n",
    "        \n",
    "    data_kmeans[f\"{i}_kmeans\"] = kmeans.labels_ # каждому обьекту df приписывается номер кластера исследуемой совокупности\n",
    "    new_sign.append(f\"{i}_kmeans\") # записываю новые признаки в лист\n",
    "    old_sign.append(i) # записываю старые признаки в лист\n",
    "    \n",
    "    "
   ]
  },
  {
   "cell_type": "markdown",
   "id": "11f0a7fa",
   "metadata": {},
   "source": [
    "## Запись в csv"
   ]
  },
  {
   "cell_type": "code",
   "execution_count": 42,
   "id": "679c3805",
   "metadata": {},
   "outputs": [],
   "source": [
    "data_kmeans.to_csv(\"data/data_kmeans.csv\", index=False)"
   ]
  },
  {
   "cell_type": "markdown",
   "id": "470f4beb",
   "metadata": {},
   "source": [
    "## чтение"
   ]
  },
  {
   "cell_type": "code",
   "execution_count": 12,
   "id": "4aab8c88",
   "metadata": {},
   "outputs": [],
   "source": [
    "data_kmeans = pd.read_csv(\"data/data_kmeans.csv\")"
   ]
  },
  {
   "cell_type": "code",
   "execution_count": 34,
   "id": "33f3ae7b",
   "metadata": {},
   "outputs": [],
   "source": [
    "data_kmeans_copy = data_kmeans.copy()"
   ]
  },
  {
   "cell_type": "code",
   "execution_count": 14,
   "id": "c15b4d4f",
   "metadata": {},
   "outputs": [
    {
     "name": "stdout",
     "output_type": "stream",
     "text": [
      "Всего категориальных признаков: 0\n",
      "Всего числовых признаков: 190\n"
     ]
    }
   ],
   "source": [
    "categorical = data_kmeans_copy.dtypes[data_kmeans_copy.dtypes == \"object\"].index\n",
    "numerical = list(set(data_kmeans_copy.columns) - set(categorical))\n",
    "\n",
    "print(f\"Всего категориальных признаков: {len(categorical)}\")\n",
    "print(f\"Всего числовых признаков: {len(numerical)}\")\n"
   ]
  },
  {
   "cell_type": "code",
   "execution_count": 15,
   "id": "1d47d45b",
   "metadata": {},
   "outputs": [],
   "source": [
    "from collections import Counter"
   ]
  },
  {
   "cell_type": "code",
   "execution_count": 16,
   "id": "4a74b8bf",
   "metadata": {},
   "outputs": [
    {
     "ename": "NameError",
     "evalue": "name 'new_sign' is not defined",
     "output_type": "error",
     "traceback": [
      "\u001b[1;31m---------------------------------------------------------------------------\u001b[0m",
      "\u001b[1;31mNameError\u001b[0m                                 Traceback (most recent call last)",
      "\u001b[1;32mC:\\Temp/ipykernel_8444/3427392514.py\u001b[0m in \u001b[0;36m<module>\u001b[1;34m\u001b[0m\n\u001b[0;32m      2\u001b[0m \u001b[0mcheck_dict_sign_hund\u001b[0m \u001b[1;33m=\u001b[0m \u001b[1;33m{\u001b[0m\u001b[1;33m}\u001b[0m\u001b[1;33m\u001b[0m\u001b[1;33m\u001b[0m\u001b[0m\n\u001b[0;32m      3\u001b[0m \u001b[0mcheck_dict_sign\u001b[0m \u001b[1;33m=\u001b[0m \u001b[1;33m{\u001b[0m\u001b[1;33m}\u001b[0m\u001b[1;33m\u001b[0m\u001b[1;33m\u001b[0m\u001b[0m\n\u001b[1;32m----> 4\u001b[1;33m \u001b[1;32mfor\u001b[0m \u001b[0mcol\u001b[0m \u001b[1;32min\u001b[0m \u001b[0mtqdm\u001b[0m\u001b[1;33m(\u001b[0m\u001b[0mdata_kmeans_copy\u001b[0m\u001b[1;33m[\u001b[0m\u001b[0mnew_sign\u001b[0m\u001b[1;33m]\u001b[0m\u001b[1;33m.\u001b[0m\u001b[0mcolumns\u001b[0m\u001b[1;33m)\u001b[0m\u001b[1;33m:\u001b[0m \u001b[1;31m# цикл по колонкам которые получились\u001b[0m\u001b[1;33m\u001b[0m\u001b[1;33m\u001b[0m\u001b[0m\n\u001b[0m\u001b[0;32m      5\u001b[0m     \u001b[0muniq_sign\u001b[0m \u001b[1;33m=\u001b[0m \u001b[0mdata_kmeans_copy\u001b[0m\u001b[1;33m[\u001b[0m\u001b[0mcol\u001b[0m\u001b[1;33m]\u001b[0m\u001b[1;33m.\u001b[0m\u001b[0mnunique\u001b[0m\u001b[1;33m(\u001b[0m\u001b[1;33m)\u001b[0m \u001b[1;31m# кол-во уникальных значений\u001b[0m\u001b[1;33m\u001b[0m\u001b[1;33m\u001b[0m\u001b[0m\n\u001b[0;32m      6\u001b[0m     \u001b[1;32mfor\u001b[0m \u001b[0mnum_sign\u001b[0m \u001b[1;32min\u001b[0m \u001b[0mrange\u001b[0m\u001b[1;33m(\u001b[0m\u001b[0muniq_sign\u001b[0m\u001b[1;33m)\u001b[0m\u001b[1;33m:\u001b[0m \u001b[1;31m# цикл по кол-ву уникальных значений\u001b[0m\u001b[1;33m\u001b[0m\u001b[1;33m\u001b[0m\u001b[0m\n",
      "\u001b[1;31mNameError\u001b[0m: name 'new_sign' is not defined"
     ]
    }
   ],
   "source": [
    "# %%time\n",
    "check_dict_sign_hund = {}\n",
    "check_dict_sign = {}\n",
    "for col in tqdm(data_kmeans_copy[new_sign].columns): # цикл по колонкам которые получились\n",
    "    uniq_sign = data_kmeans_copy[col].nunique() # кол-во уникальных значений\n",
    "    for num_sign in range(uniq_sign): # цикл по кол-ву уникальных значений\n",
    "        check_list = list(set(data_kmeans_copy[\"target\"].loc[data_kmeans_copy[col] == num_sign])) # лист уникальных значений\n",
    "        counter = Counter(check_list)                                                                  # целевой переменной в данной группе\n",
    "                                                                                        # исследуемой совокупности\n",
    "        if len(check_list) == 1: # если длина листа равна 1\n",
    "            \n",
    "            col_del_pr = col.split(\"_kmeans\")[0] # получаю название без префикса _kmeans\n",
    "#             print(col_del_pr,col,  num_sign)\n",
    "            a = list(set(data_kmeans_copy[col_del_pr].loc[data_kmeans_copy[col] == num_sign])) # лист с уникальными значениями  \n",
    "                                                                                     # группы исследуеиой совокупности\n",
    "            if len(a) == 1 and a[0] == -100:\n",
    "                check_dict_sign_hund[col] = num_sign\n",
    "                continue\n",
    "            try:                                                                         \n",
    "                a.remove(-100)  # удаляю -100\n",
    "            except:\n",
    "                pass\n",
    "            mean_a = round(np.median(a),3) # получаю медиану совокупности без -100\n",
    "            q = data_kmeans_copy[col_del_pr].loc[data_kmeans_copy[col] == num_sign] # список значений группы \n",
    "                                                                       # исследуеиой совокупности\n",
    "            s = np.where(q != -100, q, mean_a) # меняю -100 на медиану\n",
    "            data_kmeans_copy[col_del_pr].loc[data_kmeans_copy[col] == num_sign] = s # меняю списки\n",
    "        else:\n",
    "            check_dict_sign[col] = [num_sign, counter]"
   ]
  },
  {
   "cell_type": "code",
   "execution_count": 60,
   "id": "9355368c",
   "metadata": {},
   "outputs": [
    {
     "data": {
      "text/html": [
       "<div>\n",
       "<style scoped>\n",
       "    .dataframe tbody tr th:only-of-type {\n",
       "        vertical-align: middle;\n",
       "    }\n",
       "\n",
       "    .dataframe tbody tr th {\n",
       "        vertical-align: top;\n",
       "    }\n",
       "\n",
       "    .dataframe thead th {\n",
       "        text-align: right;\n",
       "    }\n",
       "</style>\n",
       "<table border=\"1\" class=\"dataframe\">\n",
       "  <thead>\n",
       "    <tr style=\"text-align: right;\">\n",
       "      <th></th>\n",
       "      <th>encounter_id</th>\n",
       "      <th>hospital_id</th>\n",
       "      <th>age</th>\n",
       "      <th>bmi</th>\n",
       "      <th>elective_surgery</th>\n",
       "      <th>height</th>\n",
       "      <th>icu_id</th>\n",
       "      <th>pre_icu_los_days</th>\n",
       "      <th>readmission_status</th>\n",
       "      <th>weight</th>\n",
       "      <th>...</th>\n",
       "      <th>d1_potassium_max_kmeans</th>\n",
       "      <th>d1_potassium_min_kmeans</th>\n",
       "      <th>d1_sodium_max_kmeans</th>\n",
       "      <th>d1_sodium_min_kmeans</th>\n",
       "      <th>d1_wbc_max_kmeans</th>\n",
       "      <th>d1_wbc_min_kmeans</th>\n",
       "      <th>ethnicity_freq_kmeans</th>\n",
       "      <th>gender_freq_kmeans</th>\n",
       "      <th>hospital_admit_source_freq_kmeans</th>\n",
       "      <th>icu_admit_source_freq_kmeans</th>\n",
       "    </tr>\n",
       "  </thead>\n",
       "  <tbody>\n",
       "    <tr>\n",
       "      <th>3578</th>\n",
       "      <td>140925</td>\n",
       "      <td>10029</td>\n",
       "      <td>65</td>\n",
       "      <td>41.8</td>\n",
       "      <td>0</td>\n",
       "      <td>172.7</td>\n",
       "      <td>516</td>\n",
       "      <td>0.110417</td>\n",
       "      <td>0</td>\n",
       "      <td>124.7</td>\n",
       "      <td>...</td>\n",
       "      <td>2</td>\n",
       "      <td>0</td>\n",
       "      <td>24</td>\n",
       "      <td>16</td>\n",
       "      <td>904</td>\n",
       "      <td>480</td>\n",
       "      <td>5</td>\n",
       "      <td>0</td>\n",
       "      <td>9</td>\n",
       "      <td>4</td>\n",
       "    </tr>\n",
       "    <tr>\n",
       "      <th>4586</th>\n",
       "      <td>140619</td>\n",
       "      <td>10017</td>\n",
       "      <td>59</td>\n",
       "      <td>32.6</td>\n",
       "      <td>0</td>\n",
       "      <td>173.0</td>\n",
       "      <td>653</td>\n",
       "      <td>0.120139</td>\n",
       "      <td>0</td>\n",
       "      <td>97.7</td>\n",
       "      <td>...</td>\n",
       "      <td>6</td>\n",
       "      <td>29</td>\n",
       "      <td>2</td>\n",
       "      <td>18</td>\n",
       "      <td>904</td>\n",
       "      <td>480</td>\n",
       "      <td>5</td>\n",
       "      <td>0</td>\n",
       "      <td>9</td>\n",
       "      <td>4</td>\n",
       "    </tr>\n",
       "    <tr>\n",
       "      <th>6077</th>\n",
       "      <td>140843</td>\n",
       "      <td>10072</td>\n",
       "      <td>73</td>\n",
       "      <td>16.3</td>\n",
       "      <td>0</td>\n",
       "      <td>154.9</td>\n",
       "      <td>836</td>\n",
       "      <td>0.032639</td>\n",
       "      <td>0</td>\n",
       "      <td>39.0</td>\n",
       "      <td>...</td>\n",
       "      <td>2</td>\n",
       "      <td>0</td>\n",
       "      <td>2</td>\n",
       "      <td>16</td>\n",
       "      <td>904</td>\n",
       "      <td>480</td>\n",
       "      <td>5</td>\n",
       "      <td>0</td>\n",
       "      <td>9</td>\n",
       "      <td>4</td>\n",
       "    </tr>\n",
       "    <tr>\n",
       "      <th>9227</th>\n",
       "      <td>140781</td>\n",
       "      <td>10130</td>\n",
       "      <td>57</td>\n",
       "      <td>22.0</td>\n",
       "      <td>0</td>\n",
       "      <td>157.4</td>\n",
       "      <td>1051</td>\n",
       "      <td>0.000000</td>\n",
       "      <td>0</td>\n",
       "      <td>54.5</td>\n",
       "      <td>...</td>\n",
       "      <td>19</td>\n",
       "      <td>29</td>\n",
       "      <td>2</td>\n",
       "      <td>18</td>\n",
       "      <td>904</td>\n",
       "      <td>480</td>\n",
       "      <td>5</td>\n",
       "      <td>0</td>\n",
       "      <td>9</td>\n",
       "      <td>4</td>\n",
       "    </tr>\n",
       "  </tbody>\n",
       "</table>\n",
       "<p>4 rows × 190 columns</p>\n",
       "</div>"
      ],
      "text/plain": [
       "      encounter_id  hospital_id  age   bmi  elective_surgery  height  icu_id  \\\n",
       "3578        140925        10029   65  41.8                 0   172.7     516   \n",
       "4586        140619        10017   59  32.6                 0   173.0     653   \n",
       "6077        140843        10072   73  16.3                 0   154.9     836   \n",
       "9227        140781        10130   57  22.0                 0   157.4    1051   \n",
       "\n",
       "      pre_icu_los_days  readmission_status  weight  ...  \\\n",
       "3578          0.110417                   0   124.7  ...   \n",
       "4586          0.120139                   0    97.7  ...   \n",
       "6077          0.032639                   0    39.0  ...   \n",
       "9227          0.000000                   0    54.5  ...   \n",
       "\n",
       "      d1_potassium_max_kmeans  d1_potassium_min_kmeans  d1_sodium_max_kmeans  \\\n",
       "3578                        2                        0                    24   \n",
       "4586                        6                       29                     2   \n",
       "6077                        2                        0                     2   \n",
       "9227                       19                       29                     2   \n",
       "\n",
       "      d1_sodium_min_kmeans  d1_wbc_max_kmeans  d1_wbc_min_kmeans  \\\n",
       "3578                    16                904                480   \n",
       "4586                    18                904                480   \n",
       "6077                    16                904                480   \n",
       "9227                    18                904                480   \n",
       "\n",
       "      ethnicity_freq_kmeans  gender_freq_kmeans  \\\n",
       "3578                      5                   0   \n",
       "4586                      5                   0   \n",
       "6077                      5                   0   \n",
       "9227                      5                   0   \n",
       "\n",
       "      hospital_admit_source_freq_kmeans  icu_admit_source_freq_kmeans  \n",
       "3578                                  9                             4  \n",
       "4586                                  9                             4  \n",
       "6077                                  9                             4  \n",
       "9227                                  9                             4  \n",
       "\n",
       "[4 rows x 190 columns]"
      ]
     },
     "execution_count": 60,
     "metadata": {},
     "output_type": "execute_result"
    }
   ],
   "source": [
    "data_kmeans_copy.loc[data_kmeans_copy[\"weight_kmeans\"] == 1076]"
   ]
  },
  {
   "cell_type": "markdown",
   "id": "e7348135",
   "metadata": {},
   "source": [
    "# %%%%%%%%%%%%%%%%%%%%%%%%%%%%%%%%%%%%%"
   ]
  },
  {
   "cell_type": "code",
   "execution_count": 24,
   "id": "df62a564",
   "metadata": {},
   "outputs": [],
   "source": [
    "data_kmeans_copy = data_kmeans.copy()"
   ]
  },
  {
   "cell_type": "code",
   "execution_count": 36,
   "id": "113cc261",
   "metadata": {},
   "outputs": [],
   "source": [
    "def recursive(df, KM, max_check_col, counts, list_sign=[], count_breack=100):\n",
    "#     print(counts)\n",
    "    print(\"isna4: \", len(list(set(df.isna().sum().values))))\n",
    "    print(\"тут77\")\n",
    "    dataf, kmeans, check_list_sign, max_check_col, counts =  check_nan_replace1(df=df, KM=KM,list_sign=list_sign, \n",
    "                                                                           max_check_col=max_check_col, counts=counts)\n",
    "    print(\"тут88\")\n",
    "    print(1, df.head())\n",
    "    print(1, len(check_list_sign))\n",
    "    print(1, counts, max_check_col)\n",
    "    if counts == count_breack:\n",
    "        print(f\"{count_breack} эпох без изменений\")\n",
    "        print(f\"лучший результат: {len(check_list_sign)}\")\n",
    "        df.to_csv(\"data_kmeans_replace.csv\", index=False)\n",
    "        with open(\"test\", \"wb\") as fp:\n",
    "            pickle.dump(check_list_sign, fp)\n",
    "#         return df, check_list_sign\n",
    "    else:\n",
    "        counts+=1\n",
    "        print(\"isna5: \", len(list(set(dataf.isna().sum().values))))\n",
    "#         dataf = df.copy()\n",
    "        recursive(df=dataf, KM=kmeans, list_sign=check_list_sign, max_check_col=max_check_col, counts=counts)"
   ]
  },
  {
   "cell_type": "code",
   "execution_count": 40,
   "id": "d7870105",
   "metadata": {},
   "outputs": [],
   "source": [
    "def check_nan_replace1(df, KM, list_sign=[], max_check_col=1000, counts=0):\n",
    "    print(counts)\n",
    "    \"\"\"\n",
    "    ф-я принимает:\n",
    "    \n",
    "    list_sign: list   - список признаков в которых присутствуют замененные пропуски на -100\n",
    "    \n",
    "    df : Pandas DataFrame   -   матрица данных\n",
    "    \n",
    "    count : int  -  изначально равно нулю, номер эпохи\n",
    "    \n",
    "    max_check_col : int  -  длина листа с признаками в которых остались значения -100\n",
    "    \n",
    "    count_breack : int  -  кол-во эпох для остановки если нет улучшений\n",
    "    \n",
    "    \"\"\"\n",
    "    print(\"isna: \", len(list(set(df.isna().sum().values))))\n",
    "    if len(list(set(df.isna().sum().values))) != 1:\n",
    "        list_sign = []\n",
    "\n",
    "        for i in df:\n",
    "            isna = df[i].isna().sum()\n",
    "            if isna > 0:\n",
    "                list_sign.append(i)\n",
    "        print(\"len list_sign: \",len(list_sign))\n",
    "        df = df.fillna(-100)\n",
    "    if len(list_sign) == 0:\n",
    "        print(\"лист с пропусками не задан\")\n",
    "        return\n",
    "    print(\"isna2: \", len(list(set(df.isna().sum().values))))\n",
    "    new_sign = []\n",
    "    old_sign = []\n",
    "    print(\"тут1\")\n",
    "    for i in df[list_sign].columns: # цикл по столбцам в которых были заменены пропуски на -100\n",
    "        print(\"тут2\")\n",
    "        nuniq = df[i].nunique() # кол-во уникальных значений в признаке\n",
    "        print(\"тут3\")\n",
    "    #     if isna > 0:\n",
    "#         kmeans = KMeans(n_clusters=nuniq, random_state=0) # кол-во кластеров равно уникальному значению иследуемой совокупности\n",
    "#         kmeans.fit(df) # обучение\n",
    "        kmeans = KM\n",
    "        print(\"тут4\")\n",
    "        df[f\"{i}_kmeans\"] = kmeans.labels_ # каждому обьекту df приписывается номер кластера исследуемой совокупности\n",
    "        new_sign.append(f\"{i}_kmeans\") # записываю новые признаки в лист\n",
    "        old_sign.append(i) # записываю старые признаки в лист\n",
    "    \n",
    "    \n",
    "    check_list_sign = []\n",
    "    print(\"тут5\")\n",
    "    for col in df[new_sign].columns: # цикл по колонкам которые получились\n",
    "        uniq_sign = df[col].nunique() # кол-во уникальных значений\n",
    "        for num_sign in range(uniq_sign): # цикл по кол-ву уникальных значений\n",
    "            check_list = list(set(df[\"target\"].loc[df[col] == num_sign])) # лист уникальных значений целевой переменной\n",
    "                                                                          # исследуемой совокупности\n",
    "            if len(check_list) == 1: # если длина листа равна 1\n",
    "\n",
    "                col_del_pr = col.split(\"_kmeans\")[0] # получаю название без префикса _kmeans\n",
    "    #             print(col_del_pr,col,  num_sign)\n",
    "                a = list(set(df[col_del_pr].loc[df[col] == num_sign])) # лист с уникальными значениями  \n",
    "                                                                                         # группы исследуеиой совокупности\n",
    "                if len(a) == 1 and a[0] == -100:\n",
    "                    check_list_sign.append(col)\n",
    "                    continue\n",
    "                try:                                                                         \n",
    "                    a.remove(-100)  # удаляю -100\n",
    "                except:\n",
    "                    pass\n",
    "                mean_a = round(np.median(a),3) # получаю медиану совокупности без -100\n",
    "                \n",
    "                q = df[col_del_pr].loc[df[col] == num_sign] # список значений группы \n",
    "                                                                           # исследуеиой совокупности\n",
    "                s = np.where(q != -100, q, mean_a) # меняю -100 на медиану\n",
    "                print(\"s: \", s)\n",
    "                df[col_del_pr].loc[df[col] == num_sign] = s # меняю списки\n",
    "            else:\n",
    "                check_list_sign.append(col)\n",
    "    check_list_sign = list(set(check_list_sign))\n",
    "    len_check_list_sign = len(check_list_sign)\n",
    "    print(\"тут6\",len_check_list_sign, check_list_sign, max_check_col)\n",
    "    if len(check_list_sign) == 0:\n",
    "        print(\"тут7\")\n",
    "        return df, check_list_sign\n",
    "#     elif counts == count_breack:\n",
    "#         print(f\"{count_breack} эпох без изменений\")\n",
    "#         print(f\"лучший результат: {len(check_list_sign)}\")\n",
    "# #         df.to_csv(\"data_kmeans_replace.csv\", index=False)\n",
    "# #         with open(\"test\", \"wb\") as fp:\n",
    "# #             pickle.dump(check_list_sign, fp)\n",
    "#         return df, check_list_sign\n",
    "    \n",
    "    elif len_check_list_sign < max_check_col:\n",
    "        print(f\"epoch: {counts}\")\n",
    "        print(f\"len bad cols: {len(set(check_list_sign))}\")\n",
    "        count = 0\n",
    "        max_check_col = len(check_list_sign)\n",
    "        print(\"тут \")\n",
    "#         yield df, check_list_sign\n",
    "        dataff = df\n",
    "        print(\"isna3: \", len(list(set(df.isna().sum().values))))\n",
    "        print(\"тут8\")\n",
    "        return dataff,kmeans, check_list_sign, max_check_col, counts\n",
    "#     else:\n",
    "#         print(\"что-то пошло не по плану\")\n",
    "    \n",
    "        "
   ]
  },
  {
   "cell_type": "code",
   "execution_count": 25,
   "id": "6653ffd9",
   "metadata": {},
   "outputs": [
    {
     "data": {
      "text/plain": [
       "KMeans(n_clusters=50, random_state=0)"
      ]
     },
     "execution_count": 25,
     "metadata": {},
     "output_type": "execute_result"
    }
   ],
   "source": [
    "kmeans = KMeans(n_clusters=50, random_state=0) # кол-во кластеров равно уникальному значению иследуемой совокупности\n",
    "kmeans.fit(data_kmeans_copy) # обучение"
   ]
  },
  {
   "cell_type": "code",
   "execution_count": 41,
   "id": "9f7e9d2c",
   "metadata": {
    "scrolled": true
   },
   "outputs": [
    {
     "name": "stdout",
     "output_type": "stream",
     "text": [
      "isna4:  52\n",
      "тут77\n",
      "0\n",
      "isna:  52\n",
      "len list_sign:  85\n",
      "isna2:  1\n",
      "тут1\n",
      "тут2\n",
      "тут3\n",
      "тут4\n",
      "тут2\n",
      "тут3\n",
      "тут4\n",
      "тут2\n",
      "тут3\n",
      "тут4\n",
      "тут2\n",
      "тут3\n",
      "тут4\n",
      "тут2\n",
      "тут3\n",
      "тут4\n",
      "тут2\n",
      "тут3\n",
      "тут4\n",
      "тут2\n",
      "тут3\n",
      "тут4\n",
      "тут2\n",
      "тут3\n",
      "тут4\n",
      "тут2\n",
      "тут3\n",
      "тут4\n",
      "тут2\n",
      "тут3\n",
      "тут4\n",
      "тут2\n",
      "тут3\n",
      "тут4\n",
      "тут2\n",
      "тут3\n",
      "тут4\n",
      "тут2\n",
      "тут3\n",
      "тут4\n",
      "тут2\n",
      "тут3\n",
      "тут4\n",
      "тут2\n",
      "тут3\n",
      "тут4\n",
      "тут2\n",
      "тут3\n",
      "тут4\n",
      "тут2\n",
      "тут3\n",
      "тут4\n",
      "тут2\n",
      "тут3\n",
      "тут4\n",
      "тут2\n",
      "тут3\n",
      "тут4\n",
      "тут2\n",
      "тут3\n",
      "тут4\n",
      "тут2\n",
      "тут3\n",
      "тут4\n",
      "тут2\n",
      "тут3\n",
      "тут4\n",
      "тут2\n",
      "тут3\n",
      "тут4\n",
      "тут2\n",
      "тут3\n",
      "тут4\n",
      "тут2\n",
      "тут3\n",
      "тут4\n",
      "тут2\n",
      "тут3\n",
      "тут4\n",
      "тут2\n",
      "тут3\n",
      "тут4\n",
      "тут2\n",
      "тут3\n",
      "тут4\n",
      "тут2\n",
      "тут3\n",
      "тут4\n",
      "тут2\n",
      "тут3\n",
      "тут4\n",
      "тут2\n",
      "тут3\n",
      "тут4\n",
      "тут2\n",
      "тут3\n",
      "тут4\n",
      "тут2\n",
      "тут3\n",
      "тут4\n",
      "тут2\n",
      "тут3\n",
      "тут4\n",
      "тут2\n",
      "тут3\n",
      "тут4\n",
      "тут2\n",
      "тут3\n",
      "тут4\n",
      "тут2\n",
      "тут3\n",
      "тут4\n",
      "тут2\n",
      "тут3\n",
      "тут4\n",
      "тут2\n",
      "тут3\n",
      "тут4\n",
      "тут2\n",
      "тут3\n",
      "тут4\n",
      "тут2\n",
      "тут3\n",
      "тут4\n",
      "тут2\n",
      "тут3\n",
      "тут4\n",
      "тут2\n",
      "тут3\n",
      "тут4\n",
      "тут2\n",
      "тут3\n",
      "тут4\n",
      "тут2\n",
      "тут3\n",
      "тут4\n",
      "тут2\n",
      "тут3\n",
      "тут4\n",
      "тут2\n",
      "тут3\n",
      "тут4\n",
      "тут2\n",
      "тут3\n",
      "тут4\n",
      "тут2\n",
      "тут3\n",
      "тут4\n",
      "тут2\n",
      "тут3\n",
      "тут4\n",
      "тут2\n",
      "тут3\n",
      "тут4\n",
      "тут2\n",
      "тут3\n",
      "тут4\n",
      "тут2\n",
      "тут3\n",
      "тут4\n",
      "тут2\n",
      "тут3\n",
      "тут4\n",
      "тут2\n",
      "тут3\n",
      "тут4\n",
      "тут2\n",
      "тут3\n",
      "тут4\n",
      "тут2\n",
      "тут3\n",
      "тут4\n",
      "тут2\n",
      "тут3\n",
      "тут4\n",
      "тут2\n",
      "тут3\n",
      "тут4\n",
      "тут2\n",
      "тут3\n",
      "тут4\n",
      "тут2\n",
      "тут3\n",
      "тут4\n",
      "тут2\n",
      "тут3\n",
      "тут4\n",
      "тут2\n",
      "тут3\n",
      "тут4\n",
      "тут2\n",
      "тут3\n",
      "тут4\n",
      "тут2\n",
      "тут3\n",
      "тут4\n",
      "тут2\n",
      "тут3\n",
      "тут4\n",
      "тут2\n",
      "тут3\n",
      "тут4\n",
      "тут2\n",
      "тут3\n",
      "тут4\n",
      "тут2\n",
      "тут3\n",
      "тут4\n",
      "тут2\n",
      "тут3\n",
      "тут4\n",
      "тут2\n",
      "тут3\n",
      "тут4\n",
      "тут2\n",
      "тут3\n",
      "тут4\n",
      "тут2\n",
      "тут3\n",
      "тут4\n",
      "тут2\n",
      "тут3\n",
      "тут4\n",
      "тут2\n",
      "тут3\n",
      "тут4\n",
      "тут2\n",
      "тут3\n",
      "тут4\n",
      "тут2\n",
      "тут3\n",
      "тут4\n",
      "тут2\n",
      "тут3\n",
      "тут4\n",
      "тут2\n",
      "тут3\n",
      "тут4\n",
      "тут2\n",
      "тут3\n",
      "тут4\n",
      "тут2\n",
      "тут3\n",
      "тут4\n",
      "тут2\n",
      "тут3\n",
      "тут4\n",
      "тут2\n",
      "тут3\n",
      "тут4\n",
      "тут2\n",
      "тут3\n",
      "тут4\n",
      "тут2\n",
      "тут3\n",
      "тут4\n",
      "тут5\n"
     ]
    },
    {
     "name": "stderr",
     "output_type": "stream",
     "text": [
      "c:\\program files\\python37\\lib\\site-packages\\pandas\\core\\indexing.py:1732: SettingWithCopyWarning: \n",
      "A value is trying to be set on a copy of a slice from a DataFrame\n",
      "\n",
      "See the caveats in the documentation: https://pandas.pydata.org/pandas-docs/stable/user_guide/indexing.html#returning-a-view-versus-a-copy\n",
      "  self._setitem_single_block(indexer, value, name)\n"
     ]
    },
    {
     "name": "stdout",
     "output_type": "stream",
     "text": [
      "тут6 ['d1_diasbp_max_kmeans', 'd1_sysbp_min_kmeans', 'd1_glucose_min_kmeans', 'temp_apache_kmeans', 'd1_sodium_max_kmeans', 'heart_rate_apache_kmeans', 'd1_bun_min_kmeans', 'height_kmeans', 'gcs_verbal_apache_kmeans', 'h1_spo2_min_kmeans', 'ethnicity_freq_kmeans', 'creatinine_apache_kmeans', 'h1_sysbp_min_kmeans', 'd1_mbp_noninvasive_max_kmeans', 'd1_potassium_min_kmeans', 'd1_heartrate_max_kmeans', 'd1_calcium_min_kmeans', 'd1_platelets_min_kmeans', 'd1_hemaglobin_min_kmeans', 'h1_sysbp_noninvasive_min_kmeans', 'd1_heartrate_min_kmeans', 'd1_temp_max_kmeans', 'd1_mbp_max_kmeans', 'd1_hematocrit_min_kmeans', 'd1_hematocrit_max_kmeans', 'd1_wbc_min_kmeans', 'glucose_apache_kmeans', 'd1_diasbp_noninvasive_min_kmeans', 'h1_diasbp_min_kmeans', 'd1_bun_max_kmeans', 'h1_temp_min_kmeans', 'map_apache_kmeans', 'd1_resprate_max_kmeans', 'apache_3j_diagnosis_kmeans', 'bun_apache_kmeans', 'd1_spo2_min_kmeans', 'h1_mbp_noninvasive_min_kmeans', 'd1_diasbp_min_kmeans', 'h1_mbp_noninvasive_max_kmeans', 'h1_mbp_min_kmeans', 'd1_creatinine_max_kmeans', 'd1_sodium_min_kmeans', 'icu_admit_source_freq_kmeans', 'h1_diasbp_noninvasive_max_kmeans', 'gender_freq_kmeans', 'd1_mbp_min_kmeans', 'd1_sysbp_max_kmeans', 'hospital_admit_source_freq_kmeans', 'd1_platelets_max_kmeans', 'h1_mbp_max_kmeans', 'h1_spo2_max_kmeans', 'wbc_apache_kmeans', 'd1_sysbp_noninvasive_min_kmeans', 'd1_wbc_max_kmeans', 'apache_2_diagnosis_kmeans', 'h1_heartrate_min_kmeans', 'h1_heartrate_max_kmeans', 'gcs_motor_apache_kmeans', 'hematocrit_apache_kmeans', 'd1_spo2_max_kmeans', 'h1_temp_max_kmeans', 'd1_glucose_max_kmeans', 'd1_sysbp_noninvasive_max_kmeans', 'd1_mbp_noninvasive_min_kmeans', 'd1_calcium_max_kmeans', 'sodium_apache_kmeans', 'gcs_unable_apache_kmeans', 'd1_resprate_min_kmeans', 'h1_sysbp_noninvasive_max_kmeans', 'weight_kmeans', 'd1_diasbp_noninvasive_max_kmeans', 'd1_temp_min_kmeans', 'd1_hemaglobin_max_kmeans', 'resprate_apache_kmeans', 'd1_creatinine_min_kmeans', 'd1_hco3_max_kmeans', 'bmi_kmeans', 'd1_hco3_min_kmeans', 'd1_potassium_max_kmeans', 'h1_diasbp_max_kmeans', 'h1_resprate_max_kmeans', 'h1_sysbp_max_kmeans', 'h1_diasbp_noninvasive_min_kmeans', 'gcs_eyes_apache_kmeans', 'h1_resprate_min_kmeans'] 1000\n",
      "epoch: 0\n",
      "len bad cols: 85\n",
      "тут \n",
      "isna3:  1\n",
      "тут8\n",
      "тут88\n",
      "1    encounter_id  hospital_id  age  bmi  elective_surgery  height  icu_id  \\\n",
      "0        144740        10141   72  NaN                 0   152.4      82   \n",
      "1        141990        10141   86  NaN                 0   175.3      82   \n",
      "2        142038        10141   72  NaN                 0   162.6      82   \n",
      "3        138628        10141   66  NaN                 0   177.8      82   \n",
      "4        141682        10141   89  NaN                 0   170.2      82   \n",
      "\n",
      "   pre_icu_los_days  readmission_status  weight  ...  immunosuppression  \\\n",
      "0          0.015278                   0     NaN  ...                  0   \n",
      "1          0.000000                   0     NaN  ...                  0   \n",
      "2          0.003472                   0     NaN  ...                  0   \n",
      "3          0.884028                   0     NaN  ...                  0   \n",
      "4          0.013194                   0     NaN  ...                  0   \n",
      "\n",
      "   leukemia  lymphoma  target  ethnicity_freq  gender_freq  \\\n",
      "0         0         0       0        0.791525     0.459869   \n",
      "1         0         0       0        0.791525     0.459869   \n",
      "2         0         0       0        0.791525     0.459869   \n",
      "3         0         0       0        0.791525     0.540131   \n",
      "4         0         0       0        0.791525     0.540131   \n",
      "\n",
      "   hospital_admit_source_freq  icu_admit_source_freq  icu_stay_type_freq  \\\n",
      "0                    0.149447                0.58517            0.985734   \n",
      "1                    0.512598                0.58517            0.985734   \n",
      "2                    0.149447                0.16221            0.985734   \n",
      "3                    0.149447                0.16221            0.985734   \n",
      "4                    0.092788                0.58517            0.985734   \n",
      "\n",
      "   icu_type_freq  \n",
      "0       0.544264  \n",
      "1       0.544264  \n",
      "2       0.544264  \n",
      "3       0.544264  \n",
      "4       0.544264  \n",
      "\n",
      "[5 rows x 105 columns]\n",
      "1 85\n",
      "1 0 85\n",
      "isna5:  1\n",
      "isna4:  1\n",
      "тут77\n",
      "1\n",
      "isna:  1\n",
      "isna2:  1\n",
      "тут1\n",
      "тут2\n",
      "тут3\n",
      "тут4\n",
      "тут2\n",
      "тут3\n",
      "тут4\n",
      "тут2\n",
      "тут3\n",
      "тут4\n",
      "тут2\n",
      "тут3\n",
      "тут4\n",
      "тут2\n",
      "тут3\n",
      "тут4\n",
      "тут2\n",
      "тут3\n",
      "тут4\n",
      "тут2\n",
      "тут3\n",
      "тут4\n",
      "тут2\n",
      "тут3\n",
      "тут4\n",
      "тут2\n",
      "тут3\n",
      "тут4\n",
      "тут2\n",
      "тут3\n",
      "тут4\n",
      "тут2\n",
      "тут3\n",
      "тут4\n",
      "тут2\n",
      "тут3\n",
      "тут4\n",
      "тут2\n",
      "тут3\n",
      "тут4\n",
      "тут2\n",
      "тут3\n",
      "тут4\n",
      "тут2\n",
      "тут3\n",
      "тут4\n",
      "тут2\n",
      "тут3\n",
      "тут4\n",
      "тут2\n",
      "тут3\n",
      "тут4\n",
      "тут2\n",
      "тут3\n",
      "тут4\n",
      "тут2\n",
      "тут3\n",
      "тут4\n",
      "тут2\n",
      "тут3\n",
      "тут4\n",
      "тут2\n",
      "тут3\n",
      "тут4\n",
      "тут2\n",
      "тут3\n",
      "тут4\n",
      "тут2\n",
      "тут3\n",
      "тут4\n",
      "тут2\n",
      "тут3\n",
      "тут4\n",
      "тут2\n",
      "тут3\n",
      "тут4\n",
      "тут2\n",
      "тут3\n",
      "тут4\n",
      "тут2\n",
      "тут3\n",
      "тут4\n",
      "тут2\n",
      "тут3\n",
      "тут4\n",
      "тут2\n",
      "тут3\n",
      "тут4\n",
      "тут2\n",
      "тут3\n",
      "тут4\n",
      "тут2\n",
      "тут3\n",
      "тут4\n",
      "тут2\n",
      "тут3\n",
      "тут4\n",
      "тут2\n",
      "тут3\n",
      "тут4\n",
      "тут2\n",
      "тут3\n",
      "тут4\n",
      "тут2\n",
      "тут3\n",
      "тут4\n",
      "тут2\n",
      "тут3\n",
      "тут4\n",
      "тут2\n",
      "тут3\n",
      "тут4\n",
      "тут2\n",
      "тут3\n",
      "тут4\n",
      "тут2\n",
      "тут3\n",
      "тут4\n",
      "тут2\n",
      "тут3\n",
      "тут4\n",
      "тут2\n",
      "тут3\n",
      "тут4\n",
      "тут2\n",
      "тут3\n",
      "тут4\n",
      "тут2\n",
      "тут3\n",
      "тут4\n",
      "тут2\n",
      "тут3\n",
      "тут4\n",
      "тут2\n",
      "тут3\n",
      "тут4\n",
      "тут2\n",
      "тут3\n",
      "тут4\n",
      "тут2\n",
      "тут3\n",
      "тут4\n",
      "тут2\n",
      "тут3\n",
      "тут4\n",
      "тут2\n",
      "тут3\n",
      "тут4\n",
      "тут2\n",
      "тут3\n",
      "тут4\n",
      "тут2\n",
      "тут3\n",
      "тут4\n",
      "тут2\n",
      "тут3\n",
      "тут4\n",
      "тут2\n",
      "тут3\n",
      "тут4\n",
      "тут2\n",
      "тут3\n",
      "тут4\n",
      "тут2\n",
      "тут3\n",
      "тут4\n",
      "тут2\n",
      "тут3\n",
      "тут4\n",
      "тут2\n",
      "тут3\n",
      "тут4\n",
      "тут2\n",
      "тут3\n",
      "тут4\n",
      "тут2\n",
      "тут3\n",
      "тут4\n",
      "тут2\n",
      "тут3\n",
      "тут4\n",
      "тут2\n",
      "тут3\n",
      "тут4\n",
      "тут2\n",
      "тут3\n",
      "тут4\n",
      "тут2\n",
      "тут3\n",
      "тут4\n",
      "тут2\n",
      "тут3\n",
      "тут4\n",
      "тут2\n",
      "тут3\n",
      "тут4\n",
      "тут2\n",
      "тут3\n",
      "тут4\n",
      "тут2\n",
      "тут3\n",
      "тут4\n",
      "тут2\n",
      "тут3\n",
      "тут4\n",
      "тут2\n",
      "тут3\n",
      "тут4\n",
      "тут2\n",
      "тут3\n",
      "тут4\n",
      "тут2\n",
      "тут3\n",
      "тут4\n",
      "тут2\n",
      "тут3\n",
      "тут4\n",
      "тут2\n",
      "тут3\n",
      "тут4\n",
      "тут2\n",
      "тут3\n",
      "тут4\n",
      "тут2\n",
      "тут3\n",
      "тут4\n",
      "тут2\n",
      "тут3\n",
      "тут4\n",
      "тут2\n",
      "тут3\n",
      "тут4\n",
      "тут2\n",
      "тут3\n",
      "тут4\n",
      "тут2\n",
      "тут3\n",
      "тут4\n",
      "тут2\n",
      "тут3\n",
      "тут4\n",
      "тут2\n",
      "тут3\n",
      "тут4\n",
      "тут2\n",
      "тут3\n",
      "тут4\n",
      "тут2\n",
      "тут3\n",
      "тут4\n",
      "тут2\n",
      "тут3\n",
      "тут4\n",
      "тут2\n",
      "тут3\n",
      "тут4\n",
      "тут5\n"
     ]
    },
    {
     "name": "stderr",
     "output_type": "stream",
     "text": [
      "c:\\program files\\python37\\lib\\site-packages\\pandas\\core\\indexing.py:1732: SettingWithCopyWarning: \n",
      "A value is trying to be set on a copy of a slice from a DataFrame\n",
      "\n",
      "See the caveats in the documentation: https://pandas.pydata.org/pandas-docs/stable/user_guide/indexing.html#returning-a-view-versus-a-copy\n",
      "  self._setitem_single_block(indexer, value, name)\n"
     ]
    },
    {
     "name": "stdout",
     "output_type": "stream",
     "text": [
      "тут6 ['d1_potassium_min_kmeans_kmeans', 'd1_wbc_min_kmeans_kmeans', 'd1_calcium_max_kmeans_kmeans', 'd1_sysbp_noninvasive_min_kmeans_kmeans', 'd1_hco3_max_kmeans_kmeans', 'd1_resprate_max_kmeans_kmeans', 'd1_wbc_max_kmeans_kmeans', 'h1_mbp_min_kmeans_kmeans', 'h1_sysbp_noninvasive_max_kmeans_kmeans', 'd1_diasbp_noninvasive_max_kmeans_kmeans', 'gcs_eyes_apache_kmeans_kmeans', 'gcs_motor_apache_kmeans_kmeans', 'h1_sysbp_min_kmeans_kmeans', 'd1_diasbp_max_kmeans_kmeans', 'd1_spo2_max_kmeans_kmeans', 'h1_mbp_noninvasive_min_kmeans_kmeans', 'temp_apache_kmeans_kmeans', 'd1_creatinine_max_kmeans_kmeans', 'd1_mbp_min_kmeans_kmeans', 'h1_temp_min_kmeans_kmeans', 'd1_sodium_min_kmeans_kmeans', 'icu_admit_source_freq_kmeans_kmeans', 'h1_mbp_noninvasive_max_kmeans_kmeans', 'weight_kmeans_kmeans', 'd1_mbp_max_kmeans_kmeans', 'heart_rate_apache_kmeans_kmeans', 'gender_freq_kmeans_kmeans', 'h1_resprate_min_kmeans_kmeans', 'd1_heartrate_max_kmeans_kmeans', 'sodium_apache_kmeans_kmeans', 'hematocrit_apache_kmeans_kmeans', 'h1_diasbp_noninvasive_max_kmeans_kmeans', 'd1_platelets_max_kmeans_kmeans', 'h1_mbp_max_kmeans_kmeans', 'resprate_apache_kmeans_kmeans', 'gcs_unable_apache_kmeans_kmeans', 'd1_sysbp_max_kmeans_kmeans', 'h1_sysbp_noninvasive_min_kmeans_kmeans', 'd1_diasbp_noninvasive_min_kmeans_kmeans', 'h1_resprate_max_kmeans_kmeans', 'gcs_verbal_apache_kmeans_kmeans', 'd1_bun_min_kmeans_kmeans', 'height_kmeans_kmeans', 'd1_sodium_max_kmeans_kmeans', 'd1_heartrate_min_kmeans_kmeans', 'hospital_admit_source_freq_kmeans_kmeans', 'd1_sysbp_min_kmeans_kmeans', 'd1_spo2_min_kmeans_kmeans', 'd1_temp_max_kmeans_kmeans', 'd1_glucose_min_kmeans_kmeans', 'apache_2_diagnosis_kmeans_kmeans', 'd1_hemaglobin_min_kmeans_kmeans', 'h1_diasbp_min_kmeans_kmeans', 'h1_spo2_max_kmeans_kmeans', 'glucose_apache_kmeans_kmeans', 'd1_bun_max_kmeans_kmeans', 'wbc_apache_kmeans_kmeans', 'h1_spo2_min_kmeans_kmeans', 'd1_mbp_noninvasive_min_kmeans_kmeans', 'd1_hematocrit_max_kmeans_kmeans', 'd1_mbp_noninvasive_max_kmeans_kmeans', 'map_apache_kmeans_kmeans', 'd1_hematocrit_min_kmeans_kmeans', 'h1_sysbp_max_kmeans_kmeans', 'd1_platelets_min_kmeans_kmeans', 'creatinine_apache_kmeans_kmeans', 'd1_potassium_max_kmeans_kmeans', 'h1_heartrate_max_kmeans_kmeans', 'd1_diasbp_min_kmeans_kmeans', 'apache_3j_diagnosis_kmeans_kmeans', 'd1_temp_min_kmeans_kmeans', 'd1_creatinine_min_kmeans_kmeans', 'h1_heartrate_min_kmeans_kmeans', 'd1_sysbp_noninvasive_max_kmeans_kmeans', 'd1_glucose_max_kmeans_kmeans', 'bun_apache_kmeans_kmeans', 'd1_hco3_min_kmeans_kmeans', 'd1_resprate_min_kmeans_kmeans', 'h1_temp_max_kmeans_kmeans', 'h1_diasbp_max_kmeans_kmeans', 'bmi_kmeans_kmeans', 'd1_calcium_min_kmeans_kmeans', 'd1_hemaglobin_max_kmeans_kmeans', 'ethnicity_freq_kmeans_kmeans', 'h1_diasbp_noninvasive_min_kmeans_kmeans'] 85\n"
     ]
    },
    {
     "ename": "TypeError",
     "evalue": "cannot unpack non-iterable NoneType object",
     "output_type": "error",
     "traceback": [
      "\u001b[1;31m---------------------------------------------------------------------------\u001b[0m",
      "\u001b[1;31mTypeError\u001b[0m                                 Traceback (most recent call last)",
      "\u001b[1;32mC:\\Temp/ipykernel_12548/193715981.py\u001b[0m in \u001b[0;36m<module>\u001b[1;34m\u001b[0m\n\u001b[1;32m----> 1\u001b[1;33m \u001b[0mrecursive\u001b[0m\u001b[1;33m(\u001b[0m\u001b[0mdata_kmeans_copy\u001b[0m\u001b[1;33m,\u001b[0m \u001b[0mkmeans\u001b[0m\u001b[1;33m,\u001b[0m \u001b[1;36m1000\u001b[0m\u001b[1;33m,\u001b[0m \u001b[1;36m0\u001b[0m\u001b[1;33m)\u001b[0m\u001b[1;33m\u001b[0m\u001b[1;33m\u001b[0m\u001b[0m\n\u001b[0m",
      "\u001b[1;32mC:\\Temp/ipykernel_12548/3606316048.py\u001b[0m in \u001b[0;36mrecursive\u001b[1;34m(df, KM, max_check_col, counts, list_sign, count_breack)\u001b[0m\n\u001b[0;32m     20\u001b[0m         \u001b[0mprint\u001b[0m\u001b[1;33m(\u001b[0m\u001b[1;34m\"isna5: \"\u001b[0m\u001b[1;33m,\u001b[0m \u001b[0mlen\u001b[0m\u001b[1;33m(\u001b[0m\u001b[0mlist\u001b[0m\u001b[1;33m(\u001b[0m\u001b[0mset\u001b[0m\u001b[1;33m(\u001b[0m\u001b[0mdataf\u001b[0m\u001b[1;33m.\u001b[0m\u001b[0misna\u001b[0m\u001b[1;33m(\u001b[0m\u001b[1;33m)\u001b[0m\u001b[1;33m.\u001b[0m\u001b[0msum\u001b[0m\u001b[1;33m(\u001b[0m\u001b[1;33m)\u001b[0m\u001b[1;33m.\u001b[0m\u001b[0mvalues\u001b[0m\u001b[1;33m)\u001b[0m\u001b[1;33m)\u001b[0m\u001b[1;33m)\u001b[0m\u001b[1;33m)\u001b[0m\u001b[1;33m\u001b[0m\u001b[1;33m\u001b[0m\u001b[0m\n\u001b[0;32m     21\u001b[0m \u001b[1;31m#         dataf = df.copy()\u001b[0m\u001b[1;33m\u001b[0m\u001b[1;33m\u001b[0m\u001b[1;33m\u001b[0m\u001b[0m\n\u001b[1;32m---> 22\u001b[1;33m         \u001b[0mrecursive\u001b[0m\u001b[1;33m(\u001b[0m\u001b[0mdf\u001b[0m\u001b[1;33m=\u001b[0m\u001b[0mdataf\u001b[0m\u001b[1;33m,\u001b[0m \u001b[0mKM\u001b[0m\u001b[1;33m=\u001b[0m\u001b[0mkmeans\u001b[0m\u001b[1;33m,\u001b[0m \u001b[0mlist_sign\u001b[0m\u001b[1;33m=\u001b[0m\u001b[0mcheck_list_sign\u001b[0m\u001b[1;33m,\u001b[0m \u001b[0mmax_check_col\u001b[0m\u001b[1;33m=\u001b[0m\u001b[0mmax_check_col\u001b[0m\u001b[1;33m,\u001b[0m \u001b[0mcounts\u001b[0m\u001b[1;33m=\u001b[0m\u001b[0mcounts\u001b[0m\u001b[1;33m)\u001b[0m\u001b[1;33m\u001b[0m\u001b[1;33m\u001b[0m\u001b[0m\n\u001b[0m",
      "\u001b[1;32mC:\\Temp/ipykernel_12548/3606316048.py\u001b[0m in \u001b[0;36mrecursive\u001b[1;34m(df, KM, max_check_col, counts, list_sign, count_breack)\u001b[0m\n\u001b[0;32m      4\u001b[0m     \u001b[0mprint\u001b[0m\u001b[1;33m(\u001b[0m\u001b[1;34m\"тут77\"\u001b[0m\u001b[1;33m)\u001b[0m\u001b[1;33m\u001b[0m\u001b[1;33m\u001b[0m\u001b[0m\n\u001b[0;32m      5\u001b[0m     dataf, kmeans, check_list_sign, max_check_col, counts =  check_nan_replace1(df=df, KM=KM,list_sign=list_sign, \n\u001b[1;32m----> 6\u001b[1;33m                                                                            max_check_col=max_check_col, counts=counts)\n\u001b[0m\u001b[0;32m      7\u001b[0m     \u001b[0mprint\u001b[0m\u001b[1;33m(\u001b[0m\u001b[1;34m\"тут88\"\u001b[0m\u001b[1;33m)\u001b[0m\u001b[1;33m\u001b[0m\u001b[1;33m\u001b[0m\u001b[0m\n\u001b[0;32m      8\u001b[0m     \u001b[0mprint\u001b[0m\u001b[1;33m(\u001b[0m\u001b[1;36m1\u001b[0m\u001b[1;33m,\u001b[0m \u001b[0mdf\u001b[0m\u001b[1;33m.\u001b[0m\u001b[0mhead\u001b[0m\u001b[1;33m(\u001b[0m\u001b[1;33m)\u001b[0m\u001b[1;33m)\u001b[0m\u001b[1;33m\u001b[0m\u001b[1;33m\u001b[0m\u001b[0m\n",
      "\u001b[1;31mTypeError\u001b[0m: cannot unpack non-iterable NoneType object"
     ]
    }
   ],
   "source": [
    "recursive(data_kmeans_copy, kmeans, 1000, 0)"
   ]
  },
  {
   "cell_type": "code",
   "execution_count": null,
   "id": "5e8086e8",
   "metadata": {},
   "outputs": [],
   "source": []
  },
  {
   "cell_type": "code",
   "execution_count": null,
   "id": "6075e836",
   "metadata": {},
   "outputs": [],
   "source": []
  },
  {
   "cell_type": "markdown",
   "id": "b2e125a9",
   "metadata": {},
   "source": [
    "# %%%%%%%%%%%%%%%%%%%%%%%%%%%%%%%%%%%%%%%"
   ]
  },
  {
   "cell_type": "markdown",
   "id": "de9a2c1a",
   "metadata": {},
   "source": [
    "# new"
   ]
  },
  {
   "cell_type": "code",
   "execution_count": 66,
   "id": "58fd9760",
   "metadata": {},
   "outputs": [],
   "source": [
    "import pickle"
   ]
  },
  {
   "cell_type": "code",
   "execution_count": 75,
   "id": "9ca961bc",
   "metadata": {},
   "outputs": [],
   "source": [
    "def check_nan_replace(df, KM, list_sign=[], max_check_col=1000, counts=0, count_breack=100):\n",
    "    print(counts)\n",
    "    \"\"\"\n",
    "    ф-я принимает:\n",
    "    \n",
    "    list_sign: list   - список признаков в которых присутствуют замененные пропуски на -100\n",
    "    \n",
    "    df : Pandas DataFrame   -   матрица данных\n",
    "    \n",
    "    count : int  -  изначально равно нулю, номер эпохи\n",
    "    \n",
    "    max_check_col : int  -  длина листа с признаками в которых остались значения -100\n",
    "    \n",
    "    count_breack : int  -  кол-во эпох для остановки если нет улучшений\n",
    "    \n",
    "    \"\"\"\n",
    "    if len(list(set(df.isna().sum().values))) != 1:\n",
    "        list_sign = []\n",
    "\n",
    "        for i in df:\n",
    "            isna = df[i].isna().sum()\n",
    "            if isna > 0:\n",
    "                list_sign.append(i)\n",
    "        print(\"len list_sign: \",len(list_sign))\n",
    "        df = df.fillna(-100)\n",
    "    if len(list_sign) == 0:\n",
    "        print(\"лист с пропусками не задан\")\n",
    "        return\n",
    "    \n",
    "    new_sign = []\n",
    "    old_sign = []\n",
    "    for i in df[list_sign].columns: # цикл по столбцам в которых были заменены пропуски на -100\n",
    "        nuniq = df[i].nunique() # кол-во уникальных значений в признаке\n",
    "    #     if isna > 0:\n",
    "#         kmeans = KMeans(n_clusters=nuniq, random_state=0) # кол-во кластеров равно уникальному значению иследуемой совокупности\n",
    "#         kmeans.fit(df) # обучение\n",
    "        kmeans = KM\n",
    "\n",
    "        df[f\"{i}_kmeans\"] = kmeans.labels_ # каждому обьекту df приписывается номер кластера исследуемой совокупности\n",
    "        new_sign.append(f\"{i}_kmeans\") # записываю новые признаки в лист\n",
    "        old_sign.append(i) # записываю старые признаки в лист\n",
    "    \n",
    "    \n",
    "    check_list_sign = []\n",
    "    for col in df[new_sign].columns: # цикл по колонкам которые получились\n",
    "        uniq_sign = df[col].nunique() # кол-во уникальных значений\n",
    "        for num_sign in range(uniq_sign): # цикл по кол-ву уникальных значений\n",
    "            check_list = list(set(df[\"target\"].loc[df[col] == num_sign])) # лист уникальных значений целевой переменной\n",
    "                                                                          # исследуемой совокупности\n",
    "            if len(check_list) == 1: # если длина листа равна 1\n",
    "\n",
    "                col_del_pr = col.split(\"_kmeans\")[0] # получаю название без префикса _kmeans\n",
    "    #             print(col_del_pr,col,  num_sign)\n",
    "                a = list(set(df[col_del_pr].loc[df[col] == num_sign])) # лист с уникальными значениями  \n",
    "                                                                                         # группы исследуеиой совокупности\n",
    "                if len(a) == 1 and a[0] == -100:\n",
    "                    check_list_sign.append(col)\n",
    "                    continue\n",
    "                try:                                                                         \n",
    "                    a.remove(-100)  # удаляю -100\n",
    "                except:\n",
    "                    pass\n",
    "                mean_a = round(np.median(a),3) # получаю медиану совокупности без -100\n",
    "                q = df[col_del_pr].loc[df[col] == num_sign] # список значений группы \n",
    "                                                                           # исследуеиой совокупности\n",
    "                s = np.where(q != -100, q, mean_a) # меняю -100 на медиану\n",
    "                df[col_del_pr].loc[df[col] == num_sign] = s # меняю списки\n",
    "            else:\n",
    "                check_list_sign.append(col)\n",
    "    check_list_sign = list(set(check_list_sign))\n",
    "    if len(check_list_sign) == 0:\n",
    "        return df, check_list_sign\n",
    "    elif counts == count_breack:\n",
    "        print(f\"{count_breack} эпох без изменений\")\n",
    "        print(f\"лучший результат: {len(check_list_sign)}\")\n",
    "        df.to_csv(\"data_kmeans_replace.csv\", index=False)\n",
    "        with open(\"test\", \"wb\") as fp:\n",
    "            pickle.dump(check_list_sign, fp)\n",
    "#         return df, check_list_sign\n",
    "    \n",
    "    elif len(check_list_sign) < max_check_col:\n",
    "        print(f\"epoch: {counts}\")\n",
    "        print(f\"len bad cols: {len(set(check_list_sign))}\")\n",
    "        count = 0\n",
    "        max_check_col = len(check_list_sign)\n",
    "        print(\"тут \",len(check_list_sign), max_check_col, counts)\n",
    "#         yield df, check_list_sign\n",
    "        return check_nan_replace(df,kmeans, check_list_sign, max_check_col, counts)\n",
    "#     else:\n",
    "#         print(\"что-то пошло не по плану\")\n",
    "    \n",
    "        "
   ]
  },
  {
   "cell_type": "code",
   "execution_count": null,
   "id": "fe535e7a",
   "metadata": {},
   "outputs": [],
   "source": [
    "# меняю пропуски на -100\n",
    "# data_kmeans = data_kmeans.fillna(-100)"
   ]
  },
  {
   "cell_type": "code",
   "execution_count": 42,
   "id": "1cba45f7",
   "metadata": {},
   "outputs": [],
   "source": [
    "data_kmeans_copy = data_kmeans.copy()"
   ]
  },
  {
   "cell_type": "code",
   "execution_count": 24,
   "id": "45c53cd0",
   "metadata": {},
   "outputs": [
    {
     "data": {
      "text/plain": [
       "KMeans(n_clusters=50, random_state=0)"
      ]
     },
     "execution_count": 24,
     "metadata": {},
     "output_type": "execute_result"
    }
   ],
   "source": [
    "kmeans = KMeans(n_clusters=50, random_state=0) # кол-во кластеров равно уникальному значению иследуемой совокупности\n",
    "kmeans.fit(data_kmeans_copy) # обучение"
   ]
  },
  {
   "cell_type": "code",
   "execution_count": 76,
   "id": "5bed7955",
   "metadata": {},
   "outputs": [
    {
     "name": "stdout",
     "output_type": "stream",
     "text": [
      "0\n",
      "len list_sign:  85\n",
      "epoch: 0\n",
      "len bad cols: 85\n",
      "тут  85 85 0\n",
      "0\n"
     ]
    }
   ],
   "source": [
    "check_nan_replace(df=data_kmeans_copy, KM=kmeans)"
   ]
  },
  {
   "cell_type": "code",
   "execution_count": null,
   "id": "a993aab7",
   "metadata": {},
   "outputs": [],
   "source": [
    "df.to_csv(\"data_kmeans_replace.csv\", index=False)"
   ]
  },
  {
   "cell_type": "code",
   "execution_count": 71,
   "id": "39cdacd0",
   "metadata": {},
   "outputs": [
    {
     "data": {
      "text/plain": [
       "array([51,  2,  3,  4,  5])"
      ]
     },
     "execution_count": 71,
     "metadata": {},
     "output_type": "execute_result"
    }
   ],
   "source": [
    "a = np.array([51,2,3,4,5])\n",
    "b = np.array([7,6,5,4,3])\n",
    "a\n",
    "s = np.where(a, s, a) \n",
    "s"
   ]
  },
  {
   "cell_type": "code",
   "execution_count": 33,
   "id": "061bddb7",
   "metadata": {},
   "outputs": [
    {
     "data": {
      "text/plain": [
       "[]"
      ]
     },
     "execution_count": 33,
     "metadata": {},
     "output_type": "execute_result"
    }
   ],
   "source": [
    "a = []\n",
    "list(set(a))"
   ]
  },
  {
   "cell_type": "code",
   "execution_count": 40,
   "id": "edea6685",
   "metadata": {},
   "outputs": [
    {
     "name": "stdout",
     "output_type": "stream",
     "text": [
      "0\n"
     ]
    },
    {
     "data": {
      "text/plain": [
       "{}"
      ]
     },
     "execution_count": 40,
     "metadata": {},
     "output_type": "execute_result"
    }
   ],
   "source": [
    "# 28\n",
    "print(len(check_dict_sign_hund))\n",
    "check_dict_sign_hund"
   ]
  },
  {
   "cell_type": "code",
   "execution_count": 41,
   "id": "4f596e28",
   "metadata": {},
   "outputs": [
    {
     "name": "stdout",
     "output_type": "stream",
     "text": [
      "0\n"
     ]
    },
    {
     "data": {
      "text/plain": [
       "{}"
      ]
     },
     "execution_count": 41,
     "metadata": {},
     "output_type": "execute_result"
    }
   ],
   "source": [
    "# 85\n",
    "print(len(check_dict_sign))\n",
    "check_dict_sign"
   ]
  },
  {
   "cell_type": "markdown",
   "id": "eeb19ffc",
   "metadata": {},
   "source": [
    "# &&&&&&&&&&&&&&&&&&&&&&&&&&&&&&&&&&&&"
   ]
  },
  {
   "cell_type": "code",
   "execution_count": 43,
   "id": "e5562bea",
   "metadata": {},
   "outputs": [
    {
     "ename": "KeyError",
     "evalue": "'bmi_kmeans'",
     "output_type": "error",
     "traceback": [
      "\u001b[1;31m---------------------------------------------------------------------------\u001b[0m",
      "\u001b[1;31mKeyError\u001b[0m                                  Traceback (most recent call last)",
      "\u001b[1;32mc:\\program files\\python37\\lib\\site-packages\\pandas\\core\\indexes\\base.py\u001b[0m in \u001b[0;36mget_loc\u001b[1;34m(self, key, method, tolerance)\u001b[0m\n\u001b[0;32m   3360\u001b[0m             \u001b[1;32mtry\u001b[0m\u001b[1;33m:\u001b[0m\u001b[1;33m\u001b[0m\u001b[1;33m\u001b[0m\u001b[0m\n\u001b[1;32m-> 3361\u001b[1;33m                 \u001b[1;32mreturn\u001b[0m \u001b[0mself\u001b[0m\u001b[1;33m.\u001b[0m\u001b[0m_engine\u001b[0m\u001b[1;33m.\u001b[0m\u001b[0mget_loc\u001b[0m\u001b[1;33m(\u001b[0m\u001b[0mcasted_key\u001b[0m\u001b[1;33m)\u001b[0m\u001b[1;33m\u001b[0m\u001b[1;33m\u001b[0m\u001b[0m\n\u001b[0m\u001b[0;32m   3362\u001b[0m             \u001b[1;32mexcept\u001b[0m \u001b[0mKeyError\u001b[0m \u001b[1;32mas\u001b[0m \u001b[0merr\u001b[0m\u001b[1;33m:\u001b[0m\u001b[1;33m\u001b[0m\u001b[1;33m\u001b[0m\u001b[0m\n",
      "\u001b[1;32mc:\\program files\\python37\\lib\\site-packages\\pandas\\_libs\\index.pyx\u001b[0m in \u001b[0;36mpandas._libs.index.IndexEngine.get_loc\u001b[1;34m()\u001b[0m\n",
      "\u001b[1;32mc:\\program files\\python37\\lib\\site-packages\\pandas\\_libs\\index.pyx\u001b[0m in \u001b[0;36mpandas._libs.index.IndexEngine.get_loc\u001b[1;34m()\u001b[0m\n",
      "\u001b[1;32mpandas\\_libs\\hashtable_class_helper.pxi\u001b[0m in \u001b[0;36mpandas._libs.hashtable.PyObjectHashTable.get_item\u001b[1;34m()\u001b[0m\n",
      "\u001b[1;32mpandas\\_libs\\hashtable_class_helper.pxi\u001b[0m in \u001b[0;36mpandas._libs.hashtable.PyObjectHashTable.get_item\u001b[1;34m()\u001b[0m\n",
      "\u001b[1;31mKeyError\u001b[0m: 'bmi_kmeans'",
      "\nThe above exception was the direct cause of the following exception:\n",
      "\u001b[1;31mKeyError\u001b[0m                                  Traceback (most recent call last)",
      "\u001b[1;32mC:\\Temp/ipykernel_12548/3362223848.py\u001b[0m in \u001b[0;36m<module>\u001b[1;34m\u001b[0m\n\u001b[1;32m----> 1\u001b[1;33m \u001b[0ma\u001b[0m \u001b[1;33m=\u001b[0m \u001b[0mlist\u001b[0m\u001b[1;33m(\u001b[0m\u001b[0mdata_kmeans\u001b[0m\u001b[1;33m[\u001b[0m\u001b[1;34m\"bmi\"\u001b[0m\u001b[1;33m]\u001b[0m\u001b[1;33m.\u001b[0m\u001b[0mloc\u001b[0m\u001b[1;33m[\u001b[0m\u001b[0mdata_kmeans\u001b[0m\u001b[1;33m[\u001b[0m\u001b[1;34m\"bmi_kmeans\"\u001b[0m\u001b[1;33m]\u001b[0m \u001b[1;33m==\u001b[0m \u001b[1;36m100\u001b[0m\u001b[1;33m]\u001b[0m\u001b[1;33m)\u001b[0m\u001b[1;33m\u001b[0m\u001b[1;33m\u001b[0m\u001b[0m\n\u001b[0m\u001b[0;32m      2\u001b[0m \u001b[0ma\u001b[0m\u001b[1;33m\u001b[0m\u001b[1;33m\u001b[0m\u001b[0m\n\u001b[0;32m      3\u001b[0m \u001b[1;31m# a.remove(-100)\u001b[0m\u001b[1;33m\u001b[0m\u001b[1;33m\u001b[0m\u001b[1;33m\u001b[0m\u001b[0m\n\u001b[0;32m      4\u001b[0m \u001b[1;31m# a_m = round(np.median(a), 3)\u001b[0m\u001b[1;33m\u001b[0m\u001b[1;33m\u001b[0m\u001b[1;33m\u001b[0m\u001b[0m\n\u001b[0;32m      5\u001b[0m \u001b[1;31m# print(a_m)\u001b[0m\u001b[1;33m\u001b[0m\u001b[1;33m\u001b[0m\u001b[1;33m\u001b[0m\u001b[0m\n",
      "\u001b[1;32mc:\\program files\\python37\\lib\\site-packages\\pandas\\core\\frame.py\u001b[0m in \u001b[0;36m__getitem__\u001b[1;34m(self, key)\u001b[0m\n\u001b[0;32m   3456\u001b[0m             \u001b[1;32mif\u001b[0m \u001b[0mself\u001b[0m\u001b[1;33m.\u001b[0m\u001b[0mcolumns\u001b[0m\u001b[1;33m.\u001b[0m\u001b[0mnlevels\u001b[0m \u001b[1;33m>\u001b[0m \u001b[1;36m1\u001b[0m\u001b[1;33m:\u001b[0m\u001b[1;33m\u001b[0m\u001b[1;33m\u001b[0m\u001b[0m\n\u001b[0;32m   3457\u001b[0m                 \u001b[1;32mreturn\u001b[0m \u001b[0mself\u001b[0m\u001b[1;33m.\u001b[0m\u001b[0m_getitem_multilevel\u001b[0m\u001b[1;33m(\u001b[0m\u001b[0mkey\u001b[0m\u001b[1;33m)\u001b[0m\u001b[1;33m\u001b[0m\u001b[1;33m\u001b[0m\u001b[0m\n\u001b[1;32m-> 3458\u001b[1;33m             \u001b[0mindexer\u001b[0m \u001b[1;33m=\u001b[0m \u001b[0mself\u001b[0m\u001b[1;33m.\u001b[0m\u001b[0mcolumns\u001b[0m\u001b[1;33m.\u001b[0m\u001b[0mget_loc\u001b[0m\u001b[1;33m(\u001b[0m\u001b[0mkey\u001b[0m\u001b[1;33m)\u001b[0m\u001b[1;33m\u001b[0m\u001b[1;33m\u001b[0m\u001b[0m\n\u001b[0m\u001b[0;32m   3459\u001b[0m             \u001b[1;32mif\u001b[0m \u001b[0mis_integer\u001b[0m\u001b[1;33m(\u001b[0m\u001b[0mindexer\u001b[0m\u001b[1;33m)\u001b[0m\u001b[1;33m:\u001b[0m\u001b[1;33m\u001b[0m\u001b[1;33m\u001b[0m\u001b[0m\n\u001b[0;32m   3460\u001b[0m                 \u001b[0mindexer\u001b[0m \u001b[1;33m=\u001b[0m \u001b[1;33m[\u001b[0m\u001b[0mindexer\u001b[0m\u001b[1;33m]\u001b[0m\u001b[1;33m\u001b[0m\u001b[1;33m\u001b[0m\u001b[0m\n",
      "\u001b[1;32mc:\\program files\\python37\\lib\\site-packages\\pandas\\core\\indexes\\base.py\u001b[0m in \u001b[0;36mget_loc\u001b[1;34m(self, key, method, tolerance)\u001b[0m\n\u001b[0;32m   3361\u001b[0m                 \u001b[1;32mreturn\u001b[0m \u001b[0mself\u001b[0m\u001b[1;33m.\u001b[0m\u001b[0m_engine\u001b[0m\u001b[1;33m.\u001b[0m\u001b[0mget_loc\u001b[0m\u001b[1;33m(\u001b[0m\u001b[0mcasted_key\u001b[0m\u001b[1;33m)\u001b[0m\u001b[1;33m\u001b[0m\u001b[1;33m\u001b[0m\u001b[0m\n\u001b[0;32m   3362\u001b[0m             \u001b[1;32mexcept\u001b[0m \u001b[0mKeyError\u001b[0m \u001b[1;32mas\u001b[0m \u001b[0merr\u001b[0m\u001b[1;33m:\u001b[0m\u001b[1;33m\u001b[0m\u001b[1;33m\u001b[0m\u001b[0m\n\u001b[1;32m-> 3363\u001b[1;33m                 \u001b[1;32mraise\u001b[0m \u001b[0mKeyError\u001b[0m\u001b[1;33m(\u001b[0m\u001b[0mkey\u001b[0m\u001b[1;33m)\u001b[0m \u001b[1;32mfrom\u001b[0m \u001b[0merr\u001b[0m\u001b[1;33m\u001b[0m\u001b[1;33m\u001b[0m\u001b[0m\n\u001b[0m\u001b[0;32m   3364\u001b[0m \u001b[1;33m\u001b[0m\u001b[0m\n\u001b[0;32m   3365\u001b[0m         \u001b[1;32mif\u001b[0m \u001b[0mis_scalar\u001b[0m\u001b[1;33m(\u001b[0m\u001b[0mkey\u001b[0m\u001b[1;33m)\u001b[0m \u001b[1;32mand\u001b[0m \u001b[0misna\u001b[0m\u001b[1;33m(\u001b[0m\u001b[0mkey\u001b[0m\u001b[1;33m)\u001b[0m \u001b[1;32mand\u001b[0m \u001b[1;32mnot\u001b[0m \u001b[0mself\u001b[0m\u001b[1;33m.\u001b[0m\u001b[0mhasnans\u001b[0m\u001b[1;33m:\u001b[0m\u001b[1;33m\u001b[0m\u001b[1;33m\u001b[0m\u001b[0m\n",
      "\u001b[1;31mKeyError\u001b[0m: 'bmi_kmeans'"
     ]
    }
   ],
   "source": [
    "a = list(data_kmeans[\"bmi\"].loc[data_kmeans[\"bmi_kmeans\"] == 100])\n",
    "a\n",
    "# a.remove(-100)\n",
    "# a_m = round(np.median(a), 3)\n",
    "# print(a_m)\n",
    "# q = data_kmeans[\"bmi\"].loc[data_kmeans[\"bmi_kmeans\"] == 100]\n",
    "# q\n",
    "# s = np.where(q != -100, q, a_m)\n",
    "# data_kmeans[\"bmi_kmeans\"][-100]\n",
    "# # q = s\n",
    "# q"
   ]
  },
  {
   "cell_type": "code",
   "execution_count": 122,
   "id": "52f75e35",
   "metadata": {},
   "outputs": [
    {
     "data": {
      "text/plain": [
       "88      25.0\n",
       "269     25.0\n",
       "385     25.0\n",
       "511     25.0\n",
       "1107    30.5\n",
       "1240    30.3\n",
       "1271    34.2\n",
       "1301    31.8\n",
       "1307    24.8\n",
       "1409    24.0\n",
       "1634    25.2\n",
       "1747    42.2\n",
       "1873    23.0\n",
       "1906    24.3\n",
       "1930    36.2\n",
       "1999    26.8\n",
       "2167    32.1\n",
       "2191    29.7\n",
       "2208    29.7\n",
       "2391    24.6\n",
       "2455    17.1\n",
       "2497    20.4\n",
       "2765    31.0\n",
       "2964    24.2\n",
       "3239    22.7\n",
       "3244    28.1\n",
       "3835    22.8\n",
       "4362    25.6\n",
       "4623    21.0\n",
       "Name: bmi, dtype: float64"
      ]
     },
     "execution_count": 122,
     "metadata": {},
     "output_type": "execute_result"
    }
   ],
   "source": [
    "data_kmeans[\"bmi\"].loc[data_kmeans[\"bmi_kmeans\"] == 5] = s\n",
    "data_kmeans[\"bmi\"].loc[data_kmeans[\"bmi_kmeans\"] == 5]"
   ]
  },
  {
   "cell_type": "code",
   "execution_count": 138,
   "id": "086068f3",
   "metadata": {},
   "outputs": [],
   "source": [
    "data_kmeans = data_kmeans.astype(np.float64)"
   ]
  },
  {
   "cell_type": "code",
   "execution_count": 44,
   "id": "2e1e1a8a",
   "metadata": {},
   "outputs": [
    {
     "ename": "ValueError",
     "evalue": "Input contains NaN, infinity or a value too large for dtype('float64').",
     "output_type": "error",
     "traceback": [
      "\u001b[1;31m---------------------------------------------------------------------------\u001b[0m",
      "\u001b[1;31mValueError\u001b[0m                                Traceback (most recent call last)",
      "\u001b[1;32mC:\\Temp/ipykernel_12548/3681695376.py\u001b[0m in \u001b[0;36m<module>\u001b[1;34m\u001b[0m\n\u001b[0;32m      1\u001b[0m \u001b[0mkmeans\u001b[0m \u001b[1;33m=\u001b[0m \u001b[0mKMeans\u001b[0m\u001b[1;33m(\u001b[0m\u001b[0mn_clusters\u001b[0m\u001b[1;33m=\u001b[0m\u001b[1;36m464\u001b[0m\u001b[1;33m,\u001b[0m \u001b[0mrandom_state\u001b[0m\u001b[1;33m=\u001b[0m\u001b[1;36m0\u001b[0m\u001b[1;33m)\u001b[0m\u001b[1;33m\u001b[0m\u001b[1;33m\u001b[0m\u001b[0m\n\u001b[1;32m----> 2\u001b[1;33m \u001b[0mkmeans\u001b[0m\u001b[1;33m.\u001b[0m\u001b[0mfit\u001b[0m\u001b[1;33m(\u001b[0m\u001b[0mdata_kmeans_copy\u001b[0m\u001b[1;33m)\u001b[0m\u001b[1;33m\u001b[0m\u001b[1;33m\u001b[0m\u001b[0m\n\u001b[0m",
      "\u001b[1;32mc:\\program files\\python37\\lib\\site-packages\\sklearn\\cluster\\_kmeans.py\u001b[0m in \u001b[0;36mfit\u001b[1;34m(self, X, y, sample_weight)\u001b[0m\n\u001b[0;32m   1144\u001b[0m             \u001b[0morder\u001b[0m\u001b[1;33m=\u001b[0m\u001b[1;34m\"C\"\u001b[0m\u001b[1;33m,\u001b[0m\u001b[1;33m\u001b[0m\u001b[1;33m\u001b[0m\u001b[0m\n\u001b[0;32m   1145\u001b[0m             \u001b[0mcopy\u001b[0m\u001b[1;33m=\u001b[0m\u001b[0mself\u001b[0m\u001b[1;33m.\u001b[0m\u001b[0mcopy_x\u001b[0m\u001b[1;33m,\u001b[0m\u001b[1;33m\u001b[0m\u001b[1;33m\u001b[0m\u001b[0m\n\u001b[1;32m-> 1146\u001b[1;33m             \u001b[0maccept_large_sparse\u001b[0m\u001b[1;33m=\u001b[0m\u001b[1;32mFalse\u001b[0m\u001b[1;33m,\u001b[0m\u001b[1;33m\u001b[0m\u001b[1;33m\u001b[0m\u001b[0m\n\u001b[0m\u001b[0;32m   1147\u001b[0m         )\n\u001b[0;32m   1148\u001b[0m \u001b[1;33m\u001b[0m\u001b[0m\n",
      "\u001b[1;32mc:\\program files\\python37\\lib\\site-packages\\sklearn\\base.py\u001b[0m in \u001b[0;36m_validate_data\u001b[1;34m(self, X, y, reset, validate_separately, **check_params)\u001b[0m\n\u001b[0;32m    559\u001b[0m             \u001b[1;32mraise\u001b[0m \u001b[0mValueError\u001b[0m\u001b[1;33m(\u001b[0m\u001b[1;34m\"Validation should be done on X, y or both.\"\u001b[0m\u001b[1;33m)\u001b[0m\u001b[1;33m\u001b[0m\u001b[1;33m\u001b[0m\u001b[0m\n\u001b[0;32m    560\u001b[0m         \u001b[1;32melif\u001b[0m \u001b[1;32mnot\u001b[0m \u001b[0mno_val_X\u001b[0m \u001b[1;32mand\u001b[0m \u001b[0mno_val_y\u001b[0m\u001b[1;33m:\u001b[0m\u001b[1;33m\u001b[0m\u001b[1;33m\u001b[0m\u001b[0m\n\u001b[1;32m--> 561\u001b[1;33m             \u001b[0mX\u001b[0m \u001b[1;33m=\u001b[0m \u001b[0mcheck_array\u001b[0m\u001b[1;33m(\u001b[0m\u001b[0mX\u001b[0m\u001b[1;33m,\u001b[0m \u001b[1;33m**\u001b[0m\u001b[0mcheck_params\u001b[0m\u001b[1;33m)\u001b[0m\u001b[1;33m\u001b[0m\u001b[1;33m\u001b[0m\u001b[0m\n\u001b[0m\u001b[0;32m    562\u001b[0m             \u001b[0mout\u001b[0m \u001b[1;33m=\u001b[0m \u001b[0mX\u001b[0m\u001b[1;33m\u001b[0m\u001b[1;33m\u001b[0m\u001b[0m\n\u001b[0;32m    563\u001b[0m         \u001b[1;32melif\u001b[0m \u001b[0mno_val_X\u001b[0m \u001b[1;32mand\u001b[0m \u001b[1;32mnot\u001b[0m \u001b[0mno_val_y\u001b[0m\u001b[1;33m:\u001b[0m\u001b[1;33m\u001b[0m\u001b[1;33m\u001b[0m\u001b[0m\n",
      "\u001b[1;32mc:\\program files\\python37\\lib\\site-packages\\sklearn\\utils\\validation.py\u001b[0m in \u001b[0;36mcheck_array\u001b[1;34m(array, accept_sparse, accept_large_sparse, dtype, order, copy, force_all_finite, ensure_2d, allow_nd, ensure_min_samples, ensure_min_features, estimator)\u001b[0m\n\u001b[0;32m    790\u001b[0m \u001b[1;33m\u001b[0m\u001b[0m\n\u001b[0;32m    791\u001b[0m         \u001b[1;32mif\u001b[0m \u001b[0mforce_all_finite\u001b[0m\u001b[1;33m:\u001b[0m\u001b[1;33m\u001b[0m\u001b[1;33m\u001b[0m\u001b[0m\n\u001b[1;32m--> 792\u001b[1;33m             \u001b[0m_assert_all_finite\u001b[0m\u001b[1;33m(\u001b[0m\u001b[0marray\u001b[0m\u001b[1;33m,\u001b[0m \u001b[0mallow_nan\u001b[0m\u001b[1;33m=\u001b[0m\u001b[0mforce_all_finite\u001b[0m \u001b[1;33m==\u001b[0m \u001b[1;34m\"allow-nan\"\u001b[0m\u001b[1;33m)\u001b[0m\u001b[1;33m\u001b[0m\u001b[1;33m\u001b[0m\u001b[0m\n\u001b[0m\u001b[0;32m    793\u001b[0m \u001b[1;33m\u001b[0m\u001b[0m\n\u001b[0;32m    794\u001b[0m     \u001b[1;32mif\u001b[0m \u001b[0mensure_min_samples\u001b[0m \u001b[1;33m>\u001b[0m \u001b[1;36m0\u001b[0m\u001b[1;33m:\u001b[0m\u001b[1;33m\u001b[0m\u001b[1;33m\u001b[0m\u001b[0m\n",
      "\u001b[1;32mc:\\program files\\python37\\lib\\site-packages\\sklearn\\utils\\validation.py\u001b[0m in \u001b[0;36m_assert_all_finite\u001b[1;34m(X, allow_nan, msg_dtype)\u001b[0m\n\u001b[0;32m    114\u001b[0m             raise ValueError(\n\u001b[0;32m    115\u001b[0m                 msg_err.format(\n\u001b[1;32m--> 116\u001b[1;33m                     \u001b[0mtype_err\u001b[0m\u001b[1;33m,\u001b[0m \u001b[0mmsg_dtype\u001b[0m \u001b[1;32mif\u001b[0m \u001b[0mmsg_dtype\u001b[0m \u001b[1;32mis\u001b[0m \u001b[1;32mnot\u001b[0m \u001b[1;32mNone\u001b[0m \u001b[1;32melse\u001b[0m \u001b[0mX\u001b[0m\u001b[1;33m.\u001b[0m\u001b[0mdtype\u001b[0m\u001b[1;33m\u001b[0m\u001b[1;33m\u001b[0m\u001b[0m\n\u001b[0m\u001b[0;32m    117\u001b[0m                 )\n\u001b[0;32m    118\u001b[0m             )\n",
      "\u001b[1;31mValueError\u001b[0m: Input contains NaN, infinity or a value too large for dtype('float64')."
     ]
    }
   ],
   "source": [
    "kmeans = KMeans(n_clusters=464, random_state=0)\n",
    "kmeans.fit(data_kmeans_copy)"
   ]
  },
  {
   "cell_type": "code",
   "execution_count": 154,
   "id": "e7192abb",
   "metadata": {},
   "outputs": [
    {
     "data": {
      "text/plain": [
       "array([411, 418, 418, ...,  93, 170, 355])"
      ]
     },
     "execution_count": 154,
     "metadata": {},
     "output_type": "execute_result"
    }
   ],
   "source": [
    "kmeans.labels_"
   ]
  },
  {
   "cell_type": "code",
   "execution_count": 155,
   "id": "dc2a0fd9",
   "metadata": {},
   "outputs": [],
   "source": [
    "data_kmeans[\"bmi_kmeans\"] = kmeans.labels_"
   ]
  },
  {
   "cell_type": "code",
   "execution_count": 157,
   "id": "aeb2c652",
   "metadata": {},
   "outputs": [
    {
     "data": {
      "text/html": [
       "<div>\n",
       "<style scoped>\n",
       "    .dataframe tbody tr th:only-of-type {\n",
       "        vertical-align: middle;\n",
       "    }\n",
       "\n",
       "    .dataframe tbody tr th {\n",
       "        vertical-align: top;\n",
       "    }\n",
       "\n",
       "    .dataframe thead th {\n",
       "        text-align: right;\n",
       "    }\n",
       "</style>\n",
       "<table border=\"1\" class=\"dataframe\">\n",
       "  <thead>\n",
       "    <tr style=\"text-align: right;\">\n",
       "      <th></th>\n",
       "      <th>bmi_kmeans</th>\n",
       "      <th>bmi</th>\n",
       "    </tr>\n",
       "  </thead>\n",
       "  <tbody>\n",
       "    <tr>\n",
       "      <th>349</th>\n",
       "      <td>412</td>\n",
       "      <td>-100.0</td>\n",
       "    </tr>\n",
       "    <tr>\n",
       "      <th>383</th>\n",
       "      <td>412</td>\n",
       "      <td>-100.0</td>\n",
       "    </tr>\n",
       "    <tr>\n",
       "      <th>395</th>\n",
       "      <td>412</td>\n",
       "      <td>-100.0</td>\n",
       "    </tr>\n",
       "    <tr>\n",
       "      <th>432</th>\n",
       "      <td>412</td>\n",
       "      <td>-100.0</td>\n",
       "    </tr>\n",
       "    <tr>\n",
       "      <th>610</th>\n",
       "      <td>412</td>\n",
       "      <td>-100.0</td>\n",
       "    </tr>\n",
       "    <tr>\n",
       "      <th>766</th>\n",
       "      <td>412</td>\n",
       "      <td>28.3</td>\n",
       "    </tr>\n",
       "    <tr>\n",
       "      <th>1579</th>\n",
       "      <td>412</td>\n",
       "      <td>33.4</td>\n",
       "    </tr>\n",
       "    <tr>\n",
       "      <th>1645</th>\n",
       "      <td>412</td>\n",
       "      <td>29.8</td>\n",
       "    </tr>\n",
       "    <tr>\n",
       "      <th>1691</th>\n",
       "      <td>412</td>\n",
       "      <td>24.9</td>\n",
       "    </tr>\n",
       "    <tr>\n",
       "      <th>1692</th>\n",
       "      <td>412</td>\n",
       "      <td>33.7</td>\n",
       "    </tr>\n",
       "    <tr>\n",
       "      <th>1765</th>\n",
       "      <td>412</td>\n",
       "      <td>25.5</td>\n",
       "    </tr>\n",
       "    <tr>\n",
       "      <th>1909</th>\n",
       "      <td>412</td>\n",
       "      <td>38.7</td>\n",
       "    </tr>\n",
       "    <tr>\n",
       "      <th>2552</th>\n",
       "      <td>412</td>\n",
       "      <td>43.4</td>\n",
       "    </tr>\n",
       "    <tr>\n",
       "      <th>3636</th>\n",
       "      <td>412</td>\n",
       "      <td>34.6</td>\n",
       "    </tr>\n",
       "  </tbody>\n",
       "</table>\n",
       "</div>"
      ],
      "text/plain": [
       "      bmi_kmeans    bmi\n",
       "349          412 -100.0\n",
       "383          412 -100.0\n",
       "395          412 -100.0\n",
       "432          412 -100.0\n",
       "610          412 -100.0\n",
       "766          412   28.3\n",
       "1579         412   33.4\n",
       "1645         412   29.8\n",
       "1691         412   24.9\n",
       "1692         412   33.7\n",
       "1765         412   25.5\n",
       "1909         412   38.7\n",
       "2552         412   43.4\n",
       "3636         412   34.6"
      ]
     },
     "execution_count": 157,
     "metadata": {},
     "output_type": "execute_result"
    }
   ],
   "source": [
    "data_kmeans[[\"bmi_kmeans\", \"bmi\"]].loc[data_kmeans[\"bmi_kmeans\"] == 412]"
   ]
  },
  {
   "cell_type": "markdown",
   "id": "c2510ac9",
   "metadata": {},
   "source": [
    "# kfold"
   ]
  },
  {
   "cell_type": "code",
   "execution_count": 66,
   "id": "71384c2a",
   "metadata": {},
   "outputs": [
    {
     "name": "stdout",
     "output_type": "stream",
     "text": [
      "Всего категориальных признаков: 6\n",
      "Всего числовых признаков: 99\n"
     ]
    }
   ],
   "source": [
    "categorical = data.dtypes[data.dtypes == \"object\"].index\n",
    "numerical = list(set(data.columns) - set(categorical))\n",
    "\n",
    "print(f\"Всего категориальных признаков: {len(categorical)}\")\n",
    "print(f\"Всего числовых признаков: {len(numerical)}\")\n"
   ]
  },
  {
   "cell_type": "code",
   "execution_count": 67,
   "id": "0c73392e",
   "metadata": {},
   "outputs": [],
   "source": [
    "X, y = data.drop(\"target\", axis=1), data[\"target\"]"
   ]
  },
  {
   "cell_type": "code",
   "execution_count": 68,
   "id": "45917fbc",
   "metadata": {},
   "outputs": [],
   "source": [
    "import time\n",
    "cv = KFold(n_splits=5, random_state=1234123, shuffle=True)"
   ]
  },
  {
   "cell_type": "code",
   "execution_count": 69,
   "id": "00b8634b",
   "metadata": {},
   "outputs": [],
   "source": [
    "cb_params = {\n",
    "    \"n_estimators\": 2000,\n",
    "    \"learning_rate\": 0.001,\n",
    "    \"loss_function\": \"Logloss\",\n",
    "    \"eval_metric\": \"AUC\",\n",
    "    \"task_type\": \"CPU\",\n",
    "    \"max_bin\": 20,\n",
    "    \"verbose\": False,\n",
    "    \"max_depth\": 6,\n",
    "    \"l2_leaf_reg\": 10,\n",
    "    \"early_stopping_rounds\": 50,\n",
    "    \"thread_count\": 6,\n",
    "    \"random_seed\": 42,\n",
    "#     \"class_weights\":(1,56)\n",
    "    }"
   ]
  },
  {
   "cell_type": "code",
   "execution_count": 70,
   "id": "a5afc60c",
   "metadata": {},
   "outputs": [
    {
     "name": "stdout",
     "output_type": "stream",
     "text": [
      "Sat Aug 26 21:39:27 2023, Cross-Validation, 10234 rows, 104 cols\n",
      "Fold 1, Valid score = 0.74264\n"
     ]
    },
    {
     "ename": "NameError",
     "evalue": "name 'model' is not defined",
     "output_type": "error",
     "traceback": [
      "\u001b[1;31m---------------------------------------------------------------------------\u001b[0m",
      "\u001b[1;31mNameError\u001b[0m                                 Traceback (most recent call last)",
      "\u001b[1;32mC:\\Temp/ipykernel_12456/1916988736.py\u001b[0m in \u001b[0;36m<module>\u001b[1;34m\u001b[0m\n\u001b[0;32m     19\u001b[0m     \u001b[0mprint\u001b[0m\u001b[1;33m(\u001b[0m\u001b[1;34mf\"Fold {fold+1}, Valid score = {round(score, 5)}\"\u001b[0m\u001b[1;33m)\u001b[0m\u001b[1;33m\u001b[0m\u001b[1;33m\u001b[0m\u001b[0m\n\u001b[0;32m     20\u001b[0m     \u001b[0mfolds_scores\u001b[0m\u001b[1;33m.\u001b[0m\u001b[0mappend\u001b[0m\u001b[1;33m(\u001b[0m\u001b[0mround\u001b[0m\u001b[1;33m(\u001b[0m\u001b[0mscore\u001b[0m\u001b[1;33m,\u001b[0m \u001b[1;36m5\u001b[0m\u001b[1;33m)\u001b[0m\u001b[1;33m)\u001b[0m\u001b[1;33m\u001b[0m\u001b[1;33m\u001b[0m\u001b[0m\n\u001b[1;32m---> 21\u001b[1;33m     \u001b[0mestimators\u001b[0m\u001b[1;33m.\u001b[0m\u001b[0mappend\u001b[0m\u001b[1;33m(\u001b[0m\u001b[0mmodel\u001b[0m\u001b[1;33m)\u001b[0m\u001b[1;33m\u001b[0m\u001b[1;33m\u001b[0m\u001b[0m\n\u001b[0m\u001b[0;32m     22\u001b[0m \u001b[1;33m\u001b[0m\u001b[0m\n\u001b[0;32m     23\u001b[0m \u001b[0mprint\u001b[0m\u001b[1;33m(\u001b[0m\u001b[1;34mf\"Score by each fold: {folds_scores}\"\u001b[0m\u001b[1;33m)\u001b[0m\u001b[1;33m\u001b[0m\u001b[1;33m\u001b[0m\u001b[0m\n",
      "\u001b[1;31mNameError\u001b[0m: name 'model' is not defined"
     ]
    }
   ],
   "source": [
    "estimators, folds_scores = [], []\n",
    "oof_preds = np.zeros(X.shape[0])\n",
    "\n",
    "print(f\"{time.ctime()}, Cross-Validation, {X.shape[0]} rows, {X.shape[1]} cols\")\n",
    "X[categorical] = X[categorical].astype(str)\n",
    "for fold, (train_idx, valid_idx) in enumerate(cv.split(X, y)):\n",
    "\n",
    "    x_train, x_valid = X.loc[train_idx], X.loc[valid_idx]\n",
    "    y_train, y_valid = y[train_idx], y[valid_idx]\n",
    "\n",
    "    model_kf = cb.CatBoostClassifier(**cb_params)\n",
    "    model_kf.fit(\n",
    "            x_train, y_train,\n",
    "            cat_features=list(categorical),\n",
    "            eval_set=[(x_train, y_train), (x_valid, y_valid)]\n",
    "        )\n",
    "    oof_preds[valid_idx] = model_kf.predict_proba(x_valid)[:, 1]\n",
    "    score = roc_auc_score(y_valid, oof_preds[valid_idx])\n",
    "    print(f\"Fold {fold+1}, Valid score = {round(score, 5)}\")\n",
    "    folds_scores.append(round(score, 5))\n",
    "    estimators.append(model)\n",
    "\n",
    "print(f\"Score by each fold: {folds_scores}\")\n",
    "print(\"=\"*50)\n"
   ]
  },
  {
   "cell_type": "code",
   "execution_count": 14,
   "id": "3943a519",
   "metadata": {},
   "outputs": [
    {
     "data": {
      "text/plain": [
       "array([1, 2, 3, 4, 5, 1])"
      ]
     },
     "execution_count": 14,
     "metadata": {},
     "output_type": "execute_result"
    }
   ],
   "source": [
    "import numpy as np\n",
    "q = [-100, 2,3,4,5,-100]\n",
    "q = np.array(q)\n",
    "\n",
    "np.where(q ==-100, 1, q)"
   ]
  }
 ],
 "metadata": {
  "kernelspec": {
   "display_name": "Python 3 (ipykernel)",
   "language": "python",
   "name": "python3"
  },
  "language_info": {
   "codemirror_mode": {
    "name": "ipython",
    "version": 3
   },
   "file_extension": ".py",
   "mimetype": "text/x-python",
   "name": "python",
   "nbconvert_exporter": "python",
   "pygments_lexer": "ipython3",
   "version": "3.7.9"
  }
 },
 "nbformat": 4,
 "nbformat_minor": 5
}
