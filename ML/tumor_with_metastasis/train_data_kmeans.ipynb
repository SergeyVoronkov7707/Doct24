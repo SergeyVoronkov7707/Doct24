{
 "cells": [
  {
   "cell_type": "code",
   "execution_count": 1,
   "id": "c51258ea",
   "metadata": {},
   "outputs": [],
   "source": [
    "import numpy as np\n",
    "import pandas as pd\n",
    "import seaborn as sns\n",
    "import matplotlib.pyplot as plt\n",
    "import os\n",
    "from tqdm import tqdm\n",
    "import time\n",
    "\n",
    "import catboost as cb\n",
    "import xgboost as xgb\n",
    "from bayes_opt import BayesianOptimization\n",
    "from sklearn.preprocessing import StandardScaler\n",
    "from sklearn.linear_model import LogisticRegression\n",
    "from sklearn.ensemble import RandomForestClassifier\n",
    "from sklearn.model_selection import train_test_split, KFold\n",
    "from sklearn.metrics import roc_auc_score, confusion_matrix, accuracy_score, classification_report\n",
    "from sklearn.pipeline import Pipeline\n",
    "from sklearn.cluster import KMeans"
   ]
  },
  {
   "cell_type": "markdown",
   "id": "b3ba33af",
   "metadata": {},
   "source": [
    "# funсtion"
   ]
  },
  {
   "cell_type": "code",
   "execution_count": 2,
   "id": "bc91351b",
   "metadata": {},
   "outputs": [],
   "source": [
    "def catboost_cross_validation(params, X, y, cv, categorical = None):\n",
    "    \"\"\"\n",
    "    Кросс-валидация для модели catbooost.\n",
    "\n",
    "    Parameters\n",
    "    ----------\n",
    "    params: dict\n",
    "        Словарь гиперпараметров модели.\n",
    "\n",
    "    X: pandas.core.frame.DataFrame\n",
    "        Матрица признако для обучения модели.\n",
    "\n",
    "    y: pandas.core.frame.Series\n",
    "        Вектор целевой переменной для обучения модели.\n",
    "\n",
    "    cv: KFold or StratifiedKFold generator.\n",
    "        Объект KFold / StratifiedKFold для определения\n",
    "        стратегии кросс-валидации модели.\n",
    "\n",
    "    categorical: str, optional, default = None\n",
    "        Список категориальных признаков.\n",
    "        Опциональный параметр, по умолчанию, не используется.\n",
    "\n",
    "    Returns\n",
    "    -------\n",
    "    estimators: list\n",
    "        Список с объектами обученной модели.\n",
    "\n",
    "    oof_preds: np.array\n",
    "        Вектор OOF-прогнозов.\n",
    "\n",
    "    \"\"\"\n",
    "    estimators, folds_scores = [], []\n",
    "    oof_preds = np.zeros(X.shape[0])\n",
    "\n",
    "    print(f\"{time.ctime()}, Cross-Validation, {X.shape[0]} rows, {X.shape[1]} cols\")\n",
    "    if categorical != None:\n",
    "        X[categorical] = X[categorical].astype(str)\n",
    "\n",
    "    for fold, (train_idx, valid_idx) in enumerate(cv.split(X, y)):\n",
    "\n",
    "        x_train, x_valid = X.loc[train_idx], X.loc[valid_idx]\n",
    "        y_train, y_valid = y[train_idx], y[valid_idx]\n",
    "\n",
    "        model = cb.CatBoostClassifier(**params)\n",
    "        model.fit(\n",
    "            x_train, y_train, categorical,\n",
    "            eval_set=[(x_train, y_train), (x_valid, y_valid)]\n",
    "        )\n",
    "        oof_preds[valid_idx] = model.predict_proba(x_valid)[:, 1]\n",
    "        score = roc_auc_score(y_valid, oof_preds[valid_idx])\n",
    "        print(f\"Fold {fold+1}, Valid score = {round(score, 5)}\")\n",
    "        folds_scores.append(round(score, 5))\n",
    "        estimators.append(model)\n",
    "\n",
    "    print(f\"Score by each fold: {folds_scores}\")\n",
    "    print(\"=\"*65)\n",
    "    return estimators, oof_preds"
   ]
  },
  {
   "cell_type": "code",
   "execution_count": 3,
   "id": "d5a42011",
   "metadata": {},
   "outputs": [],
   "source": [
    "# CatBoost\n",
    "def catboost_base(x, x_val, y, y_val, cat_feature = None):\n",
    "    cb_params = {\n",
    "    \"n_estimators\": 2000,\n",
    "    \"learning_rate\": 0.001,\n",
    "    \"loss_function\": \"Logloss\",\n",
    "    \"eval_metric\": \"AUC\",\n",
    "    \"task_type\": \"CPU\",\n",
    "    \"max_bin\": 20,\n",
    "    \"verbose\": False,\n",
    "    \"max_depth\": 6,\n",
    "    \"l2_leaf_reg\": 10,\n",
    "    \"early_stopping_rounds\": 50,\n",
    "    \"thread_count\": 6,\n",
    "    \"random_seed\": 42\n",
    "    }\n",
    "    if cat_feature == None:\n",
    "        model = cb.CatBoostClassifier(**cb_params)\n",
    "        model.fit(x, y,\n",
    "            )\n",
    "    else:\n",
    "        model = cb.CatBoostClassifier(**cb_params)\n",
    "        model.fit(x, y,cat_features=cat_feature\n",
    "            )\n",
    "    y_pred = model.predict(x_val)\n",
    "    print(\"roc_auc_score: \",roc_auc_score(y_val, y_pred))\n",
    "    print(\"confusion_matrix: \",confusion_matrix(y_val, y_pred))\n",
    "    print(\"accuracy_score: \",accuracy_score(y_val, y_pred))\n",
    "    print(\"classification_report: \", classification_report(y_val, y_pred))\n",
    "    return y_pred"
   ]
  },
  {
   "cell_type": "code",
   "execution_count": 4,
   "id": "b199c333",
   "metadata": {},
   "outputs": [],
   "source": [
    "def train_split(x):\n",
    "    x_train, x_valid, y_train, y_valid = train_test_split(x.drop( \"target\", axis=1), x[\"target\"], test_size = 0.2)\n",
    "    x_train, x_test, y_train, y_test = train_test_split(x_train, y_train, test_size = 0.2)\n",
    "    print(x_train.shape, x_valid.shape, y_train.shape, y_valid.shape, x_test.shape, y_test.shape)\n",
    "    return x_train, x_valid, y_train, y_valid, x_test, y_test"
   ]
  },
  {
   "cell_type": "code",
   "execution_count": 5,
   "id": "0c0b232f",
   "metadata": {},
   "outputs": [],
   "source": [
    "def train_split_dis(x):\n",
    "    for i in range(10000000):\n",
    "        x_train, x_valid, y_train, y_valid = train_test_split(x.drop( \"target\", axis=1), x[\"target\"], test_size = 0.3,\n",
    "                                                             random_state = i)\n",
    "        x_train, x_test, y_train, y_test = train_test_split(x_train, y_train, test_size = 0.2)\n",
    "        if (y_train == 1).sum()/181 < 0.7:\n",
    "            print(\"random_state: {}\".format(i))\n",
    "            print(x_train.shape, x_valid.shape, y_train.shape, y_valid.shape, x_test.shape, y_test.shape)\n",
    "            return x_train, x_valid, y_train, y_valid, x_test, y_test\n"
   ]
  },
  {
   "cell_type": "markdown",
   "id": "3bd08c36",
   "metadata": {},
   "source": [
    "# train"
   ]
  },
  {
   "cell_type": "code",
   "execution_count": 6,
   "id": "4632f538",
   "metadata": {},
   "outputs": [
    {
     "data": {
      "text/plain": [
       "['data_kmeans.csv',\n",
       " 'data_kmeans_replace.csv',\n",
       " 'data_n.csv',\n",
       " 'test',\n",
       " 'test.txt',\n",
       " 'UnlabeledWiDS2021.csv']"
      ]
     },
     "execution_count": 6,
     "metadata": {},
     "output_type": "execute_result"
    }
   ],
   "source": [
    "os.listdir(\"data\")"
   ]
  },
  {
   "cell_type": "code",
   "execution_count": 7,
   "id": "4b9fbcad",
   "metadata": {},
   "outputs": [],
   "source": [
    "data = pd.read_csv(\"data/data_kmeans_replace.csv\")"
   ]
  },
  {
   "cell_type": "code",
   "execution_count": 8,
   "id": "cc151c24",
   "metadata": {},
   "outputs": [
    {
     "data": {
      "text/plain": [
       "(10234, 190)"
      ]
     },
     "execution_count": 8,
     "metadata": {},
     "output_type": "execute_result"
    }
   ],
   "source": [
    "data.shape"
   ]
  },
  {
   "cell_type": "code",
   "execution_count": 9,
   "id": "349417e3",
   "metadata": {},
   "outputs": [],
   "source": [
    "for i in data:\n",
    "    if data[i].isna().sum() != 0:\n",
    "        print(i)\n",
    "        print(data[i].isna().sum())"
   ]
  },
  {
   "cell_type": "code",
   "execution_count": 14,
   "id": "f1f0e5b0",
   "metadata": {},
   "outputs": [
    {
     "name": "stdout",
     "output_type": "stream",
     "text": [
      "random_state: 0\n",
      "(5730, 189) (3071, 189) (5730,) (3071,) (1433, 189) (1433,)\n"
     ]
    }
   ],
   "source": [
    "x_train, x_valid, y_train, y_valid, x_test, y_test = train_split_dis(data)"
   ]
  },
  {
   "cell_type": "code",
   "execution_count": 15,
   "id": "33b1ac61",
   "metadata": {},
   "outputs": [],
   "source": [
    "# class_weights\n",
    "\n",
    "# CatBoost\n",
    "cb_params = {\n",
    "    \"n_estimators\": 2000,\n",
    "    \"learning_rate\": 0.001,\n",
    "    \"loss_function\": \"Logloss\",\n",
    "    \"eval_metric\": \"AUC\",\n",
    "    \"task_type\": \"CPU\",\n",
    "    \"max_bin\": 20,\n",
    "    \"verbose\": False,\n",
    "    \"max_depth\": 6,\n",
    "    \"l2_leaf_reg\": 10,\n",
    "    \"early_stopping_rounds\": 50,\n",
    "    \"thread_count\": 6,\n",
    "    \"random_seed\": 42,\n",
    "    \"class_weights\":(1,56)\n",
    "    }\n",
    "\n"
   ]
  },
  {
   "cell_type": "code",
   "execution_count": 16,
   "id": "41685499",
   "metadata": {},
   "outputs": [
    {
     "data": {
      "application/vnd.jupyter.widget-view+json": {
       "model_id": "c5cffd88a1144f2a81c45c9020d5b5e5",
       "version_major": 2,
       "version_minor": 0
      },
      "text/plain": [
       "MetricVisualizer(layout=Layout(align_self='stretch', height='500px'))"
      ]
     },
     "metadata": {},
     "output_type": "display_data"
    },
    {
     "data": {
      "text/plain": [
       "<catboost.core.CatBoostClassifier at 0x24da7151248>"
      ]
     },
     "execution_count": 16,
     "metadata": {},
     "output_type": "execute_result"
    }
   ],
   "source": [
    "model_cb_w = cb.CatBoostClassifier(**cb_params)\n",
    "model_cb_w.fit(x_train, \n",
    "               y_train,\n",
    "#                cat_features=categorical, \n",
    "               eval_set = [(x_train, y_train), (x_valid, y_valid)], \n",
    "               plot= True)\n"
   ]
  },
  {
   "cell_type": "code",
   "execution_count": 17,
   "id": "26981f9d",
   "metadata": {},
   "outputs": [
    {
     "name": "stdout",
     "output_type": "stream",
     "text": [
      "              precision    recall  f1-score   support\n",
      "\n",
      "           0       0.99      0.98      0.99      1404\n",
      "           1       0.35      0.45      0.39        29\n",
      "\n",
      "    accuracy                           0.97      1433\n",
      "   macro avg       0.67      0.72      0.69      1433\n",
      "weighted avg       0.98      0.97      0.97      1433\n",
      "\n",
      "roc_auc_score:  0.7155909224874742\n",
      "confusion_matrix:  [[1380   24]\n",
      " [  16   13]]\n"
     ]
    }
   ],
   "source": [
    "pred = model_cb_w.predict(x_test)\n",
    "print(classification_report(y_test, pred, labels=np.unique(pred)))\n",
    "print(\"roc_auc_score: \",roc_auc_score(y_test, pred))\n",
    "print(\"confusion_matrix: \",confusion_matrix(y_test, pred))"
   ]
  },
  {
   "cell_type": "markdown",
   "id": "4bae357d",
   "metadata": {},
   "source": [
    "# kfold"
   ]
  },
  {
   "cell_type": "code",
   "execution_count": 18,
   "id": "85d29c0c",
   "metadata": {},
   "outputs": [],
   "source": [
    "X = data.drop(\"target\", axis=1)\n",
    "y= data[\"target\"]"
   ]
  },
  {
   "cell_type": "code",
   "execution_count": 19,
   "id": "d3568549",
   "metadata": {},
   "outputs": [
    {
     "name": "stdout",
     "output_type": "stream",
     "text": [
      "Tue Sep  5 21:41:01 2023, Cross-Validation, 10234 rows, 189 cols\n",
      "0:\ttest: 0.8039343\ttest1: 0.6994688\tbest: 0.6994688 (0)\ttotal: 12ms\tremaining: 23.9s\n",
      "10:\ttest: 0.9453013\ttest1: 0.7792179\tbest: 0.7812900 (2)\ttotal: 126ms\tremaining: 22.7s\n",
      "20:\ttest: 0.9601377\ttest1: 0.8061956\tbest: 0.8061956 (20)\ttotal: 231ms\tremaining: 21.8s\n",
      "30:\ttest: 0.9645266\ttest1: 0.8189964\tbest: 0.8189964 (30)\ttotal: 333ms\tremaining: 21.1s\n",
      "40:\ttest: 0.9644179\ttest1: 0.8350454\tbest: 0.8350454 (40)\ttotal: 438ms\tremaining: 20.9s\n",
      "50:\ttest: 0.9675144\ttest1: 0.8407578\tbest: 0.8407578 (50)\ttotal: 533ms\tremaining: 20.4s\n",
      "60:\ttest: 0.9690042\ttest1: 0.8436540\tbest: 0.8436540 (60)\ttotal: 630ms\tremaining: 20s\n",
      "70:\ttest: 0.9733201\ttest1: 0.8501184\tbest: 0.8501184 (70)\ttotal: 730ms\tremaining: 19.8s\n",
      "80:\ttest: 0.9764945\ttest1: 0.8538946\tbest: 0.8538946 (80)\ttotal: 827ms\tremaining: 19.6s\n",
      "90:\ttest: 0.9797047\ttest1: 0.8498144\tbest: 0.8550947 (81)\ttotal: 925ms\tremaining: 19.4s\n",
      "100:\ttest: 0.9814442\ttest1: 0.8453821\tbest: 0.8550947 (81)\ttotal: 1.02s\tremaining: 19.3s\n",
      "110:\ttest: 0.9835909\ttest1: 0.8472382\tbest: 0.8550947 (81)\ttotal: 1.12s\tremaining: 19.1s\n",
      "120:\ttest: 0.9846518\ttest1: 0.8469502\tbest: 0.8550947 (81)\ttotal: 1.22s\tremaining: 19s\n",
      "130:\ttest: 0.9870051\ttest1: 0.8446461\tbest: 0.8550947 (81)\ttotal: 1.33s\tremaining: 18.9s\n",
      "Stopped by overfitting detector  (50 iterations wait)\n",
      "\n",
      "bestTest = 0.8550947261\n",
      "bestIteration = 81\n",
      "\n",
      "Shrink model to first 82 iterations.\n",
      "Fold 1, Valid score = 0.85509\n",
      "0:\ttest: 0.7747783\ttest1: 0.7417446\tbest: 0.7417446 (0)\ttotal: 11.2ms\tremaining: 22.5s\n",
      "10:\ttest: 0.9458924\ttest1: 0.8186613\tbest: 0.8230795 (9)\ttotal: 110ms\tremaining: 19.8s\n",
      "20:\ttest: 0.9595751\ttest1: 0.8206277\tbest: 0.8292088 (12)\ttotal: 205ms\tremaining: 19.4s\n",
      "30:\ttest: 0.9659512\ttest1: 0.8268848\tbest: 0.8292088 (12)\ttotal: 323ms\tremaining: 20.5s\n",
      "40:\ttest: 0.9675706\ttest1: 0.8514532\tbest: 0.8514532 (40)\ttotal: 416ms\tremaining: 19.9s\n",
      "50:\ttest: 0.9696312\ttest1: 0.8535090\tbest: 0.8541092 (47)\ttotal: 506ms\tremaining: 19.3s\n",
      "60:\ttest: 0.9737804\ttest1: 0.8499591\tbest: 0.8541092 (47)\ttotal: 597ms\tremaining: 19s\n",
      "70:\ttest: 0.9764975\ttest1: 0.8523981\tbest: 0.8541092 (47)\ttotal: 686ms\tremaining: 18.6s\n",
      "80:\ttest: 0.9784382\ttest1: 0.8550414\tbest: 0.8560246 (77)\ttotal: 777ms\tremaining: 18.4s\n",
      "90:\ttest: 0.9808586\ttest1: 0.8556798\tbest: 0.8577102 (87)\ttotal: 879ms\tremaining: 18.4s\n",
      "100:\ttest: 0.9821112\ttest1: 0.8577996\tbest: 0.8588084 (93)\ttotal: 972ms\tremaining: 18.3s\n",
      "110:\ttest: 0.9846208\ttest1: 0.8543135\tbest: 0.8588084 (93)\ttotal: 1.06s\tremaining: 18.1s\n",
      "120:\ttest: 0.9860914\ttest1: 0.8514787\tbest: 0.8588084 (93)\ttotal: 1.16s\tremaining: 18s\n",
      "130:\ttest: 0.9876881\ttest1: 0.8517979\tbest: 0.8588084 (93)\ttotal: 1.25s\tremaining: 17.8s\n",
      "140:\ttest: 0.9885267\ttest1: 0.8548626\tbest: 0.8588084 (93)\ttotal: 1.34s\tremaining: 17.7s\n",
      "Stopped by overfitting detector  (50 iterations wait)\n",
      "\n",
      "bestTest = 0.8588083563\n",
      "bestIteration = 93\n",
      "\n",
      "Shrink model to first 94 iterations.\n",
      "Fold 2, Valid score = 0.85881\n",
      "0:\ttest: 0.7693768\ttest1: 0.7169887\tbest: 0.7169887 (0)\ttotal: 9.84ms\tremaining: 19.7s\n",
      "10:\ttest: 0.9337755\ttest1: 0.7253468\tbest: 0.7581475 (6)\ttotal: 107ms\tremaining: 19.3s\n",
      "20:\ttest: 0.9532255\ttest1: 0.7392946\tbest: 0.7581475 (6)\ttotal: 196ms\tremaining: 18.5s\n",
      "30:\ttest: 0.9561571\ttest1: 0.7556799\tbest: 0.7581475 (6)\ttotal: 287ms\tremaining: 18.2s\n",
      "40:\ttest: 0.9600932\ttest1: 0.7634739\tbest: 0.7642111 (39)\ttotal: 382ms\tremaining: 18.3s\n",
      "50:\ttest: 0.9654816\ttest1: 0.7638651\tbest: 0.7661972 (47)\ttotal: 480ms\tremaining: 18.3s\n",
      "60:\ttest: 0.9698774\ttest1: 0.7682285\tbest: 0.7701694 (57)\ttotal: 572ms\tremaining: 18.2s\n",
      "70:\ttest: 0.9748120\ttest1: 0.7730132\tbest: 0.7730132 (70)\ttotal: 664ms\tremaining: 18s\n",
      "80:\ttest: 0.9778428\ttest1: 0.7779784\tbest: 0.7779784 (80)\ttotal: 756ms\tremaining: 17.9s\n",
      "90:\ttest: 0.9811939\ttest1: 0.7787608\tbest: 0.7848996 (87)\ttotal: 850ms\tremaining: 17.8s\n",
      "100:\ttest: 0.9835927\ttest1: 0.7808522\tbest: 0.7859529 (96)\ttotal: 947ms\tremaining: 17.8s\n",
      "110:\ttest: 0.9856620\ttest1: 0.7808372\tbest: 0.7859529 (96)\ttotal: 1.04s\tremaining: 17.7s\n",
      "120:\ttest: 0.9874278\ttest1: 0.7773164\tbest: 0.7859529 (96)\ttotal: 1.13s\tremaining: 17.5s\n",
      "130:\ttest: 0.9889643\ttest1: 0.7813186\tbest: 0.7859529 (96)\ttotal: 1.22s\tremaining: 17.4s\n",
      "140:\ttest: 0.9902015\ttest1: 0.7852908\tbest: 0.7859529 (96)\ttotal: 1.31s\tremaining: 17.3s\n",
      "Stopped by overfitting detector  (50 iterations wait)\n",
      "\n",
      "bestTest = 0.7859528753\n",
      "bestIteration = 96\n",
      "\n",
      "Shrink model to first 97 iterations.\n",
      "Fold 3, Valid score = 0.78595\n",
      "0:\ttest: 0.8017041\ttest1: 0.5878245\tbest: 0.5878245 (0)\ttotal: 10.5ms\tremaining: 20.9s\n",
      "10:\ttest: 0.9644807\ttest1: 0.7275638\tbest: 0.7275638 (10)\ttotal: 109ms\tremaining: 19.7s\n",
      "20:\ttest: 0.9787471\ttest1: 0.7577979\tbest: 0.7601489 (19)\ttotal: 201ms\tremaining: 18.9s\n",
      "30:\ttest: 0.9836503\ttest1: 0.7762128\tbest: 0.7762128 (30)\ttotal: 291ms\tremaining: 18.5s\n",
      "40:\ttest: 0.9847169\ttest1: 0.8235106\tbest: 0.8235106 (40)\ttotal: 381ms\tremaining: 18.2s\n",
      "50:\ttest: 0.9849097\ttest1: 0.8414468\tbest: 0.8414468 (50)\ttotal: 469ms\tremaining: 17.9s\n",
      "60:\ttest: 0.9859615\ttest1: 0.8332766\tbest: 0.8419043 (57)\ttotal: 566ms\tremaining: 18s\n",
      "70:\ttest: 0.9869929\ttest1: 0.8375745\tbest: 0.8419043 (57)\ttotal: 655ms\tremaining: 17.8s\n",
      "80:\ttest: 0.9877889\ttest1: 0.8385851\tbest: 0.8419043 (57)\ttotal: 747ms\tremaining: 17.7s\n",
      "90:\ttest: 0.9881327\ttest1: 0.8509681\tbest: 0.8509681 (90)\ttotal: 843ms\tremaining: 17.7s\n",
      "100:\ttest: 0.9882847\ttest1: 0.8525426\tbest: 0.8561489 (97)\ttotal: 943ms\tremaining: 17.7s\n",
      "110:\ttest: 0.9888509\ttest1: 0.8449894\tbest: 0.8561489 (97)\ttotal: 1.04s\tremaining: 17.7s\n",
      "120:\ttest: 0.9891956\ttest1: 0.8421383\tbest: 0.8561489 (97)\ttotal: 1.14s\tremaining: 17.6s\n",
      "130:\ttest: 0.9896368\ttest1: 0.8443298\tbest: 0.8561489 (97)\ttotal: 1.24s\tremaining: 17.7s\n",
      "140:\ttest: 0.9900816\ttest1: 0.8450319\tbest: 0.8561489 (97)\ttotal: 1.33s\tremaining: 17.6s\n",
      "Stopped by overfitting detector  (50 iterations wait)\n",
      "\n",
      "bestTest = 0.8561489362\n",
      "bestIteration = 97\n",
      "\n",
      "Shrink model to first 98 iterations.\n",
      "Fold 4, Valid score = 0.85615\n",
      "0:\ttest: 0.8138073\ttest1: 0.6954054\tbest: 0.6954054 (0)\ttotal: 10.1ms\tremaining: 20.2s\n",
      "10:\ttest: 0.9478776\ttest1: 0.7975506\tbest: 0.7975506 (10)\ttotal: 106ms\tremaining: 19.1s\n",
      "20:\ttest: 0.9585336\ttest1: 0.7856079\tbest: 0.7975506 (10)\ttotal: 196ms\tremaining: 18.5s\n",
      "30:\ttest: 0.9661665\ttest1: 0.8015529\tbest: 0.8015529 (30)\ttotal: 285ms\tremaining: 18.1s\n",
      "40:\ttest: 0.9691300\ttest1: 0.8110462\tbest: 0.8125510 (38)\ttotal: 386ms\tremaining: 18.4s\n",
      "50:\ttest: 0.9725479\ttest1: 0.8186504\tbest: 0.8186504 (50)\ttotal: 475ms\tremaining: 18.2s\n",
      "60:\ttest: 0.9759973\ttest1: 0.8286080\tbest: 0.8286560 (56)\ttotal: 566ms\tremaining: 18s\n",
      "70:\ttest: 0.9773609\ttest1: 0.8230369\tbest: 0.8286560 (56)\ttotal: 661ms\tremaining: 18s\n",
      "80:\ttest: 0.9791590\ttest1: 0.8239654\tbest: 0.8286560 (56)\ttotal: 753ms\tremaining: 17.9s\n",
      "90:\ttest: 0.9807166\ttest1: 0.8282078\tbest: 0.8314576 (86)\ttotal: 844ms\tremaining: 17.7s\n",
      "100:\ttest: 0.9816621\ttest1: 0.8241735\tbest: 0.8314576 (86)\ttotal: 939ms\tremaining: 17.7s\n",
      "110:\ttest: 0.9834105\ttest1: 0.8235492\tbest: 0.8314576 (86)\ttotal: 1.03s\tremaining: 17.6s\n",
      "120:\ttest: 0.9852260\ttest1: 0.8219803\tbest: 0.8314576 (86)\ttotal: 1.12s\tremaining: 17.4s\n",
      "130:\ttest: 0.9867181\ttest1: 0.8243977\tbest: 0.8314576 (86)\ttotal: 1.22s\tremaining: 17.4s\n",
      "Stopped by overfitting detector  (50 iterations wait)\n",
      "\n",
      "bestTest = 0.8314576163\n",
      "bestIteration = 86\n",
      "\n",
      "Shrink model to first 87 iterations.\n",
      "Fold 5, Valid score = 0.83146\n",
      "Score by each fold: [0.85509, 0.85881, 0.78595, 0.85615, 0.83146]\n",
      "=================================================================\n"
     ]
    }
   ],
   "source": [
    "cb_params = {\n",
    "    \"n_estimators\": 2000,\n",
    "    \"learning_rate\": 0.01,\n",
    "    \"loss_function\": \"Logloss\",\n",
    "    \"eval_metric\": \"AUC\",\n",
    "    \"task_type\": \"CPU\",\n",
    "    \"max_bin\": 20,\n",
    "    \"verbose\": 10,\n",
    "    \"max_depth\": 6,\n",
    "    \"l2_leaf_reg\": 10,\n",
    "    \"early_stopping_rounds\": 50,\n",
    "    \"thread_count\": 6,\n",
    "    \"random_seed\": 42,\n",
    "    \"class_weights\":(1,56)\n",
    "}\n",
    "\n",
    "cv = KFold(n_splits=5, random_state=1234123, shuffle=True)\n",
    "\n",
    "estimators, oof_preds = catboost_cross_validation(\n",
    "    params=cb_params, X=X, y=y, cv=cv\n",
    ")"
   ]
  },
  {
   "cell_type": "code",
   "execution_count": 20,
   "id": "a0a3e1e0",
   "metadata": {},
   "outputs": [
    {
     "name": "stdout",
     "output_type": "stream",
     "text": [
      "0\n",
      "              precision    recall  f1-score   support\n",
      "\n",
      "           0       1.00      0.95      0.97      1404\n",
      "           1       0.25      0.79      0.38        29\n",
      "\n",
      "    accuracy                           0.95      1433\n",
      "   macro avg       0.62      0.87      0.68      1433\n",
      "weighted avg       0.98      0.95      0.96      1433\n",
      "\n",
      "roc_auc_score:  0.8719790745652815\n",
      "confusion_matrix:  [[1335   69]\n",
      " [   6   23]]\n",
      "1\n",
      "              precision    recall  f1-score   support\n",
      "\n",
      "           0       1.00      0.96      0.98      1404\n",
      "           1       0.31      0.79      0.44        29\n",
      "\n",
      "    accuracy                           0.96      1433\n",
      "   macro avg       0.65      0.88      0.71      1433\n",
      "weighted avg       0.98      0.96      0.97      1433\n",
      "\n",
      "roc_auc_score:  0.8780332056194127\n",
      "confusion_matrix:  [[1352   52]\n",
      " [   6   23]]\n",
      "2\n",
      "              precision    recall  f1-score   support\n",
      "\n",
      "           0       0.99      0.95      0.97      1404\n",
      "           1       0.24      0.76      0.36        29\n",
      "\n",
      "    accuracy                           0.95      1433\n",
      "   macro avg       0.62      0.85      0.67      1433\n",
      "weighted avg       0.98      0.95      0.96      1433\n",
      "\n",
      "roc_auc_score:  0.8543815698988113\n",
      "confusion_matrix:  [[1334   70]\n",
      " [   7   22]]\n",
      "3\n",
      "              precision    recall  f1-score   support\n",
      "\n",
      "           0       0.99      0.99      0.99      1404\n",
      "           1       0.50      0.69      0.58        29\n",
      "\n",
      "    accuracy                           0.98      1433\n",
      "   macro avg       0.75      0.84      0.78      1433\n",
      "weighted avg       0.98      0.98      0.98      1433\n",
      "\n",
      "roc_auc_score:  0.8377050790843894\n",
      "confusion_matrix:  [[1384   20]\n",
      " [   9   20]]\n",
      "4\n",
      "              precision    recall  f1-score   support\n",
      "\n",
      "           0       1.00      0.96      0.98      1404\n",
      "           1       0.28      0.83      0.42        29\n",
      "\n",
      "    accuracy                           0.95      1433\n",
      "   macro avg       0.64      0.89      0.70      1433\n",
      "weighted avg       0.98      0.95      0.96      1433\n",
      "\n",
      "roc_auc_score:  0.8917133313685037\n",
      "confusion_matrix:  [[1342   62]\n",
      " [   5   24]]\n"
     ]
    }
   ],
   "source": [
    "for num,i in enumerate(estimators):\n",
    "    print(num)\n",
    "    pred = i.predict(x_test)\n",
    "    print(classification_report(y_test, pred, labels=np.unique(pred)))\n",
    "    print(\"roc_auc_score: \",roc_auc_score(y_test, pred))\n",
    "    print(\"confusion_matrix: \",confusion_matrix(y_test, pred))"
   ]
  },
  {
   "cell_type": "markdown",
   "id": "51dd6cc7",
   "metadata": {},
   "source": [
    "# Байесовская оптимизация"
   ]
  },
  {
   "cell_type": "code",
   "execution_count": 22,
   "id": "eee796c5",
   "metadata": {},
   "outputs": [],
   "source": [
    "from skopt import BayesSearchCV"
   ]
  },
  {
   "cell_type": "code",
   "execution_count": 23,
   "id": "2b152e5f",
   "metadata": {},
   "outputs": [
    {
     "data": {
      "text/plain": [
       "'0.9.0'"
      ]
     },
     "execution_count": 23,
     "metadata": {},
     "output_type": "execute_result"
    }
   ],
   "source": [
    "import skopt\n",
    "skopt.__version__"
   ]
  },
  {
   "cell_type": "code",
   "execution_count": 24,
   "id": "e0b4f82e",
   "metadata": {},
   "outputs": [],
   "source": [
    "bayes_cv_tuner = BayesSearchCV(\n",
    "    estimator = cb.CatBoostClassifier(\n",
    "    silent=True\n",
    "    ),\n",
    "    search_spaces = {\n",
    "    \"max_depth\": (3, 15),\n",
    "    \"subsample\" : (0.3, 0.7),\n",
    "    \"leaf_estimation_iterations\": (5, 50),\n",
    "    \"colsample_bylevel\": (0.3, 0.9),\n",
    "    \"l2_leaf_reg\": (2, 500),\n",
    "    \"learning_rate\": (0.0001, 0.01),\n",
    "    \"iterations\": (100, 500)\n",
    "    },\n",
    "    cv=5,\n",
    "    scoring = 'roc_auc',\n",
    "    n_jobs = 1,\n",
    "#     n_iter = 100,\n",
    "    verbose = 1,\n",
    "    refit = True,\n",
    "    random_state = 72\n",
    "    )"
   ]
  },
  {
   "cell_type": "code",
   "execution_count": 27,
   "id": "d5b44644",
   "metadata": {},
   "outputs": [],
   "source": [
    "def status_print(optim_result):\n",
    "#     print(optim_result)\n",
    "    \"\"\"Status callback durring bayesian hyperparameter search\"\"\"\n",
    "\n",
    "    # Get all the models tested so far in DataFrame format\n",
    "#     all_models = pd.DataFrame(optim_result.specs[\"base_estimator\"])    \n",
    "\n",
    "    # Get current parameters and the best parameters    \n",
    "#     best_params = pd.Series(bayes_cv_tuner.best_params_)\n",
    "    print('Best ROC-AUC: {}'.format(\n",
    "#         all_models,\n",
    "        np.round(bayes_cv_tuner.best_score_, 4),\n",
    "#         bayes_cv_tuner.best_params_\n",
    "    ))"
   ]
  },
  {
   "cell_type": "code",
   "execution_count": null,
   "id": "50579c2e",
   "metadata": {},
   "outputs": [
    {
     "name": "stdout",
     "output_type": "stream",
     "text": [
      "Fitting 5 folds for each of 1 candidates, totalling 5 fits\n"
     ]
    }
   ],
   "source": [
    "resultCAT = bayes_cv_tuner.fit(x_train, y_train)"
   ]
  }
 ],
 "metadata": {
  "kernelspec": {
   "display_name": "Python 3 (ipykernel)",
   "language": "python",
   "name": "python3"
  },
  "language_info": {
   "codemirror_mode": {
    "name": "ipython",
    "version": 3
   },
   "file_extension": ".py",
   "mimetype": "text/x-python",
   "name": "python",
   "nbconvert_exporter": "python",
   "pygments_lexer": "ipython3",
   "version": "3.7.9"
  }
 },
 "nbformat": 4,
 "nbformat_minor": 5
}
