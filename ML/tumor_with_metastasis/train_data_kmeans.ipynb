{
 "cells": [
  {
   "cell_type": "code",
   "execution_count": 1,
   "id": "c51258ea",
   "metadata": {},
   "outputs": [],
   "source": [
    "import numpy as np\n",
    "import pandas as pd\n",
    "import seaborn as sns\n",
    "import matplotlib.pyplot as plt\n",
    "import os\n",
    "from tqdm import tqdm\n",
    "import time\n",
    "\n",
    "import catboost as cb\n",
    "import xgboost as xgb\n",
    "from bayes_opt import BayesianOptimization\n",
    "from sklearn.preprocessing import StandardScaler\n",
    "from sklearn.linear_model import LogisticRegression\n",
    "from sklearn.ensemble import RandomForestClassifier\n",
    "from sklearn.model_selection import train_test_split, KFold\n",
    "from sklearn.metrics import roc_auc_score, confusion_matrix, accuracy_score, classification_report\n",
    "from sklearn.pipeline import Pipeline\n",
    "from sklearn.cluster import KMeans"
   ]
  },
  {
   "cell_type": "markdown",
   "id": "b3ba33af",
   "metadata": {},
   "source": [
    "# funсtion"
   ]
  },
  {
   "cell_type": "code",
   "execution_count": 2,
   "id": "bc91351b",
   "metadata": {},
   "outputs": [],
   "source": [
    "def catboost_cross_validation(params, X, y, cv, categorical = None):\n",
    "    \"\"\"\n",
    "    Кросс-валидация для модели catbooost.\n",
    "\n",
    "    Parameters\n",
    "    ----------\n",
    "    params: dict\n",
    "        Словарь гиперпараметров модели.\n",
    "\n",
    "    X: pandas.core.frame.DataFrame\n",
    "        Матрица признако для обучения модели.\n",
    "\n",
    "    y: pandas.core.frame.Series\n",
    "        Вектор целевой переменной для обучения модели.\n",
    "\n",
    "    cv: KFold or StratifiedKFold generator.\n",
    "        Объект KFold / StratifiedKFold для определения\n",
    "        стратегии кросс-валидации модели.\n",
    "\n",
    "    categorical: str, optional, default = None\n",
    "        Список категориальных признаков.\n",
    "        Опциональный параметр, по умолчанию, не используется.\n",
    "\n",
    "    Returns\n",
    "    -------\n",
    "    estimators: list\n",
    "        Список с объектами обученной модели.\n",
    "\n",
    "    oof_preds: np.array\n",
    "        Вектор OOF-прогнозов.\n",
    "\n",
    "    \"\"\"\n",
    "    estimators, folds_scores = [], []\n",
    "    oof_preds = np.zeros(X.shape[0])\n",
    "\n",
    "    print(f\"{time.ctime()}, Cross-Validation, {X.shape[0]} rows, {X.shape[1]} cols\")\n",
    "    if categorical != None:\n",
    "        X[categorical] = X[categorical].astype(str)\n",
    "\n",
    "    for fold, (train_idx, valid_idx) in enumerate(cv.split(X, y)):\n",
    "\n",
    "        x_train, x_valid = X.loc[train_idx], X.loc[valid_idx]\n",
    "        y_train, y_valid = y[train_idx], y[valid_idx]\n",
    "\n",
    "        model = cb.CatBoostClassifier(**params)\n",
    "        model.fit(\n",
    "            x_train, y_train, categorical,\n",
    "            eval_set=[(x_train, y_train), (x_valid, y_valid)]\n",
    "        )\n",
    "        oof_preds[valid_idx] = model.predict_proba(x_valid)[:, 1]\n",
    "        score = roc_auc_score(y_valid, oof_preds[valid_idx])\n",
    "        print(f\"Fold {fold+1}, Valid score = {round(score, 5)}\")\n",
    "        folds_scores.append(round(score, 5))\n",
    "        estimators.append(model)\n",
    "\n",
    "    print(f\"Score by each fold: {folds_scores}\")\n",
    "    print(\"=\"*65)\n",
    "    return estimators, oof_preds"
   ]
  },
  {
   "cell_type": "code",
   "execution_count": 3,
   "id": "d5a42011",
   "metadata": {},
   "outputs": [],
   "source": [
    "# CatBoost\n",
    "def catboost_base(x, x_val, y, y_val, cat_feature = None):\n",
    "    cb_params = {\n",
    "    \"n_estimators\": 2000,\n",
    "    \"learning_rate\": 0.001,\n",
    "    \"loss_function\": \"Logloss\",\n",
    "    \"eval_metric\": \"AUC\",\n",
    "    \"task_type\": \"CPU\",\n",
    "    \"max_bin\": 20,\n",
    "    \"verbose\": False,\n",
    "    \"max_depth\": 6,\n",
    "    \"l2_leaf_reg\": 10,\n",
    "    \"early_stopping_rounds\": 50,\n",
    "    \"thread_count\": 6,\n",
    "    \"random_seed\": 42\n",
    "    }\n",
    "    if cat_feature == None:\n",
    "        model = cb.CatBoostClassifier(**cb_params)\n",
    "        model.fit(x, y,\n",
    "            )\n",
    "    else:\n",
    "        model = cb.CatBoostClassifier(**cb_params)\n",
    "        model.fit(x, y,cat_features=cat_feature\n",
    "            )\n",
    "    y_pred = model.predict(x_val)\n",
    "    print(\"roc_auc_score: \",roc_auc_score(y_val, y_pred))\n",
    "    print(\"confusion_matrix: \",confusion_matrix(y_val, y_pred))\n",
    "    print(\"accuracy_score: \",accuracy_score(y_val, y_pred))\n",
    "    print(\"classification_report: \", classification_report(y_val, y_pred))\n",
    "    return y_pred"
   ]
  },
  {
   "cell_type": "code",
   "execution_count": 4,
   "id": "b199c333",
   "metadata": {},
   "outputs": [],
   "source": [
    "def train_split(x):\n",
    "    x_train, x_valid, y_train, y_valid = train_test_split(x.drop( \"target\", axis=1), x[\"target\"], test_size = 0.2)\n",
    "    x_train, x_test, y_train, y_test = train_test_split(x_train, y_train, test_size = 0.2)\n",
    "    print(x_train.shape, x_valid.shape, y_train.shape, y_valid.shape, x_test.shape, y_test.shape)\n",
    "    return x_train, x_valid, y_train, y_valid, x_test, y_test"
   ]
  },
  {
   "cell_type": "code",
   "execution_count": 5,
   "id": "0c0b232f",
   "metadata": {},
   "outputs": [],
   "source": [
    "def train_split_dis(x):\n",
    "    for i in range(10000000):\n",
    "        x_train, x_valid, y_train, y_valid = train_test_split(x.drop( \"target\", axis=1), x[\"target\"], test_size = 0.3,\n",
    "                                                             random_state = i)\n",
    "        x_train, x_test, y_train, y_test = train_test_split(x_train, y_train, test_size = 0.2)\n",
    "        if (y_train == 1).sum()/181 < 0.7:\n",
    "            print(\"random_state: {}\".format(i))\n",
    "            print(x_train.shape, x_valid.shape, y_train.shape, y_valid.shape, x_test.shape, y_test.shape)\n",
    "            return x_train, x_valid, y_train, y_valid, x_test, y_test\n"
   ]
  },
  {
   "cell_type": "markdown",
   "id": "3bd08c36",
   "metadata": {},
   "source": [
    "# train"
   ]
  },
  {
   "cell_type": "code",
   "execution_count": 6,
   "id": "4632f538",
   "metadata": {},
   "outputs": [
    {
     "data": {
      "text/plain": [
       "['data_kmeans.csv',\n",
       " 'data_kmeans_replace.csv',\n",
       " 'data_n.csv',\n",
       " 'test',\n",
       " 'test.txt',\n",
       " 'UnlabeledWiDS2021.csv']"
      ]
     },
     "execution_count": 6,
     "metadata": {},
     "output_type": "execute_result"
    }
   ],
   "source": [
    "os.listdir(\"data\")"
   ]
  },
  {
   "cell_type": "code",
   "execution_count": 7,
   "id": "4b9fbcad",
   "metadata": {},
   "outputs": [],
   "source": [
    "data = pd.read_csv(\"data/data_kmeans_replace.csv\")"
   ]
  },
  {
   "cell_type": "code",
   "execution_count": 8,
   "id": "cc151c24",
   "metadata": {},
   "outputs": [
    {
     "data": {
      "text/plain": [
       "(10234, 190)"
      ]
     },
     "execution_count": 8,
     "metadata": {},
     "output_type": "execute_result"
    }
   ],
   "source": [
    "data.shape"
   ]
  },
  {
   "cell_type": "code",
   "execution_count": 9,
   "id": "349417e3",
   "metadata": {},
   "outputs": [],
   "source": [
    "for i in data:\n",
    "    if data[i].isna().sum() != 0:\n",
    "        print(i)\n",
    "        print(data[i].isna().sum())"
   ]
  },
  {
   "cell_type": "code",
   "execution_count": 17,
   "id": "f1f0e5b0",
   "metadata": {},
   "outputs": [
    {
     "name": "stdout",
     "output_type": "stream",
     "text": [
      "random_state: 0\n",
      "(5730, 189) (3071, 189) (5730,) (3071,) (1433, 189) (1433,)\n"
     ]
    }
   ],
   "source": [
    "x_train, x_valid, y_train, y_valid, x_test, y_test = train_split_dis(data)"
   ]
  },
  {
   "cell_type": "code",
   "execution_count": 18,
   "id": "33b1ac61",
   "metadata": {},
   "outputs": [],
   "source": [
    "# class_weights\n",
    "\n",
    "# CatBoost\n",
    "cb_params = {\n",
    "    \"n_estimators\": 2000,\n",
    "    \"learning_rate\": 0.001,\n",
    "    \"loss_function\": \"Logloss\",\n",
    "    \"eval_metric\": \"AUC\",\n",
    "    \"task_type\": \"CPU\",\n",
    "    \"max_bin\": 20,\n",
    "    \"verbose\": False,\n",
    "    \"max_depth\": 6,\n",
    "    \"l2_leaf_reg\": 10,\n",
    "    \"early_stopping_rounds\": 50,\n",
    "    \"thread_count\": 6,\n",
    "    \"random_seed\": 42,\n",
    "    \"class_weights\":(1,56)\n",
    "    }\n",
    "\n"
   ]
  },
  {
   "cell_type": "code",
   "execution_count": 19,
   "id": "41685499",
   "metadata": {},
   "outputs": [
    {
     "data": {
      "application/vnd.jupyter.widget-view+json": {
       "model_id": "06188063ad8243bd9081d51a1b1de63b",
       "version_major": 2,
       "version_minor": 0
      },
      "text/plain": [
       "MetricVisualizer(layout=Layout(align_self='stretch', height='500px'))"
      ]
     },
     "metadata": {},
     "output_type": "display_data"
    },
    {
     "data": {
      "text/plain": [
       "<catboost.core.CatBoostClassifier at 0x1d38074d948>"
      ]
     },
     "execution_count": 19,
     "metadata": {},
     "output_type": "execute_result"
    }
   ],
   "source": [
    "model_cb_w = cb.CatBoostClassifier(**cb_params)\n",
    "model_cb_w.fit(x_train, \n",
    "               y_train,\n",
    "#                cat_features=categorical, \n",
    "               eval_set = [(x_train, y_train), (x_valid, y_valid)], \n",
    "               plot= True)\n"
   ]
  },
  {
   "cell_type": "code",
   "execution_count": 20,
   "id": "26981f9d",
   "metadata": {},
   "outputs": [
    {
     "name": "stdout",
     "output_type": "stream",
     "text": [
      "              precision    recall  f1-score   support\n",
      "\n",
      "           0       0.99      0.98      0.99      1404\n",
      "           1       0.31      0.38      0.34        29\n",
      "\n",
      "    accuracy                           0.97      1433\n",
      "   macro avg       0.65      0.68      0.66      1433\n",
      "weighted avg       0.97      0.97      0.97      1433\n",
      "\n",
      "roc_auc_score:  0.6811081638667845\n",
      "confusion_matrix:  [[1380   24]\n",
      " [  18   11]]\n"
     ]
    }
   ],
   "source": [
    "pred = model_cb_w.predict(x_test)\n",
    "print(classification_report(y_test, pred, labels=np.unique(pred)))\n",
    "print(\"roc_auc_score: \",roc_auc_score(y_test, pred))\n",
    "print(\"confusion_matrix: \",confusion_matrix(y_test, pred))"
   ]
  },
  {
   "cell_type": "markdown",
   "id": "4bae357d",
   "metadata": {},
   "source": [
    "# kfold"
   ]
  },
  {
   "cell_type": "code",
   "execution_count": 22,
   "id": "85d29c0c",
   "metadata": {},
   "outputs": [],
   "source": [
    "X = data.drop(\"target\", axis=1)\n",
    "y= data[\"target\"]"
   ]
  },
  {
   "cell_type": "code",
   "execution_count": 23,
   "id": "d3568549",
   "metadata": {},
   "outputs": [
    {
     "name": "stdout",
     "output_type": "stream",
     "text": [
      "Tue Sep  5 05:25:10 2023, Cross-Validation, 10234 rows, 189 cols\n",
      "0:\ttest: 0.8039343\ttest1: 0.6994688\tbest: 0.6994688 (0)\ttotal: 11ms\tremaining: 21.9s\n",
      "10:\ttest: 0.9453013\ttest1: 0.7792179\tbest: 0.7812900 (2)\ttotal: 116ms\tremaining: 20.9s\n",
      "20:\ttest: 0.9601377\ttest1: 0.8061956\tbest: 0.8061956 (20)\ttotal: 208ms\tremaining: 19.6s\n",
      "30:\ttest: 0.9645266\ttest1: 0.8189964\tbest: 0.8189964 (30)\ttotal: 301ms\tremaining: 19.1s\n",
      "40:\ttest: 0.9644179\ttest1: 0.8350454\tbest: 0.8350454 (40)\ttotal: 401ms\tremaining: 19.2s\n",
      "50:\ttest: 0.9675144\ttest1: 0.8407578\tbest: 0.8407578 (50)\ttotal: 495ms\tremaining: 18.9s\n",
      "60:\ttest: 0.9690042\ttest1: 0.8436540\tbest: 0.8436540 (60)\ttotal: 589ms\tremaining: 18.7s\n",
      "70:\ttest: 0.9733201\ttest1: 0.8501184\tbest: 0.8501184 (70)\ttotal: 685ms\tremaining: 18.6s\n",
      "80:\ttest: 0.9764945\ttest1: 0.8538946\tbest: 0.8538946 (80)\ttotal: 780ms\tremaining: 18.5s\n",
      "90:\ttest: 0.9797047\ttest1: 0.8498144\tbest: 0.8550947 (81)\ttotal: 873ms\tremaining: 18.3s\n",
      "100:\ttest: 0.9814442\ttest1: 0.8453821\tbest: 0.8550947 (81)\ttotal: 970ms\tremaining: 18.2s\n",
      "110:\ttest: 0.9835909\ttest1: 0.8472382\tbest: 0.8550947 (81)\ttotal: 1.06s\tremaining: 18.1s\n",
      "120:\ttest: 0.9846518\ttest1: 0.8469502\tbest: 0.8550947 (81)\ttotal: 1.16s\tremaining: 18s\n",
      "130:\ttest: 0.9870051\ttest1: 0.8446461\tbest: 0.8550947 (81)\ttotal: 1.26s\tremaining: 17.9s\n",
      "Stopped by overfitting detector  (50 iterations wait)\n",
      "\n",
      "bestTest = 0.8550947261\n",
      "bestIteration = 81\n",
      "\n",
      "Shrink model to first 82 iterations.\n",
      "Fold 1, Valid score = 0.85509\n",
      "0:\ttest: 0.7747783\ttest1: 0.7417446\tbest: 0.7417446 (0)\ttotal: 12.1ms\tremaining: 24.2s\n",
      "10:\ttest: 0.9458924\ttest1: 0.8186613\tbest: 0.8230795 (9)\ttotal: 118ms\tremaining: 21.3s\n",
      "20:\ttest: 0.9595751\ttest1: 0.8206277\tbest: 0.8292088 (12)\ttotal: 212ms\tremaining: 20s\n",
      "30:\ttest: 0.9659512\ttest1: 0.8268848\tbest: 0.8292088 (12)\ttotal: 305ms\tremaining: 19.4s\n",
      "40:\ttest: 0.9675706\ttest1: 0.8514532\tbest: 0.8514532 (40)\ttotal: 399ms\tremaining: 19.1s\n",
      "50:\ttest: 0.9696312\ttest1: 0.8535090\tbest: 0.8541092 (47)\ttotal: 489ms\tremaining: 18.7s\n",
      "60:\ttest: 0.9737804\ttest1: 0.8499591\tbest: 0.8541092 (47)\ttotal: 580ms\tremaining: 18.4s\n",
      "70:\ttest: 0.9764975\ttest1: 0.8523981\tbest: 0.8541092 (47)\ttotal: 676ms\tremaining: 18.4s\n",
      "80:\ttest: 0.9784382\ttest1: 0.8550414\tbest: 0.8560246 (77)\ttotal: 768ms\tremaining: 18.2s\n",
      "90:\ttest: 0.9808586\ttest1: 0.8556798\tbest: 0.8577102 (87)\ttotal: 858ms\tremaining: 18s\n",
      "100:\ttest: 0.9821112\ttest1: 0.8577996\tbest: 0.8588084 (93)\ttotal: 950ms\tremaining: 17.9s\n",
      "110:\ttest: 0.9846208\ttest1: 0.8543135\tbest: 0.8588084 (93)\ttotal: 1.04s\tremaining: 17.7s\n",
      "120:\ttest: 0.9860914\ttest1: 0.8514787\tbest: 0.8588084 (93)\ttotal: 1.14s\tremaining: 17.7s\n",
      "130:\ttest: 0.9876881\ttest1: 0.8517979\tbest: 0.8588084 (93)\ttotal: 1.23s\tremaining: 17.6s\n",
      "140:\ttest: 0.9885267\ttest1: 0.8548626\tbest: 0.8588084 (93)\ttotal: 1.33s\tremaining: 17.5s\n",
      "Stopped by overfitting detector  (50 iterations wait)\n",
      "\n",
      "bestTest = 0.8588083563\n",
      "bestIteration = 93\n",
      "\n",
      "Shrink model to first 94 iterations.\n",
      "Fold 2, Valid score = 0.85881\n",
      "0:\ttest: 0.7693768\ttest1: 0.7169887\tbest: 0.7169887 (0)\ttotal: 9.86ms\tremaining: 19.7s\n",
      "10:\ttest: 0.9337755\ttest1: 0.7253468\tbest: 0.7581475 (6)\ttotal: 102ms\tremaining: 18.5s\n",
      "20:\ttest: 0.9532255\ttest1: 0.7392946\tbest: 0.7581475 (6)\ttotal: 194ms\tremaining: 18.3s\n",
      "30:\ttest: 0.9561571\ttest1: 0.7556799\tbest: 0.7581475 (6)\ttotal: 290ms\tremaining: 18.4s\n",
      "40:\ttest: 0.9600932\ttest1: 0.7634739\tbest: 0.7642111 (39)\ttotal: 386ms\tremaining: 18.4s\n",
      "50:\ttest: 0.9654816\ttest1: 0.7638651\tbest: 0.7661972 (47)\ttotal: 476ms\tremaining: 18.2s\n",
      "60:\ttest: 0.9698774\ttest1: 0.7682285\tbest: 0.7701694 (57)\ttotal: 572ms\tremaining: 18.2s\n",
      "70:\ttest: 0.9748120\ttest1: 0.7730132\tbest: 0.7730132 (70)\ttotal: 661ms\tremaining: 17.9s\n",
      "80:\ttest: 0.9778428\ttest1: 0.7779784\tbest: 0.7779784 (80)\ttotal: 751ms\tremaining: 17.8s\n",
      "90:\ttest: 0.9811939\ttest1: 0.7787608\tbest: 0.7848996 (87)\ttotal: 846ms\tremaining: 17.7s\n",
      "100:\ttest: 0.9835927\ttest1: 0.7808522\tbest: 0.7859529 (96)\ttotal: 936ms\tremaining: 17.6s\n",
      "110:\ttest: 0.9856620\ttest1: 0.7808372\tbest: 0.7859529 (96)\ttotal: 1.03s\tremaining: 17.5s\n",
      "120:\ttest: 0.9874278\ttest1: 0.7773164\tbest: 0.7859529 (96)\ttotal: 1.12s\tremaining: 17.4s\n",
      "130:\ttest: 0.9889643\ttest1: 0.7813186\tbest: 0.7859529 (96)\ttotal: 1.21s\tremaining: 17.3s\n",
      "140:\ttest: 0.9902015\ttest1: 0.7852908\tbest: 0.7859529 (96)\ttotal: 1.3s\tremaining: 17.2s\n",
      "Stopped by overfitting detector  (50 iterations wait)\n",
      "\n",
      "bestTest = 0.7859528753\n",
      "bestIteration = 96\n",
      "\n",
      "Shrink model to first 97 iterations.\n",
      "Fold 3, Valid score = 0.78595\n",
      "0:\ttest: 0.8017041\ttest1: 0.5878245\tbest: 0.5878245 (0)\ttotal: 11.5ms\tremaining: 23s\n",
      "10:\ttest: 0.9644807\ttest1: 0.7275638\tbest: 0.7275638 (10)\ttotal: 125ms\tremaining: 22.5s\n",
      "20:\ttest: 0.9787471\ttest1: 0.7577979\tbest: 0.7601489 (19)\ttotal: 216ms\tremaining: 20.4s\n",
      "30:\ttest: 0.9836503\ttest1: 0.7762128\tbest: 0.7762128 (30)\ttotal: 309ms\tremaining: 19.6s\n",
      "40:\ttest: 0.9847169\ttest1: 0.8235106\tbest: 0.8235106 (40)\ttotal: 406ms\tremaining: 19.4s\n",
      "50:\ttest: 0.9849097\ttest1: 0.8414468\tbest: 0.8414468 (50)\ttotal: 499ms\tremaining: 19.1s\n",
      "60:\ttest: 0.9859615\ttest1: 0.8332766\tbest: 0.8419043 (57)\ttotal: 590ms\tremaining: 18.7s\n",
      "70:\ttest: 0.9869929\ttest1: 0.8375745\tbest: 0.8419043 (57)\ttotal: 683ms\tremaining: 18.6s\n",
      "80:\ttest: 0.9877889\ttest1: 0.8385851\tbest: 0.8419043 (57)\ttotal: 776ms\tremaining: 18.4s\n",
      "90:\ttest: 0.9881327\ttest1: 0.8509681\tbest: 0.8509681 (90)\ttotal: 868ms\tremaining: 18.2s\n",
      "100:\ttest: 0.9882847\ttest1: 0.8525426\tbest: 0.8561489 (97)\ttotal: 962ms\tremaining: 18.1s\n",
      "110:\ttest: 0.9888509\ttest1: 0.8449894\tbest: 0.8561489 (97)\ttotal: 1.05s\tremaining: 18s\n",
      "120:\ttest: 0.9891956\ttest1: 0.8421383\tbest: 0.8561489 (97)\ttotal: 1.15s\tremaining: 17.8s\n",
      "130:\ttest: 0.9896368\ttest1: 0.8443298\tbest: 0.8561489 (97)\ttotal: 1.24s\tremaining: 17.7s\n",
      "140:\ttest: 0.9900816\ttest1: 0.8450319\tbest: 0.8561489 (97)\ttotal: 1.34s\tremaining: 17.6s\n",
      "Stopped by overfitting detector  (50 iterations wait)\n",
      "\n",
      "bestTest = 0.8561489362\n",
      "bestIteration = 97\n",
      "\n",
      "Shrink model to first 98 iterations.\n",
      "Fold 4, Valid score = 0.85615\n",
      "0:\ttest: 0.8138073\ttest1: 0.6954054\tbest: 0.6954054 (0)\ttotal: 9.97ms\tremaining: 19.9s\n",
      "10:\ttest: 0.9478776\ttest1: 0.7975506\tbest: 0.7975506 (10)\ttotal: 105ms\tremaining: 19s\n",
      "20:\ttest: 0.9585336\ttest1: 0.7856079\tbest: 0.7975506 (10)\ttotal: 196ms\tremaining: 18.4s\n",
      "30:\ttest: 0.9661665\ttest1: 0.8015529\tbest: 0.8015529 (30)\ttotal: 290ms\tremaining: 18.4s\n",
      "40:\ttest: 0.9691300\ttest1: 0.8110462\tbest: 0.8125510 (38)\ttotal: 382ms\tremaining: 18.3s\n",
      "50:\ttest: 0.9725479\ttest1: 0.8186504\tbest: 0.8186504 (50)\ttotal: 476ms\tremaining: 18.2s\n",
      "60:\ttest: 0.9759973\ttest1: 0.8286080\tbest: 0.8286560 (56)\ttotal: 572ms\tremaining: 18.2s\n",
      "70:\ttest: 0.9773609\ttest1: 0.8230369\tbest: 0.8286560 (56)\ttotal: 665ms\tremaining: 18.1s\n",
      "80:\ttest: 0.9791590\ttest1: 0.8239654\tbest: 0.8286560 (56)\ttotal: 761ms\tremaining: 18s\n",
      "90:\ttest: 0.9807166\ttest1: 0.8282078\tbest: 0.8314576 (86)\ttotal: 856ms\tremaining: 18s\n",
      "100:\ttest: 0.9816621\ttest1: 0.8241735\tbest: 0.8314576 (86)\ttotal: 951ms\tremaining: 17.9s\n",
      "110:\ttest: 0.9834105\ttest1: 0.8235492\tbest: 0.8314576 (86)\ttotal: 1.05s\tremaining: 17.8s\n",
      "120:\ttest: 0.9852260\ttest1: 0.8219803\tbest: 0.8314576 (86)\ttotal: 1.14s\tremaining: 17.7s\n",
      "130:\ttest: 0.9867181\ttest1: 0.8243977\tbest: 0.8314576 (86)\ttotal: 1.24s\tremaining: 17.6s\n",
      "Stopped by overfitting detector  (50 iterations wait)\n",
      "\n",
      "bestTest = 0.8314576163\n",
      "bestIteration = 86\n",
      "\n",
      "Shrink model to first 87 iterations.\n",
      "Fold 5, Valid score = 0.83146\n",
      "Score by each fold: [0.85509, 0.85881, 0.78595, 0.85615, 0.83146]\n",
      "=================================================================\n"
     ]
    }
   ],
   "source": [
    "cb_params = {\n",
    "    \"n_estimators\": 2000,\n",
    "    \"learning_rate\": 0.01,\n",
    "    \"loss_function\": \"Logloss\",\n",
    "    \"eval_metric\": \"AUC\",\n",
    "    \"task_type\": \"CPU\",\n",
    "    \"max_bin\": 20,\n",
    "    \"verbose\": 10,\n",
    "    \"max_depth\": 6,\n",
    "    \"l2_leaf_reg\": 10,\n",
    "    \"early_stopping_rounds\": 50,\n",
    "    \"thread_count\": 6,\n",
    "    \"random_seed\": 42,\n",
    "    \"class_weights\":(1,56)\n",
    "}\n",
    "\n",
    "cv = KFold(n_splits=5, random_state=1234123, shuffle=True)\n",
    "\n",
    "estimators, oof_preds = catboost_cross_validation(\n",
    "    params=cb_params, X=X, y=y, cv=cv\n",
    ")"
   ]
  },
  {
   "cell_type": "code",
   "execution_count": 24,
   "id": "a0a3e1e0",
   "metadata": {},
   "outputs": [
    {
     "name": "stdout",
     "output_type": "stream",
     "text": [
      "0\n",
      "              precision    recall  f1-score   support\n",
      "\n",
      "           0       1.00      0.96      0.98      1404\n",
      "           1       0.30      0.90      0.44        29\n",
      "\n",
      "    accuracy                           0.95      1433\n",
      "   macro avg       0.65      0.93      0.71      1433\n",
      "weighted avg       0.98      0.95      0.97      1433\n",
      "\n",
      "roc_auc_score:  0.9261960899891934\n",
      "confusion_matrix:  [[1342   62]\n",
      " [   3   26]]\n",
      "1\n",
      "              precision    recall  f1-score   support\n",
      "\n",
      "           0       1.00      0.96      0.98      1404\n",
      "           1       0.32      0.86      0.47        29\n",
      "\n",
      "    accuracy                           0.96      1433\n",
      "   macro avg       0.66      0.91      0.72      1433\n",
      "weighted avg       0.98      0.96      0.97      1433\n",
      "\n",
      "roc_auc_score:  0.9121598388839768\n",
      "confusion_matrix:  [[1351   53]\n",
      " [   4   25]]\n",
      "2\n",
      "              precision    recall  f1-score   support\n",
      "\n",
      "           0       1.00      0.95      0.97      1404\n",
      "           1       0.27      0.93      0.42        29\n",
      "\n",
      "    accuracy                           0.95      1433\n",
      "   macro avg       0.64      0.94      0.70      1433\n",
      "weighted avg       0.98      0.95      0.96      1433\n",
      "\n",
      "roc_auc_score:  0.9398762157382846\n",
      "confusion_matrix:  [[1332   72]\n",
      " [   2   27]]\n",
      "3\n",
      "              precision    recall  f1-score   support\n",
      "\n",
      "           0       0.99      0.98      0.99      1404\n",
      "           1       0.44      0.66      0.53        29\n",
      "\n",
      "    accuracy                           0.98      1433\n",
      "   macro avg       0.72      0.82      0.76      1433\n",
      "weighted avg       0.98      0.98      0.98      1433\n",
      "\n",
      "roc_auc_score:  0.8190391983495431\n",
      "confusion_matrix:  [[1380   24]\n",
      " [  10   19]]\n",
      "4\n",
      "              precision    recall  f1-score   support\n",
      "\n",
      "           0       1.00      0.95      0.97      1404\n",
      "           1       0.26      0.86      0.40        29\n",
      "\n",
      "    accuracy                           0.95      1433\n",
      "   macro avg       0.63      0.91      0.69      1433\n",
      "weighted avg       0.98      0.95      0.96      1433\n",
      "\n",
      "roc_auc_score:  0.9061057078298457\n",
      "confusion_matrix:  [[1334   70]\n",
      " [   4   25]]\n"
     ]
    }
   ],
   "source": [
    "for num,i in enumerate(estimators):\n",
    "    print(num)\n",
    "    pred = i.predict(x_test)\n",
    "    print(classification_report(y_test, pred, labels=np.unique(pred)))\n",
    "    print(\"roc_auc_score: \",roc_auc_score(y_test, pred))\n",
    "    print(\"confusion_matrix: \",confusion_matrix(y_test, pred))"
   ]
  },
  {
   "cell_type": "markdown",
   "id": "51dd6cc7",
   "metadata": {},
   "source": [
    "# Байесовская оптимизация"
   ]
  },
  {
   "cell_type": "code",
   "execution_count": 32,
   "id": "eee796c5",
   "metadata": {},
   "outputs": [],
   "source": [
    "from skopt import BayesSearchCV"
   ]
  },
  {
   "cell_type": "code",
   "execution_count": 33,
   "id": "2b152e5f",
   "metadata": {},
   "outputs": [
    {
     "data": {
      "text/plain": [
       "'0.9.0'"
      ]
     },
     "execution_count": 33,
     "metadata": {},
     "output_type": "execute_result"
    }
   ],
   "source": [
    "import skopt\n",
    "skopt.__version__"
   ]
  },
  {
   "cell_type": "code",
   "execution_count": 28,
   "id": "e0b4f82e",
   "metadata": {},
   "outputs": [],
   "source": [
    "bayes_cv_tuner = BayesSearchCV(\n",
    "    estimator = cb.CatBoostClassifier(\n",
    "    silent=True\n",
    "    ),\n",
    "    search_spaces = {\n",
    "    \"max_depth\": (3, 15),\n",
    "    \"subsample\" : (0.3, 0.7),\n",
    "    \"leaf_estimation_iterations\": (5, 50),\n",
    "    \"colsample_bylevel\": (0.3, 0.9),\n",
    "    \"l2_leaf_reg\": (2, 500),\n",
    "    \"learning_rate\": (0.0001, 0.01),\n",
    "    \"iterations\": (100, 500)\n",
    "    },\n",
    "    cv=5,\n",
    "    scoring = 'roc_auc',\n",
    "    n_jobs = 1,\n",
    "#     n_iter = 100,\n",
    "    verbose = 1,\n",
    "    refit = True,\n",
    "    random_state = 72\n",
    "    )"
   ]
  },
  {
   "cell_type": "code",
   "execution_count": 40,
   "id": "d5b44644",
   "metadata": {},
   "outputs": [],
   "source": [
    "def status_print(optim_result):\n",
    "#     print(optim_result)\n",
    "    \"\"\"Status callback durring bayesian hyperparameter search\"\"\"\n",
    "\n",
    "    # Get all the models tested so far in DataFrame format\n",
    "#     all_models = pd.DataFrame(optim_result.specs[\"base_estimator\"])    \n",
    "\n",
    "    # Get current parameters and the best parameters    \n",
    "    best_params = pd.Series(bayes_cv_tuner.best_params_)\n",
    "    print('Model #{}\\nBest ROC-AUC: {}\\nBest params: {}\\n'.format(\n",
    "#         all_models,\n",
    "        np.round(bayes_cv_tuner.best_score_, 4),\n",
    "        bayes_cv_tuner.best_params_\n",
    "    ))"
   ]
  },
  {
   "cell_type": "code",
   "execution_count": 41,
   "id": "50579c2e",
   "metadata": {},
   "outputs": [
    {
     "name": "stdout",
     "output_type": "stream",
     "text": [
      "Fitting 5 folds for each of 1 candidates, totalling 5 fits\n"
     ]
    },
    {
     "ename": "KeyboardInterrupt",
     "evalue": "",
     "output_type": "error",
     "traceback": [
      "\u001b[1;31m---------------------------------------------------------------------------\u001b[0m",
      "\u001b[1;31mKeyboardInterrupt\u001b[0m                         Traceback (most recent call last)",
      "\u001b[1;32mC:\\Temp/ipykernel_10112/3694366906.py\u001b[0m in \u001b[0;36m<module>\u001b[1;34m\u001b[0m\n\u001b[1;32m----> 1\u001b[1;33m \u001b[0mresultCAT\u001b[0m \u001b[1;33m=\u001b[0m \u001b[0mbayes_cv_tuner\u001b[0m\u001b[1;33m.\u001b[0m\u001b[0mfit\u001b[0m\u001b[1;33m(\u001b[0m\u001b[0mx_train\u001b[0m\u001b[1;33m,\u001b[0m \u001b[0my_train\u001b[0m\u001b[1;33m,\u001b[0m \u001b[0mcallback\u001b[0m\u001b[1;33m=\u001b[0m\u001b[0mstatus_print\u001b[0m\u001b[1;33m)\u001b[0m\u001b[1;33m\u001b[0m\u001b[1;33m\u001b[0m\u001b[0m\n\u001b[0m",
      "\u001b[1;32mc:\\program files\\python37\\lib\\site-packages\\skopt\\searchcv.py\u001b[0m in \u001b[0;36mfit\u001b[1;34m(self, X, y, groups, callback, **fit_params)\u001b[0m\n\u001b[0;32m    464\u001b[0m             \u001b[0mself\u001b[0m\u001b[1;33m.\u001b[0m\u001b[0moptimizer_kwargs_\u001b[0m \u001b[1;33m=\u001b[0m \u001b[0mdict\u001b[0m\u001b[1;33m(\u001b[0m\u001b[0mself\u001b[0m\u001b[1;33m.\u001b[0m\u001b[0moptimizer_kwargs\u001b[0m\u001b[1;33m)\u001b[0m\u001b[1;33m\u001b[0m\u001b[1;33m\u001b[0m\u001b[0m\n\u001b[0;32m    465\u001b[0m \u001b[1;33m\u001b[0m\u001b[0m\n\u001b[1;32m--> 466\u001b[1;33m         \u001b[0msuper\u001b[0m\u001b[1;33m(\u001b[0m\u001b[1;33m)\u001b[0m\u001b[1;33m.\u001b[0m\u001b[0mfit\u001b[0m\u001b[1;33m(\u001b[0m\u001b[0mX\u001b[0m\u001b[1;33m=\u001b[0m\u001b[0mX\u001b[0m\u001b[1;33m,\u001b[0m \u001b[0my\u001b[0m\u001b[1;33m=\u001b[0m\u001b[0my\u001b[0m\u001b[1;33m,\u001b[0m \u001b[0mgroups\u001b[0m\u001b[1;33m=\u001b[0m\u001b[0mgroups\u001b[0m\u001b[1;33m,\u001b[0m \u001b[1;33m**\u001b[0m\u001b[0mfit_params\u001b[0m\u001b[1;33m)\u001b[0m\u001b[1;33m\u001b[0m\u001b[1;33m\u001b[0m\u001b[0m\n\u001b[0m\u001b[0;32m    467\u001b[0m \u001b[1;33m\u001b[0m\u001b[0m\n\u001b[0;32m    468\u001b[0m         \u001b[1;31m# BaseSearchCV never ranked train scores,\u001b[0m\u001b[1;33m\u001b[0m\u001b[1;33m\u001b[0m\u001b[1;33m\u001b[0m\u001b[0m\n",
      "\u001b[1;32mc:\\program files\\python37\\lib\\site-packages\\sklearn\\model_selection\\_search.py\u001b[0m in \u001b[0;36mfit\u001b[1;34m(self, X, y, groups, **fit_params)\u001b[0m\n\u001b[0;32m    889\u001b[0m                 \u001b[1;32mreturn\u001b[0m \u001b[0mresults\u001b[0m\u001b[1;33m\u001b[0m\u001b[1;33m\u001b[0m\u001b[0m\n\u001b[0;32m    890\u001b[0m \u001b[1;33m\u001b[0m\u001b[0m\n\u001b[1;32m--> 891\u001b[1;33m             \u001b[0mself\u001b[0m\u001b[1;33m.\u001b[0m\u001b[0m_run_search\u001b[0m\u001b[1;33m(\u001b[0m\u001b[0mevaluate_candidates\u001b[0m\u001b[1;33m)\u001b[0m\u001b[1;33m\u001b[0m\u001b[1;33m\u001b[0m\u001b[0m\n\u001b[0m\u001b[0;32m    892\u001b[0m \u001b[1;33m\u001b[0m\u001b[0m\n\u001b[0;32m    893\u001b[0m             \u001b[1;31m# multimetric is determined here because in the case of a callable\u001b[0m\u001b[1;33m\u001b[0m\u001b[1;33m\u001b[0m\u001b[1;33m\u001b[0m\u001b[0m\n",
      "\u001b[1;32mc:\\program files\\python37\\lib\\site-packages\\skopt\\searchcv.py\u001b[0m in \u001b[0;36m_run_search\u001b[1;34m(self, evaluate_candidates)\u001b[0m\n\u001b[0;32m    512\u001b[0m                 optim_result = self._step(\n\u001b[0;32m    513\u001b[0m                     \u001b[0msearch_space\u001b[0m\u001b[1;33m,\u001b[0m \u001b[0moptimizer\u001b[0m\u001b[1;33m,\u001b[0m\u001b[1;33m\u001b[0m\u001b[1;33m\u001b[0m\u001b[0m\n\u001b[1;32m--> 514\u001b[1;33m                     \u001b[0mevaluate_candidates\u001b[0m\u001b[1;33m,\u001b[0m \u001b[0mn_points\u001b[0m\u001b[1;33m=\u001b[0m\u001b[0mn_points_adjusted\u001b[0m\u001b[1;33m\u001b[0m\u001b[1;33m\u001b[0m\u001b[0m\n\u001b[0m\u001b[0;32m    515\u001b[0m                 )\n\u001b[0;32m    516\u001b[0m                 \u001b[0mn_iter\u001b[0m \u001b[1;33m-=\u001b[0m \u001b[0mn_points\u001b[0m\u001b[1;33m\u001b[0m\u001b[1;33m\u001b[0m\u001b[0m\n",
      "\u001b[1;32mc:\\program files\\python37\\lib\\site-packages\\skopt\\searchcv.py\u001b[0m in \u001b[0;36m_step\u001b[1;34m(self, search_space, optimizer, evaluate_candidates, n_points)\u001b[0m\n\u001b[0;32m    406\u001b[0m         \u001b[0mparams_dict\u001b[0m \u001b[1;33m=\u001b[0m \u001b[1;33m[\u001b[0m\u001b[0mpoint_asdict\u001b[0m\u001b[1;33m(\u001b[0m\u001b[0msearch_space\u001b[0m\u001b[1;33m,\u001b[0m \u001b[0mp\u001b[0m\u001b[1;33m)\u001b[0m \u001b[1;32mfor\u001b[0m \u001b[0mp\u001b[0m \u001b[1;32min\u001b[0m \u001b[0mparams\u001b[0m\u001b[1;33m]\u001b[0m\u001b[1;33m\u001b[0m\u001b[1;33m\u001b[0m\u001b[0m\n\u001b[0;32m    407\u001b[0m \u001b[1;33m\u001b[0m\u001b[0m\n\u001b[1;32m--> 408\u001b[1;33m         \u001b[0mall_results\u001b[0m \u001b[1;33m=\u001b[0m \u001b[0mevaluate_candidates\u001b[0m\u001b[1;33m(\u001b[0m\u001b[0mparams_dict\u001b[0m\u001b[1;33m)\u001b[0m\u001b[1;33m\u001b[0m\u001b[1;33m\u001b[0m\u001b[0m\n\u001b[0m\u001b[0;32m    409\u001b[0m         \u001b[1;31m# Feed the point and objective value back into optimizer\u001b[0m\u001b[1;33m\u001b[0m\u001b[1;33m\u001b[0m\u001b[1;33m\u001b[0m\u001b[0m\n\u001b[0;32m    410\u001b[0m         \u001b[1;31m# Optimizer minimizes objective, hence provide negative score\u001b[0m\u001b[1;33m\u001b[0m\u001b[1;33m\u001b[0m\u001b[1;33m\u001b[0m\u001b[0m\n",
      "\u001b[1;32mc:\\program files\\python37\\lib\\site-packages\\sklearn\\model_selection\\_search.py\u001b[0m in \u001b[0;36mevaluate_candidates\u001b[1;34m(candidate_params, cv, more_results)\u001b[0m\n\u001b[0;32m    849\u001b[0m                     )\n\u001b[0;32m    850\u001b[0m                     for (cand_idx, parameters), (split_idx, (train, test)) in product(\n\u001b[1;32m--> 851\u001b[1;33m                         \u001b[0menumerate\u001b[0m\u001b[1;33m(\u001b[0m\u001b[0mcandidate_params\u001b[0m\u001b[1;33m)\u001b[0m\u001b[1;33m,\u001b[0m \u001b[0menumerate\u001b[0m\u001b[1;33m(\u001b[0m\u001b[0mcv\u001b[0m\u001b[1;33m.\u001b[0m\u001b[0msplit\u001b[0m\u001b[1;33m(\u001b[0m\u001b[0mX\u001b[0m\u001b[1;33m,\u001b[0m \u001b[0my\u001b[0m\u001b[1;33m,\u001b[0m \u001b[0mgroups\u001b[0m\u001b[1;33m)\u001b[0m\u001b[1;33m)\u001b[0m\u001b[1;33m\u001b[0m\u001b[1;33m\u001b[0m\u001b[0m\n\u001b[0m\u001b[0;32m    852\u001b[0m                     )\n\u001b[0;32m    853\u001b[0m                 )\n",
      "\u001b[1;32mc:\\program files\\python37\\lib\\site-packages\\joblib\\parallel.py\u001b[0m in \u001b[0;36m__call__\u001b[1;34m(self, iterable)\u001b[0m\n\u001b[0;32m   1042\u001b[0m                 \u001b[0mself\u001b[0m\u001b[1;33m.\u001b[0m\u001b[0m_iterating\u001b[0m \u001b[1;33m=\u001b[0m \u001b[0mself\u001b[0m\u001b[1;33m.\u001b[0m\u001b[0m_original_iterator\u001b[0m \u001b[1;32mis\u001b[0m \u001b[1;32mnot\u001b[0m \u001b[1;32mNone\u001b[0m\u001b[1;33m\u001b[0m\u001b[1;33m\u001b[0m\u001b[0m\n\u001b[0;32m   1043\u001b[0m \u001b[1;33m\u001b[0m\u001b[0m\n\u001b[1;32m-> 1044\u001b[1;33m             \u001b[1;32mwhile\u001b[0m \u001b[0mself\u001b[0m\u001b[1;33m.\u001b[0m\u001b[0mdispatch_one_batch\u001b[0m\u001b[1;33m(\u001b[0m\u001b[0miterator\u001b[0m\u001b[1;33m)\u001b[0m\u001b[1;33m:\u001b[0m\u001b[1;33m\u001b[0m\u001b[1;33m\u001b[0m\u001b[0m\n\u001b[0m\u001b[0;32m   1045\u001b[0m                 \u001b[1;32mpass\u001b[0m\u001b[1;33m\u001b[0m\u001b[1;33m\u001b[0m\u001b[0m\n\u001b[0;32m   1046\u001b[0m \u001b[1;33m\u001b[0m\u001b[0m\n",
      "\u001b[1;32mc:\\program files\\python37\\lib\\site-packages\\joblib\\parallel.py\u001b[0m in \u001b[0;36mdispatch_one_batch\u001b[1;34m(self, iterator)\u001b[0m\n\u001b[0;32m    857\u001b[0m                 \u001b[1;32mreturn\u001b[0m \u001b[1;32mFalse\u001b[0m\u001b[1;33m\u001b[0m\u001b[1;33m\u001b[0m\u001b[0m\n\u001b[0;32m    858\u001b[0m             \u001b[1;32melse\u001b[0m\u001b[1;33m:\u001b[0m\u001b[1;33m\u001b[0m\u001b[1;33m\u001b[0m\u001b[0m\n\u001b[1;32m--> 859\u001b[1;33m                 \u001b[0mself\u001b[0m\u001b[1;33m.\u001b[0m\u001b[0m_dispatch\u001b[0m\u001b[1;33m(\u001b[0m\u001b[0mtasks\u001b[0m\u001b[1;33m)\u001b[0m\u001b[1;33m\u001b[0m\u001b[1;33m\u001b[0m\u001b[0m\n\u001b[0m\u001b[0;32m    860\u001b[0m                 \u001b[1;32mreturn\u001b[0m \u001b[1;32mTrue\u001b[0m\u001b[1;33m\u001b[0m\u001b[1;33m\u001b[0m\u001b[0m\n\u001b[0;32m    861\u001b[0m \u001b[1;33m\u001b[0m\u001b[0m\n",
      "\u001b[1;32mc:\\program files\\python37\\lib\\site-packages\\joblib\\parallel.py\u001b[0m in \u001b[0;36m_dispatch\u001b[1;34m(self, batch)\u001b[0m\n\u001b[0;32m    775\u001b[0m         \u001b[1;32mwith\u001b[0m \u001b[0mself\u001b[0m\u001b[1;33m.\u001b[0m\u001b[0m_lock\u001b[0m\u001b[1;33m:\u001b[0m\u001b[1;33m\u001b[0m\u001b[1;33m\u001b[0m\u001b[0m\n\u001b[0;32m    776\u001b[0m             \u001b[0mjob_idx\u001b[0m \u001b[1;33m=\u001b[0m \u001b[0mlen\u001b[0m\u001b[1;33m(\u001b[0m\u001b[0mself\u001b[0m\u001b[1;33m.\u001b[0m\u001b[0m_jobs\u001b[0m\u001b[1;33m)\u001b[0m\u001b[1;33m\u001b[0m\u001b[1;33m\u001b[0m\u001b[0m\n\u001b[1;32m--> 777\u001b[1;33m             \u001b[0mjob\u001b[0m \u001b[1;33m=\u001b[0m \u001b[0mself\u001b[0m\u001b[1;33m.\u001b[0m\u001b[0m_backend\u001b[0m\u001b[1;33m.\u001b[0m\u001b[0mapply_async\u001b[0m\u001b[1;33m(\u001b[0m\u001b[0mbatch\u001b[0m\u001b[1;33m,\u001b[0m \u001b[0mcallback\u001b[0m\u001b[1;33m=\u001b[0m\u001b[0mcb\u001b[0m\u001b[1;33m)\u001b[0m\u001b[1;33m\u001b[0m\u001b[1;33m\u001b[0m\u001b[0m\n\u001b[0m\u001b[0;32m    778\u001b[0m             \u001b[1;31m# A job can complete so quickly than its callback is\u001b[0m\u001b[1;33m\u001b[0m\u001b[1;33m\u001b[0m\u001b[1;33m\u001b[0m\u001b[0m\n\u001b[0;32m    779\u001b[0m             \u001b[1;31m# called before we get here, causing self._jobs to\u001b[0m\u001b[1;33m\u001b[0m\u001b[1;33m\u001b[0m\u001b[1;33m\u001b[0m\u001b[0m\n",
      "\u001b[1;32mc:\\program files\\python37\\lib\\site-packages\\joblib\\_parallel_backends.py\u001b[0m in \u001b[0;36mapply_async\u001b[1;34m(self, func, callback)\u001b[0m\n\u001b[0;32m    206\u001b[0m     \u001b[1;32mdef\u001b[0m \u001b[0mapply_async\u001b[0m\u001b[1;33m(\u001b[0m\u001b[0mself\u001b[0m\u001b[1;33m,\u001b[0m \u001b[0mfunc\u001b[0m\u001b[1;33m,\u001b[0m \u001b[0mcallback\u001b[0m\u001b[1;33m=\u001b[0m\u001b[1;32mNone\u001b[0m\u001b[1;33m)\u001b[0m\u001b[1;33m:\u001b[0m\u001b[1;33m\u001b[0m\u001b[1;33m\u001b[0m\u001b[0m\n\u001b[0;32m    207\u001b[0m         \u001b[1;34m\"\"\"Schedule a func to be run\"\"\"\u001b[0m\u001b[1;33m\u001b[0m\u001b[1;33m\u001b[0m\u001b[0m\n\u001b[1;32m--> 208\u001b[1;33m         \u001b[0mresult\u001b[0m \u001b[1;33m=\u001b[0m \u001b[0mImmediateResult\u001b[0m\u001b[1;33m(\u001b[0m\u001b[0mfunc\u001b[0m\u001b[1;33m)\u001b[0m\u001b[1;33m\u001b[0m\u001b[1;33m\u001b[0m\u001b[0m\n\u001b[0m\u001b[0;32m    209\u001b[0m         \u001b[1;32mif\u001b[0m \u001b[0mcallback\u001b[0m\u001b[1;33m:\u001b[0m\u001b[1;33m\u001b[0m\u001b[1;33m\u001b[0m\u001b[0m\n\u001b[0;32m    210\u001b[0m             \u001b[0mcallback\u001b[0m\u001b[1;33m(\u001b[0m\u001b[0mresult\u001b[0m\u001b[1;33m)\u001b[0m\u001b[1;33m\u001b[0m\u001b[1;33m\u001b[0m\u001b[0m\n",
      "\u001b[1;32mc:\\program files\\python37\\lib\\site-packages\\joblib\\_parallel_backends.py\u001b[0m in \u001b[0;36m__init__\u001b[1;34m(self, batch)\u001b[0m\n\u001b[0;32m    570\u001b[0m         \u001b[1;31m# Don't delay the application, to avoid keeping the input\u001b[0m\u001b[1;33m\u001b[0m\u001b[1;33m\u001b[0m\u001b[1;33m\u001b[0m\u001b[0m\n\u001b[0;32m    571\u001b[0m         \u001b[1;31m# arguments in memory\u001b[0m\u001b[1;33m\u001b[0m\u001b[1;33m\u001b[0m\u001b[1;33m\u001b[0m\u001b[0m\n\u001b[1;32m--> 572\u001b[1;33m         \u001b[0mself\u001b[0m\u001b[1;33m.\u001b[0m\u001b[0mresults\u001b[0m \u001b[1;33m=\u001b[0m \u001b[0mbatch\u001b[0m\u001b[1;33m(\u001b[0m\u001b[1;33m)\u001b[0m\u001b[1;33m\u001b[0m\u001b[1;33m\u001b[0m\u001b[0m\n\u001b[0m\u001b[0;32m    573\u001b[0m \u001b[1;33m\u001b[0m\u001b[0m\n\u001b[0;32m    574\u001b[0m     \u001b[1;32mdef\u001b[0m \u001b[0mget\u001b[0m\u001b[1;33m(\u001b[0m\u001b[0mself\u001b[0m\u001b[1;33m)\u001b[0m\u001b[1;33m:\u001b[0m\u001b[1;33m\u001b[0m\u001b[1;33m\u001b[0m\u001b[0m\n",
      "\u001b[1;32mc:\\program files\\python37\\lib\\site-packages\\joblib\\parallel.py\u001b[0m in \u001b[0;36m__call__\u001b[1;34m(self)\u001b[0m\n\u001b[0;32m    261\u001b[0m         \u001b[1;32mwith\u001b[0m \u001b[0mparallel_backend\u001b[0m\u001b[1;33m(\u001b[0m\u001b[0mself\u001b[0m\u001b[1;33m.\u001b[0m\u001b[0m_backend\u001b[0m\u001b[1;33m,\u001b[0m \u001b[0mn_jobs\u001b[0m\u001b[1;33m=\u001b[0m\u001b[0mself\u001b[0m\u001b[1;33m.\u001b[0m\u001b[0m_n_jobs\u001b[0m\u001b[1;33m)\u001b[0m\u001b[1;33m:\u001b[0m\u001b[1;33m\u001b[0m\u001b[1;33m\u001b[0m\u001b[0m\n\u001b[0;32m    262\u001b[0m             return [func(*args, **kwargs)\n\u001b[1;32m--> 263\u001b[1;33m                     for func, args, kwargs in self.items]\n\u001b[0m\u001b[0;32m    264\u001b[0m \u001b[1;33m\u001b[0m\u001b[0m\n\u001b[0;32m    265\u001b[0m     \u001b[1;32mdef\u001b[0m \u001b[0m__reduce__\u001b[0m\u001b[1;33m(\u001b[0m\u001b[0mself\u001b[0m\u001b[1;33m)\u001b[0m\u001b[1;33m:\u001b[0m\u001b[1;33m\u001b[0m\u001b[1;33m\u001b[0m\u001b[0m\n",
      "\u001b[1;32mc:\\program files\\python37\\lib\\site-packages\\joblib\\parallel.py\u001b[0m in \u001b[0;36m<listcomp>\u001b[1;34m(.0)\u001b[0m\n\u001b[0;32m    261\u001b[0m         \u001b[1;32mwith\u001b[0m \u001b[0mparallel_backend\u001b[0m\u001b[1;33m(\u001b[0m\u001b[0mself\u001b[0m\u001b[1;33m.\u001b[0m\u001b[0m_backend\u001b[0m\u001b[1;33m,\u001b[0m \u001b[0mn_jobs\u001b[0m\u001b[1;33m=\u001b[0m\u001b[0mself\u001b[0m\u001b[1;33m.\u001b[0m\u001b[0m_n_jobs\u001b[0m\u001b[1;33m)\u001b[0m\u001b[1;33m:\u001b[0m\u001b[1;33m\u001b[0m\u001b[1;33m\u001b[0m\u001b[0m\n\u001b[0;32m    262\u001b[0m             return [func(*args, **kwargs)\n\u001b[1;32m--> 263\u001b[1;33m                     for func, args, kwargs in self.items]\n\u001b[0m\u001b[0;32m    264\u001b[0m \u001b[1;33m\u001b[0m\u001b[0m\n\u001b[0;32m    265\u001b[0m     \u001b[1;32mdef\u001b[0m \u001b[0m__reduce__\u001b[0m\u001b[1;33m(\u001b[0m\u001b[0mself\u001b[0m\u001b[1;33m)\u001b[0m\u001b[1;33m:\u001b[0m\u001b[1;33m\u001b[0m\u001b[1;33m\u001b[0m\u001b[0m\n",
      "\u001b[1;32mc:\\program files\\python37\\lib\\site-packages\\sklearn\\utils\\fixes.py\u001b[0m in \u001b[0;36m__call__\u001b[1;34m(self, *args, **kwargs)\u001b[0m\n\u001b[0;32m    209\u001b[0m     \u001b[1;32mdef\u001b[0m \u001b[0m__call__\u001b[0m\u001b[1;33m(\u001b[0m\u001b[0mself\u001b[0m\u001b[1;33m,\u001b[0m \u001b[1;33m*\u001b[0m\u001b[0margs\u001b[0m\u001b[1;33m,\u001b[0m \u001b[1;33m**\u001b[0m\u001b[0mkwargs\u001b[0m\u001b[1;33m)\u001b[0m\u001b[1;33m:\u001b[0m\u001b[1;33m\u001b[0m\u001b[1;33m\u001b[0m\u001b[0m\n\u001b[0;32m    210\u001b[0m         \u001b[1;32mwith\u001b[0m \u001b[0mconfig_context\u001b[0m\u001b[1;33m(\u001b[0m\u001b[1;33m**\u001b[0m\u001b[0mself\u001b[0m\u001b[1;33m.\u001b[0m\u001b[0mconfig\u001b[0m\u001b[1;33m)\u001b[0m\u001b[1;33m:\u001b[0m\u001b[1;33m\u001b[0m\u001b[1;33m\u001b[0m\u001b[0m\n\u001b[1;32m--> 211\u001b[1;33m             \u001b[1;32mreturn\u001b[0m \u001b[0mself\u001b[0m\u001b[1;33m.\u001b[0m\u001b[0mfunction\u001b[0m\u001b[1;33m(\u001b[0m\u001b[1;33m*\u001b[0m\u001b[0margs\u001b[0m\u001b[1;33m,\u001b[0m \u001b[1;33m**\u001b[0m\u001b[0mkwargs\u001b[0m\u001b[1;33m)\u001b[0m\u001b[1;33m\u001b[0m\u001b[1;33m\u001b[0m\u001b[0m\n\u001b[0m\u001b[0;32m    212\u001b[0m \u001b[1;33m\u001b[0m\u001b[0m\n\u001b[0;32m    213\u001b[0m \u001b[1;33m\u001b[0m\u001b[0m\n",
      "\u001b[1;32mc:\\program files\\python37\\lib\\site-packages\\sklearn\\model_selection\\_validation.py\u001b[0m in \u001b[0;36m_fit_and_score\u001b[1;34m(estimator, X, y, scorer, train, test, verbose, parameters, fit_params, return_train_score, return_parameters, return_n_test_samples, return_times, return_estimator, split_progress, candidate_progress, error_score)\u001b[0m\n\u001b[0;32m    679\u001b[0m             \u001b[0mestimator\u001b[0m\u001b[1;33m.\u001b[0m\u001b[0mfit\u001b[0m\u001b[1;33m(\u001b[0m\u001b[0mX_train\u001b[0m\u001b[1;33m,\u001b[0m \u001b[1;33m**\u001b[0m\u001b[0mfit_params\u001b[0m\u001b[1;33m)\u001b[0m\u001b[1;33m\u001b[0m\u001b[1;33m\u001b[0m\u001b[0m\n\u001b[0;32m    680\u001b[0m         \u001b[1;32melse\u001b[0m\u001b[1;33m:\u001b[0m\u001b[1;33m\u001b[0m\u001b[1;33m\u001b[0m\u001b[0m\n\u001b[1;32m--> 681\u001b[1;33m             \u001b[0mestimator\u001b[0m\u001b[1;33m.\u001b[0m\u001b[0mfit\u001b[0m\u001b[1;33m(\u001b[0m\u001b[0mX_train\u001b[0m\u001b[1;33m,\u001b[0m \u001b[0my_train\u001b[0m\u001b[1;33m,\u001b[0m \u001b[1;33m**\u001b[0m\u001b[0mfit_params\u001b[0m\u001b[1;33m)\u001b[0m\u001b[1;33m\u001b[0m\u001b[1;33m\u001b[0m\u001b[0m\n\u001b[0m\u001b[0;32m    682\u001b[0m \u001b[1;33m\u001b[0m\u001b[0m\n\u001b[0;32m    683\u001b[0m     \u001b[1;32mexcept\u001b[0m \u001b[0mException\u001b[0m\u001b[1;33m:\u001b[0m\u001b[1;33m\u001b[0m\u001b[1;33m\u001b[0m\u001b[0m\n",
      "\u001b[1;32mc:\\program files\\python37\\lib\\site-packages\\catboost\\core.py\u001b[0m in \u001b[0;36mfit\u001b[1;34m(self, X, y, cat_features, text_features, embedding_features, sample_weight, baseline, use_best_model, eval_set, verbose, logging_level, plot, plot_file, column_description, verbose_eval, metric_period, silent, early_stopping_rounds, save_snapshot, snapshot_file, snapshot_interval, init_model, callbacks, log_cout, log_cerr)\u001b[0m\n\u001b[0;32m   5128\u001b[0m         self._fit(X, y, cat_features, text_features, embedding_features, None, sample_weight, None, None, None, None, baseline, use_best_model,\n\u001b[0;32m   5129\u001b[0m                   \u001b[0meval_set\u001b[0m\u001b[1;33m,\u001b[0m \u001b[0mverbose\u001b[0m\u001b[1;33m,\u001b[0m \u001b[0mlogging_level\u001b[0m\u001b[1;33m,\u001b[0m \u001b[0mplot\u001b[0m\u001b[1;33m,\u001b[0m \u001b[0mplot_file\u001b[0m\u001b[1;33m,\u001b[0m \u001b[0mcolumn_description\u001b[0m\u001b[1;33m,\u001b[0m \u001b[0mverbose_eval\u001b[0m\u001b[1;33m,\u001b[0m \u001b[0mmetric_period\u001b[0m\u001b[1;33m,\u001b[0m\u001b[1;33m\u001b[0m\u001b[1;33m\u001b[0m\u001b[0m\n\u001b[1;32m-> 5130\u001b[1;33m                   silent, early_stopping_rounds, save_snapshot, snapshot_file, snapshot_interval, init_model, callbacks, log_cout, log_cerr)\n\u001b[0m\u001b[0;32m   5131\u001b[0m         \u001b[1;32mreturn\u001b[0m \u001b[0mself\u001b[0m\u001b[1;33m\u001b[0m\u001b[1;33m\u001b[0m\u001b[0m\n\u001b[0;32m   5132\u001b[0m \u001b[1;33m\u001b[0m\u001b[0m\n",
      "\u001b[1;32mc:\\program files\\python37\\lib\\site-packages\\catboost\\core.py\u001b[0m in \u001b[0;36m_fit\u001b[1;34m(self, X, y, cat_features, text_features, embedding_features, pairs, sample_weight, group_id, group_weight, subgroup_id, pairs_weight, baseline, use_best_model, eval_set, verbose, logging_level, plot, plot_file, column_description, verbose_eval, metric_period, silent, early_stopping_rounds, save_snapshot, snapshot_file, snapshot_interval, init_model, callbacks, log_cout, log_cerr)\u001b[0m\n\u001b[0;32m   2358\u001b[0m                 \u001b[0mparams\u001b[0m\u001b[1;33m,\u001b[0m\u001b[1;33m\u001b[0m\u001b[1;33m\u001b[0m\u001b[0m\n\u001b[0;32m   2359\u001b[0m                 \u001b[0mallow_clear_pool\u001b[0m\u001b[1;33m,\u001b[0m\u001b[1;33m\u001b[0m\u001b[1;33m\u001b[0m\u001b[0m\n\u001b[1;32m-> 2360\u001b[1;33m                 \u001b[0mtrain_params\u001b[0m\u001b[1;33m[\u001b[0m\u001b[1;34m\"init_model\"\u001b[0m\u001b[1;33m]\u001b[0m\u001b[1;33m\u001b[0m\u001b[1;33m\u001b[0m\u001b[0m\n\u001b[0m\u001b[0;32m   2361\u001b[0m             )\n\u001b[0;32m   2362\u001b[0m \u001b[1;33m\u001b[0m\u001b[0m\n",
      "\u001b[1;32mc:\\program files\\python37\\lib\\site-packages\\catboost\\core.py\u001b[0m in \u001b[0;36m_train\u001b[1;34m(self, train_pool, test_pool, params, allow_clear_pool, init_model)\u001b[0m\n\u001b[0;32m   1757\u001b[0m \u001b[1;33m\u001b[0m\u001b[0m\n\u001b[0;32m   1758\u001b[0m     \u001b[1;32mdef\u001b[0m \u001b[0m_train\u001b[0m\u001b[1;33m(\u001b[0m\u001b[0mself\u001b[0m\u001b[1;33m,\u001b[0m \u001b[0mtrain_pool\u001b[0m\u001b[1;33m,\u001b[0m \u001b[0mtest_pool\u001b[0m\u001b[1;33m,\u001b[0m \u001b[0mparams\u001b[0m\u001b[1;33m,\u001b[0m \u001b[0mallow_clear_pool\u001b[0m\u001b[1;33m,\u001b[0m \u001b[0minit_model\u001b[0m\u001b[1;33m)\u001b[0m\u001b[1;33m:\u001b[0m\u001b[1;33m\u001b[0m\u001b[1;33m\u001b[0m\u001b[0m\n\u001b[1;32m-> 1759\u001b[1;33m         \u001b[0mself\u001b[0m\u001b[1;33m.\u001b[0m\u001b[0m_object\u001b[0m\u001b[1;33m.\u001b[0m\u001b[0m_train\u001b[0m\u001b[1;33m(\u001b[0m\u001b[0mtrain_pool\u001b[0m\u001b[1;33m,\u001b[0m \u001b[0mtest_pool\u001b[0m\u001b[1;33m,\u001b[0m \u001b[0mparams\u001b[0m\u001b[1;33m,\u001b[0m \u001b[0mallow_clear_pool\u001b[0m\u001b[1;33m,\u001b[0m \u001b[0minit_model\u001b[0m\u001b[1;33m.\u001b[0m\u001b[0m_object\u001b[0m \u001b[1;32mif\u001b[0m \u001b[0minit_model\u001b[0m \u001b[1;32melse\u001b[0m \u001b[1;32mNone\u001b[0m\u001b[1;33m)\u001b[0m\u001b[1;33m\u001b[0m\u001b[1;33m\u001b[0m\u001b[0m\n\u001b[0m\u001b[0;32m   1760\u001b[0m         \u001b[0mself\u001b[0m\u001b[1;33m.\u001b[0m\u001b[0m_set_trained_model_attributes\u001b[0m\u001b[1;33m(\u001b[0m\u001b[1;33m)\u001b[0m\u001b[1;33m\u001b[0m\u001b[1;33m\u001b[0m\u001b[0m\n\u001b[0;32m   1761\u001b[0m \u001b[1;33m\u001b[0m\u001b[0m\n",
      "\u001b[1;32m_catboost.pyx\u001b[0m in \u001b[0;36m_catboost._CatBoost._train\u001b[1;34m()\u001b[0m\n",
      "\u001b[1;32m_catboost.pyx\u001b[0m in \u001b[0;36m_catboost._CatBoost._train\u001b[1;34m()\u001b[0m\n",
      "\u001b[1;31mKeyboardInterrupt\u001b[0m: "
     ]
    }
   ],
   "source": [
    "resultCAT = bayes_cv_tuner.fit(x_train, y_train, callback=status_print)"
   ]
  },
  {
   "cell_type": "code",
   "execution_count": 41,
   "id": "ac6890ab",
   "metadata": {},
   "outputs": [],
   "source": [
    "def catboost_optimize_params(max_depth,\n",
    "                             min_child_weights, \n",
    "                             colsample_bylevel, \n",
    "                             subsample,\n",
    "                             l2_leaf_reg,\n",
    "                             learning_rate,\n",
    "                             iterations\n",
    "                            ):\n",
    "\n",
    "    params[\"max_depth\"] = int(max_depth)\n",
    "    params[\"min_child_weights\"] = int(min_child_weights)\n",
    "    params[\"subsample\"] = subsample\n",
    "    params[\"colsample_bylevel\"] = colsample_bylevel\n",
    "    params[\"l2_leaf_reg\"] = int(l2_leaf_reg)\n",
    "    params[\"learning_rate\"] = learning_rate\n",
    "    params[\"iterations\"] = int(iterations)\n",
    "\n",
    "    model = cb.fit(\n",
    "        params=params,\n",
    "        \n",
    "        train=train,\n",
    "        eval_set = [(x_train, y_train), (x_valid, y_valid)],\n",
    "        n_estimators= 2000,\n",
    "        early_stopping_rounds=50,\n",
    "        num_boost_round=1000,\n",
    "        verbose=10,\n",
    "    )\n",
    "\n",
    "    return roc_auc_score(y_test, model.predict(x_test))"
   ]
  },
  {
   "cell_type": "code",
   "execution_count": null,
   "id": "a4f9c690",
   "metadata": {},
   "outputs": [],
   "source": []
  },
  {
   "cell_type": "code",
   "execution_count": 45,
   "id": "4ff08609",
   "metadata": {},
   "outputs": [
    {
     "ename": "ValueError",
     "evalue": "Invalid parameter init_points for estimator GaussianProcessRegressor(alpha=1e-06, kernel=Matern(length_scale=1, nu=2.5),\n                         n_restarts_optimizer=5, normalize_y=True,\n                         random_state=RandomState(MT19937) at 0x1AF068BDD08). Check the list of available parameters with `estimator.get_params().keys()`.",
     "output_type": "error",
     "traceback": [
      "\u001b[1;31m---------------------------------------------------------------------------\u001b[0m",
      "\u001b[1;31mValueError\u001b[0m                                Traceback (most recent call last)",
      "\u001b[1;32mC:\\Temp/ipykernel_8500/763588662.py\u001b[0m in \u001b[0;36m<module>\u001b[1;34m\u001b[0m\n\u001b[0;32m     15\u001b[0m )\n\u001b[0;32m     16\u001b[0m catb_params_search.set_gp_params(\n\u001b[1;32m---> 17\u001b[1;33m     \u001b[0minit_points\u001b[0m\u001b[1;33m=\u001b[0m\u001b[1;36m3\u001b[0m\u001b[1;33m,\u001b[0m \u001b[0mn_iter\u001b[0m\u001b[1;33m=\u001b[0m\u001b[1;36m5\u001b[0m\u001b[1;33m,\u001b[0m \u001b[0macq\u001b[0m\u001b[1;33m=\u001b[0m\u001b[1;34m'ei'\u001b[0m\u001b[1;33m\u001b[0m\u001b[1;33m\u001b[0m\u001b[0m\n\u001b[0m\u001b[0;32m     18\u001b[0m )\n",
      "\u001b[1;32mc:\\program files\\python37\\lib\\site-packages\\bayes_opt\\bayesian_optimization.py\u001b[0m in \u001b[0;36mset_gp_params\u001b[1;34m(self, **params)\u001b[0m\n\u001b[0;32m    331\u001b[0m     \u001b[1;32mdef\u001b[0m \u001b[0mset_gp_params\u001b[0m\u001b[1;33m(\u001b[0m\u001b[0mself\u001b[0m\u001b[1;33m,\u001b[0m \u001b[1;33m**\u001b[0m\u001b[0mparams\u001b[0m\u001b[1;33m)\u001b[0m\u001b[1;33m:\u001b[0m\u001b[1;33m\u001b[0m\u001b[1;33m\u001b[0m\u001b[0m\n\u001b[0;32m    332\u001b[0m         \u001b[1;34m\"\"\"Set parameters to the internal Gaussian Process Regressor\"\"\"\u001b[0m\u001b[1;33m\u001b[0m\u001b[1;33m\u001b[0m\u001b[0m\n\u001b[1;32m--> 333\u001b[1;33m         \u001b[0mself\u001b[0m\u001b[1;33m.\u001b[0m\u001b[0m_gp\u001b[0m\u001b[1;33m.\u001b[0m\u001b[0mset_params\u001b[0m\u001b[1;33m(\u001b[0m\u001b[1;33m**\u001b[0m\u001b[0mparams\u001b[0m\u001b[1;33m)\u001b[0m\u001b[1;33m\u001b[0m\u001b[1;33m\u001b[0m\u001b[0m\n\u001b[0m",
      "\u001b[1;32mc:\\program files\\python37\\lib\\site-packages\\sklearn\\base.py\u001b[0m in \u001b[0;36mset_params\u001b[1;34m(self, **params)\u001b[0m\n\u001b[0;32m    241\u001b[0m                     \u001b[1;34m\"Invalid parameter %s for estimator %s. \"\u001b[0m\u001b[1;33m\u001b[0m\u001b[1;33m\u001b[0m\u001b[0m\n\u001b[0;32m    242\u001b[0m                     \u001b[1;34m\"Check the list of available parameters \"\u001b[0m\u001b[1;33m\u001b[0m\u001b[1;33m\u001b[0m\u001b[0m\n\u001b[1;32m--> 243\u001b[1;33m                     \u001b[1;34m\"with `estimator.get_params().keys()`.\"\u001b[0m \u001b[1;33m%\u001b[0m \u001b[1;33m(\u001b[0m\u001b[0mkey\u001b[0m\u001b[1;33m,\u001b[0m \u001b[0mself\u001b[0m\u001b[1;33m)\u001b[0m\u001b[1;33m\u001b[0m\u001b[1;33m\u001b[0m\u001b[0m\n\u001b[0m\u001b[0;32m    244\u001b[0m                 )\n\u001b[0;32m    245\u001b[0m \u001b[1;33m\u001b[0m\u001b[0m\n",
      "\u001b[1;31mValueError\u001b[0m: Invalid parameter init_points for estimator GaussianProcessRegressor(alpha=1e-06, kernel=Matern(length_scale=1, nu=2.5),\n                         n_restarts_optimizer=5, normalize_y=True,\n                         random_state=RandomState(MT19937) at 0x1AF068BDD08). Check the list of available parameters with `estimator.get_params().keys()`."
     ]
    }
   ],
   "source": [
    "params_search = {\n",
    "    \"max_depth\": (3, 15),\n",
    "    \"subsample\" : (0.3, 0.7),\n",
    "    \"min_child_weights\": (5, 500),\n",
    "    \"colsample_bylevel\": (0.3, 0.9),\n",
    "    \"l2_leaf_reg\": (2, 500),\n",
    "    \"learning_rate\": (0.01, 0.0001),\n",
    "    \"iterations\": (100, 500)\n",
    "}\n",
    "\n",
    "catb_params_search = BayesianOptimization(\n",
    "    catboost_optimize_params,\n",
    "    pbounds=params_search,\n",
    "    random_state=27\n",
    ")\n",
    "catb_params_search.set_gp_params(\n",
    "    init_points=3, n_iter=5, acq='ei'\n",
    ")"
   ]
  }
 ],
 "metadata": {
  "kernelspec": {
   "display_name": "Python 3 (ipykernel)",
   "language": "python",
   "name": "python3"
  },
  "language_info": {
   "codemirror_mode": {
    "name": "ipython",
    "version": 3
   },
   "file_extension": ".py",
   "mimetype": "text/x-python",
   "name": "python",
   "nbconvert_exporter": "python",
   "pygments_lexer": "ipython3",
   "version": "3.7.9"
  }
 },
 "nbformat": 4,
 "nbformat_minor": 5
}
