{
 "cells": [
  {
   "cell_type": "code",
   "execution_count": 23,
   "id": "e69d7d7b",
   "metadata": {},
   "outputs": [],
   "source": [
    "import numpy as np\n",
    "import pandas as pd\n",
    "import seaborn as sns\n",
    "import matplotlib.pyplot as plt\n",
    "import os\n",
    "from tqdm import tqdm\n",
    "import pickle\n",
    "\n",
    "import catboost as cb\n",
    "import xgboost as xgb\n",
    "from bayes_opt import BayesianOptimization\n",
    "from sklearn.preprocessing import StandardScaler\n",
    "from sklearn.linear_model import LogisticRegression\n",
    "from sklearn.ensemble import RandomForestClassifier\n",
    "from sklearn.model_selection import train_test_split, KFold\n",
    "from sklearn.metrics import roc_auc_score, confusion_matrix, accuracy_score, classification_report\n",
    "from sklearn.pipeline import Pipeline\n",
    "from sklearn.cluster import KMeans"
   ]
  },
  {
   "cell_type": "code",
   "execution_count": 24,
   "id": "021f8128",
   "metadata": {},
   "outputs": [
    {
     "data": {
      "text/plain": [
       "['data_kmeans.csv',\n",
       " 'data_kmeans_replace.csv',\n",
       " 'data_n.csv',\n",
       " 'test',\n",
       " 'test.txt',\n",
       " 'UnlabeledWiDS2021.csv']"
      ]
     },
     "execution_count": 24,
     "metadata": {},
     "output_type": "execute_result"
    }
   ],
   "source": [
    "os.listdir(\"data\")"
   ]
  },
  {
   "cell_type": "code",
   "execution_count": 25,
   "id": "5da31108",
   "metadata": {},
   "outputs": [],
   "source": [
    "# data = pd.read_csv(\"data/data_n.csv\")"
   ]
  },
  {
   "cell_type": "code",
   "execution_count": 26,
   "id": "5e357bdb",
   "metadata": {},
   "outputs": [],
   "source": [
    "data = pd.read_csv(\"data/UnlabeledWiDS2021.csv\")"
   ]
  },
  {
   "cell_type": "code",
   "execution_count": 27,
   "id": "6803b841",
   "metadata": {},
   "outputs": [],
   "source": [
    "data = data.drop(\"Unnamed: 0\", axis=1)\n",
    "data[\"target\"] = data[\"solid_tumor_with_metastasis\"]\n",
    "data = data.drop(\"solid_tumor_with_metastasis\", axis=1)"
   ]
  },
  {
   "cell_type": "code",
   "execution_count": 28,
   "id": "401541b2",
   "metadata": {},
   "outputs": [],
   "source": [
    "data_kmeans = data.copy()"
   ]
  },
  {
   "cell_type": "code",
   "execution_count": 29,
   "id": "73f76e16",
   "metadata": {},
   "outputs": [
    {
     "name": "stdout",
     "output_type": "stream",
     "text": [
      "Всего категориальных признаков: 6\n",
      "Всего числовых признаков: 173\n"
     ]
    }
   ],
   "source": [
    "categorical = data_kmeans.dtypes[data_kmeans.dtypes == \"object\"].index\n",
    "numerical = list(set(data_kmeans.columns) - set(categorical))\n",
    "\n",
    "print(f\"Всего категориальных признаков: {len(categorical)}\")\n",
    "print(f\"Всего числовых признаков: {len(numerical)}\")\n"
   ]
  },
  {
   "cell_type": "code",
   "execution_count": 30,
   "id": "67fac526",
   "metadata": {},
   "outputs": [
    {
     "data": {
      "text/plain": [
       "M    0.540131\n",
       "F    0.459869\n",
       "Name: gender, dtype: float64"
      ]
     },
     "execution_count": 30,
     "metadata": {},
     "output_type": "execute_result"
    }
   ],
   "source": [
    "freq_encoder = data_kmeans[\"gender\"].value_counts(normalize=True)\n",
    "freq_encoder"
   ]
  },
  {
   "cell_type": "code",
   "execution_count": 31,
   "id": "1aeb5bfa",
   "metadata": {},
   "outputs": [
    {
     "data": {
      "text/plain": [
       "['ethnicity_freq',\n",
       " 'gender_freq',\n",
       " 'hospital_admit_source_freq',\n",
       " 'icu_admit_source_freq',\n",
       " 'icu_stay_type_freq',\n",
       " 'icu_type_freq']"
      ]
     },
     "execution_count": 31,
     "metadata": {},
     "output_type": "execute_result"
    }
   ],
   "source": [
    "cat_new = []\n",
    "for i in data_kmeans[categorical]:\n",
    "    freq_encoder = data_kmeans[i].value_counts(normalize=True)\n",
    "    data_kmeans[f\"{i}_freq\"] = data_kmeans[i].map(freq_encoder)\n",
    "    cat_new.append(f\"{i}_freq\")\n",
    "cat_new"
   ]
  },
  {
   "cell_type": "code",
   "execution_count": 32,
   "id": "d1d51c02",
   "metadata": {},
   "outputs": [],
   "source": [
    "# удалю старые признаки типа обьект\n",
    "data_kmeans = data_kmeans.drop(categorical, axis=1)"
   ]
  },
  {
   "cell_type": "code",
   "execution_count": 33,
   "id": "4a6321f2",
   "metadata": {},
   "outputs": [],
   "source": [
    "# # посмотрим на пропуски и есть ли среди них признаки с уникальными значениями более 9000\n",
    "# count = 0\n",
    "# check_list_sign = []\n",
    "\n",
    "# for i in data_kmeans:\n",
    "#     isna = data_kmeans[i].isna().sum()\n",
    "#     if isna > 0:\n",
    "#         count += 1\n",
    "#         print(i)\n",
    "#         check_list_sign.append(i)\n",
    "#         if data_kmeans[i].nunique() > 9000:\n",
    "#             print(\"unique: \", data_kmeans[i].nunique())\n",
    "#         print(isna)\n",
    "#         print(\"*\" * 30)"
   ]
  },
  {
   "cell_type": "code",
   "execution_count": 34,
   "id": "d3f78161",
   "metadata": {},
   "outputs": [],
   "source": [
    "# меняю пропуски на -100\n",
    "# data_kmeans = data_kmeans.fillna(-100)"
   ]
  },
  {
   "cell_type": "code",
   "execution_count": 35,
   "id": "0ef0f292",
   "metadata": {},
   "outputs": [],
   "source": [
    "# a = list(data_kmeans[\"bmi\"].loc[data_kmeans[\"bmi_kmeans\"] == 100])\n",
    "# a\n",
    "# # a.remove(-100)\n",
    "# # a_m = round(np.median(a), 3)\n",
    "# # print(a_m)\n",
    "# # q = data_kmeans[\"bmi\"].loc[data_kmeans[\"bmi_kmeans\"] == 100]\n",
    "# # q\n",
    "# # s = np.where(q != -100, q, a_m)\n",
    "# # data_kmeans[\"bmi_kmeans\"][-100]\n",
    "# # # q = s\n",
    "# # q"
   ]
  },
  {
   "cell_type": "code",
   "execution_count": 36,
   "id": "047d76a4",
   "metadata": {},
   "outputs": [],
   "source": [
    "# kmeans = KMeans(n_clusters=50, random_state=0) # кол-во кластеров равно уникальному значению иследуемой совокупности\n",
    "# kmeans.fit(data_kmeans) # обучение"
   ]
  },
  {
   "cell_type": "markdown",
   "id": "fc2dd4df",
   "metadata": {},
   "source": [
    "# TEST"
   ]
  },
  {
   "cell_type": "code",
   "execution_count": 37,
   "id": "b42115a1",
   "metadata": {},
   "outputs": [],
   "source": [
    "from collections import Counter"
   ]
  },
  {
   "cell_type": "code",
   "execution_count": 38,
   "id": "9c1e8610",
   "metadata": {},
   "outputs": [
    {
     "name": "stdout",
     "output_type": "stream",
     "text": [
      "4\n"
     ]
    }
   ],
   "source": [
    "cnt = Counter\n",
    "a = [0,0,0,0,0,0,1,1,1,1]\n",
    "c = cnt(a)\n",
    "print(c[1])\n"
   ]
  },
  {
   "cell_type": "code",
   "execution_count": 39,
   "id": "334cd18e",
   "metadata": {},
   "outputs": [],
   "source": [
    "data_kmeans_copy = data_kmeans.copy()"
   ]
  },
  {
   "cell_type": "code",
   "execution_count": 40,
   "id": "76b37f64",
   "metadata": {},
   "outputs": [],
   "source": [
    "def close_funk():\n",
    "    print(\"нету списка признаков\")\n",
    "    return"
   ]
  },
  {
   "cell_type": "code",
   "execution_count": 41,
   "id": "6a8aaae4",
   "metadata": {},
   "outputs": [],
   "source": [
    "def save_values(df,check_list_sign, count_breack):\n",
    "        print(f\"{count_breack} эпох без изменений\")\n",
    "        print(f\"лучший результат: {len(check_list_sign)}\")\n",
    "        df.to_csv(\"data/data_kmeans_replace_all_rows.csv\", index=False)\n",
    "        with open(\"data/test\", \"wb\") as fp:\n",
    "            pickle.dump(check_list_sign, fp)\n",
    "        print(\"Программа завершена, данные сохранены\")\n",
    "        return df,check_list_sign\n"
   ]
  },
  {
   "cell_type": "code",
   "execution_count": 42,
   "id": "2829103b",
   "metadata": {},
   "outputs": [],
   "source": [
    "def recursive(df, max_check_col, counts, list_sign=[], true_list_sign=[], count_breack=25):\n",
    "    \"\"\"\n",
    "    ф-я принимает:\n",
    "    true_list_sign  -  список признаков где уже заменены -100 на медиану\n",
    "    \n",
    "    list_sign: list   - список признаков в которых присутствуют замененные пропуски на -100\n",
    "    \n",
    "    df : Pandas DataFrame   -   матрица данных\n",
    "    \n",
    "    counts : int  -  изначально равно нулю, номер эпохи\n",
    "    \n",
    "    max_check_col : int  -  длина листа с признаками в которых остались значения -100\n",
    "    \n",
    "    count_breack : int  -  кол-во эпох для остановки если нет улучшений\n",
    "    \n",
    "    \"\"\"\n",
    "    dataf, check_list_sign, true_list_sign, max_check_col, counts, *a =  check_nan_replace1(df=df,\n",
    "                                                                         list_sign=list_sign, \n",
    "                                                                         true_list_sign=true_list_sign, \n",
    "                                                                         max_check_col=max_check_col,\n",
    "                                                                         counts=counts)\n",
    "    \n",
    "    print(\"check_list_sign: \",check_list_sign)                                                                   \n",
    "    if \"\".join(a) == \"quit\":\n",
    "#         dataf = dataf.copy()\n",
    "        print(\"quit\")\n",
    "        df = dataf\n",
    "#         print(dataf.shape, check_list_sign)\n",
    "        save_values(df,check_list_sign, count_breack)\n",
    "        print(dataf.shape, \"len: \", len(check_list_sign))\n",
    "#         print(dataf.shape, \"len: \", len(check_list_sign))\n",
    "        return (df)\n",
    "    \n",
    "    if counts == count_breack: \n",
    "        dataf,check_list_sign = save_values(dataf,check_list_sign, count_breack)\n",
    "        print(dataf.shape, \"len: \", len(check_list_sign))\n",
    "#         print(dataf.shape, \"len: \", len(check_list_sign))\n",
    "        return (dataf, check_list_sign)\n",
    "\n",
    "    recursive(df=dataf, list_sign=check_list_sign, true_list_sign=true_list_sign, max_check_col=max_check_col, counts=counts)"
   ]
  },
  {
   "cell_type": "code",
   "execution_count": 43,
   "id": "6edcf288",
   "metadata": {},
   "outputs": [],
   "source": [
    "def counter_target(num_sign, col, df, counter):\n",
    "    print(\"я тут\")\n",
    "    print(df[col].loc[(df[col] == num_sign and df[\"target\"] == 1)])\n",
    "    \n",
    "#     print(counter)"
   ]
  },
  {
   "cell_type": "code",
   "execution_count": null,
   "id": "c3c0bd31",
   "metadata": {},
   "outputs": [],
   "source": []
  },
  {
   "cell_type": "code",
   "execution_count": 44,
   "id": "865aab7e",
   "metadata": {},
   "outputs": [],
   "source": [
    "def check_nan_replace1(df, list_sign=[], true_list_sign=[], max_check_col=1000, counts=0):\n",
    "    \n",
    "    print(df.shape)\n",
    "    if len(list(set(df.isna().sum().values))) != 1:\n",
    "        list_sign = []\n",
    "\n",
    "        for i in df:\n",
    "            isna = df[i].isna().sum()\n",
    "            if isna > 0:\n",
    "                list_sign.append(i)\n",
    "        df = df.fillna(-100)\n",
    "    if len(list_sign) == 0:\n",
    "        print(\"лист с пропусками не задан\")\n",
    "        return df, list_sign, true_list_sign, max_check_col, counts, \"quit\"\n",
    "    new_sign = []\n",
    "    print(\"1 list_sign: \",len(list_sign))\n",
    "    print(\"2 true_list_sign: \",len(true_list_sign))\n",
    "#     list_sign = [i for i in list_sign if i not in true_list_sign]\n",
    "    print(\"3 list_sign: \",len(list_sign))\n",
    "    for i in df[list_sign].columns: # цикл по столбцам в которых были заменены пропуски на -100\n",
    "        nuniq = df[i].nunique() # кол-во уникальных значений в признаке\n",
    "        uniq = df[i].unique()\n",
    "#         print(\"4 uniq:\",uniq)\n",
    "#         print(\"5 if -100 not in uniq: \",-100 not in uniq)\n",
    "#         if -100 not in uniq:\n",
    "            \n",
    "#             true_list_sign.append(i)\n",
    "#             continue\n",
    "        \n",
    "        if nuniq == 2 or (nuniq - counts) <= 1:\n",
    "            kmeans = KMeans(n_clusters=nuniq, random_state=0) # кол-во кластеров равно уникальному значению иследуемой совокупности\n",
    "            kmeans.fit(df) # обучение\n",
    "        else:\n",
    "            kmeans = KMeans(n_clusters=nuniq - counts, random_state=0) # кол-во кластеров равно уникальному значению иследуемой совокупности\n",
    "            kmeans.fit(df) # обучение\n",
    "        if i.split(\"_\")[-1] != \"kmeans\":\n",
    "            df[f\"{i}_kmeans\"] = kmeans.labels_\n",
    "            new_sign.append(f\"{i}_kmeans\") # записываю новые признаки в лист\n",
    "            \n",
    "        else:\n",
    "            df[i] = kmeans.labels_\n",
    "            new_sign.append(i)\n",
    "    \n",
    "    check_list_sign = []\n",
    "    print(\"6 new_sign:\", len(new_sign))\n",
    "    for col in df[new_sign].columns: # цикл по колонкам которые получились\n",
    "#         uniq_sign = df[col].nunique() # кол-во кластеров\n",
    "        \n",
    "        uniq_sign = 50 # потом удалить\n",
    "        for num_sign in range(uniq_sign): # цикл по кластерам признака\n",
    "            check_list = list(set(df[\"target\"].loc[df[col] == num_sign])) # лист уникальных значений целевой переменной\n",
    "                                                                          # исследуемой совокупности\n",
    "#             counter = cnt(list(list(df[\"target\"].loc[df[col] == num_sign])))\n",
    "#             print(\"minmax: \", max(counter.values()) - min(counter.values()))\n",
    "#             print(\"counter: \", counter)\n",
    "#             if counter[1] >= 5 and counter[0] >=5:\n",
    "#                 counter_target(num_sign, col, df, counter)\n",
    "            col_del_pr = col.split(\"_kmeans\")[0]\n",
    "            if len(check_list) == 1: # если длина листа равна 1\n",
    "\n",
    "#                 col_del_pr = col.split(\"_kmeans\")[0] # получаю название без префикса _kmeans\n",
    "                a = list(set(df[col_del_pr].loc[df[col] == num_sign])) # лист с уникальными значениями  \n",
    "                                                                       # группы исследуеиой совокупности\n",
    "                if len(a) == 1 and a[0] == -100:\n",
    "                    check_list_sign.append(col)\n",
    "                    continue\n",
    "                try:                                                                         \n",
    "                    a.remove(-100)  # удаляю -100\n",
    "                except:\n",
    "                    pass\n",
    "                mean_a = round(np.median(a),3) # получаю медиану совокупности без -100\n",
    "                \n",
    "                q = df[col_del_pr].loc[df[col] == num_sign] # список значений группы \n",
    "                                                                           # исследуеиой совокупности\n",
    "#                 s = np.where(q != -100, q, mean_a) # меняю -100 на медиану\n",
    "#                 print(\"q: \",q)\n",
    "                s = np.where(q ==-100, mean_a, q)  # меняю -100 на медиану  \n",
    "#                 print(\"s: \",s)\n",
    "                df = df.copy()\n",
    "#                 df[col_del_pr].loc[df[col] == num_sign] = df[col_del_pr].loc[df[col] == num_sign].replace(-100, mean_a)\n",
    "\n",
    "                df[col_del_pr].loc[df[col] == num_sign] = s # меняю списки\n",
    "            elif len(check_list) == 2: # если длина листа равна 2\n",
    "#                 col_del_pr = col.split(\"_kmeans\")[0]\n",
    "                for num_t in range(2):\n",
    "                    a = list(set(df[col_del_pr].loc[df[col] == num_sign].loc[df['target']==num_t])) # лист с уникальными значениями  \n",
    "                                                                                            # группы исследуеиой совокупности\n",
    "                    if len(a) == 1 and a[0] == -100:\n",
    "                        check_list_sign.append(col)\n",
    "                        continue\n",
    "                    try:                                                                         \n",
    "                        a.remove(-100)  # удаляю -100\n",
    "                    except:\n",
    "                        pass\n",
    "                    mean_a = round(np.median(a),3) # получаю медиану совокупности без -100\n",
    "                    q = df[col_del_pr].loc[df[col] == num_sign].loc[df['target']==num_t] # список значений группы \n",
    "                                                                                         # исследуеиой совокупности\n",
    "#                     s = np.where(q != -100, q, mean_a) # меняю -100 на медиану \n",
    "#                     print(\"q: \",q)\n",
    "                    s = np.where(q ==-100, mean_a, q)  # меняю -100 на медиану  \n",
    "#                     print(\"s: \",s)\n",
    "                    df = df.copy()\n",
    "    #                 df[col_del_pr].loc[df[col] == num_sign] = df[col_del_pr].loc[df[col] == num_sign].replace(-100, mean_a)\n",
    "\n",
    "                    ind = df[col_del_pr].loc[df[col] == num_sign].loc[df['target']==num_t].index # меняю списки\n",
    "                    df[col_del_pr].iloc[ind] = s\n",
    "                \n",
    "#             else:\n",
    "#                 check_list_sign.append(col)\n",
    "    check_list_sign = list(set(check_list_sign))\n",
    "    len_check_list_sign = len(check_list_sign)\n",
    "    if len_check_list_sign == 0:\n",
    "        print(\"нету списка признаков или все признаки пройдены\")\n",
    "        return df, check_list_sign, true_list_sign, max_check_col, counts, \"quit\"\n",
    "    \n",
    "    elif len_check_list_sign < max_check_col:\n",
    "        print(f\"попытка № {counts} успешная, счетчик обновится\")\n",
    "        print(f\"len bad cols: {len(set(check_list_sign))}\")\n",
    "        counts = 0\n",
    "        max_check_col = len_check_list_sign\n",
    "        print(\"check_list_sign: \", check_list_sign)\n",
    "        return df, check_list_sign, true_list_sign, max_check_col, counts\n",
    "    else:\n",
    "        counts += 1\n",
    "        print(f\"попытка № {counts} не привела к успеху\")\n",
    "        return df, check_list_sign, true_list_sign, max_check_col, counts\n",
    "    \n",
    "        "
   ]
  },
  {
   "cell_type": "code",
   "execution_count": 45,
   "id": "163a8c8e",
   "metadata": {},
   "outputs": [
    {
     "name": "stdout",
     "output_type": "stream",
     "text": [
      "(10234, 179)\n",
      "1 list_sign:  159\n",
      "2 true_list_sign:  0\n",
      "3 list_sign:  159\n",
      "6 new_sign: 159\n"
     ]
    },
    {
     "name": "stderr",
     "output_type": "stream",
     "text": [
      "c:\\program files\\python37\\lib\\site-packages\\pandas\\core\\indexing.py:1732: SettingWithCopyWarning: \n",
      "A value is trying to be set on a copy of a slice from a DataFrame\n",
      "\n",
      "See the caveats in the documentation: https://pandas.pydata.org/pandas-docs/stable/user_guide/indexing.html#returning-a-view-versus-a-copy\n",
      "  self._setitem_single_block(indexer, value, name)\n"
     ]
    },
    {
     "name": "stdout",
     "output_type": "stream",
     "text": [
      "попытка № 0 успешная, счетчик обновится\n",
      "len bad cols: 105\n",
      "check_list_sign:  ['h1_hemaglobin_max_kmeans', 'h1_hco3_max_kmeans', 'h1_diasbp_noninvasive_max_kmeans', 'd1_mbp_invasive_max_kmeans', 'h1_bilirubin_max_kmeans', 'h1_creatinine_min_kmeans', 'h1_platelets_max_kmeans', 'h1_platelets_min_kmeans', 'd1_arterial_pco2_max_kmeans', 'h1_mbp_noninvasive_max_kmeans', 'h1_potassium_min_kmeans', 'd1_glucose_min_kmeans', 'h1_albumin_max_kmeans', 'd1_pao2fio2ratio_min_kmeans', 'h1_pao2fio2ratio_min_kmeans', 'ph_apache_kmeans', 'pao2_apache_kmeans', 'h1_inr_min_kmeans', 'h1_hematocrit_min_kmeans', 'h1_sodium_min_kmeans', 'bilirubin_apache_kmeans', 'h1_arterial_pco2_max_kmeans', 'd1_hco3_min_kmeans', 'd1_creatinine_min_kmeans', 'd1_wbc_min_kmeans', 'd1_albumin_max_kmeans', 'albumin_apache_kmeans', 'h1_sysbp_invasive_max_kmeans', 'h1_wbc_min_kmeans', 'd1_arterial_ph_min_kmeans', 'd1_creatinine_max_kmeans', 'wbc_apache_kmeans', 'd1_pao2fio2ratio_max_kmeans', 'h1_bun_min_kmeans', 'd1_sysbp_invasive_max_kmeans', 'd1_albumin_min_kmeans', 'd1_hematocrit_min_kmeans', 'glucose_apache_kmeans', 'weight_kmeans', 'paco2_apache_kmeans', 'sodium_apache_kmeans', 'h1_diasbp_invasive_max_kmeans', 'creatinine_apache_kmeans', 'd1_diasbp_invasive_min_kmeans', 'paco2_for_ph_apache_kmeans', 'h1_mbp_invasive_min_kmeans', 'h1_creatinine_max_kmeans', 'd1_arterial_pco2_min_kmeans', 'h1_temp_min_kmeans', 'd1_bun_max_kmeans', 'd1_inr_min_kmeans', 'd1_arterial_po2_min_kmeans', 'd1_lactate_min_kmeans', 'h1_hco3_min_kmeans', 'h1_temp_max_kmeans', 'h1_pao2fio2ratio_max_kmeans', 'height_kmeans', 'd1_platelets_min_kmeans', 'h1_arterial_pco2_min_kmeans', 'd1_bilirubin_min_kmeans', 'd1_inr_max_kmeans', 'temp_apache_kmeans', 'h1_calcium_max_kmeans', 'h1_albumin_min_kmeans', 'h1_hematocrit_max_kmeans', 'urineoutput_apache_kmeans', 'h1_lactate_min_kmeans', 'd1_diasbp_invasive_max_kmeans', 'h1_potassium_max_kmeans', 'h1_glucose_min_kmeans', 'h1_inr_max_kmeans', 'h1_calcium_min_kmeans', 'h1_lactate_max_kmeans', 'h1_hemaglobin_min_kmeans', 'h1_bun_max_kmeans', 'h1_mbp_min_kmeans', 'h1_wbc_max_kmeans', 'h1_arterial_ph_max_kmeans', 'd1_wbc_max_kmeans', 'd1_platelets_max_kmeans', 'd1_mbp_invasive_min_kmeans', 'd1_arterial_ph_max_kmeans', 'h1_mbp_invasive_max_kmeans', 'h1_sodium_max_kmeans', 'h1_arterial_po2_min_kmeans', 'd1_lactate_max_kmeans', 'd1_hco3_max_kmeans', 'h1_mbp_noninvasive_min_kmeans', 'd1_hemaglobin_min_kmeans', 'd1_bilirubin_max_kmeans', 'h1_bilirubin_min_kmeans', 'd1_bun_min_kmeans', 'h1_arterial_ph_min_kmeans', 'bun_apache_kmeans', 'h1_arterial_po2_max_kmeans', 'd1_hematocrit_max_kmeans', 'h1_diasbp_invasive_min_kmeans', 'd1_sodium_min_kmeans', 'hematocrit_apache_kmeans', 'h1_sysbp_invasive_min_kmeans', 'fio2_apache_kmeans', 'd1_sysbp_invasive_min_kmeans', 'h1_sysbp_noninvasive_min_kmeans', 'h1_glucose_max_kmeans', 'd1_arterial_po2_max_kmeans']\n",
      "check_list_sign:  ['h1_hemaglobin_max_kmeans', 'h1_hco3_max_kmeans', 'h1_diasbp_noninvasive_max_kmeans', 'd1_mbp_invasive_max_kmeans', 'h1_bilirubin_max_kmeans', 'h1_creatinine_min_kmeans', 'h1_platelets_max_kmeans', 'h1_platelets_min_kmeans', 'd1_arterial_pco2_max_kmeans', 'h1_mbp_noninvasive_max_kmeans', 'h1_potassium_min_kmeans', 'd1_glucose_min_kmeans', 'h1_albumin_max_kmeans', 'd1_pao2fio2ratio_min_kmeans', 'h1_pao2fio2ratio_min_kmeans', 'ph_apache_kmeans', 'pao2_apache_kmeans', 'h1_inr_min_kmeans', 'h1_hematocrit_min_kmeans', 'h1_sodium_min_kmeans', 'bilirubin_apache_kmeans', 'h1_arterial_pco2_max_kmeans', 'd1_hco3_min_kmeans', 'd1_creatinine_min_kmeans', 'd1_wbc_min_kmeans', 'd1_albumin_max_kmeans', 'albumin_apache_kmeans', 'h1_sysbp_invasive_max_kmeans', 'h1_wbc_min_kmeans', 'd1_arterial_ph_min_kmeans', 'd1_creatinine_max_kmeans', 'wbc_apache_kmeans', 'd1_pao2fio2ratio_max_kmeans', 'h1_bun_min_kmeans', 'd1_sysbp_invasive_max_kmeans', 'd1_albumin_min_kmeans', 'd1_hematocrit_min_kmeans', 'glucose_apache_kmeans', 'weight_kmeans', 'paco2_apache_kmeans', 'sodium_apache_kmeans', 'h1_diasbp_invasive_max_kmeans', 'creatinine_apache_kmeans', 'd1_diasbp_invasive_min_kmeans', 'paco2_for_ph_apache_kmeans', 'h1_mbp_invasive_min_kmeans', 'h1_creatinine_max_kmeans', 'd1_arterial_pco2_min_kmeans', 'h1_temp_min_kmeans', 'd1_bun_max_kmeans', 'd1_inr_min_kmeans', 'd1_arterial_po2_min_kmeans', 'd1_lactate_min_kmeans', 'h1_hco3_min_kmeans', 'h1_temp_max_kmeans', 'h1_pao2fio2ratio_max_kmeans', 'height_kmeans', 'd1_platelets_min_kmeans', 'h1_arterial_pco2_min_kmeans', 'd1_bilirubin_min_kmeans', 'd1_inr_max_kmeans', 'temp_apache_kmeans', 'h1_calcium_max_kmeans', 'h1_albumin_min_kmeans', 'h1_hematocrit_max_kmeans', 'urineoutput_apache_kmeans', 'h1_lactate_min_kmeans', 'd1_diasbp_invasive_max_kmeans', 'h1_potassium_max_kmeans', 'h1_glucose_min_kmeans', 'h1_inr_max_kmeans', 'h1_calcium_min_kmeans', 'h1_lactate_max_kmeans', 'h1_hemaglobin_min_kmeans', 'h1_bun_max_kmeans', 'h1_mbp_min_kmeans', 'h1_wbc_max_kmeans', 'h1_arterial_ph_max_kmeans', 'd1_wbc_max_kmeans', 'd1_platelets_max_kmeans', 'd1_mbp_invasive_min_kmeans', 'd1_arterial_ph_max_kmeans', 'h1_mbp_invasive_max_kmeans', 'h1_sodium_max_kmeans', 'h1_arterial_po2_min_kmeans', 'd1_lactate_max_kmeans', 'd1_hco3_max_kmeans', 'h1_mbp_noninvasive_min_kmeans', 'd1_hemaglobin_min_kmeans', 'd1_bilirubin_max_kmeans', 'h1_bilirubin_min_kmeans', 'd1_bun_min_kmeans', 'h1_arterial_ph_min_kmeans', 'bun_apache_kmeans', 'h1_arterial_po2_max_kmeans', 'd1_hematocrit_max_kmeans', 'h1_diasbp_invasive_min_kmeans', 'd1_sodium_min_kmeans', 'hematocrit_apache_kmeans', 'h1_sysbp_invasive_min_kmeans', 'fio2_apache_kmeans', 'd1_sysbp_invasive_min_kmeans', 'h1_sysbp_noninvasive_min_kmeans', 'h1_glucose_max_kmeans', 'd1_arterial_po2_max_kmeans']\n",
      "(10234, 338)\n",
      "1 list_sign:  105\n",
      "2 true_list_sign:  0\n",
      "3 list_sign:  105\n",
      "6 new_sign: 105\n"
     ]
    },
    {
     "name": "stderr",
     "output_type": "stream",
     "text": [
      "c:\\program files\\python37\\lib\\site-packages\\pandas\\core\\indexing.py:1732: SettingWithCopyWarning: \n",
      "A value is trying to be set on a copy of a slice from a DataFrame\n",
      "\n",
      "See the caveats in the documentation: https://pandas.pydata.org/pandas-docs/stable/user_guide/indexing.html#returning-a-view-versus-a-copy\n",
      "  self._setitem_single_block(indexer, value, name)\n"
     ]
    },
    {
     "name": "stdout",
     "output_type": "stream",
     "text": [
      "попытка № 0 успешная, счетчик обновится\n",
      "len bad cols: 96\n",
      "check_list_sign:  ['h1_hemaglobin_max_kmeans', 'h1_hco3_max_kmeans', 'h1_diasbp_noninvasive_max_kmeans', 'd1_mbp_invasive_max_kmeans', 'h1_bilirubin_max_kmeans', 'h1_creatinine_min_kmeans', 'h1_platelets_max_kmeans', 'h1_platelets_min_kmeans', 'd1_arterial_pco2_max_kmeans', 'h1_mbp_noninvasive_max_kmeans', 'h1_potassium_min_kmeans', 'd1_glucose_min_kmeans', 'h1_albumin_max_kmeans', 'd1_pao2fio2ratio_min_kmeans', 'h1_pao2fio2ratio_min_kmeans', 'ph_apache_kmeans', 'pao2_apache_kmeans', 'h1_inr_min_kmeans', 'h1_hematocrit_min_kmeans', 'h1_sodium_min_kmeans', 'bilirubin_apache_kmeans', 'h1_arterial_pco2_max_kmeans', 'd1_hco3_min_kmeans', 'd1_creatinine_min_kmeans', 'd1_albumin_max_kmeans', 'h1_sysbp_invasive_max_kmeans', 'h1_wbc_min_kmeans', 'd1_arterial_ph_min_kmeans', 'd1_creatinine_max_kmeans', 'wbc_apache_kmeans', 'd1_pao2fio2ratio_max_kmeans', 'h1_bun_min_kmeans', 'd1_sysbp_invasive_max_kmeans', 'd1_albumin_min_kmeans', 'd1_hematocrit_min_kmeans', 'glucose_apache_kmeans', 'weight_kmeans', 'paco2_apache_kmeans', 'h1_diasbp_invasive_max_kmeans', 'creatinine_apache_kmeans', 'd1_diasbp_invasive_min_kmeans', 'paco2_for_ph_apache_kmeans', 'h1_mbp_invasive_min_kmeans', 'h1_creatinine_max_kmeans', 'd1_arterial_pco2_min_kmeans', 'h1_temp_min_kmeans', 'd1_bun_max_kmeans', 'd1_inr_min_kmeans', 'd1_arterial_po2_min_kmeans', 'd1_lactate_min_kmeans', 'h1_hco3_min_kmeans', 'h1_temp_max_kmeans', 'h1_pao2fio2ratio_max_kmeans', 'h1_arterial_pco2_min_kmeans', 'd1_bilirubin_min_kmeans', 'd1_inr_max_kmeans', 'temp_apache_kmeans', 'h1_calcium_max_kmeans', 'h1_albumin_min_kmeans', 'h1_hematocrit_max_kmeans', 'urineoutput_apache_kmeans', 'h1_lactate_min_kmeans', 'd1_diasbp_invasive_max_kmeans', 'h1_potassium_max_kmeans', 'h1_glucose_min_kmeans', 'h1_inr_max_kmeans', 'h1_calcium_min_kmeans', 'h1_lactate_max_kmeans', 'h1_hemaglobin_min_kmeans', 'h1_bun_max_kmeans', 'h1_mbp_min_kmeans', 'h1_wbc_max_kmeans', 'h1_arterial_ph_max_kmeans', 'd1_mbp_invasive_min_kmeans', 'd1_arterial_ph_max_kmeans', 'h1_mbp_invasive_max_kmeans', 'h1_sodium_max_kmeans', 'h1_arterial_po2_min_kmeans', 'd1_lactate_max_kmeans', 'd1_hco3_max_kmeans', 'h1_mbp_noninvasive_min_kmeans', 'd1_hemaglobin_min_kmeans', 'd1_bilirubin_max_kmeans', 'h1_bilirubin_min_kmeans', 'd1_bun_min_kmeans', 'h1_arterial_ph_min_kmeans', 'bun_apache_kmeans', 'h1_arterial_po2_max_kmeans', 'h1_diasbp_invasive_min_kmeans', 'hematocrit_apache_kmeans', 'h1_sysbp_invasive_min_kmeans', 'fio2_apache_kmeans', 'd1_sysbp_invasive_min_kmeans', 'h1_sysbp_noninvasive_min_kmeans', 'h1_glucose_max_kmeans', 'd1_arterial_po2_max_kmeans']\n",
      "check_list_sign:  ['h1_hemaglobin_max_kmeans', 'h1_hco3_max_kmeans', 'h1_diasbp_noninvasive_max_kmeans', 'd1_mbp_invasive_max_kmeans', 'h1_bilirubin_max_kmeans', 'h1_creatinine_min_kmeans', 'h1_platelets_max_kmeans', 'h1_platelets_min_kmeans', 'd1_arterial_pco2_max_kmeans', 'h1_mbp_noninvasive_max_kmeans', 'h1_potassium_min_kmeans', 'd1_glucose_min_kmeans', 'h1_albumin_max_kmeans', 'd1_pao2fio2ratio_min_kmeans', 'h1_pao2fio2ratio_min_kmeans', 'ph_apache_kmeans', 'pao2_apache_kmeans', 'h1_inr_min_kmeans', 'h1_hematocrit_min_kmeans', 'h1_sodium_min_kmeans', 'bilirubin_apache_kmeans', 'h1_arterial_pco2_max_kmeans', 'd1_hco3_min_kmeans', 'd1_creatinine_min_kmeans', 'd1_albumin_max_kmeans', 'h1_sysbp_invasive_max_kmeans', 'h1_wbc_min_kmeans', 'd1_arterial_ph_min_kmeans', 'd1_creatinine_max_kmeans', 'wbc_apache_kmeans', 'd1_pao2fio2ratio_max_kmeans', 'h1_bun_min_kmeans', 'd1_sysbp_invasive_max_kmeans', 'd1_albumin_min_kmeans', 'd1_hematocrit_min_kmeans', 'glucose_apache_kmeans', 'weight_kmeans', 'paco2_apache_kmeans', 'h1_diasbp_invasive_max_kmeans', 'creatinine_apache_kmeans', 'd1_diasbp_invasive_min_kmeans', 'paco2_for_ph_apache_kmeans', 'h1_mbp_invasive_min_kmeans', 'h1_creatinine_max_kmeans', 'd1_arterial_pco2_min_kmeans', 'h1_temp_min_kmeans', 'd1_bun_max_kmeans', 'd1_inr_min_kmeans', 'd1_arterial_po2_min_kmeans', 'd1_lactate_min_kmeans', 'h1_hco3_min_kmeans', 'h1_temp_max_kmeans', 'h1_pao2fio2ratio_max_kmeans', 'h1_arterial_pco2_min_kmeans', 'd1_bilirubin_min_kmeans', 'd1_inr_max_kmeans', 'temp_apache_kmeans', 'h1_calcium_max_kmeans', 'h1_albumin_min_kmeans', 'h1_hematocrit_max_kmeans', 'urineoutput_apache_kmeans', 'h1_lactate_min_kmeans', 'd1_diasbp_invasive_max_kmeans', 'h1_potassium_max_kmeans', 'h1_glucose_min_kmeans', 'h1_inr_max_kmeans', 'h1_calcium_min_kmeans', 'h1_lactate_max_kmeans', 'h1_hemaglobin_min_kmeans', 'h1_bun_max_kmeans', 'h1_mbp_min_kmeans', 'h1_wbc_max_kmeans', 'h1_arterial_ph_max_kmeans', 'd1_mbp_invasive_min_kmeans', 'd1_arterial_ph_max_kmeans', 'h1_mbp_invasive_max_kmeans', 'h1_sodium_max_kmeans', 'h1_arterial_po2_min_kmeans', 'd1_lactate_max_kmeans', 'd1_hco3_max_kmeans', 'h1_mbp_noninvasive_min_kmeans', 'd1_hemaglobin_min_kmeans', 'd1_bilirubin_max_kmeans', 'h1_bilirubin_min_kmeans', 'd1_bun_min_kmeans', 'h1_arterial_ph_min_kmeans', 'bun_apache_kmeans', 'h1_arterial_po2_max_kmeans', 'h1_diasbp_invasive_min_kmeans', 'hematocrit_apache_kmeans', 'h1_sysbp_invasive_min_kmeans', 'fio2_apache_kmeans', 'd1_sysbp_invasive_min_kmeans', 'h1_sysbp_noninvasive_min_kmeans', 'h1_glucose_max_kmeans', 'd1_arterial_po2_max_kmeans']\n",
      "(10234, 338)\n",
      "1 list_sign:  96\n",
      "2 true_list_sign:  0\n",
      "3 list_sign:  96\n",
      "6 new_sign: 96\n"
     ]
    },
    {
     "name": "stderr",
     "output_type": "stream",
     "text": [
      "c:\\program files\\python37\\lib\\site-packages\\pandas\\core\\indexing.py:1732: SettingWithCopyWarning: \n",
      "A value is trying to be set on a copy of a slice from a DataFrame\n",
      "\n",
      "See the caveats in the documentation: https://pandas.pydata.org/pandas-docs/stable/user_guide/indexing.html#returning-a-view-versus-a-copy\n",
      "  self._setitem_single_block(indexer, value, name)\n"
     ]
    },
    {
     "name": "stdout",
     "output_type": "stream",
     "text": [
      "попытка № 0 успешная, счетчик обновится\n",
      "len bad cols: 90\n",
      "check_list_sign:  ['h1_hemaglobin_max_kmeans', 'h1_hco3_max_kmeans', 'h1_diasbp_noninvasive_max_kmeans', 'd1_mbp_invasive_max_kmeans', 'h1_bilirubin_max_kmeans', 'h1_creatinine_min_kmeans', 'h1_platelets_max_kmeans', 'h1_platelets_min_kmeans', 'd1_arterial_pco2_max_kmeans', 'h1_mbp_noninvasive_max_kmeans', 'h1_potassium_min_kmeans', 'd1_glucose_min_kmeans', 'h1_albumin_max_kmeans', 'd1_pao2fio2ratio_min_kmeans', 'h1_pao2fio2ratio_min_kmeans', 'ph_apache_kmeans', 'pao2_apache_kmeans', 'h1_inr_min_kmeans', 'h1_hematocrit_min_kmeans', 'h1_sodium_min_kmeans', 'bilirubin_apache_kmeans', 'h1_arterial_pco2_max_kmeans', 'd1_hco3_min_kmeans', 'd1_albumin_max_kmeans', 'h1_sysbp_invasive_max_kmeans', 'h1_wbc_min_kmeans', 'd1_arterial_ph_min_kmeans', 'd1_creatinine_max_kmeans', 'wbc_apache_kmeans', 'd1_pao2fio2ratio_max_kmeans', 'h1_bun_min_kmeans', 'd1_sysbp_invasive_max_kmeans', 'd1_albumin_min_kmeans', 'd1_hematocrit_min_kmeans', 'glucose_apache_kmeans', 'paco2_apache_kmeans', 'h1_diasbp_invasive_max_kmeans', 'creatinine_apache_kmeans', 'd1_diasbp_invasive_min_kmeans', 'paco2_for_ph_apache_kmeans', 'h1_mbp_invasive_min_kmeans', 'h1_creatinine_max_kmeans', 'd1_arterial_pco2_min_kmeans', 'h1_temp_min_kmeans', 'd1_inr_min_kmeans', 'd1_arterial_po2_min_kmeans', 'd1_lactate_min_kmeans', 'h1_hco3_min_kmeans', 'h1_temp_max_kmeans', 'h1_pao2fio2ratio_max_kmeans', 'h1_arterial_pco2_min_kmeans', 'd1_bilirubin_min_kmeans', 'd1_inr_max_kmeans', 'h1_calcium_max_kmeans', 'h1_albumin_min_kmeans', 'h1_hematocrit_max_kmeans', 'urineoutput_apache_kmeans', 'h1_lactate_min_kmeans', 'd1_diasbp_invasive_max_kmeans', 'h1_potassium_max_kmeans', 'h1_glucose_min_kmeans', 'h1_inr_max_kmeans', 'h1_calcium_min_kmeans', 'h1_lactate_max_kmeans', 'h1_hemaglobin_min_kmeans', 'h1_bun_max_kmeans', 'h1_wbc_max_kmeans', 'h1_arterial_ph_max_kmeans', 'd1_mbp_invasive_min_kmeans', 'd1_arterial_ph_max_kmeans', 'h1_mbp_invasive_max_kmeans', 'h1_sodium_max_kmeans', 'h1_arterial_po2_min_kmeans', 'd1_lactate_max_kmeans', 'd1_hco3_max_kmeans', 'h1_mbp_noninvasive_min_kmeans', 'd1_bilirubin_max_kmeans', 'h1_bilirubin_min_kmeans', 'd1_bun_min_kmeans', 'h1_arterial_ph_min_kmeans', 'bun_apache_kmeans', 'h1_arterial_po2_max_kmeans', 'h1_diasbp_invasive_min_kmeans', 'hematocrit_apache_kmeans', 'h1_sysbp_invasive_min_kmeans', 'fio2_apache_kmeans', 'd1_sysbp_invasive_min_kmeans', 'h1_sysbp_noninvasive_min_kmeans', 'h1_glucose_max_kmeans', 'd1_arterial_po2_max_kmeans']\n",
      "check_list_sign:  ['h1_hemaglobin_max_kmeans', 'h1_hco3_max_kmeans', 'h1_diasbp_noninvasive_max_kmeans', 'd1_mbp_invasive_max_kmeans', 'h1_bilirubin_max_kmeans', 'h1_creatinine_min_kmeans', 'h1_platelets_max_kmeans', 'h1_platelets_min_kmeans', 'd1_arterial_pco2_max_kmeans', 'h1_mbp_noninvasive_max_kmeans', 'h1_potassium_min_kmeans', 'd1_glucose_min_kmeans', 'h1_albumin_max_kmeans', 'd1_pao2fio2ratio_min_kmeans', 'h1_pao2fio2ratio_min_kmeans', 'ph_apache_kmeans', 'pao2_apache_kmeans', 'h1_inr_min_kmeans', 'h1_hematocrit_min_kmeans', 'h1_sodium_min_kmeans', 'bilirubin_apache_kmeans', 'h1_arterial_pco2_max_kmeans', 'd1_hco3_min_kmeans', 'd1_albumin_max_kmeans', 'h1_sysbp_invasive_max_kmeans', 'h1_wbc_min_kmeans', 'd1_arterial_ph_min_kmeans', 'd1_creatinine_max_kmeans', 'wbc_apache_kmeans', 'd1_pao2fio2ratio_max_kmeans', 'h1_bun_min_kmeans', 'd1_sysbp_invasive_max_kmeans', 'd1_albumin_min_kmeans', 'd1_hematocrit_min_kmeans', 'glucose_apache_kmeans', 'paco2_apache_kmeans', 'h1_diasbp_invasive_max_kmeans', 'creatinine_apache_kmeans', 'd1_diasbp_invasive_min_kmeans', 'paco2_for_ph_apache_kmeans', 'h1_mbp_invasive_min_kmeans', 'h1_creatinine_max_kmeans', 'd1_arterial_pco2_min_kmeans', 'h1_temp_min_kmeans', 'd1_inr_min_kmeans', 'd1_arterial_po2_min_kmeans', 'd1_lactate_min_kmeans', 'h1_hco3_min_kmeans', 'h1_temp_max_kmeans', 'h1_pao2fio2ratio_max_kmeans', 'h1_arterial_pco2_min_kmeans', 'd1_bilirubin_min_kmeans', 'd1_inr_max_kmeans', 'h1_calcium_max_kmeans', 'h1_albumin_min_kmeans', 'h1_hematocrit_max_kmeans', 'urineoutput_apache_kmeans', 'h1_lactate_min_kmeans', 'd1_diasbp_invasive_max_kmeans', 'h1_potassium_max_kmeans', 'h1_glucose_min_kmeans', 'h1_inr_max_kmeans', 'h1_calcium_min_kmeans', 'h1_lactate_max_kmeans', 'h1_hemaglobin_min_kmeans', 'h1_bun_max_kmeans', 'h1_wbc_max_kmeans', 'h1_arterial_ph_max_kmeans', 'd1_mbp_invasive_min_kmeans', 'd1_arterial_ph_max_kmeans', 'h1_mbp_invasive_max_kmeans', 'h1_sodium_max_kmeans', 'h1_arterial_po2_min_kmeans', 'd1_lactate_max_kmeans', 'd1_hco3_max_kmeans', 'h1_mbp_noninvasive_min_kmeans', 'd1_bilirubin_max_kmeans', 'h1_bilirubin_min_kmeans', 'd1_bun_min_kmeans', 'h1_arterial_ph_min_kmeans', 'bun_apache_kmeans', 'h1_arterial_po2_max_kmeans', 'h1_diasbp_invasive_min_kmeans', 'hematocrit_apache_kmeans', 'h1_sysbp_invasive_min_kmeans', 'fio2_apache_kmeans', 'd1_sysbp_invasive_min_kmeans', 'h1_sysbp_noninvasive_min_kmeans', 'h1_glucose_max_kmeans', 'd1_arterial_po2_max_kmeans']\n",
      "(10234, 338)\n",
      "1 list_sign:  90\n",
      "2 true_list_sign:  0\n",
      "3 list_sign:  90\n",
      "6 new_sign: 90\n"
     ]
    },
    {
     "name": "stderr",
     "output_type": "stream",
     "text": [
      "c:\\program files\\python37\\lib\\site-packages\\pandas\\core\\indexing.py:1732: SettingWithCopyWarning: \n",
      "A value is trying to be set on a copy of a slice from a DataFrame\n",
      "\n",
      "See the caveats in the documentation: https://pandas.pydata.org/pandas-docs/stable/user_guide/indexing.html#returning-a-view-versus-a-copy\n",
      "  self._setitem_single_block(indexer, value, name)\n"
     ]
    },
    {
     "name": "stdout",
     "output_type": "stream",
     "text": [
      "попытка № 0 успешная, счетчик обновится\n",
      "len bad cols: 87\n",
      "check_list_sign:  ['h1_hemaglobin_max_kmeans', 'h1_hco3_max_kmeans', 'h1_diasbp_noninvasive_max_kmeans', 'd1_mbp_invasive_max_kmeans', 'h1_bilirubin_max_kmeans', 'h1_creatinine_min_kmeans', 'h1_platelets_max_kmeans', 'h1_platelets_min_kmeans', 'd1_arterial_pco2_max_kmeans', 'h1_mbp_noninvasive_max_kmeans', 'h1_potassium_min_kmeans', 'd1_glucose_min_kmeans', 'h1_albumin_max_kmeans', 'd1_pao2fio2ratio_min_kmeans', 'h1_pao2fio2ratio_min_kmeans', 'ph_apache_kmeans', 'pao2_apache_kmeans', 'h1_inr_min_kmeans', 'h1_hematocrit_min_kmeans', 'bilirubin_apache_kmeans', 'h1_arterial_pco2_max_kmeans', 'd1_hco3_min_kmeans', 'd1_albumin_max_kmeans', 'h1_sysbp_invasive_max_kmeans', 'h1_wbc_min_kmeans', 'd1_arterial_ph_min_kmeans', 'd1_creatinine_max_kmeans', 'wbc_apache_kmeans', 'd1_pao2fio2ratio_max_kmeans', 'h1_bun_min_kmeans', 'd1_sysbp_invasive_max_kmeans', 'd1_albumin_min_kmeans', 'd1_hematocrit_min_kmeans', 'glucose_apache_kmeans', 'paco2_apache_kmeans', 'h1_diasbp_invasive_max_kmeans', 'creatinine_apache_kmeans', 'd1_diasbp_invasive_min_kmeans', 'paco2_for_ph_apache_kmeans', 'h1_mbp_invasive_min_kmeans', 'h1_creatinine_max_kmeans', 'd1_arterial_pco2_min_kmeans', 'h1_temp_min_kmeans', 'd1_inr_min_kmeans', 'd1_arterial_po2_min_kmeans', 'd1_lactate_min_kmeans', 'h1_hco3_min_kmeans', 'h1_temp_max_kmeans', 'h1_pao2fio2ratio_max_kmeans', 'h1_arterial_pco2_min_kmeans', 'd1_bilirubin_min_kmeans', 'd1_inr_max_kmeans', 'h1_calcium_max_kmeans', 'h1_albumin_min_kmeans', 'h1_hematocrit_max_kmeans', 'urineoutput_apache_kmeans', 'h1_lactate_min_kmeans', 'd1_diasbp_invasive_max_kmeans', 'h1_potassium_max_kmeans', 'h1_glucose_min_kmeans', 'h1_inr_max_kmeans', 'h1_calcium_min_kmeans', 'h1_lactate_max_kmeans', 'h1_hemaglobin_min_kmeans', 'h1_bun_max_kmeans', 'h1_wbc_max_kmeans', 'h1_arterial_ph_max_kmeans', 'd1_mbp_invasive_min_kmeans', 'd1_arterial_ph_max_kmeans', 'h1_mbp_invasive_max_kmeans', 'h1_sodium_max_kmeans', 'h1_arterial_po2_min_kmeans', 'd1_lactate_max_kmeans', 'd1_hco3_max_kmeans', 'd1_bilirubin_max_kmeans', 'h1_bilirubin_min_kmeans', 'd1_bun_min_kmeans', 'h1_arterial_ph_min_kmeans', 'bun_apache_kmeans', 'h1_arterial_po2_max_kmeans', 'h1_diasbp_invasive_min_kmeans', 'hematocrit_apache_kmeans', 'h1_sysbp_invasive_min_kmeans', 'fio2_apache_kmeans', 'd1_sysbp_invasive_min_kmeans', 'h1_glucose_max_kmeans', 'd1_arterial_po2_max_kmeans']\n",
      "check_list_sign:  ['h1_hemaglobin_max_kmeans', 'h1_hco3_max_kmeans', 'h1_diasbp_noninvasive_max_kmeans', 'd1_mbp_invasive_max_kmeans', 'h1_bilirubin_max_kmeans', 'h1_creatinine_min_kmeans', 'h1_platelets_max_kmeans', 'h1_platelets_min_kmeans', 'd1_arterial_pco2_max_kmeans', 'h1_mbp_noninvasive_max_kmeans', 'h1_potassium_min_kmeans', 'd1_glucose_min_kmeans', 'h1_albumin_max_kmeans', 'd1_pao2fio2ratio_min_kmeans', 'h1_pao2fio2ratio_min_kmeans', 'ph_apache_kmeans', 'pao2_apache_kmeans', 'h1_inr_min_kmeans', 'h1_hematocrit_min_kmeans', 'bilirubin_apache_kmeans', 'h1_arterial_pco2_max_kmeans', 'd1_hco3_min_kmeans', 'd1_albumin_max_kmeans', 'h1_sysbp_invasive_max_kmeans', 'h1_wbc_min_kmeans', 'd1_arterial_ph_min_kmeans', 'd1_creatinine_max_kmeans', 'wbc_apache_kmeans', 'd1_pao2fio2ratio_max_kmeans', 'h1_bun_min_kmeans', 'd1_sysbp_invasive_max_kmeans', 'd1_albumin_min_kmeans', 'd1_hematocrit_min_kmeans', 'glucose_apache_kmeans', 'paco2_apache_kmeans', 'h1_diasbp_invasive_max_kmeans', 'creatinine_apache_kmeans', 'd1_diasbp_invasive_min_kmeans', 'paco2_for_ph_apache_kmeans', 'h1_mbp_invasive_min_kmeans', 'h1_creatinine_max_kmeans', 'd1_arterial_pco2_min_kmeans', 'h1_temp_min_kmeans', 'd1_inr_min_kmeans', 'd1_arterial_po2_min_kmeans', 'd1_lactate_min_kmeans', 'h1_hco3_min_kmeans', 'h1_temp_max_kmeans', 'h1_pao2fio2ratio_max_kmeans', 'h1_arterial_pco2_min_kmeans', 'd1_bilirubin_min_kmeans', 'd1_inr_max_kmeans', 'h1_calcium_max_kmeans', 'h1_albumin_min_kmeans', 'h1_hematocrit_max_kmeans', 'urineoutput_apache_kmeans', 'h1_lactate_min_kmeans', 'd1_diasbp_invasive_max_kmeans', 'h1_potassium_max_kmeans', 'h1_glucose_min_kmeans', 'h1_inr_max_kmeans', 'h1_calcium_min_kmeans', 'h1_lactate_max_kmeans', 'h1_hemaglobin_min_kmeans', 'h1_bun_max_kmeans', 'h1_wbc_max_kmeans', 'h1_arterial_ph_max_kmeans', 'd1_mbp_invasive_min_kmeans', 'd1_arterial_ph_max_kmeans', 'h1_mbp_invasive_max_kmeans', 'h1_sodium_max_kmeans', 'h1_arterial_po2_min_kmeans', 'd1_lactate_max_kmeans', 'd1_hco3_max_kmeans', 'd1_bilirubin_max_kmeans', 'h1_bilirubin_min_kmeans', 'd1_bun_min_kmeans', 'h1_arterial_ph_min_kmeans', 'bun_apache_kmeans', 'h1_arterial_po2_max_kmeans', 'h1_diasbp_invasive_min_kmeans', 'hematocrit_apache_kmeans', 'h1_sysbp_invasive_min_kmeans', 'fio2_apache_kmeans', 'd1_sysbp_invasive_min_kmeans', 'h1_glucose_max_kmeans', 'd1_arterial_po2_max_kmeans']\n",
      "(10234, 338)\n",
      "1 list_sign:  87\n",
      "2 true_list_sign:  0\n",
      "3 list_sign:  87\n",
      "6 new_sign: 87\n"
     ]
    },
    {
     "name": "stderr",
     "output_type": "stream",
     "text": [
      "c:\\program files\\python37\\lib\\site-packages\\pandas\\core\\indexing.py:1732: SettingWithCopyWarning: \n",
      "A value is trying to be set on a copy of a slice from a DataFrame\n",
      "\n",
      "See the caveats in the documentation: https://pandas.pydata.org/pandas-docs/stable/user_guide/indexing.html#returning-a-view-versus-a-copy\n",
      "  self._setitem_single_block(indexer, value, name)\n"
     ]
    },
    {
     "name": "stdout",
     "output_type": "stream",
     "text": [
      "попытка № 0 успешная, счетчик обновится\n",
      "len bad cols: 86\n",
      "check_list_sign:  ['h1_hemaglobin_max_kmeans', 'h1_hco3_max_kmeans', 'h1_diasbp_noninvasive_max_kmeans', 'd1_mbp_invasive_max_kmeans', 'h1_bilirubin_max_kmeans', 'h1_creatinine_min_kmeans', 'h1_platelets_max_kmeans', 'h1_platelets_min_kmeans', 'd1_arterial_pco2_max_kmeans', 'h1_mbp_noninvasive_max_kmeans', 'h1_potassium_min_kmeans', 'd1_glucose_min_kmeans', 'h1_albumin_max_kmeans', 'd1_pao2fio2ratio_min_kmeans', 'h1_pao2fio2ratio_min_kmeans', 'ph_apache_kmeans', 'pao2_apache_kmeans', 'h1_inr_min_kmeans', 'h1_hematocrit_min_kmeans', 'bilirubin_apache_kmeans', 'h1_arterial_pco2_max_kmeans', 'd1_hco3_min_kmeans', 'd1_albumin_max_kmeans', 'h1_sysbp_invasive_max_kmeans', 'h1_wbc_min_kmeans', 'd1_arterial_ph_min_kmeans', 'd1_creatinine_max_kmeans', 'wbc_apache_kmeans', 'd1_pao2fio2ratio_max_kmeans', 'h1_bun_min_kmeans', 'd1_sysbp_invasive_max_kmeans', 'd1_albumin_min_kmeans', 'd1_hematocrit_min_kmeans', 'glucose_apache_kmeans', 'paco2_apache_kmeans', 'h1_diasbp_invasive_max_kmeans', 'creatinine_apache_kmeans', 'd1_diasbp_invasive_min_kmeans', 'paco2_for_ph_apache_kmeans', 'h1_mbp_invasive_min_kmeans', 'h1_creatinine_max_kmeans', 'd1_arterial_pco2_min_kmeans', 'h1_temp_min_kmeans', 'd1_inr_min_kmeans', 'd1_arterial_po2_min_kmeans', 'd1_lactate_min_kmeans', 'h1_hco3_min_kmeans', 'h1_temp_max_kmeans', 'h1_pao2fio2ratio_max_kmeans', 'h1_arterial_pco2_min_kmeans', 'd1_bilirubin_min_kmeans', 'd1_inr_max_kmeans', 'h1_calcium_max_kmeans', 'h1_albumin_min_kmeans', 'h1_hematocrit_max_kmeans', 'urineoutput_apache_kmeans', 'h1_lactate_min_kmeans', 'd1_diasbp_invasive_max_kmeans', 'h1_potassium_max_kmeans', 'h1_glucose_min_kmeans', 'h1_inr_max_kmeans', 'h1_calcium_min_kmeans', 'h1_lactate_max_kmeans', 'h1_hemaglobin_min_kmeans', 'h1_bun_max_kmeans', 'h1_wbc_max_kmeans', 'h1_arterial_ph_max_kmeans', 'd1_mbp_invasive_min_kmeans', 'd1_arterial_ph_max_kmeans', 'h1_mbp_invasive_max_kmeans', 'h1_sodium_max_kmeans', 'h1_arterial_po2_min_kmeans', 'd1_lactate_max_kmeans', 'd1_bilirubin_max_kmeans', 'h1_bilirubin_min_kmeans', 'd1_bun_min_kmeans', 'h1_arterial_ph_min_kmeans', 'bun_apache_kmeans', 'h1_arterial_po2_max_kmeans', 'h1_diasbp_invasive_min_kmeans', 'hematocrit_apache_kmeans', 'h1_sysbp_invasive_min_kmeans', 'fio2_apache_kmeans', 'd1_sysbp_invasive_min_kmeans', 'h1_glucose_max_kmeans', 'd1_arterial_po2_max_kmeans']\n",
      "check_list_sign:  ['h1_hemaglobin_max_kmeans', 'h1_hco3_max_kmeans', 'h1_diasbp_noninvasive_max_kmeans', 'd1_mbp_invasive_max_kmeans', 'h1_bilirubin_max_kmeans', 'h1_creatinine_min_kmeans', 'h1_platelets_max_kmeans', 'h1_platelets_min_kmeans', 'd1_arterial_pco2_max_kmeans', 'h1_mbp_noninvasive_max_kmeans', 'h1_potassium_min_kmeans', 'd1_glucose_min_kmeans', 'h1_albumin_max_kmeans', 'd1_pao2fio2ratio_min_kmeans', 'h1_pao2fio2ratio_min_kmeans', 'ph_apache_kmeans', 'pao2_apache_kmeans', 'h1_inr_min_kmeans', 'h1_hematocrit_min_kmeans', 'bilirubin_apache_kmeans', 'h1_arterial_pco2_max_kmeans', 'd1_hco3_min_kmeans', 'd1_albumin_max_kmeans', 'h1_sysbp_invasive_max_kmeans', 'h1_wbc_min_kmeans', 'd1_arterial_ph_min_kmeans', 'd1_creatinine_max_kmeans', 'wbc_apache_kmeans', 'd1_pao2fio2ratio_max_kmeans', 'h1_bun_min_kmeans', 'd1_sysbp_invasive_max_kmeans', 'd1_albumin_min_kmeans', 'd1_hematocrit_min_kmeans', 'glucose_apache_kmeans', 'paco2_apache_kmeans', 'h1_diasbp_invasive_max_kmeans', 'creatinine_apache_kmeans', 'd1_diasbp_invasive_min_kmeans', 'paco2_for_ph_apache_kmeans', 'h1_mbp_invasive_min_kmeans', 'h1_creatinine_max_kmeans', 'd1_arterial_pco2_min_kmeans', 'h1_temp_min_kmeans', 'd1_inr_min_kmeans', 'd1_arterial_po2_min_kmeans', 'd1_lactate_min_kmeans', 'h1_hco3_min_kmeans', 'h1_temp_max_kmeans', 'h1_pao2fio2ratio_max_kmeans', 'h1_arterial_pco2_min_kmeans', 'd1_bilirubin_min_kmeans', 'd1_inr_max_kmeans', 'h1_calcium_max_kmeans', 'h1_albumin_min_kmeans', 'h1_hematocrit_max_kmeans', 'urineoutput_apache_kmeans', 'h1_lactate_min_kmeans', 'd1_diasbp_invasive_max_kmeans', 'h1_potassium_max_kmeans', 'h1_glucose_min_kmeans', 'h1_inr_max_kmeans', 'h1_calcium_min_kmeans', 'h1_lactate_max_kmeans', 'h1_hemaglobin_min_kmeans', 'h1_bun_max_kmeans', 'h1_wbc_max_kmeans', 'h1_arterial_ph_max_kmeans', 'd1_mbp_invasive_min_kmeans', 'd1_arterial_ph_max_kmeans', 'h1_mbp_invasive_max_kmeans', 'h1_sodium_max_kmeans', 'h1_arterial_po2_min_kmeans', 'd1_lactate_max_kmeans', 'd1_bilirubin_max_kmeans', 'h1_bilirubin_min_kmeans', 'd1_bun_min_kmeans', 'h1_arterial_ph_min_kmeans', 'bun_apache_kmeans', 'h1_arterial_po2_max_kmeans', 'h1_diasbp_invasive_min_kmeans', 'hematocrit_apache_kmeans', 'h1_sysbp_invasive_min_kmeans', 'fio2_apache_kmeans', 'd1_sysbp_invasive_min_kmeans', 'h1_glucose_max_kmeans', 'd1_arterial_po2_max_kmeans']\n",
      "(10234, 338)\n",
      "1 list_sign:  86\n",
      "2 true_list_sign:  0\n",
      "3 list_sign:  86\n",
      "6 new_sign: 86\n"
     ]
    },
    {
     "name": "stderr",
     "output_type": "stream",
     "text": [
      "c:\\program files\\python37\\lib\\site-packages\\pandas\\core\\indexing.py:1732: SettingWithCopyWarning: \n",
      "A value is trying to be set on a copy of a slice from a DataFrame\n",
      "\n",
      "See the caveats in the documentation: https://pandas.pydata.org/pandas-docs/stable/user_guide/indexing.html#returning-a-view-versus-a-copy\n",
      "  self._setitem_single_block(indexer, value, name)\n"
     ]
    },
    {
     "name": "stdout",
     "output_type": "stream",
     "text": [
      "попытка № 0 успешная, счетчик обновится\n",
      "len bad cols: 81\n",
      "check_list_sign:  ['h1_hemaglobin_max_kmeans', 'h1_hco3_max_kmeans', 'd1_mbp_invasive_max_kmeans', 'h1_bilirubin_max_kmeans', 'h1_creatinine_min_kmeans', 'h1_platelets_max_kmeans', 'h1_platelets_min_kmeans', 'd1_arterial_pco2_max_kmeans', 'h1_potassium_min_kmeans', 'd1_glucose_min_kmeans', 'h1_albumin_max_kmeans', 'd1_pao2fio2ratio_min_kmeans', 'h1_pao2fio2ratio_min_kmeans', 'ph_apache_kmeans', 'pao2_apache_kmeans', 'h1_inr_min_kmeans', 'h1_hematocrit_min_kmeans', 'bilirubin_apache_kmeans', 'h1_arterial_pco2_max_kmeans', 'd1_hco3_min_kmeans', 'd1_albumin_max_kmeans', 'h1_sysbp_invasive_max_kmeans', 'h1_wbc_min_kmeans', 'd1_arterial_ph_min_kmeans', 'd1_creatinine_max_kmeans', 'wbc_apache_kmeans', 'd1_pao2fio2ratio_max_kmeans', 'h1_bun_min_kmeans', 'd1_sysbp_invasive_max_kmeans', 'd1_albumin_min_kmeans', 'd1_hematocrit_min_kmeans', 'paco2_apache_kmeans', 'h1_diasbp_invasive_max_kmeans', 'creatinine_apache_kmeans', 'd1_diasbp_invasive_min_kmeans', 'paco2_for_ph_apache_kmeans', 'h1_mbp_invasive_min_kmeans', 'h1_creatinine_max_kmeans', 'd1_arterial_pco2_min_kmeans', 'd1_inr_min_kmeans', 'd1_arterial_po2_min_kmeans', 'd1_lactate_min_kmeans', 'h1_hco3_min_kmeans', 'h1_temp_max_kmeans', 'h1_pao2fio2ratio_max_kmeans', 'h1_arterial_pco2_min_kmeans', 'd1_bilirubin_min_kmeans', 'd1_inr_max_kmeans', 'h1_calcium_max_kmeans', 'h1_albumin_min_kmeans', 'h1_hematocrit_max_kmeans', 'urineoutput_apache_kmeans', 'h1_lactate_min_kmeans', 'd1_diasbp_invasive_max_kmeans', 'h1_potassium_max_kmeans', 'h1_glucose_min_kmeans', 'h1_inr_max_kmeans', 'h1_calcium_min_kmeans', 'h1_lactate_max_kmeans', 'h1_hemaglobin_min_kmeans', 'h1_bun_max_kmeans', 'h1_wbc_max_kmeans', 'h1_arterial_ph_max_kmeans', 'd1_mbp_invasive_min_kmeans', 'd1_arterial_ph_max_kmeans', 'h1_mbp_invasive_max_kmeans', 'h1_sodium_max_kmeans', 'h1_arterial_po2_min_kmeans', 'd1_lactate_max_kmeans', 'd1_bilirubin_max_kmeans', 'h1_bilirubin_min_kmeans', 'd1_bun_min_kmeans', 'h1_arterial_ph_min_kmeans', 'h1_arterial_po2_max_kmeans', 'h1_diasbp_invasive_min_kmeans', 'hematocrit_apache_kmeans', 'h1_sysbp_invasive_min_kmeans', 'fio2_apache_kmeans', 'd1_sysbp_invasive_min_kmeans', 'h1_glucose_max_kmeans', 'd1_arterial_po2_max_kmeans']\n",
      "check_list_sign:  ['h1_hemaglobin_max_kmeans', 'h1_hco3_max_kmeans', 'd1_mbp_invasive_max_kmeans', 'h1_bilirubin_max_kmeans', 'h1_creatinine_min_kmeans', 'h1_platelets_max_kmeans', 'h1_platelets_min_kmeans', 'd1_arterial_pco2_max_kmeans', 'h1_potassium_min_kmeans', 'd1_glucose_min_kmeans', 'h1_albumin_max_kmeans', 'd1_pao2fio2ratio_min_kmeans', 'h1_pao2fio2ratio_min_kmeans', 'ph_apache_kmeans', 'pao2_apache_kmeans', 'h1_inr_min_kmeans', 'h1_hematocrit_min_kmeans', 'bilirubin_apache_kmeans', 'h1_arterial_pco2_max_kmeans', 'd1_hco3_min_kmeans', 'd1_albumin_max_kmeans', 'h1_sysbp_invasive_max_kmeans', 'h1_wbc_min_kmeans', 'd1_arterial_ph_min_kmeans', 'd1_creatinine_max_kmeans', 'wbc_apache_kmeans', 'd1_pao2fio2ratio_max_kmeans', 'h1_bun_min_kmeans', 'd1_sysbp_invasive_max_kmeans', 'd1_albumin_min_kmeans', 'd1_hematocrit_min_kmeans', 'paco2_apache_kmeans', 'h1_diasbp_invasive_max_kmeans', 'creatinine_apache_kmeans', 'd1_diasbp_invasive_min_kmeans', 'paco2_for_ph_apache_kmeans', 'h1_mbp_invasive_min_kmeans', 'h1_creatinine_max_kmeans', 'd1_arterial_pco2_min_kmeans', 'd1_inr_min_kmeans', 'd1_arterial_po2_min_kmeans', 'd1_lactate_min_kmeans', 'h1_hco3_min_kmeans', 'h1_temp_max_kmeans', 'h1_pao2fio2ratio_max_kmeans', 'h1_arterial_pco2_min_kmeans', 'd1_bilirubin_min_kmeans', 'd1_inr_max_kmeans', 'h1_calcium_max_kmeans', 'h1_albumin_min_kmeans', 'h1_hematocrit_max_kmeans', 'urineoutput_apache_kmeans', 'h1_lactate_min_kmeans', 'd1_diasbp_invasive_max_kmeans', 'h1_potassium_max_kmeans', 'h1_glucose_min_kmeans', 'h1_inr_max_kmeans', 'h1_calcium_min_kmeans', 'h1_lactate_max_kmeans', 'h1_hemaglobin_min_kmeans', 'h1_bun_max_kmeans', 'h1_wbc_max_kmeans', 'h1_arterial_ph_max_kmeans', 'd1_mbp_invasive_min_kmeans', 'd1_arterial_ph_max_kmeans', 'h1_mbp_invasive_max_kmeans', 'h1_sodium_max_kmeans', 'h1_arterial_po2_min_kmeans', 'd1_lactate_max_kmeans', 'd1_bilirubin_max_kmeans', 'h1_bilirubin_min_kmeans', 'd1_bun_min_kmeans', 'h1_arterial_ph_min_kmeans', 'h1_arterial_po2_max_kmeans', 'h1_diasbp_invasive_min_kmeans', 'hematocrit_apache_kmeans', 'h1_sysbp_invasive_min_kmeans', 'fio2_apache_kmeans', 'd1_sysbp_invasive_min_kmeans', 'h1_glucose_max_kmeans', 'd1_arterial_po2_max_kmeans']\n",
      "(10234, 338)\n",
      "1 list_sign:  81\n",
      "2 true_list_sign:  0\n",
      "3 list_sign:  81\n"
     ]
    },
    {
     "ename": "KeyboardInterrupt",
     "evalue": "",
     "output_type": "error",
     "traceback": [
      "\u001b[1;31m---------------------------------------------------------------------------\u001b[0m",
      "\u001b[1;31mKeyboardInterrupt\u001b[0m                         Traceback (most recent call last)",
      "\u001b[1;32m<__array_function__ internals>\u001b[0m in \u001b[0;36mwhere\u001b[1;34m(*args, **kwargs)\u001b[0m\n",
      "\u001b[1;31mKeyboardInterrupt\u001b[0m: "
     ]
    },
    {
     "name": "stderr",
     "output_type": "stream",
     "text": [
      "Exception ignored in: 'sklearn.cluster._k_means_common._relocate_empty_clusters_dense'\n",
      "Traceback (most recent call last):\n",
      "  File \"<__array_function__ internals>\", line 2, in where\n",
      "KeyboardInterrupt\n"
     ]
    },
    {
     "ename": "KeyboardInterrupt",
     "evalue": "",
     "output_type": "error",
     "traceback": [
      "\u001b[1;31m---------------------------------------------------------------------------\u001b[0m",
      "\u001b[1;31mKeyboardInterrupt\u001b[0m                         Traceback (most recent call last)",
      "\u001b[1;32mC:\\Temp/ipykernel_12400/1909445228.py\u001b[0m in \u001b[0;36m<module>\u001b[1;34m\u001b[0m\n\u001b[1;32m----> 1\u001b[1;33m \u001b[0md\u001b[0m\u001b[1;33m=\u001b[0m \u001b[0mrecursive\u001b[0m\u001b[1;33m(\u001b[0m\u001b[0mdata_kmeans_copy\u001b[0m\u001b[1;33m,\u001b[0m \u001b[1;36m1000\u001b[0m\u001b[1;33m,\u001b[0m \u001b[1;36m0\u001b[0m\u001b[1;33m)\u001b[0m\u001b[1;33m\u001b[0m\u001b[1;33m\u001b[0m\u001b[0m\n\u001b[0m",
      "\u001b[1;32mC:\\Temp/ipykernel_12400/1223634856.py\u001b[0m in \u001b[0;36mrecursive\u001b[1;34m(df, max_check_col, counts, list_sign, true_list_sign, count_breack)\u001b[0m\n\u001b[0;32m     38\u001b[0m         \u001b[1;32mreturn\u001b[0m \u001b[1;33m(\u001b[0m\u001b[0mdataf\u001b[0m\u001b[1;33m,\u001b[0m \u001b[0mcheck_list_sign\u001b[0m\u001b[1;33m)\u001b[0m\u001b[1;33m\u001b[0m\u001b[1;33m\u001b[0m\u001b[0m\n\u001b[0;32m     39\u001b[0m \u001b[1;33m\u001b[0m\u001b[0m\n\u001b[1;32m---> 40\u001b[1;33m     \u001b[0mrecursive\u001b[0m\u001b[1;33m(\u001b[0m\u001b[0mdf\u001b[0m\u001b[1;33m=\u001b[0m\u001b[0mdataf\u001b[0m\u001b[1;33m,\u001b[0m \u001b[0mlist_sign\u001b[0m\u001b[1;33m=\u001b[0m\u001b[0mcheck_list_sign\u001b[0m\u001b[1;33m,\u001b[0m \u001b[0mtrue_list_sign\u001b[0m\u001b[1;33m=\u001b[0m\u001b[0mtrue_list_sign\u001b[0m\u001b[1;33m,\u001b[0m \u001b[0mmax_check_col\u001b[0m\u001b[1;33m=\u001b[0m\u001b[0mmax_check_col\u001b[0m\u001b[1;33m,\u001b[0m \u001b[0mcounts\u001b[0m\u001b[1;33m=\u001b[0m\u001b[0mcounts\u001b[0m\u001b[1;33m)\u001b[0m\u001b[1;33m\u001b[0m\u001b[1;33m\u001b[0m\u001b[0m\n\u001b[0m",
      "\u001b[1;32mC:\\Temp/ipykernel_12400/1223634856.py\u001b[0m in \u001b[0;36mrecursive\u001b[1;34m(df, max_check_col, counts, list_sign, true_list_sign, count_breack)\u001b[0m\n\u001b[0;32m     38\u001b[0m         \u001b[1;32mreturn\u001b[0m \u001b[1;33m(\u001b[0m\u001b[0mdataf\u001b[0m\u001b[1;33m,\u001b[0m \u001b[0mcheck_list_sign\u001b[0m\u001b[1;33m)\u001b[0m\u001b[1;33m\u001b[0m\u001b[1;33m\u001b[0m\u001b[0m\n\u001b[0;32m     39\u001b[0m \u001b[1;33m\u001b[0m\u001b[0m\n\u001b[1;32m---> 40\u001b[1;33m     \u001b[0mrecursive\u001b[0m\u001b[1;33m(\u001b[0m\u001b[0mdf\u001b[0m\u001b[1;33m=\u001b[0m\u001b[0mdataf\u001b[0m\u001b[1;33m,\u001b[0m \u001b[0mlist_sign\u001b[0m\u001b[1;33m=\u001b[0m\u001b[0mcheck_list_sign\u001b[0m\u001b[1;33m,\u001b[0m \u001b[0mtrue_list_sign\u001b[0m\u001b[1;33m=\u001b[0m\u001b[0mtrue_list_sign\u001b[0m\u001b[1;33m,\u001b[0m \u001b[0mmax_check_col\u001b[0m\u001b[1;33m=\u001b[0m\u001b[0mmax_check_col\u001b[0m\u001b[1;33m,\u001b[0m \u001b[0mcounts\u001b[0m\u001b[1;33m=\u001b[0m\u001b[0mcounts\u001b[0m\u001b[1;33m)\u001b[0m\u001b[1;33m\u001b[0m\u001b[1;33m\u001b[0m\u001b[0m\n\u001b[0m",
      "\u001b[1;32mC:\\Temp/ipykernel_12400/1223634856.py\u001b[0m in \u001b[0;36mrecursive\u001b[1;34m(df, max_check_col, counts, list_sign, true_list_sign, count_breack)\u001b[0m\n\u001b[0;32m     38\u001b[0m         \u001b[1;32mreturn\u001b[0m \u001b[1;33m(\u001b[0m\u001b[0mdataf\u001b[0m\u001b[1;33m,\u001b[0m \u001b[0mcheck_list_sign\u001b[0m\u001b[1;33m)\u001b[0m\u001b[1;33m\u001b[0m\u001b[1;33m\u001b[0m\u001b[0m\n\u001b[0;32m     39\u001b[0m \u001b[1;33m\u001b[0m\u001b[0m\n\u001b[1;32m---> 40\u001b[1;33m     \u001b[0mrecursive\u001b[0m\u001b[1;33m(\u001b[0m\u001b[0mdf\u001b[0m\u001b[1;33m=\u001b[0m\u001b[0mdataf\u001b[0m\u001b[1;33m,\u001b[0m \u001b[0mlist_sign\u001b[0m\u001b[1;33m=\u001b[0m\u001b[0mcheck_list_sign\u001b[0m\u001b[1;33m,\u001b[0m \u001b[0mtrue_list_sign\u001b[0m\u001b[1;33m=\u001b[0m\u001b[0mtrue_list_sign\u001b[0m\u001b[1;33m,\u001b[0m \u001b[0mmax_check_col\u001b[0m\u001b[1;33m=\u001b[0m\u001b[0mmax_check_col\u001b[0m\u001b[1;33m,\u001b[0m \u001b[0mcounts\u001b[0m\u001b[1;33m=\u001b[0m\u001b[0mcounts\u001b[0m\u001b[1;33m)\u001b[0m\u001b[1;33m\u001b[0m\u001b[1;33m\u001b[0m\u001b[0m\n\u001b[0m",
      "\u001b[1;32mC:\\Temp/ipykernel_12400/1223634856.py\u001b[0m in \u001b[0;36mrecursive\u001b[1;34m(df, max_check_col, counts, list_sign, true_list_sign, count_breack)\u001b[0m\n\u001b[0;32m     38\u001b[0m         \u001b[1;32mreturn\u001b[0m \u001b[1;33m(\u001b[0m\u001b[0mdataf\u001b[0m\u001b[1;33m,\u001b[0m \u001b[0mcheck_list_sign\u001b[0m\u001b[1;33m)\u001b[0m\u001b[1;33m\u001b[0m\u001b[1;33m\u001b[0m\u001b[0m\n\u001b[0;32m     39\u001b[0m \u001b[1;33m\u001b[0m\u001b[0m\n\u001b[1;32m---> 40\u001b[1;33m     \u001b[0mrecursive\u001b[0m\u001b[1;33m(\u001b[0m\u001b[0mdf\u001b[0m\u001b[1;33m=\u001b[0m\u001b[0mdataf\u001b[0m\u001b[1;33m,\u001b[0m \u001b[0mlist_sign\u001b[0m\u001b[1;33m=\u001b[0m\u001b[0mcheck_list_sign\u001b[0m\u001b[1;33m,\u001b[0m \u001b[0mtrue_list_sign\u001b[0m\u001b[1;33m=\u001b[0m\u001b[0mtrue_list_sign\u001b[0m\u001b[1;33m,\u001b[0m \u001b[0mmax_check_col\u001b[0m\u001b[1;33m=\u001b[0m\u001b[0mmax_check_col\u001b[0m\u001b[1;33m,\u001b[0m \u001b[0mcounts\u001b[0m\u001b[1;33m=\u001b[0m\u001b[0mcounts\u001b[0m\u001b[1;33m)\u001b[0m\u001b[1;33m\u001b[0m\u001b[1;33m\u001b[0m\u001b[0m\n\u001b[0m",
      "\u001b[1;32mC:\\Temp/ipykernel_12400/1223634856.py\u001b[0m in \u001b[0;36mrecursive\u001b[1;34m(df, max_check_col, counts, list_sign, true_list_sign, count_breack)\u001b[0m\n\u001b[0;32m     38\u001b[0m         \u001b[1;32mreturn\u001b[0m \u001b[1;33m(\u001b[0m\u001b[0mdataf\u001b[0m\u001b[1;33m,\u001b[0m \u001b[0mcheck_list_sign\u001b[0m\u001b[1;33m)\u001b[0m\u001b[1;33m\u001b[0m\u001b[1;33m\u001b[0m\u001b[0m\n\u001b[0;32m     39\u001b[0m \u001b[1;33m\u001b[0m\u001b[0m\n\u001b[1;32m---> 40\u001b[1;33m     \u001b[0mrecursive\u001b[0m\u001b[1;33m(\u001b[0m\u001b[0mdf\u001b[0m\u001b[1;33m=\u001b[0m\u001b[0mdataf\u001b[0m\u001b[1;33m,\u001b[0m \u001b[0mlist_sign\u001b[0m\u001b[1;33m=\u001b[0m\u001b[0mcheck_list_sign\u001b[0m\u001b[1;33m,\u001b[0m \u001b[0mtrue_list_sign\u001b[0m\u001b[1;33m=\u001b[0m\u001b[0mtrue_list_sign\u001b[0m\u001b[1;33m,\u001b[0m \u001b[0mmax_check_col\u001b[0m\u001b[1;33m=\u001b[0m\u001b[0mmax_check_col\u001b[0m\u001b[1;33m,\u001b[0m \u001b[0mcounts\u001b[0m\u001b[1;33m=\u001b[0m\u001b[0mcounts\u001b[0m\u001b[1;33m)\u001b[0m\u001b[1;33m\u001b[0m\u001b[1;33m\u001b[0m\u001b[0m\n\u001b[0m",
      "\u001b[1;32mC:\\Temp/ipykernel_12400/1223634856.py\u001b[0m in \u001b[0;36mrecursive\u001b[1;34m(df, max_check_col, counts, list_sign, true_list_sign, count_breack)\u001b[0m\n\u001b[0;32m     38\u001b[0m         \u001b[1;32mreturn\u001b[0m \u001b[1;33m(\u001b[0m\u001b[0mdataf\u001b[0m\u001b[1;33m,\u001b[0m \u001b[0mcheck_list_sign\u001b[0m\u001b[1;33m)\u001b[0m\u001b[1;33m\u001b[0m\u001b[1;33m\u001b[0m\u001b[0m\n\u001b[0;32m     39\u001b[0m \u001b[1;33m\u001b[0m\u001b[0m\n\u001b[1;32m---> 40\u001b[1;33m     \u001b[0mrecursive\u001b[0m\u001b[1;33m(\u001b[0m\u001b[0mdf\u001b[0m\u001b[1;33m=\u001b[0m\u001b[0mdataf\u001b[0m\u001b[1;33m,\u001b[0m \u001b[0mlist_sign\u001b[0m\u001b[1;33m=\u001b[0m\u001b[0mcheck_list_sign\u001b[0m\u001b[1;33m,\u001b[0m \u001b[0mtrue_list_sign\u001b[0m\u001b[1;33m=\u001b[0m\u001b[0mtrue_list_sign\u001b[0m\u001b[1;33m,\u001b[0m \u001b[0mmax_check_col\u001b[0m\u001b[1;33m=\u001b[0m\u001b[0mmax_check_col\u001b[0m\u001b[1;33m,\u001b[0m \u001b[0mcounts\u001b[0m\u001b[1;33m=\u001b[0m\u001b[0mcounts\u001b[0m\u001b[1;33m)\u001b[0m\u001b[1;33m\u001b[0m\u001b[1;33m\u001b[0m\u001b[0m\n\u001b[0m",
      "\u001b[1;32mC:\\Temp/ipykernel_12400/1223634856.py\u001b[0m in \u001b[0;36mrecursive\u001b[1;34m(df, max_check_col, counts, list_sign, true_list_sign, count_breack)\u001b[0m\n\u001b[0;32m     19\u001b[0m                                                                          \u001b[0mtrue_list_sign\u001b[0m\u001b[1;33m=\u001b[0m\u001b[0mtrue_list_sign\u001b[0m\u001b[1;33m,\u001b[0m\u001b[1;33m\u001b[0m\u001b[1;33m\u001b[0m\u001b[0m\n\u001b[0;32m     20\u001b[0m                                                                          \u001b[0mmax_check_col\u001b[0m\u001b[1;33m=\u001b[0m\u001b[0mmax_check_col\u001b[0m\u001b[1;33m,\u001b[0m\u001b[1;33m\u001b[0m\u001b[1;33m\u001b[0m\u001b[0m\n\u001b[1;32m---> 21\u001b[1;33m                                                                          counts=counts)\n\u001b[0m\u001b[0;32m     22\u001b[0m \u001b[1;33m\u001b[0m\u001b[0m\n\u001b[0;32m     23\u001b[0m     \u001b[0mprint\u001b[0m\u001b[1;33m(\u001b[0m\u001b[1;34m\"check_list_sign: \"\u001b[0m\u001b[1;33m,\u001b[0m\u001b[0mcheck_list_sign\u001b[0m\u001b[1;33m)\u001b[0m\u001b[1;33m\u001b[0m\u001b[1;33m\u001b[0m\u001b[0m\n",
      "\u001b[1;32mC:\\Temp/ipykernel_12400/2017877735.py\u001b[0m in \u001b[0;36mcheck_nan_replace1\u001b[1;34m(df, list_sign, true_list_sign, max_check_col, counts)\u001b[0m\n\u001b[0;32m     33\u001b[0m         \u001b[1;32melse\u001b[0m\u001b[1;33m:\u001b[0m\u001b[1;33m\u001b[0m\u001b[1;33m\u001b[0m\u001b[0m\n\u001b[0;32m     34\u001b[0m             \u001b[0mkmeans\u001b[0m \u001b[1;33m=\u001b[0m \u001b[0mKMeans\u001b[0m\u001b[1;33m(\u001b[0m\u001b[0mn_clusters\u001b[0m\u001b[1;33m=\u001b[0m\u001b[0mnuniq\u001b[0m \u001b[1;33m-\u001b[0m \u001b[0mcounts\u001b[0m\u001b[1;33m,\u001b[0m \u001b[0mrandom_state\u001b[0m\u001b[1;33m=\u001b[0m\u001b[1;36m0\u001b[0m\u001b[1;33m)\u001b[0m \u001b[1;31m# кол-во кластеров равно уникальному значению иследуемой совокупности\u001b[0m\u001b[1;33m\u001b[0m\u001b[1;33m\u001b[0m\u001b[0m\n\u001b[1;32m---> 35\u001b[1;33m             \u001b[0mkmeans\u001b[0m\u001b[1;33m.\u001b[0m\u001b[0mfit\u001b[0m\u001b[1;33m(\u001b[0m\u001b[0mdf\u001b[0m\u001b[1;33m)\u001b[0m \u001b[1;31m# обучение\u001b[0m\u001b[1;33m\u001b[0m\u001b[1;33m\u001b[0m\u001b[0m\n\u001b[0m\u001b[0;32m     36\u001b[0m         \u001b[1;32mif\u001b[0m \u001b[0mi\u001b[0m\u001b[1;33m.\u001b[0m\u001b[0msplit\u001b[0m\u001b[1;33m(\u001b[0m\u001b[1;34m\"_\"\u001b[0m\u001b[1;33m)\u001b[0m\u001b[1;33m[\u001b[0m\u001b[1;33m-\u001b[0m\u001b[1;36m1\u001b[0m\u001b[1;33m]\u001b[0m \u001b[1;33m!=\u001b[0m \u001b[1;34m\"kmeans\"\u001b[0m\u001b[1;33m:\u001b[0m\u001b[1;33m\u001b[0m\u001b[1;33m\u001b[0m\u001b[0m\n\u001b[0;32m     37\u001b[0m             \u001b[0mdf\u001b[0m\u001b[1;33m[\u001b[0m\u001b[1;34mf\"{i}_kmeans\"\u001b[0m\u001b[1;33m]\u001b[0m \u001b[1;33m=\u001b[0m \u001b[0mkmeans\u001b[0m\u001b[1;33m.\u001b[0m\u001b[0mlabels_\u001b[0m\u001b[1;33m\u001b[0m\u001b[1;33m\u001b[0m\u001b[0m\n",
      "\u001b[1;32mc:\\program files\\python37\\lib\\site-packages\\sklearn\\cluster\\_kmeans.py\u001b[0m in \u001b[0;36mfit\u001b[1;34m(self, X, y, sample_weight)\u001b[0m\n\u001b[0;32m   1195\u001b[0m                 \u001b[0mtol\u001b[0m\u001b[1;33m=\u001b[0m\u001b[0mself\u001b[0m\u001b[1;33m.\u001b[0m\u001b[0m_tol\u001b[0m\u001b[1;33m,\u001b[0m\u001b[1;33m\u001b[0m\u001b[1;33m\u001b[0m\u001b[0m\n\u001b[0;32m   1196\u001b[0m                 \u001b[0mx_squared_norms\u001b[0m\u001b[1;33m=\u001b[0m\u001b[0mx_squared_norms\u001b[0m\u001b[1;33m,\u001b[0m\u001b[1;33m\u001b[0m\u001b[1;33m\u001b[0m\u001b[0m\n\u001b[1;32m-> 1197\u001b[1;33m                 \u001b[0mn_threads\u001b[0m\u001b[1;33m=\u001b[0m\u001b[0mself\u001b[0m\u001b[1;33m.\u001b[0m\u001b[0m_n_threads\u001b[0m\u001b[1;33m,\u001b[0m\u001b[1;33m\u001b[0m\u001b[1;33m\u001b[0m\u001b[0m\n\u001b[0m\u001b[0;32m   1198\u001b[0m             )\n\u001b[0;32m   1199\u001b[0m \u001b[1;33m\u001b[0m\u001b[0m\n",
      "\u001b[1;32mc:\\program files\\python37\\lib\\site-packages\\sklearn\\cluster\\_kmeans.py\u001b[0m in \u001b[0;36m_kmeans_single_elkan\u001b[1;34m(X, sample_weight, centers_init, max_iter, verbose, x_squared_norms, tol, n_threads)\u001b[0m\n\u001b[0;32m    494\u001b[0m         \u001b[0mcenter_half_distances\u001b[0m \u001b[1;33m=\u001b[0m \u001b[0meuclidean_distances\u001b[0m\u001b[1;33m(\u001b[0m\u001b[0mcenters_new\u001b[0m\u001b[1;33m)\u001b[0m \u001b[1;33m/\u001b[0m \u001b[1;36m2\u001b[0m\u001b[1;33m\u001b[0m\u001b[1;33m\u001b[0m\u001b[0m\n\u001b[0;32m    495\u001b[0m         distance_next_center = np.partition(\n\u001b[1;32m--> 496\u001b[1;33m             \u001b[0mnp\u001b[0m\u001b[1;33m.\u001b[0m\u001b[0masarray\u001b[0m\u001b[1;33m(\u001b[0m\u001b[0mcenter_half_distances\u001b[0m\u001b[1;33m)\u001b[0m\u001b[1;33m,\u001b[0m \u001b[0mkth\u001b[0m\u001b[1;33m=\u001b[0m\u001b[1;36m1\u001b[0m\u001b[1;33m,\u001b[0m \u001b[0maxis\u001b[0m\u001b[1;33m=\u001b[0m\u001b[1;36m0\u001b[0m\u001b[1;33m\u001b[0m\u001b[1;33m\u001b[0m\u001b[0m\n\u001b[0m\u001b[0;32m    497\u001b[0m         )[1]\n\u001b[0;32m    498\u001b[0m \u001b[1;33m\u001b[0m\u001b[0m\n",
      "\u001b[1;32m<__array_function__ internals>\u001b[0m in \u001b[0;36mpartition\u001b[1;34m(*args, **kwargs)\u001b[0m\n",
      "\u001b[1;32mc:\\program files\\python37\\lib\\site-packages\\numpy\\core\\fromnumeric.py\u001b[0m in \u001b[0;36mpartition\u001b[1;34m(a, kth, axis, kind, order)\u001b[0m\n\u001b[0;32m    753\u001b[0m     \u001b[1;32melse\u001b[0m\u001b[1;33m:\u001b[0m\u001b[1;33m\u001b[0m\u001b[1;33m\u001b[0m\u001b[0m\n\u001b[0;32m    754\u001b[0m         \u001b[0ma\u001b[0m \u001b[1;33m=\u001b[0m \u001b[0masanyarray\u001b[0m\u001b[1;33m(\u001b[0m\u001b[0ma\u001b[0m\u001b[1;33m)\u001b[0m\u001b[1;33m.\u001b[0m\u001b[0mcopy\u001b[0m\u001b[1;33m(\u001b[0m\u001b[0morder\u001b[0m\u001b[1;33m=\u001b[0m\u001b[1;34m\"K\"\u001b[0m\u001b[1;33m)\u001b[0m\u001b[1;33m\u001b[0m\u001b[1;33m\u001b[0m\u001b[0m\n\u001b[1;32m--> 755\u001b[1;33m     \u001b[0ma\u001b[0m\u001b[1;33m.\u001b[0m\u001b[0mpartition\u001b[0m\u001b[1;33m(\u001b[0m\u001b[0mkth\u001b[0m\u001b[1;33m,\u001b[0m \u001b[0maxis\u001b[0m\u001b[1;33m=\u001b[0m\u001b[0maxis\u001b[0m\u001b[1;33m,\u001b[0m \u001b[0mkind\u001b[0m\u001b[1;33m=\u001b[0m\u001b[0mkind\u001b[0m\u001b[1;33m,\u001b[0m \u001b[0morder\u001b[0m\u001b[1;33m=\u001b[0m\u001b[0morder\u001b[0m\u001b[1;33m)\u001b[0m\u001b[1;33m\u001b[0m\u001b[1;33m\u001b[0m\u001b[0m\n\u001b[0m\u001b[0;32m    756\u001b[0m     \u001b[1;32mreturn\u001b[0m \u001b[0ma\u001b[0m\u001b[1;33m\u001b[0m\u001b[1;33m\u001b[0m\u001b[0m\n\u001b[0;32m    757\u001b[0m \u001b[1;33m\u001b[0m\u001b[0m\n",
      "\u001b[1;31mKeyboardInterrupt\u001b[0m: "
     ]
    }
   ],
   "source": [
    "d= recursive(data_kmeans_copy, 1000, 0)"
   ]
  },
  {
   "cell_type": "code",
   "execution_count": null,
   "id": "7e0fbf82",
   "metadata": {},
   "outputs": [],
   "source": [
    "# d = pd.read_csv(\"data/data_kmeans_replace.csv\")\n",
    "d.shape"
   ]
  }
 ],
 "metadata": {
  "kernelspec": {
   "display_name": "Python 3 (ipykernel)",
   "language": "python",
   "name": "python3"
  },
  "language_info": {
   "codemirror_mode": {
    "name": "ipython",
    "version": 3
   },
   "file_extension": ".py",
   "mimetype": "text/x-python",
   "name": "python",
   "nbconvert_exporter": "python",
   "pygments_lexer": "ipython3",
   "version": "3.7.9"
  }
 },
 "nbformat": 4,
 "nbformat_minor": 5
}
